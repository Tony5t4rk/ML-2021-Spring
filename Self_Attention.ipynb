{
  "nbformat": 4,
  "nbformat_minor": 0,
  "metadata": {
    "colab": {
      "name": "Self-Attention.ipynb",
      "provenance": [],
      "collapsed_sections": [],
      "toc_visible": true,
      "machine_shape": "hm",
      "authorship_tag": "ABX9TyOKA/+Fz9Kn2xPHNmabYLmJ",
      "include_colab_link": true
    },
    "kernelspec": {
      "name": "python3",
      "display_name": "Python 3"
    },
    "language_info": {
      "name": "python"
    },
    "accelerator": "GPU"
  },
  "cells": [
    {
      "cell_type": "markdown",
      "metadata": {
        "id": "view-in-github",
        "colab_type": "text"
      },
      "source": [
        "<a href=\"https://colab.research.google.com/github/Tony5t4rk/ML-2021-Spring/blob/main/Self_Attention.ipynb\" target=\"_parent\"><img src=\"https://colab.research.google.com/assets/colab-badge.svg\" alt=\"Open In Colab\"/></a>"
      ]
    },
    {
      "cell_type": "markdown",
      "metadata": {
        "id": "jfPwILhs6Zwu"
      },
      "source": [
        "# **Homework 4 - Classify the speakers**"
      ]
    },
    {
      "cell_type": "markdown",
      "metadata": {
        "id": "QDePx9Jg6ZyU"
      },
      "source": [
        "Author: Yang Liu\n",
        "\n",
        "Study notes：[機器學習2021 学习笔记-CNN & Self-Attention](https://www.wolai.com/tony5t4rk/jFYeVKmHKnfwJyLEK18Gbh)\n",
        "\n",
        "This program is modified based on [Sample Code](https://colab.research.google.com/github/ga642381/ML2021-Spring/blob/main/HW04/HW04.ipynb)。"
      ]
    },
    {
      "cell_type": "markdown",
      "metadata": {
        "id": "P3FhauCc6Z0R"
      },
      "source": [
        "# Show GPU"
      ]
    },
    {
      "cell_type": "code",
      "metadata": {
        "id": "Glqy9UIN6bQS",
        "colab": {
          "base_uri": "https://localhost:8080/"
        },
        "outputId": "6da42614-ced8-4287-dbf8-7159daf670c2"
      },
      "source": [
        "!nvidia-smi"
      ],
      "execution_count": 69,
      "outputs": [
        {
          "output_type": "stream",
          "text": [
            "Tue Jun 15 03:03:32 2021       \n",
            "+-----------------------------------------------------------------------------+\n",
            "| NVIDIA-SMI 465.27       Driver Version: 460.32.03    CUDA Version: 11.2     |\n",
            "|-------------------------------+----------------------+----------------------+\n",
            "| GPU  Name        Persistence-M| Bus-Id        Disp.A | Volatile Uncorr. ECC |\n",
            "| Fan  Temp  Perf  Pwr:Usage/Cap|         Memory-Usage | GPU-Util  Compute M. |\n",
            "|                               |                      |               MIG M. |\n",
            "|===============================+======================+======================|\n",
            "|   0  Tesla P100-PCIE...  Off  | 00000000:00:04.0 Off |                    0 |\n",
            "| N/A   44C    P0    34W / 250W |   3963MiB / 16280MiB |      0%      Default |\n",
            "|                               |                      |                  N/A |\n",
            "+-------------------------------+----------------------+----------------------+\n",
            "                                                                               \n",
            "+-----------------------------------------------------------------------------+\n",
            "| Processes:                                                                  |\n",
            "|  GPU   GI   CI        PID   Type   Process name                  GPU Memory |\n",
            "|        ID   ID                                                   Usage      |\n",
            "|=============================================================================|\n",
            "+-----------------------------------------------------------------------------+\n"
          ],
          "name": "stdout"
        }
      ]
    },
    {
      "cell_type": "markdown",
      "metadata": {
        "id": "4sel39XK6Z2g"
      },
      "source": [
        "# Import Package"
      ]
    },
    {
      "cell_type": "code",
      "metadata": {
        "id": "WNZQOjbB7mwc"
      },
      "source": [
        "import numpy as np\n",
        "import os\n",
        "import csv\n",
        "import json\n",
        "import random\n",
        "import gc\n",
        "\n",
        "import torch\n",
        "import torch.nn as nn\n",
        "import torch.optim as optim\n",
        "from torch.optim import Optimizer\n",
        "from torch.optim.lr_scheduler import LambdaLR\n",
        "from torch.utils.data import Dataset, DataLoader, random_split\n",
        "from torch.nn.utils.rnn import pad_sequence\n",
        "\n",
        "from pathlib import Path\n",
        "\n",
        "import matplotlib.pyplot as plt\n",
        "from matplotlib.pyplot import figure\n",
        "%matplotlib inline\n",
        "%config InlineBackend.figure_format = 'svg'\n",
        "\n",
        "# set a random seed for reproducibility\n",
        "my_seed = 42096\n",
        "torch.backends.cudnn.deterministic = True\n",
        "torch.backends.cudnn.benchmark = False\n",
        "np.random.seed(my_seed)\n",
        "torch.manual_seed(my_seed)\n",
        "if torch.cuda.is_available():\n",
        "    torch.cuda.manual_seed_all(my_seed)"
      ],
      "execution_count": 70,
      "outputs": []
    },
    {
      "cell_type": "markdown",
      "metadata": {
        "id": "iqksmxql6Z4d"
      },
      "source": [
        "# Download Data from Google Drive"
      ]
    },
    {
      "cell_type": "code",
      "metadata": {
        "id": "uukbJWOf67rc",
        "colab": {
          "base_uri": "https://localhost:8080/"
        },
        "outputId": "6dd232ae-0d47-4a21-a216-f0945686e349"
      },
      "source": [
        "!rm -rf ./sample_data\n",
        "\n",
        "if not os.path.exists('Dataset.zip'):\n",
        "    !gdown --id '1xW1Ozj21hLCA8MVIoyHTQDMRPjineNaC' --output Dataset.zip\n",
        "if not os.path.exists('Dataset'):\n",
        "    !unzip Dataset.zip > /dev/null 2>&1\n",
        "\n",
        "!ls\n",
        "\n",
        "mapping_file = 'Dataset/mapping.json'\n",
        "metadata_file = 'Dataset/metadata.json'\n",
        "testdata_file = 'Dataset/testdata.json'"
      ],
      "execution_count": 71,
      "outputs": [
        {
          "output_type": "stream",
          "text": [
            " Dataset       drive\t\t\t\t\t     models\n",
            " Dataset.zip  'Learning curve of Self-Attention Model.svg'   VoxCeleb.pred.csv\n"
          ],
          "name": "stdout"
        }
      ]
    },
    {
      "cell_type": "markdown",
      "metadata": {
        "id": "Axmd37BE6Z6q"
      },
      "source": [
        "# Plot Utility"
      ]
    },
    {
      "cell_type": "code",
      "metadata": {
        "id": "cx0lpvrl7hJA"
      },
      "source": [
        "def plot_learning_curve(loss_record, title=''):\n",
        "    n_epochs = len(loss_record['train'])\n",
        "    x_1 = range(n_epochs)\n",
        "    figure(figsize=(6, 4))\n",
        "    plt.plot(x_1, loss_record['train'], c='tab:red', label='train')\n",
        "    plt.plot(x_1, loss_record['val'], c='tab:cyan', label='val')\n",
        "    plt.xlabel('Epoch')\n",
        "    plt.ylabel('Loss')\n",
        "    plt.title('Learning curve of {}'.format(title))\n",
        "    plt.legend()\n",
        "    plt.savefig('Learning curve of {}.svg'.format(title))\n",
        "    plt.show()"
      ],
      "execution_count": 72,
      "outputs": []
    },
    {
      "cell_type": "markdown",
      "metadata": {
        "id": "CCspS73u6Z8o"
      },
      "source": [
        "# Hyper-Parameters"
      ]
    },
    {
      "cell_type": "code",
      "metadata": {
        "id": "edT3el-c7juK",
        "colab": {
          "base_uri": "https://localhost:8080/"
        },
        "outputId": "76d103f9-8d86-4ad4-d8a3-cff0e20fcbf9"
      },
      "source": [
        "os.makedirs('models', exist_ok=True)\n",
        "\n",
        "config = {\n",
        "    'device': 'cuda' if torch.cuda.is_available() else 'cpu',\n",
        "    'val_ratio': 0.1,\n",
        "    'n_epochs': 80,\n",
        "    'batch_size': 512,\n",
        "    'optim_hparams': {\n",
        "        'lr': 0.001,\n",
        "        'weight_decay': 0.00001\n",
        "    },\n",
        "    'early_stop': False,\n",
        "    'early_stop_epochs': 10,\n",
        "    'best_model': True,\n",
        "    'model_path': 'models/model.pth',\n",
        "    'pred_file': 'VoxCeleb.pred.csv'\n",
        "}\n",
        "\n",
        "print(f'device: {config[\"device\"]}')"
      ],
      "execution_count": 73,
      "outputs": [
        {
          "output_type": "stream",
          "text": [
            "device: cuda\n"
          ],
          "name": "stdout"
        }
      ]
    },
    {
      "cell_type": "markdown",
      "metadata": {
        "id": "4bf3I2f56Z-v"
      },
      "source": [
        "# Data Process"
      ]
    },
    {
      "cell_type": "markdown",
      "metadata": {
        "id": "Y9IbOrnf6aCz"
      },
      "source": [
        "## Dataset"
      ]
    },
    {
      "cell_type": "code",
      "metadata": {
        "id": "YIWwDm0w_XLO",
        "colab": {
          "base_uri": "https://localhost:8080/"
        },
        "outputId": "d89e802a-7152-456f-b1b0-2fd8b5212fb3"
      },
      "source": [
        "class VoxCeleb_Dataset(Dataset):\n",
        "    def __init__(self, segment_len=128):\n",
        "        self.segment_len = 128\n",
        "\n",
        "        with open(mapping_file) as fp:\n",
        "            mapping = json.load(fp)\n",
        "            self.speaker2id = mapping['speaker2id']\n",
        "\n",
        "        with open(metadata_file) as fp:\n",
        "            metadata = json.load(fp)\n",
        "            self.mel_dim = metadata['n_mels']\n",
        "            self.speakers = metadata['speakers']\n",
        "\n",
        "        self.data, self.label = [], []\n",
        "        for speaker, features in self.speakers.items():\n",
        "            for feature in features:\n",
        "                self.data.append(feature['feature_path'])\n",
        "                self.label.append(self.speaker2id[speaker])\n",
        "    \n",
        "    def __getitem__(self, index):\n",
        "        feature_path, speaker = self.data[index], self.label[index]\n",
        "        mel = torch.load(os.path.join('Dataset', feature_path))\n",
        "\n",
        "        if len(mel) > self.segment_len:\n",
        "            start = random.randint(0, len(mel) - self.segment_len)\n",
        "            mel = torch.FloatTensor(mel[start:start + self.segment_len])\n",
        "        else:\n",
        "            mel = torch.FloatTensor(mel)\n",
        "        speaker = torch.LongTensor([speaker])\n",
        "\n",
        "        return mel, speaker\n",
        "    \n",
        "    def __len__(self):\n",
        "        return len(self.data)\n",
        "\n",
        "train_dataset = VoxCeleb_Dataset()\n",
        "val_length = int(config['val_ratio'] * len(train_dataset))\n",
        "train_dataset, val_dataset = random_split(train_dataset, [len(train_dataset) - val_length, val_length])\n",
        "\n",
        "print(f'Train Dataset: {len(train_dataset)} samples')\n",
        "print(f'Valid Dataset: {len(val_dataset)} samples')"
      ],
      "execution_count": 74,
      "outputs": [
        {
          "output_type": "stream",
          "text": [
            "Train Dataset: 62495 samples\n",
            "Valid Dataset: 6943 samples\n"
          ],
          "name": "stdout"
        }
      ]
    },
    {
      "cell_type": "code",
      "metadata": {
        "id": "D6NzE6xravk9",
        "colab": {
          "base_uri": "https://localhost:8080/"
        },
        "outputId": "cbb86b6d-873f-4931-f906-f84728cdabe7"
      },
      "source": [
        "class VoxCeleb_Test_Dataset(Dataset):\n",
        "    def __init__(self):\n",
        "        with open(testdata_file) as fp:\n",
        "            metadata = json.load(fp)\n",
        "            self.data = metadata['utterances']\n",
        "\n",
        "    def __getitem__(self, index):\n",
        "        feature_path = self.data[index]['feature_path']\n",
        "        mel = torch.load(os.path.join('Dataset', feature_path))\n",
        "        return feature_path, mel\n",
        "    \n",
        "    def __len__(self):\n",
        "        return len(self.data)\n",
        "\n",
        "test_dataset = VoxCeleb_Test_Dataset()\n",
        "\n",
        "print(f'Test Dataset: {len(test_dataset)} samples')\n",
        "\n",
        "gc.collect()"
      ],
      "execution_count": 75,
      "outputs": [
        {
          "output_type": "stream",
          "text": [
            "Test Dataset: 6000 samples\n"
          ],
          "name": "stdout"
        },
        {
          "output_type": "execute_result",
          "data": {
            "text/plain": [
              "2924"
            ]
          },
          "metadata": {
            "tags": []
          },
          "execution_count": 75
        }
      ]
    },
    {
      "cell_type": "markdown",
      "metadata": {
        "id": "N7UirPak6aEo"
      },
      "source": [
        "## DataLoader"
      ]
    },
    {
      "cell_type": "code",
      "metadata": {
        "id": "JnvQ37tPVB8W"
      },
      "source": [
        "def collate_batch(batch):\n",
        "    mel, speaker = zip(*batch)\n",
        "    mel = pad_sequence(mel, batch_first=True, padding_value=-20)\n",
        "    return mel, torch.LongTensor(speaker)\n",
        "\n",
        "train_dataloader = DataLoader(train_dataset, batch_size=config['batch_size'], shuffle=True, drop_last=True, collate_fn=collate_batch)\n",
        "val_dataloader = DataLoader(val_dataset, batch_size=config['batch_size'], shuffle=False, drop_last=True, collate_fn=collate_batch)"
      ],
      "execution_count": 76,
      "outputs": []
    },
    {
      "cell_type": "code",
      "metadata": {
        "id": "9ELlJAMNcBQX"
      },
      "source": [
        "def test_collate_batch(batch):\n",
        "    feature_path, mel = zip(*batch)\n",
        "    return feature_path, torch.stack(mel)\n",
        "\n",
        "test_dataloader = DataLoader(test_dataset, batch_size=1, shuffle=False, drop_last=False, collate_fn=test_collate_batch)"
      ],
      "execution_count": 77,
      "outputs": []
    },
    {
      "cell_type": "markdown",
      "metadata": {
        "id": "oFFGxfsR6aHk"
      },
      "source": [
        "# Model"
      ]
    },
    {
      "cell_type": "code",
      "metadata": {
        "id": "XGuxbcWDABk5"
      },
      "source": [
        "class Net(nn.Module):\n",
        "    def __init__(self, input_dim, d_model=80, p=0.1):\n",
        "        super(Net, self).__init__()\n",
        "\n",
        "        self.pre_net = nn.Sequential(\n",
        "            nn.Linear(input_dim, d_model)\n",
        "        )\n",
        "\n",
        "        self.encoder = nn.TransformerEncoder(\n",
        "            nn.TransformerEncoderLayer(\n",
        "                d_model=d_model,\n",
        "                dim_feedforward=256,\n",
        "                nhead=2\n",
        "            ),\n",
        "            num_layers=2\n",
        "        )\n",
        "\n",
        "        self.output_fc = nn.Sequential(\n",
        "            nn.Linear(d_model, 600)\n",
        "        )\n",
        "\n",
        "    def forward(self, x):\n",
        "        x = self.pre_net(x)\n",
        "        x = x.permute(1, 0, 2)\n",
        "        x = self.encoder(x)\n",
        "        x = x.transpose(0, 1)\n",
        "        x = x.mean(dim=1) # mean pooling\n",
        "        x = self.output_fc(x)\n",
        "        return x\n",
        "\n",
        "model = Net(train_dataset.dataset.mel_dim).to(config['device'])"
      ],
      "execution_count": 78,
      "outputs": []
    },
    {
      "cell_type": "markdown",
      "metadata": {
        "id": "0Q33YNSZ7asp"
      },
      "source": [
        "# Training"
      ]
    },
    {
      "cell_type": "code",
      "metadata": {
        "id": "a4cXWWzOYSaw"
      },
      "source": [
        "criterion = nn.CrossEntropyLoss()\n",
        "optimizer = optim.AdamW(model.parameters(), **config['optim_hparams'])"
      ],
      "execution_count": 79,
      "outputs": []
    },
    {
      "cell_type": "code",
      "metadata": {
        "id": "NwooF7dUYes9",
        "colab": {
          "base_uri": "https://localhost:8080/"
        },
        "outputId": "964c10ca-5639-4b5e-bdbf-2b1776f43048"
      },
      "source": [
        "loss_record = {'train': [], 'val': []}\n",
        "\n",
        "if config['early_stop']:\n",
        "    early_stop_cnt = 0\n",
        "\n",
        "min_val_loss = float('inf')\n",
        "\n",
        "epoch = 0\n",
        "while epoch < config['n_epochs']:\n",
        "    model.train()\n",
        "    train_loss = []\n",
        "    for x, y in train_dataloader:\n",
        "        x, y = x.to(config['device']), y.to(config['device'])\n",
        "        optimizer.zero_grad()\n",
        "        logits = model(x)\n",
        "        loss = criterion(logits, y)\n",
        "        loss.backward()\n",
        "        optimizer.step()\n",
        "        train_loss.append(loss.item())\n",
        "    train_loss = sum(train_loss) / len(train_loss)\n",
        "    loss_record['train'].append(train_loss)\n",
        "\n",
        "    model.eval()\n",
        "    val_loss = []\n",
        "    for x, y in val_dataloader:\n",
        "        x, y = x.to(config['device']), y.to(config['device'])\n",
        "        with torch.no_grad():\n",
        "            logits = model(x)\n",
        "            loss = criterion(logits, y)\n",
        "        val_loss.append(loss)\n",
        "    val_loss = sum(val_loss) / len(val_loss)\n",
        "    loss_record['val'].append(val_loss)\n",
        "\n",
        "    if config['best_model']:\n",
        "        if val_loss < min_val_loss:\n",
        "            torch.save(model, config['model_path'])\n",
        "    else:\n",
        "        torch.save(model, config['model_path'])\n",
        "    \n",
        "    print(f'[ Epoch {epoch + 1:03d}/{config[\"n_epochs\"]:03d} ] Train Loss: {train_loss:.5f} Valid Loss: {val_loss:.5f}')\n",
        "\n",
        "    if config['early_stop']:\n",
        "        if val_loss < min_val_loss:\n",
        "            early_stop_cnt = 0\n",
        "        else:\n",
        "            early_stop_cnt += 1\n",
        "    \n",
        "    epoch += 1\n",
        "    if val_loss < min_val_loss:\n",
        "        min_val_loss = val_loss\n",
        "\n",
        "    if config['early_stop'] and early_stop_cnt > config['early_stop_epochs']:\n",
        "        break\n",
        "\n",
        "print(f'Finish Train After {epoch} Epochs')"
      ],
      "execution_count": 80,
      "outputs": [
        {
          "output_type": "stream",
          "text": [
            "[ Epoch 001/080 ] Train Loss: 5.60194 Valid Loss: 4.81987\n",
            "[ Epoch 002/080 ] Train Loss: 4.39307 Valid Loss: 4.00180\n",
            "[ Epoch 003/080 ] Train Loss: 3.69782 Valid Loss: 3.48274\n",
            "[ Epoch 004/080 ] Train Loss: 3.21772 Valid Loss: 3.06093\n",
            "[ Epoch 005/080 ] Train Loss: 2.91894 Valid Loss: 2.82252\n",
            "[ Epoch 006/080 ] Train Loss: 2.69054 Valid Loss: 2.64440\n",
            "[ Epoch 007/080 ] Train Loss: 2.51697 Valid Loss: 2.51479\n",
            "[ Epoch 008/080 ] Train Loss: 2.37489 Valid Loss: 2.36333\n",
            "[ Epoch 009/080 ] Train Loss: 2.24081 Valid Loss: 2.23709\n",
            "[ Epoch 010/080 ] Train Loss: 2.12643 Valid Loss: 2.19576\n",
            "[ Epoch 011/080 ] Train Loss: 2.03269 Valid Loss: 2.09081\n",
            "[ Epoch 012/080 ] Train Loss: 1.93138 Valid Loss: 2.00742\n",
            "[ Epoch 013/080 ] Train Loss: 1.84045 Valid Loss: 1.93877\n",
            "[ Epoch 014/080 ] Train Loss: 1.75884 Valid Loss: 1.84528\n",
            "[ Epoch 015/080 ] Train Loss: 1.68502 Valid Loss: 1.77694\n",
            "[ Epoch 016/080 ] Train Loss: 1.62368 Valid Loss: 1.77221\n",
            "[ Epoch 017/080 ] Train Loss: 1.55644 Valid Loss: 1.66933\n",
            "[ Epoch 018/080 ] Train Loss: 1.50395 Valid Loss: 1.62096\n",
            "[ Epoch 019/080 ] Train Loss: 1.44425 Valid Loss: 1.60192\n",
            "[ Epoch 020/080 ] Train Loss: 1.39998 Valid Loss: 1.58714\n",
            "[ Epoch 021/080 ] Train Loss: 1.34471 Valid Loss: 1.51115\n",
            "[ Epoch 022/080 ] Train Loss: 1.30391 Valid Loss: 1.49822\n",
            "[ Epoch 023/080 ] Train Loss: 1.27394 Valid Loss: 1.46584\n",
            "[ Epoch 024/080 ] Train Loss: 1.23493 Valid Loss: 1.40123\n",
            "[ Epoch 025/080 ] Train Loss: 1.19246 Valid Loss: 1.39209\n",
            "[ Epoch 026/080 ] Train Loss: 1.17099 Valid Loss: 1.38261\n",
            "[ Epoch 027/080 ] Train Loss: 1.12584 Valid Loss: 1.36203\n",
            "[ Epoch 028/080 ] Train Loss: 1.11396 Valid Loss: 1.33990\n",
            "[ Epoch 029/080 ] Train Loss: 1.08439 Valid Loss: 1.28368\n",
            "[ Epoch 030/080 ] Train Loss: 1.05707 Valid Loss: 1.27792\n",
            "[ Epoch 031/080 ] Train Loss: 1.02777 Valid Loss: 1.25958\n",
            "[ Epoch 032/080 ] Train Loss: 1.00854 Valid Loss: 1.26096\n",
            "[ Epoch 033/080 ] Train Loss: 0.99209 Valid Loss: 1.21880\n",
            "[ Epoch 034/080 ] Train Loss: 0.98636 Valid Loss: 1.20090\n",
            "[ Epoch 035/080 ] Train Loss: 0.96513 Valid Loss: 1.19503\n",
            "[ Epoch 036/080 ] Train Loss: 0.93220 Valid Loss: 1.17910\n",
            "[ Epoch 037/080 ] Train Loss: 0.92041 Valid Loss: 1.16806\n",
            "[ Epoch 038/080 ] Train Loss: 0.90809 Valid Loss: 1.17165\n",
            "[ Epoch 039/080 ] Train Loss: 0.89579 Valid Loss: 1.15822\n",
            "[ Epoch 040/080 ] Train Loss: 0.88169 Valid Loss: 1.15210\n",
            "[ Epoch 041/080 ] Train Loss: 0.86216 Valid Loss: 1.14532\n",
            "[ Epoch 042/080 ] Train Loss: 0.85247 Valid Loss: 1.10536\n",
            "[ Epoch 043/080 ] Train Loss: 0.84407 Valid Loss: 1.08776\n",
            "[ Epoch 044/080 ] Train Loss: 0.82600 Valid Loss: 1.12707\n",
            "[ Epoch 045/080 ] Train Loss: 0.80701 Valid Loss: 1.12470\n",
            "[ Epoch 046/080 ] Train Loss: 0.80078 Valid Loss: 1.09554\n",
            "[ Epoch 047/080 ] Train Loss: 0.79642 Valid Loss: 1.10331\n",
            "[ Epoch 048/080 ] Train Loss: 0.77639 Valid Loss: 1.07274\n",
            "[ Epoch 049/080 ] Train Loss: 0.78220 Valid Loss: 1.08151\n",
            "[ Epoch 050/080 ] Train Loss: 0.77112 Valid Loss: 1.07640\n",
            "[ Epoch 051/080 ] Train Loss: 0.75564 Valid Loss: 1.07074\n",
            "[ Epoch 052/080 ] Train Loss: 0.75593 Valid Loss: 1.04171\n",
            "[ Epoch 053/080 ] Train Loss: 0.74223 Valid Loss: 1.06265\n",
            "[ Epoch 054/080 ] Train Loss: 0.73281 Valid Loss: 1.05481\n",
            "[ Epoch 055/080 ] Train Loss: 0.73098 Valid Loss: 1.04957\n",
            "[ Epoch 056/080 ] Train Loss: 0.71694 Valid Loss: 1.03502\n",
            "[ Epoch 057/080 ] Train Loss: 0.70719 Valid Loss: 1.02981\n",
            "[ Epoch 058/080 ] Train Loss: 0.70475 Valid Loss: 1.04425\n",
            "[ Epoch 059/080 ] Train Loss: 0.69045 Valid Loss: 1.02144\n",
            "[ Epoch 060/080 ] Train Loss: 0.68557 Valid Loss: 1.05520\n",
            "[ Epoch 061/080 ] Train Loss: 0.68712 Valid Loss: 1.01254\n",
            "[ Epoch 062/080 ] Train Loss: 0.67324 Valid Loss: 1.01883\n",
            "[ Epoch 063/080 ] Train Loss: 0.67118 Valid Loss: 1.01031\n",
            "[ Epoch 064/080 ] Train Loss: 0.68077 Valid Loss: 0.99211\n",
            "[ Epoch 065/080 ] Train Loss: 0.66309 Valid Loss: 1.01099\n",
            "[ Epoch 066/080 ] Train Loss: 0.64452 Valid Loss: 1.02648\n",
            "[ Epoch 067/080 ] Train Loss: 0.64556 Valid Loss: 0.99892\n",
            "[ Epoch 068/080 ] Train Loss: 0.64394 Valid Loss: 1.01514\n",
            "[ Epoch 069/080 ] Train Loss: 0.64264 Valid Loss: 0.99671\n",
            "[ Epoch 070/080 ] Train Loss: 0.64198 Valid Loss: 1.01112\n",
            "[ Epoch 071/080 ] Train Loss: 0.62692 Valid Loss: 1.01093\n",
            "[ Epoch 072/080 ] Train Loss: 0.62322 Valid Loss: 1.02876\n",
            "[ Epoch 073/080 ] Train Loss: 0.62604 Valid Loss: 1.02387\n",
            "[ Epoch 074/080 ] Train Loss: 0.62988 Valid Loss: 1.00508\n",
            "[ Epoch 075/080 ] Train Loss: 0.61009 Valid Loss: 0.98255\n",
            "[ Epoch 076/080 ] Train Loss: 0.60609 Valid Loss: 0.98328\n",
            "[ Epoch 077/080 ] Train Loss: 0.60897 Valid Loss: 0.97780\n",
            "[ Epoch 078/080 ] Train Loss: 0.59321 Valid Loss: 0.96618\n",
            "[ Epoch 079/080 ] Train Loss: 0.60061 Valid Loss: 0.99795\n",
            "[ Epoch 080/080 ] Train Loss: 0.59391 Valid Loss: 0.95895\n",
            "Finish Train After 80 Epochs\n"
          ],
          "name": "stdout"
        }
      ]
    },
    {
      "cell_type": "code",
      "metadata": {
        "colab": {
          "base_uri": "https://localhost:8080/",
          "height": 390
        },
        "id": "Kvlqj9syi8td",
        "outputId": "17fd8976-6d7d-4291-8206-b42b7777e414"
      },
      "source": [
        "plot_learning_curve(loss_record, 'Self-Attention Model')"
      ],
      "execution_count": 81,
      "outputs": [
        {
          "output_type": "display_data",
          "data": {
            "text/plain": [
              "<Figure size 432x288 with 1 Axes>"
            ],
            "image/svg+xml": "<?xml version=\"1.0\" encoding=\"utf-8\" standalone=\"no\"?>\n<!DOCTYPE svg PUBLIC \"-//W3C//DTD SVG 1.1//EN\"\n  \"http://www.w3.org/Graphics/SVG/1.1/DTD/svg11.dtd\">\n<!-- Created with matplotlib (https://matplotlib.org/) -->\n<svg height=\"277.314375pt\" version=\"1.1\" viewBox=\"0 0 376.240625 277.314375\" width=\"376.240625pt\" xmlns=\"http://www.w3.org/2000/svg\" xmlns:xlink=\"http://www.w3.org/1999/xlink\">\n <defs>\n  <style type=\"text/css\">\n*{stroke-linecap:butt;stroke-linejoin:round;}\n  </style>\n </defs>\n <g id=\"figure_1\">\n  <g id=\"patch_1\">\n   <path d=\"M 0 277.314375 \nL 376.240625 277.314375 \nL 376.240625 0 \nL 0 0 \nz\n\" style=\"fill:none;\"/>\n  </g>\n  <g id=\"axes_1\">\n   <g id=\"patch_2\">\n    <path d=\"M 34.240625 239.758125 \nL 369.040625 239.758125 \nL 369.040625 22.318125 \nL 34.240625 22.318125 \nz\n\" style=\"fill:#ffffff;\"/>\n   </g>\n   <g id=\"matplotlib.axis_1\">\n    <g id=\"xtick_1\">\n     <g id=\"line2d_1\">\n      <defs>\n       <path d=\"M 0 0 \nL 0 3.5 \n\" id=\"ma82252849a\" style=\"stroke:#000000;stroke-width:0.8;\"/>\n      </defs>\n      <g>\n       <use style=\"stroke:#000000;stroke-width:0.8;\" x=\"49.458807\" xlink:href=\"#ma82252849a\" y=\"239.758125\"/>\n      </g>\n     </g>\n     <g id=\"text_1\">\n      <!-- 0 -->\n      <defs>\n       <path d=\"M 31.78125 66.40625 \nQ 24.171875 66.40625 20.328125 58.90625 \nQ 16.5 51.421875 16.5 36.375 \nQ 16.5 21.390625 20.328125 13.890625 \nQ 24.171875 6.390625 31.78125 6.390625 \nQ 39.453125 6.390625 43.28125 13.890625 \nQ 47.125 21.390625 47.125 36.375 \nQ 47.125 51.421875 43.28125 58.90625 \nQ 39.453125 66.40625 31.78125 66.40625 \nz\nM 31.78125 74.21875 \nQ 44.046875 74.21875 50.515625 64.515625 \nQ 56.984375 54.828125 56.984375 36.375 \nQ 56.984375 17.96875 50.515625 8.265625 \nQ 44.046875 -1.421875 31.78125 -1.421875 \nQ 19.53125 -1.421875 13.0625 8.265625 \nQ 6.59375 17.96875 6.59375 36.375 \nQ 6.59375 54.828125 13.0625 64.515625 \nQ 19.53125 74.21875 31.78125 74.21875 \nz\n\" id=\"DejaVuSans-48\"/>\n      </defs>\n      <g transform=\"translate(46.277557 254.356562)scale(0.1 -0.1)\">\n       <use xlink:href=\"#DejaVuSans-48\"/>\n      </g>\n     </g>\n    </g>\n    <g id=\"xtick_2\">\n     <g id=\"line2d_2\">\n      <g>\n       <use style=\"stroke:#000000;stroke-width:0.8;\" x=\"87.985849\" xlink:href=\"#ma82252849a\" y=\"239.758125\"/>\n      </g>\n     </g>\n     <g id=\"text_2\">\n      <!-- 10 -->\n      <defs>\n       <path d=\"M 12.40625 8.296875 \nL 28.515625 8.296875 \nL 28.515625 63.921875 \nL 10.984375 60.40625 \nL 10.984375 69.390625 \nL 28.421875 72.90625 \nL 38.28125 72.90625 \nL 38.28125 8.296875 \nL 54.390625 8.296875 \nL 54.390625 0 \nL 12.40625 0 \nz\n\" id=\"DejaVuSans-49\"/>\n      </defs>\n      <g transform=\"translate(81.623349 254.356562)scale(0.1 -0.1)\">\n       <use xlink:href=\"#DejaVuSans-49\"/>\n       <use x=\"63.623047\" xlink:href=\"#DejaVuSans-48\"/>\n      </g>\n     </g>\n    </g>\n    <g id=\"xtick_3\">\n     <g id=\"line2d_3\">\n      <g>\n       <use style=\"stroke:#000000;stroke-width:0.8;\" x=\"126.512892\" xlink:href=\"#ma82252849a\" y=\"239.758125\"/>\n      </g>\n     </g>\n     <g id=\"text_3\">\n      <!-- 20 -->\n      <defs>\n       <path d=\"M 19.1875 8.296875 \nL 53.609375 8.296875 \nL 53.609375 0 \nL 7.328125 0 \nL 7.328125 8.296875 \nQ 12.9375 14.109375 22.625 23.890625 \nQ 32.328125 33.6875 34.8125 36.53125 \nQ 39.546875 41.84375 41.421875 45.53125 \nQ 43.3125 49.21875 43.3125 52.78125 \nQ 43.3125 58.59375 39.234375 62.25 \nQ 35.15625 65.921875 28.609375 65.921875 \nQ 23.96875 65.921875 18.8125 64.3125 \nQ 13.671875 62.703125 7.8125 59.421875 \nL 7.8125 69.390625 \nQ 13.765625 71.78125 18.9375 73 \nQ 24.125 74.21875 28.421875 74.21875 \nQ 39.75 74.21875 46.484375 68.546875 \nQ 53.21875 62.890625 53.21875 53.421875 \nQ 53.21875 48.921875 51.53125 44.890625 \nQ 49.859375 40.875 45.40625 35.40625 \nQ 44.1875 33.984375 37.640625 27.21875 \nQ 31.109375 20.453125 19.1875 8.296875 \nz\n\" id=\"DejaVuSans-50\"/>\n      </defs>\n      <g transform=\"translate(120.150392 254.356562)scale(0.1 -0.1)\">\n       <use xlink:href=\"#DejaVuSans-50\"/>\n       <use x=\"63.623047\" xlink:href=\"#DejaVuSans-48\"/>\n      </g>\n     </g>\n    </g>\n    <g id=\"xtick_4\">\n     <g id=\"line2d_4\">\n      <g>\n       <use style=\"stroke:#000000;stroke-width:0.8;\" x=\"165.039935\" xlink:href=\"#ma82252849a\" y=\"239.758125\"/>\n      </g>\n     </g>\n     <g id=\"text_4\">\n      <!-- 30 -->\n      <defs>\n       <path d=\"M 40.578125 39.3125 \nQ 47.65625 37.796875 51.625 33 \nQ 55.609375 28.21875 55.609375 21.1875 \nQ 55.609375 10.40625 48.1875 4.484375 \nQ 40.765625 -1.421875 27.09375 -1.421875 \nQ 22.515625 -1.421875 17.65625 -0.515625 \nQ 12.796875 0.390625 7.625 2.203125 \nL 7.625 11.71875 \nQ 11.71875 9.328125 16.59375 8.109375 \nQ 21.484375 6.890625 26.8125 6.890625 \nQ 36.078125 6.890625 40.9375 10.546875 \nQ 45.796875 14.203125 45.796875 21.1875 \nQ 45.796875 27.640625 41.28125 31.265625 \nQ 36.765625 34.90625 28.71875 34.90625 \nL 20.21875 34.90625 \nL 20.21875 43.015625 \nL 29.109375 43.015625 \nQ 36.375 43.015625 40.234375 45.921875 \nQ 44.09375 48.828125 44.09375 54.296875 \nQ 44.09375 59.90625 40.109375 62.90625 \nQ 36.140625 65.921875 28.71875 65.921875 \nQ 24.65625 65.921875 20.015625 65.03125 \nQ 15.375 64.15625 9.8125 62.3125 \nL 9.8125 71.09375 \nQ 15.4375 72.65625 20.34375 73.4375 \nQ 25.25 74.21875 29.59375 74.21875 \nQ 40.828125 74.21875 47.359375 69.109375 \nQ 53.90625 64.015625 53.90625 55.328125 \nQ 53.90625 49.265625 50.4375 45.09375 \nQ 46.96875 40.921875 40.578125 39.3125 \nz\n\" id=\"DejaVuSans-51\"/>\n      </defs>\n      <g transform=\"translate(158.677435 254.356562)scale(0.1 -0.1)\">\n       <use xlink:href=\"#DejaVuSans-51\"/>\n       <use x=\"63.623047\" xlink:href=\"#DejaVuSans-48\"/>\n      </g>\n     </g>\n    </g>\n    <g id=\"xtick_5\">\n     <g id=\"line2d_5\">\n      <g>\n       <use style=\"stroke:#000000;stroke-width:0.8;\" x=\"203.566977\" xlink:href=\"#ma82252849a\" y=\"239.758125\"/>\n      </g>\n     </g>\n     <g id=\"text_5\">\n      <!-- 40 -->\n      <defs>\n       <path d=\"M 37.796875 64.3125 \nL 12.890625 25.390625 \nL 37.796875 25.390625 \nz\nM 35.203125 72.90625 \nL 47.609375 72.90625 \nL 47.609375 25.390625 \nL 58.015625 25.390625 \nL 58.015625 17.1875 \nL 47.609375 17.1875 \nL 47.609375 0 \nL 37.796875 0 \nL 37.796875 17.1875 \nL 4.890625 17.1875 \nL 4.890625 26.703125 \nz\n\" id=\"DejaVuSans-52\"/>\n      </defs>\n      <g transform=\"translate(197.204477 254.356562)scale(0.1 -0.1)\">\n       <use xlink:href=\"#DejaVuSans-52\"/>\n       <use x=\"63.623047\" xlink:href=\"#DejaVuSans-48\"/>\n      </g>\n     </g>\n    </g>\n    <g id=\"xtick_6\">\n     <g id=\"line2d_6\">\n      <g>\n       <use style=\"stroke:#000000;stroke-width:0.8;\" x=\"242.09402\" xlink:href=\"#ma82252849a\" y=\"239.758125\"/>\n      </g>\n     </g>\n     <g id=\"text_6\">\n      <!-- 50 -->\n      <defs>\n       <path d=\"M 10.796875 72.90625 \nL 49.515625 72.90625 \nL 49.515625 64.59375 \nL 19.828125 64.59375 \nL 19.828125 46.734375 \nQ 21.96875 47.46875 24.109375 47.828125 \nQ 26.265625 48.1875 28.421875 48.1875 \nQ 40.625 48.1875 47.75 41.5 \nQ 54.890625 34.8125 54.890625 23.390625 \nQ 54.890625 11.625 47.5625 5.09375 \nQ 40.234375 -1.421875 26.90625 -1.421875 \nQ 22.3125 -1.421875 17.546875 -0.640625 \nQ 12.796875 0.140625 7.71875 1.703125 \nL 7.71875 11.625 \nQ 12.109375 9.234375 16.796875 8.0625 \nQ 21.484375 6.890625 26.703125 6.890625 \nQ 35.15625 6.890625 40.078125 11.328125 \nQ 45.015625 15.765625 45.015625 23.390625 \nQ 45.015625 31 40.078125 35.4375 \nQ 35.15625 39.890625 26.703125 39.890625 \nQ 22.75 39.890625 18.8125 39.015625 \nQ 14.890625 38.140625 10.796875 36.28125 \nz\n\" id=\"DejaVuSans-53\"/>\n      </defs>\n      <g transform=\"translate(235.73152 254.356562)scale(0.1 -0.1)\">\n       <use xlink:href=\"#DejaVuSans-53\"/>\n       <use x=\"63.623047\" xlink:href=\"#DejaVuSans-48\"/>\n      </g>\n     </g>\n    </g>\n    <g id=\"xtick_7\">\n     <g id=\"line2d_7\">\n      <g>\n       <use style=\"stroke:#000000;stroke-width:0.8;\" x=\"280.621062\" xlink:href=\"#ma82252849a\" y=\"239.758125\"/>\n      </g>\n     </g>\n     <g id=\"text_7\">\n      <!-- 60 -->\n      <defs>\n       <path d=\"M 33.015625 40.375 \nQ 26.375 40.375 22.484375 35.828125 \nQ 18.609375 31.296875 18.609375 23.390625 \nQ 18.609375 15.53125 22.484375 10.953125 \nQ 26.375 6.390625 33.015625 6.390625 \nQ 39.65625 6.390625 43.53125 10.953125 \nQ 47.40625 15.53125 47.40625 23.390625 \nQ 47.40625 31.296875 43.53125 35.828125 \nQ 39.65625 40.375 33.015625 40.375 \nz\nM 52.59375 71.296875 \nL 52.59375 62.3125 \nQ 48.875 64.0625 45.09375 64.984375 \nQ 41.3125 65.921875 37.59375 65.921875 \nQ 27.828125 65.921875 22.671875 59.328125 \nQ 17.53125 52.734375 16.796875 39.40625 \nQ 19.671875 43.65625 24.015625 45.921875 \nQ 28.375 48.1875 33.59375 48.1875 \nQ 44.578125 48.1875 50.953125 41.515625 \nQ 57.328125 34.859375 57.328125 23.390625 \nQ 57.328125 12.15625 50.6875 5.359375 \nQ 44.046875 -1.421875 33.015625 -1.421875 \nQ 20.359375 -1.421875 13.671875 8.265625 \nQ 6.984375 17.96875 6.984375 36.375 \nQ 6.984375 53.65625 15.1875 63.9375 \nQ 23.390625 74.21875 37.203125 74.21875 \nQ 40.921875 74.21875 44.703125 73.484375 \nQ 48.484375 72.75 52.59375 71.296875 \nz\n\" id=\"DejaVuSans-54\"/>\n      </defs>\n      <g transform=\"translate(274.258562 254.356562)scale(0.1 -0.1)\">\n       <use xlink:href=\"#DejaVuSans-54\"/>\n       <use x=\"63.623047\" xlink:href=\"#DejaVuSans-48\"/>\n      </g>\n     </g>\n    </g>\n    <g id=\"xtick_8\">\n     <g id=\"line2d_8\">\n      <g>\n       <use style=\"stroke:#000000;stroke-width:0.8;\" x=\"319.148105\" xlink:href=\"#ma82252849a\" y=\"239.758125\"/>\n      </g>\n     </g>\n     <g id=\"text_8\">\n      <!-- 70 -->\n      <defs>\n       <path d=\"M 8.203125 72.90625 \nL 55.078125 72.90625 \nL 55.078125 68.703125 \nL 28.609375 0 \nL 18.3125 0 \nL 43.21875 64.59375 \nL 8.203125 64.59375 \nz\n\" id=\"DejaVuSans-55\"/>\n      </defs>\n      <g transform=\"translate(312.785605 254.356562)scale(0.1 -0.1)\">\n       <use xlink:href=\"#DejaVuSans-55\"/>\n       <use x=\"63.623047\" xlink:href=\"#DejaVuSans-48\"/>\n      </g>\n     </g>\n    </g>\n    <g id=\"xtick_9\">\n     <g id=\"line2d_9\">\n      <g>\n       <use style=\"stroke:#000000;stroke-width:0.8;\" x=\"357.675147\" xlink:href=\"#ma82252849a\" y=\"239.758125\"/>\n      </g>\n     </g>\n     <g id=\"text_9\">\n      <!-- 80 -->\n      <defs>\n       <path d=\"M 31.78125 34.625 \nQ 24.75 34.625 20.71875 30.859375 \nQ 16.703125 27.09375 16.703125 20.515625 \nQ 16.703125 13.921875 20.71875 10.15625 \nQ 24.75 6.390625 31.78125 6.390625 \nQ 38.8125 6.390625 42.859375 10.171875 \nQ 46.921875 13.96875 46.921875 20.515625 \nQ 46.921875 27.09375 42.890625 30.859375 \nQ 38.875 34.625 31.78125 34.625 \nz\nM 21.921875 38.8125 \nQ 15.578125 40.375 12.03125 44.71875 \nQ 8.5 49.078125 8.5 55.328125 \nQ 8.5 64.0625 14.71875 69.140625 \nQ 20.953125 74.21875 31.78125 74.21875 \nQ 42.671875 74.21875 48.875 69.140625 \nQ 55.078125 64.0625 55.078125 55.328125 \nQ 55.078125 49.078125 51.53125 44.71875 \nQ 48 40.375 41.703125 38.8125 \nQ 48.828125 37.15625 52.796875 32.3125 \nQ 56.78125 27.484375 56.78125 20.515625 \nQ 56.78125 9.90625 50.3125 4.234375 \nQ 43.84375 -1.421875 31.78125 -1.421875 \nQ 19.734375 -1.421875 13.25 4.234375 \nQ 6.78125 9.90625 6.78125 20.515625 \nQ 6.78125 27.484375 10.78125 32.3125 \nQ 14.796875 37.15625 21.921875 38.8125 \nz\nM 18.3125 54.390625 \nQ 18.3125 48.734375 21.84375 45.5625 \nQ 25.390625 42.390625 31.78125 42.390625 \nQ 38.140625 42.390625 41.71875 45.5625 \nQ 45.3125 48.734375 45.3125 54.390625 \nQ 45.3125 60.0625 41.71875 63.234375 \nQ 38.140625 66.40625 31.78125 66.40625 \nQ 25.390625 66.40625 21.84375 63.234375 \nQ 18.3125 60.0625 18.3125 54.390625 \nz\n\" id=\"DejaVuSans-56\"/>\n      </defs>\n      <g transform=\"translate(351.312647 254.356562)scale(0.1 -0.1)\">\n       <use xlink:href=\"#DejaVuSans-56\"/>\n       <use x=\"63.623047\" xlink:href=\"#DejaVuSans-48\"/>\n      </g>\n     </g>\n    </g>\n    <g id=\"text_10\">\n     <!-- Epoch -->\n     <defs>\n      <path d=\"M 9.8125 72.90625 \nL 55.90625 72.90625 \nL 55.90625 64.59375 \nL 19.671875 64.59375 \nL 19.671875 43.015625 \nL 54.390625 43.015625 \nL 54.390625 34.71875 \nL 19.671875 34.71875 \nL 19.671875 8.296875 \nL 56.78125 8.296875 \nL 56.78125 0 \nL 9.8125 0 \nz\n\" id=\"DejaVuSans-69\"/>\n      <path d=\"M 18.109375 8.203125 \nL 18.109375 -20.796875 \nL 9.078125 -20.796875 \nL 9.078125 54.6875 \nL 18.109375 54.6875 \nL 18.109375 46.390625 \nQ 20.953125 51.265625 25.265625 53.625 \nQ 29.59375 56 35.59375 56 \nQ 45.5625 56 51.78125 48.09375 \nQ 58.015625 40.1875 58.015625 27.296875 \nQ 58.015625 14.40625 51.78125 6.484375 \nQ 45.5625 -1.421875 35.59375 -1.421875 \nQ 29.59375 -1.421875 25.265625 0.953125 \nQ 20.953125 3.328125 18.109375 8.203125 \nz\nM 48.6875 27.296875 \nQ 48.6875 37.203125 44.609375 42.84375 \nQ 40.53125 48.484375 33.40625 48.484375 \nQ 26.265625 48.484375 22.1875 42.84375 \nQ 18.109375 37.203125 18.109375 27.296875 \nQ 18.109375 17.390625 22.1875 11.75 \nQ 26.265625 6.109375 33.40625 6.109375 \nQ 40.53125 6.109375 44.609375 11.75 \nQ 48.6875 17.390625 48.6875 27.296875 \nz\n\" id=\"DejaVuSans-112\"/>\n      <path d=\"M 30.609375 48.390625 \nQ 23.390625 48.390625 19.1875 42.75 \nQ 14.984375 37.109375 14.984375 27.296875 \nQ 14.984375 17.484375 19.15625 11.84375 \nQ 23.34375 6.203125 30.609375 6.203125 \nQ 37.796875 6.203125 41.984375 11.859375 \nQ 46.1875 17.53125 46.1875 27.296875 \nQ 46.1875 37.015625 41.984375 42.703125 \nQ 37.796875 48.390625 30.609375 48.390625 \nz\nM 30.609375 56 \nQ 42.328125 56 49.015625 48.375 \nQ 55.71875 40.765625 55.71875 27.296875 \nQ 55.71875 13.875 49.015625 6.21875 \nQ 42.328125 -1.421875 30.609375 -1.421875 \nQ 18.84375 -1.421875 12.171875 6.21875 \nQ 5.515625 13.875 5.515625 27.296875 \nQ 5.515625 40.765625 12.171875 48.375 \nQ 18.84375 56 30.609375 56 \nz\n\" id=\"DejaVuSans-111\"/>\n      <path d=\"M 48.78125 52.59375 \nL 48.78125 44.1875 \nQ 44.96875 46.296875 41.140625 47.34375 \nQ 37.3125 48.390625 33.40625 48.390625 \nQ 24.65625 48.390625 19.8125 42.84375 \nQ 14.984375 37.3125 14.984375 27.296875 \nQ 14.984375 17.28125 19.8125 11.734375 \nQ 24.65625 6.203125 33.40625 6.203125 \nQ 37.3125 6.203125 41.140625 7.25 \nQ 44.96875 8.296875 48.78125 10.40625 \nL 48.78125 2.09375 \nQ 45.015625 0.34375 40.984375 -0.53125 \nQ 36.96875 -1.421875 32.421875 -1.421875 \nQ 20.0625 -1.421875 12.78125 6.34375 \nQ 5.515625 14.109375 5.515625 27.296875 \nQ 5.515625 40.671875 12.859375 48.328125 \nQ 20.21875 56 33.015625 56 \nQ 37.15625 56 41.109375 55.140625 \nQ 45.0625 54.296875 48.78125 52.59375 \nz\n\" id=\"DejaVuSans-99\"/>\n      <path d=\"M 54.890625 33.015625 \nL 54.890625 0 \nL 45.90625 0 \nL 45.90625 32.71875 \nQ 45.90625 40.484375 42.875 44.328125 \nQ 39.84375 48.1875 33.796875 48.1875 \nQ 26.515625 48.1875 22.3125 43.546875 \nQ 18.109375 38.921875 18.109375 30.90625 \nL 18.109375 0 \nL 9.078125 0 \nL 9.078125 75.984375 \nL 18.109375 75.984375 \nL 18.109375 46.1875 \nQ 21.34375 51.125 25.703125 53.5625 \nQ 30.078125 56 35.796875 56 \nQ 45.21875 56 50.046875 50.171875 \nQ 54.890625 44.34375 54.890625 33.015625 \nz\n\" id=\"DejaVuSans-104\"/>\n     </defs>\n     <g transform=\"translate(186.329688 268.034687)scale(0.1 -0.1)\">\n      <use xlink:href=\"#DejaVuSans-69\"/>\n      <use x=\"63.183594\" xlink:href=\"#DejaVuSans-112\"/>\n      <use x=\"126.660156\" xlink:href=\"#DejaVuSans-111\"/>\n      <use x=\"187.841797\" xlink:href=\"#DejaVuSans-99\"/>\n      <use x=\"242.822266\" xlink:href=\"#DejaVuSans-104\"/>\n     </g>\n    </g>\n   </g>\n   <g id=\"matplotlib.axis_2\">\n    <g id=\"ytick_1\">\n     <g id=\"line2d_10\">\n      <defs>\n       <path d=\"M 0 0 \nL -3.5 0 \n\" id=\"mc06e098630\" style=\"stroke:#000000;stroke-width:0.8;\"/>\n      </defs>\n      <g>\n       <use style=\"stroke:#000000;stroke-width:0.8;\" x=\"34.240625\" xlink:href=\"#mc06e098630\" y=\"213.820313\"/>\n      </g>\n     </g>\n     <g id=\"text_11\">\n      <!-- 1 -->\n      <g transform=\"translate(20.878125 217.619532)scale(0.1 -0.1)\">\n       <use xlink:href=\"#DejaVuSans-49\"/>\n      </g>\n     </g>\n    </g>\n    <g id=\"ytick_2\">\n     <g id=\"line2d_11\">\n      <g>\n       <use style=\"stroke:#000000;stroke-width:0.8;\" x=\"34.240625\" xlink:href=\"#mc06e098630\" y=\"174.354623\"/>\n      </g>\n     </g>\n     <g id=\"text_12\">\n      <!-- 2 -->\n      <g transform=\"translate(20.878125 178.153842)scale(0.1 -0.1)\">\n       <use xlink:href=\"#DejaVuSans-50\"/>\n      </g>\n     </g>\n    </g>\n    <g id=\"ytick_3\">\n     <g id=\"line2d_12\">\n      <g>\n       <use style=\"stroke:#000000;stroke-width:0.8;\" x=\"34.240625\" xlink:href=\"#mc06e098630\" y=\"134.888933\"/>\n      </g>\n     </g>\n     <g id=\"text_13\">\n      <!-- 3 -->\n      <g transform=\"translate(20.878125 138.688152)scale(0.1 -0.1)\">\n       <use xlink:href=\"#DejaVuSans-51\"/>\n      </g>\n     </g>\n    </g>\n    <g id=\"ytick_4\">\n     <g id=\"line2d_13\">\n      <g>\n       <use style=\"stroke:#000000;stroke-width:0.8;\" x=\"34.240625\" xlink:href=\"#mc06e098630\" y=\"95.423244\"/>\n      </g>\n     </g>\n     <g id=\"text_14\">\n      <!-- 4 -->\n      <g transform=\"translate(20.878125 99.222463)scale(0.1 -0.1)\">\n       <use xlink:href=\"#DejaVuSans-52\"/>\n      </g>\n     </g>\n    </g>\n    <g id=\"ytick_5\">\n     <g id=\"line2d_14\">\n      <g>\n       <use style=\"stroke:#000000;stroke-width:0.8;\" x=\"34.240625\" xlink:href=\"#mc06e098630\" y=\"55.957554\"/>\n      </g>\n     </g>\n     <g id=\"text_15\">\n      <!-- 5 -->\n      <g transform=\"translate(20.878125 59.756773)scale(0.1 -0.1)\">\n       <use xlink:href=\"#DejaVuSans-53\"/>\n      </g>\n     </g>\n    </g>\n    <g id=\"text_16\">\n     <!-- Loss -->\n     <defs>\n      <path d=\"M 9.8125 72.90625 \nL 19.671875 72.90625 \nL 19.671875 8.296875 \nL 55.171875 8.296875 \nL 55.171875 0 \nL 9.8125 0 \nz\n\" id=\"DejaVuSans-76\"/>\n      <path d=\"M 44.28125 53.078125 \nL 44.28125 44.578125 \nQ 40.484375 46.53125 36.375 47.5 \nQ 32.28125 48.484375 27.875 48.484375 \nQ 21.1875 48.484375 17.84375 46.4375 \nQ 14.5 44.390625 14.5 40.28125 \nQ 14.5 37.15625 16.890625 35.375 \nQ 19.28125 33.59375 26.515625 31.984375 \nL 29.59375 31.296875 \nQ 39.15625 29.25 43.1875 25.515625 \nQ 47.21875 21.78125 47.21875 15.09375 \nQ 47.21875 7.46875 41.1875 3.015625 \nQ 35.15625 -1.421875 24.609375 -1.421875 \nQ 20.21875 -1.421875 15.453125 -0.5625 \nQ 10.6875 0.296875 5.421875 2 \nL 5.421875 11.28125 \nQ 10.40625 8.6875 15.234375 7.390625 \nQ 20.0625 6.109375 24.8125 6.109375 \nQ 31.15625 6.109375 34.5625 8.28125 \nQ 37.984375 10.453125 37.984375 14.40625 \nQ 37.984375 18.0625 35.515625 20.015625 \nQ 33.0625 21.96875 24.703125 23.78125 \nL 21.578125 24.515625 \nQ 13.234375 26.265625 9.515625 29.90625 \nQ 5.8125 33.546875 5.8125 39.890625 \nQ 5.8125 47.609375 11.28125 51.796875 \nQ 16.75 56 26.8125 56 \nQ 31.78125 56 36.171875 55.265625 \nQ 40.578125 54.546875 44.28125 53.078125 \nz\n\" id=\"DejaVuSans-115\"/>\n     </defs>\n     <g transform=\"translate(14.798437 142.005312)rotate(-90)scale(0.1 -0.1)\">\n      <use xlink:href=\"#DejaVuSans-76\"/>\n      <use x=\"53.962891\" xlink:href=\"#DejaVuSans-111\"/>\n      <use x=\"115.144531\" xlink:href=\"#DejaVuSans-115\"/>\n      <use x=\"167.244141\" xlink:href=\"#DejaVuSans-115\"/>\n     </g>\n    </g>\n   </g>\n   <g id=\"line2d_15\">\n    <path clip-path=\"url(#p7795900067)\" d=\"M 49.458807 32.201761 \nL 53.311511 79.910303 \nL 57.164215 107.34888 \nL 61.01692 126.29654 \nL 64.869624 138.087909 \nL 68.722328 147.101858 \nL 72.575032 153.952018 \nL 76.427737 159.559373 \nL 80.280441 164.850966 \nL 84.133145 169.364834 \nL 87.985849 173.064514 \nL 91.838554 177.062951 \nL 95.691258 180.651536 \nL 99.543962 183.872091 \nL 103.396666 186.785666 \nL 107.249371 189.206487 \nL 111.102075 191.860101 \nL 114.954779 193.931765 \nL 118.807483 196.287694 \nL 122.660188 198.034712 \nL 126.512892 200.215973 \nL 130.365596 201.826414 \nL 134.2183 203.009123 \nL 138.071005 204.548492 \nL 141.923709 206.224707 \nL 145.776413 207.07204 \nL 149.629118 208.854116 \nL 153.481822 209.322812 \nL 157.334526 210.489955 \nL 161.18723 211.568148 \nL 165.039935 212.724483 \nL 168.892639 213.483159 \nL 172.745343 214.132667 \nL 176.598047 214.358777 \nL 180.450752 215.196392 \nL 184.303456 216.496279 \nL 188.15616 216.961224 \nL 192.008864 217.447455 \nL 195.861569 217.933217 \nL 199.714273 218.489314 \nL 203.566977 219.260099 \nL 207.419681 219.64276 \nL 211.272386 219.97417 \nL 215.12509 220.687504 \nL 218.977794 221.436934 \nL 222.830498 221.682706 \nL 226.683203 221.854887 \nL 230.535907 222.645094 \nL 234.388611 222.41609 \nL 238.241315 222.853052 \nL 242.09402 223.464054 \nL 245.946724 223.45266 \nL 249.799428 223.993251 \nL 253.652132 224.365113 \nL 257.504837 224.437385 \nL 261.357541 224.991317 \nL 265.210245 225.376121 \nL 269.06295 225.472676 \nL 272.915654 226.037002 \nL 276.768358 226.229423 \nL 280.621062 226.168482 \nL 284.473767 226.716122 \nL 288.326471 226.79731 \nL 292.179175 226.418877 \nL 296.031879 227.116513 \nL 299.884584 227.849409 \nL 303.737288 227.808474 \nL 307.589992 227.872333 \nL 311.442696 227.923864 \nL 315.295401 227.949971 \nL 319.148105 228.544204 \nL 323.000809 228.690324 \nL 326.853513 228.579024 \nL 330.706218 228.427329 \nL 334.558922 229.208354 \nL 338.411626 229.366142 \nL 342.26433 229.252526 \nL 346.117035 229.874489 \nL 349.969739 229.582693 \nL 353.822443 229.846923 \n\" style=\"fill:none;stroke:#d62728;stroke-linecap:square;stroke-width:1.5;\"/>\n   </g>\n   <g id=\"line2d_16\">\n    <path clip-path=\"url(#p7795900067)\" d=\"M 49.458807 63.066641 \nL 53.311511 95.352147 \nL 57.164215 115.837091 \nL 61.01692 132.484439 \nL 64.869624 141.893143 \nL 68.722328 148.922994 \nL 72.575032 154.038144 \nL 76.427737 160.01553 \nL 80.280441 164.997802 \nL 84.133145 166.628782 \nL 87.985849 170.770751 \nL 91.838554 174.061804 \nL 95.691258 176.770936 \nL 99.543962 180.460701 \nL 103.396666 183.157897 \nL 107.249371 183.344428 \nL 111.102075 187.404658 \nL 114.954779 189.313816 \nL 118.807483 190.065167 \nL 122.660188 190.648504 \nL 126.512892 193.64727 \nL 130.365596 194.157812 \nL 134.2183 195.435715 \nL 138.071005 197.985664 \nL 141.923709 198.346236 \nL 145.776413 198.720182 \nL 149.629118 199.53268 \nL 153.481822 200.406023 \nL 157.334526 202.624622 \nL 161.18723 202.852149 \nL 165.039935 203.575663 \nL 168.892639 203.521375 \nL 172.745343 205.1851 \nL 176.598047 205.89153 \nL 180.450752 206.123462 \nL 184.303456 206.751973 \nL 188.15616 207.187678 \nL 192.008864 207.045997 \nL 195.861569 207.576045 \nL 199.714273 207.817446 \nL 203.566977 208.085114 \nL 207.419681 209.662239 \nL 211.272386 210.356683 \nL 215.12509 208.805593 \nL 218.977794 208.898887 \nL 222.830498 210.049641 \nL 226.683203 209.743061 \nL 230.535907 210.949486 \nL 234.388611 210.603603 \nL 238.241315 210.805316 \nL 242.09402 211.028412 \nL 245.946724 212.174386 \nL 249.799428 211.347935 \nL 253.652132 211.657093 \nL 257.504837 211.864019 \nL 261.357541 212.438069 \nL 265.210245 212.643744 \nL 269.06295 212.074021 \nL 272.915654 212.97405 \nL 276.768358 211.641982 \nL 280.621062 213.325258 \nL 284.473767 213.077355 \nL 288.326471 213.413537 \nL 292.179175 214.131553 \nL 296.031879 213.386429 \nL 299.884584 212.775268 \nL 303.737288 213.863062 \nL 307.589992 213.222631 \nL 311.442696 213.950016 \nL 315.295401 213.381564 \nL 319.148105 213.388969 \nL 323.000809 212.685404 \nL 326.853513 212.878239 \nL 330.706218 213.619734 \nL 334.558922 214.508986 \nL 338.411626 214.480203 \nL 342.26433 214.696648 \nL 346.117035 215.155194 \nL 349.969739 213.901266 \nL 353.822443 215.440387 \n\" style=\"fill:none;stroke:#17becf;stroke-linecap:square;stroke-width:1.5;\"/>\n   </g>\n   <g id=\"patch_3\">\n    <path d=\"M 34.240625 239.758125 \nL 34.240625 22.318125 \n\" style=\"fill:none;stroke:#000000;stroke-linecap:square;stroke-linejoin:miter;stroke-width:0.8;\"/>\n   </g>\n   <g id=\"patch_4\">\n    <path d=\"M 369.040625 239.758125 \nL 369.040625 22.318125 \n\" style=\"fill:none;stroke:#000000;stroke-linecap:square;stroke-linejoin:miter;stroke-width:0.8;\"/>\n   </g>\n   <g id=\"patch_5\">\n    <path d=\"M 34.240625 239.758125 \nL 369.040625 239.758125 \n\" style=\"fill:none;stroke:#000000;stroke-linecap:square;stroke-linejoin:miter;stroke-width:0.8;\"/>\n   </g>\n   <g id=\"patch_6\">\n    <path d=\"M 34.240625 22.318125 \nL 369.040625 22.318125 \n\" style=\"fill:none;stroke:#000000;stroke-linecap:square;stroke-linejoin:miter;stroke-width:0.8;\"/>\n   </g>\n   <g id=\"text_17\">\n    <!-- Learning curve of Self-Attention Model -->\n    <defs>\n     <path d=\"M 56.203125 29.59375 \nL 56.203125 25.203125 \nL 14.890625 25.203125 \nQ 15.484375 15.921875 20.484375 11.0625 \nQ 25.484375 6.203125 34.421875 6.203125 \nQ 39.59375 6.203125 44.453125 7.46875 \nQ 49.3125 8.734375 54.109375 11.28125 \nL 54.109375 2.78125 \nQ 49.265625 0.734375 44.1875 -0.34375 \nQ 39.109375 -1.421875 33.890625 -1.421875 \nQ 20.796875 -1.421875 13.15625 6.1875 \nQ 5.515625 13.8125 5.515625 26.8125 \nQ 5.515625 40.234375 12.765625 48.109375 \nQ 20.015625 56 32.328125 56 \nQ 43.359375 56 49.78125 48.890625 \nQ 56.203125 41.796875 56.203125 29.59375 \nz\nM 47.21875 32.234375 \nQ 47.125 39.59375 43.09375 43.984375 \nQ 39.0625 48.390625 32.421875 48.390625 \nQ 24.90625 48.390625 20.390625 44.140625 \nQ 15.875 39.890625 15.1875 32.171875 \nz\n\" id=\"DejaVuSans-101\"/>\n     <path d=\"M 34.28125 27.484375 \nQ 23.390625 27.484375 19.1875 25 \nQ 14.984375 22.515625 14.984375 16.5 \nQ 14.984375 11.71875 18.140625 8.90625 \nQ 21.296875 6.109375 26.703125 6.109375 \nQ 34.1875 6.109375 38.703125 11.40625 \nQ 43.21875 16.703125 43.21875 25.484375 \nL 43.21875 27.484375 \nz\nM 52.203125 31.203125 \nL 52.203125 0 \nL 43.21875 0 \nL 43.21875 8.296875 \nQ 40.140625 3.328125 35.546875 0.953125 \nQ 30.953125 -1.421875 24.3125 -1.421875 \nQ 15.921875 -1.421875 10.953125 3.296875 \nQ 6 8.015625 6 15.921875 \nQ 6 25.140625 12.171875 29.828125 \nQ 18.359375 34.515625 30.609375 34.515625 \nL 43.21875 34.515625 \nL 43.21875 35.40625 \nQ 43.21875 41.609375 39.140625 45 \nQ 35.0625 48.390625 27.6875 48.390625 \nQ 23 48.390625 18.546875 47.265625 \nQ 14.109375 46.140625 10.015625 43.890625 \nL 10.015625 52.203125 \nQ 14.9375 54.109375 19.578125 55.046875 \nQ 24.21875 56 28.609375 56 \nQ 40.484375 56 46.34375 49.84375 \nQ 52.203125 43.703125 52.203125 31.203125 \nz\n\" id=\"DejaVuSans-97\"/>\n     <path d=\"M 41.109375 46.296875 \nQ 39.59375 47.171875 37.8125 47.578125 \nQ 36.03125 48 33.890625 48 \nQ 26.265625 48 22.1875 43.046875 \nQ 18.109375 38.09375 18.109375 28.8125 \nL 18.109375 0 \nL 9.078125 0 \nL 9.078125 54.6875 \nL 18.109375 54.6875 \nL 18.109375 46.1875 \nQ 20.953125 51.171875 25.484375 53.578125 \nQ 30.03125 56 36.53125 56 \nQ 37.453125 56 38.578125 55.875 \nQ 39.703125 55.765625 41.0625 55.515625 \nz\n\" id=\"DejaVuSans-114\"/>\n     <path d=\"M 54.890625 33.015625 \nL 54.890625 0 \nL 45.90625 0 \nL 45.90625 32.71875 \nQ 45.90625 40.484375 42.875 44.328125 \nQ 39.84375 48.1875 33.796875 48.1875 \nQ 26.515625 48.1875 22.3125 43.546875 \nQ 18.109375 38.921875 18.109375 30.90625 \nL 18.109375 0 \nL 9.078125 0 \nL 9.078125 54.6875 \nL 18.109375 54.6875 \nL 18.109375 46.1875 \nQ 21.34375 51.125 25.703125 53.5625 \nQ 30.078125 56 35.796875 56 \nQ 45.21875 56 50.046875 50.171875 \nQ 54.890625 44.34375 54.890625 33.015625 \nz\n\" id=\"DejaVuSans-110\"/>\n     <path d=\"M 9.421875 54.6875 \nL 18.40625 54.6875 \nL 18.40625 0 \nL 9.421875 0 \nz\nM 9.421875 75.984375 \nL 18.40625 75.984375 \nL 18.40625 64.59375 \nL 9.421875 64.59375 \nz\n\" id=\"DejaVuSans-105\"/>\n     <path d=\"M 45.40625 27.984375 \nQ 45.40625 37.75 41.375 43.109375 \nQ 37.359375 48.484375 30.078125 48.484375 \nQ 22.859375 48.484375 18.828125 43.109375 \nQ 14.796875 37.75 14.796875 27.984375 \nQ 14.796875 18.265625 18.828125 12.890625 \nQ 22.859375 7.515625 30.078125 7.515625 \nQ 37.359375 7.515625 41.375 12.890625 \nQ 45.40625 18.265625 45.40625 27.984375 \nz\nM 54.390625 6.78125 \nQ 54.390625 -7.171875 48.1875 -13.984375 \nQ 42 -20.796875 29.203125 -20.796875 \nQ 24.46875 -20.796875 20.265625 -20.09375 \nQ 16.0625 -19.390625 12.109375 -17.921875 \nL 12.109375 -9.1875 \nQ 16.0625 -11.328125 19.921875 -12.34375 \nQ 23.78125 -13.375 27.78125 -13.375 \nQ 36.625 -13.375 41.015625 -8.765625 \nQ 45.40625 -4.15625 45.40625 5.171875 \nL 45.40625 9.625 \nQ 42.625 4.78125 38.28125 2.390625 \nQ 33.9375 0 27.875 0 \nQ 17.828125 0 11.671875 7.65625 \nQ 5.515625 15.328125 5.515625 27.984375 \nQ 5.515625 40.671875 11.671875 48.328125 \nQ 17.828125 56 27.875 56 \nQ 33.9375 56 38.28125 53.609375 \nQ 42.625 51.21875 45.40625 46.390625 \nL 45.40625 54.6875 \nL 54.390625 54.6875 \nz\n\" id=\"DejaVuSans-103\"/>\n     <path id=\"DejaVuSans-32\"/>\n     <path d=\"M 8.5 21.578125 \nL 8.5 54.6875 \nL 17.484375 54.6875 \nL 17.484375 21.921875 \nQ 17.484375 14.15625 20.5 10.265625 \nQ 23.53125 6.390625 29.59375 6.390625 \nQ 36.859375 6.390625 41.078125 11.03125 \nQ 45.3125 15.671875 45.3125 23.6875 \nL 45.3125 54.6875 \nL 54.296875 54.6875 \nL 54.296875 0 \nL 45.3125 0 \nL 45.3125 8.40625 \nQ 42.046875 3.421875 37.71875 1 \nQ 33.40625 -1.421875 27.6875 -1.421875 \nQ 18.265625 -1.421875 13.375 4.4375 \nQ 8.5 10.296875 8.5 21.578125 \nz\nM 31.109375 56 \nz\n\" id=\"DejaVuSans-117\"/>\n     <path d=\"M 2.984375 54.6875 \nL 12.5 54.6875 \nL 29.59375 8.796875 \nL 46.6875 54.6875 \nL 56.203125 54.6875 \nL 35.6875 0 \nL 23.484375 0 \nz\n\" id=\"DejaVuSans-118\"/>\n     <path d=\"M 37.109375 75.984375 \nL 37.109375 68.5 \nL 28.515625 68.5 \nQ 23.6875 68.5 21.796875 66.546875 \nQ 19.921875 64.59375 19.921875 59.515625 \nL 19.921875 54.6875 \nL 34.71875 54.6875 \nL 34.71875 47.703125 \nL 19.921875 47.703125 \nL 19.921875 0 \nL 10.890625 0 \nL 10.890625 47.703125 \nL 2.296875 47.703125 \nL 2.296875 54.6875 \nL 10.890625 54.6875 \nL 10.890625 58.5 \nQ 10.890625 67.625 15.140625 71.796875 \nQ 19.390625 75.984375 28.609375 75.984375 \nz\n\" id=\"DejaVuSans-102\"/>\n     <path d=\"M 53.515625 70.515625 \nL 53.515625 60.890625 \nQ 47.90625 63.578125 42.921875 64.890625 \nQ 37.9375 66.21875 33.296875 66.21875 \nQ 25.25 66.21875 20.875 63.09375 \nQ 16.5 59.96875 16.5 54.203125 \nQ 16.5 49.359375 19.40625 46.890625 \nQ 22.3125 44.4375 30.421875 42.921875 \nL 36.375 41.703125 \nQ 47.40625 39.59375 52.65625 34.296875 \nQ 57.90625 29 57.90625 20.125 \nQ 57.90625 9.515625 50.796875 4.046875 \nQ 43.703125 -1.421875 29.984375 -1.421875 \nQ 24.8125 -1.421875 18.96875 -0.25 \nQ 13.140625 0.921875 6.890625 3.21875 \nL 6.890625 13.375 \nQ 12.890625 10.015625 18.65625 8.296875 \nQ 24.421875 6.59375 29.984375 6.59375 \nQ 38.421875 6.59375 43.015625 9.90625 \nQ 47.609375 13.234375 47.609375 19.390625 \nQ 47.609375 24.75 44.3125 27.78125 \nQ 41.015625 30.8125 33.5 32.328125 \nL 27.484375 33.5 \nQ 16.453125 35.6875 11.515625 40.375 \nQ 6.59375 45.0625 6.59375 53.421875 \nQ 6.59375 63.09375 13.40625 68.65625 \nQ 20.21875 74.21875 32.171875 74.21875 \nQ 37.3125 74.21875 42.625 73.28125 \nQ 47.953125 72.359375 53.515625 70.515625 \nz\n\" id=\"DejaVuSans-83\"/>\n     <path d=\"M 9.421875 75.984375 \nL 18.40625 75.984375 \nL 18.40625 0 \nL 9.421875 0 \nz\n\" id=\"DejaVuSans-108\"/>\n     <path d=\"M 4.890625 31.390625 \nL 31.203125 31.390625 \nL 31.203125 23.390625 \nL 4.890625 23.390625 \nz\n\" id=\"DejaVuSans-45\"/>\n     <path d=\"M 34.1875 63.1875 \nL 20.796875 26.90625 \nL 47.609375 26.90625 \nz\nM 28.609375 72.90625 \nL 39.796875 72.90625 \nL 67.578125 0 \nL 57.328125 0 \nL 50.6875 18.703125 \nL 17.828125 18.703125 \nL 11.1875 0 \nL 0.78125 0 \nz\n\" id=\"DejaVuSans-65\"/>\n     <path d=\"M 18.3125 70.21875 \nL 18.3125 54.6875 \nL 36.8125 54.6875 \nL 36.8125 47.703125 \nL 18.3125 47.703125 \nL 18.3125 18.015625 \nQ 18.3125 11.328125 20.140625 9.421875 \nQ 21.96875 7.515625 27.59375 7.515625 \nL 36.8125 7.515625 \nL 36.8125 0 \nL 27.59375 0 \nQ 17.1875 0 13.234375 3.875 \nQ 9.28125 7.765625 9.28125 18.015625 \nL 9.28125 47.703125 \nL 2.6875 47.703125 \nL 2.6875 54.6875 \nL 9.28125 54.6875 \nL 9.28125 70.21875 \nz\n\" id=\"DejaVuSans-116\"/>\n     <path d=\"M 9.8125 72.90625 \nL 24.515625 72.90625 \nL 43.109375 23.296875 \nL 61.8125 72.90625 \nL 76.515625 72.90625 \nL 76.515625 0 \nL 66.890625 0 \nL 66.890625 64.015625 \nL 48.09375 14.015625 \nL 38.1875 14.015625 \nL 19.390625 64.015625 \nL 19.390625 0 \nL 9.8125 0 \nz\n\" id=\"DejaVuSans-77\"/>\n     <path d=\"M 45.40625 46.390625 \nL 45.40625 75.984375 \nL 54.390625 75.984375 \nL 54.390625 0 \nL 45.40625 0 \nL 45.40625 8.203125 \nQ 42.578125 3.328125 38.25 0.953125 \nQ 33.9375 -1.421875 27.875 -1.421875 \nQ 17.96875 -1.421875 11.734375 6.484375 \nQ 5.515625 14.40625 5.515625 27.296875 \nQ 5.515625 40.1875 11.734375 48.09375 \nQ 17.96875 56 27.875 56 \nQ 33.9375 56 38.25 53.625 \nQ 42.578125 51.265625 45.40625 46.390625 \nz\nM 14.796875 27.296875 \nQ 14.796875 17.390625 18.875 11.75 \nQ 22.953125 6.109375 30.078125 6.109375 \nQ 37.203125 6.109375 41.296875 11.75 \nQ 45.40625 17.390625 45.40625 27.296875 \nQ 45.40625 37.203125 41.296875 42.84375 \nQ 37.203125 48.484375 30.078125 48.484375 \nQ 22.953125 48.484375 18.875 42.84375 \nQ 14.796875 37.203125 14.796875 27.296875 \nz\n\" id=\"DejaVuSans-100\"/>\n    </defs>\n    <g transform=\"translate(86.6825 16.318125)scale(0.12 -0.12)\">\n     <use xlink:href=\"#DejaVuSans-76\"/>\n     <use x=\"53.962891\" xlink:href=\"#DejaVuSans-101\"/>\n     <use x=\"115.486328\" xlink:href=\"#DejaVuSans-97\"/>\n     <use x=\"176.765625\" xlink:href=\"#DejaVuSans-114\"/>\n     <use x=\"216.128906\" xlink:href=\"#DejaVuSans-110\"/>\n     <use x=\"279.507812\" xlink:href=\"#DejaVuSans-105\"/>\n     <use x=\"307.291016\" xlink:href=\"#DejaVuSans-110\"/>\n     <use x=\"370.669922\" xlink:href=\"#DejaVuSans-103\"/>\n     <use x=\"434.146484\" xlink:href=\"#DejaVuSans-32\"/>\n     <use x=\"465.933594\" xlink:href=\"#DejaVuSans-99\"/>\n     <use x=\"520.914062\" xlink:href=\"#DejaVuSans-117\"/>\n     <use x=\"584.292969\" xlink:href=\"#DejaVuSans-114\"/>\n     <use x=\"625.40625\" xlink:href=\"#DejaVuSans-118\"/>\n     <use x=\"684.585938\" xlink:href=\"#DejaVuSans-101\"/>\n     <use x=\"746.109375\" xlink:href=\"#DejaVuSans-32\"/>\n     <use x=\"777.896484\" xlink:href=\"#DejaVuSans-111\"/>\n     <use x=\"839.078125\" xlink:href=\"#DejaVuSans-102\"/>\n     <use x=\"874.283203\" xlink:href=\"#DejaVuSans-32\"/>\n     <use x=\"906.070312\" xlink:href=\"#DejaVuSans-83\"/>\n     <use x=\"969.546875\" xlink:href=\"#DejaVuSans-101\"/>\n     <use x=\"1031.070312\" xlink:href=\"#DejaVuSans-108\"/>\n     <use x=\"1058.853516\" xlink:href=\"#DejaVuSans-102\"/>\n     <use x=\"1088.558594\" xlink:href=\"#DejaVuSans-45\"/>\n     <use x=\"1122.392578\" xlink:href=\"#DejaVuSans-65\"/>\n     <use x=\"1189.050781\" xlink:href=\"#DejaVuSans-116\"/>\n     <use x=\"1228.259766\" xlink:href=\"#DejaVuSans-116\"/>\n     <use x=\"1267.46875\" xlink:href=\"#DejaVuSans-101\"/>\n     <use x=\"1328.992188\" xlink:href=\"#DejaVuSans-110\"/>\n     <use x=\"1392.371094\" xlink:href=\"#DejaVuSans-116\"/>\n     <use x=\"1431.580078\" xlink:href=\"#DejaVuSans-105\"/>\n     <use x=\"1459.363281\" xlink:href=\"#DejaVuSans-111\"/>\n     <use x=\"1520.544922\" xlink:href=\"#DejaVuSans-110\"/>\n     <use x=\"1583.923828\" xlink:href=\"#DejaVuSans-32\"/>\n     <use x=\"1615.710938\" xlink:href=\"#DejaVuSans-77\"/>\n     <use x=\"1701.990234\" xlink:href=\"#DejaVuSans-111\"/>\n     <use x=\"1763.171875\" xlink:href=\"#DejaVuSans-100\"/>\n     <use x=\"1826.648438\" xlink:href=\"#DejaVuSans-101\"/>\n     <use x=\"1888.171875\" xlink:href=\"#DejaVuSans-108\"/>\n    </g>\n   </g>\n   <g id=\"legend_1\">\n    <g id=\"patch_7\">\n     <path d=\"M 306.765625 59.674375 \nL 362.040625 59.674375 \nQ 364.040625 59.674375 364.040625 57.674375 \nL 364.040625 29.318125 \nQ 364.040625 27.318125 362.040625 27.318125 \nL 306.765625 27.318125 \nQ 304.765625 27.318125 304.765625 29.318125 \nL 304.765625 57.674375 \nQ 304.765625 59.674375 306.765625 59.674375 \nz\n\" style=\"fill:#ffffff;opacity:0.8;stroke:#cccccc;stroke-linejoin:miter;\"/>\n    </g>\n    <g id=\"line2d_17\">\n     <path d=\"M 308.765625 35.416562 \nL 328.765625 35.416562 \n\" style=\"fill:none;stroke:#d62728;stroke-linecap:square;stroke-width:1.5;\"/>\n    </g>\n    <g id=\"line2d_18\"/>\n    <g id=\"text_18\">\n     <!-- train -->\n     <g transform=\"translate(336.765625 38.916562)scale(0.1 -0.1)\">\n      <use xlink:href=\"#DejaVuSans-116\"/>\n      <use x=\"39.208984\" xlink:href=\"#DejaVuSans-114\"/>\n      <use x=\"80.322266\" xlink:href=\"#DejaVuSans-97\"/>\n      <use x=\"141.601562\" xlink:href=\"#DejaVuSans-105\"/>\n      <use x=\"169.384766\" xlink:href=\"#DejaVuSans-110\"/>\n     </g>\n    </g>\n    <g id=\"line2d_19\">\n     <path d=\"M 308.765625 50.094687 \nL 328.765625 50.094687 \n\" style=\"fill:none;stroke:#17becf;stroke-linecap:square;stroke-width:1.5;\"/>\n    </g>\n    <g id=\"line2d_20\"/>\n    <g id=\"text_19\">\n     <!-- val -->\n     <g transform=\"translate(336.765625 53.594687)scale(0.1 -0.1)\">\n      <use xlink:href=\"#DejaVuSans-118\"/>\n      <use x=\"59.179688\" xlink:href=\"#DejaVuSans-97\"/>\n      <use x=\"120.458984\" xlink:href=\"#DejaVuSans-108\"/>\n     </g>\n    </g>\n   </g>\n  </g>\n </g>\n <defs>\n  <clipPath id=\"p7795900067\">\n   <rect height=\"217.44\" width=\"334.8\" x=\"34.240625\" y=\"22.318125\"/>\n  </clipPath>\n </defs>\n</svg>\n"
          },
          "metadata": {
            "tags": [],
            "needs_background": "light"
          }
        }
      ]
    },
    {
      "cell_type": "markdown",
      "metadata": {
        "id": "vHp_uaCK7awd"
      },
      "source": [
        "# Testing"
      ]
    },
    {
      "cell_type": "code",
      "metadata": {
        "id": "57eCZPdVdI0s"
      },
      "source": [
        "if config['best_model']:\n",
        "    del model\n",
        "    model = torch.load(config['model_path']).to(config['device'])"
      ],
      "execution_count": 82,
      "outputs": []
    },
    {
      "cell_type": "code",
      "metadata": {
        "id": "pC8MFjrldIuB"
      },
      "source": [
        "with open(mapping_file) as fp:\n",
        "    mapping = json.load(fp)\n",
        "\n",
        "model.eval()\n",
        "preds = []\n",
        "for feature_path, mel in test_dataloader:\n",
        "    mel = mel.to(config['device'])\n",
        "    with torch.no_grad():\n",
        "        logits = model(mel)\n",
        "        pred = logits.argmax(dim=1).cpu().numpy()\n",
        "    for x, y in zip(feature_path, pred):\n",
        "        preds.append([x, mapping['id2speaker'][str(y)]])"
      ],
      "execution_count": 83,
      "outputs": []
    },
    {
      "cell_type": "code",
      "metadata": {
        "id": "fLoijfstdIgf",
        "colab": {
          "base_uri": "https://localhost:8080/"
        },
        "outputId": "0668e1c0-d5d3-4444-ce2e-cac993cceef0"
      },
      "source": [
        "print(f'Saving Result to {config[\"pred_file\"]}')\n",
        "with open(config['pred_file'], 'w') as fp:\n",
        "    fp.write('Id,Category\\n')\n",
        "    for id, pred in preds:\n",
        "        fp.write(f'{id},{pred}\\n')"
      ],
      "execution_count": 84,
      "outputs": [
        {
          "output_type": "stream",
          "text": [
            "Saving Result to VoxCeleb.pred.csv\n"
          ],
          "name": "stdout"
        }
      ]
    },
    {
      "cell_type": "code",
      "metadata": {
        "id": "nxesuZm4gWir",
        "colab": {
          "base_uri": "https://localhost:8080/"
        },
        "outputId": "a33bfa98-93f0-48e4-e4c8-71e028219415"
      },
      "source": [
        "from google.colab import drive\n",
        "drive.mount('/content/drive')\n",
        "!cp -r ./models '/content/drive/MyDrive/Colab/ML 2021 Spring/HW04/'\n",
        "!cp ./*.pred.csv '/content/drive/MyDrive/Colab/ML 2021 Spring/HW04/'\n",
        "!cp ./*.svg '/content/drive/MyDrive/Colab/ML 2021 Spring/HW04/'"
      ],
      "execution_count": 85,
      "outputs": [
        {
          "output_type": "stream",
          "text": [
            "Drive already mounted at /content/drive; to attempt to forcibly remount, call drive.mount(\"/content/drive\", force_remount=True).\n"
          ],
          "name": "stdout"
        }
      ]
    },
    {
      "cell_type": "markdown",
      "metadata": {
        "id": "MERq8-bU7ayS"
      },
      "source": [
        "# Result"
      ]
    }
  ]
}