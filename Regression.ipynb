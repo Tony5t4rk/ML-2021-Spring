{
  "nbformat": 4,
  "nbformat_minor": 0,
  "metadata": {
    "colab": {
      "name": "Regression.ipynb",
      "provenance": [],
      "collapsed_sections": [],
      "toc_visible": true,
      "machine_shape": "hm",
      "authorship_tag": "ABX9TyOG9UCleVimyohP8kFj+A4H",
      "include_colab_link": true
    },
    "kernelspec": {
      "name": "python3",
      "display_name": "Python 3"
    },
    "language_info": {
      "name": "python"
    },
    "accelerator": "GPU"
  },
  "cells": [
    {
      "cell_type": "markdown",
      "metadata": {
        "id": "view-in-github",
        "colab_type": "text"
      },
      "source": [
        "<a href=\"https://colab.research.google.com/github/Tony5t4rk/ML-2021-Spring/blob/main/Regression.ipynb\" target=\"_parent\"><img src=\"https://colab.research.google.com/assets/colab-badge.svg\" alt=\"Open In Colab\"/></a>"
      ]
    },
    {
      "cell_type": "markdown",
      "metadata": {
        "id": "o72YCd1qf3kN"
      },
      "source": [
        "# **Homework 1: COVID-19 Cases Prediction (Regression)**"
      ]
    },
    {
      "cell_type": "markdown",
      "metadata": {
        "id": "hiHdpY4Jf86a"
      },
      "source": [
        "作者: 刘阳\n",
        "\n",
        "学习笔记：[機器學習2021 学习笔记-Introduction](https://www.wolai.com/tony5t4rk/9d8ktj9cGJb8BUafLhWPZ9)\n",
        "\n",
        "本HW01是在[样例代码](https://colab.research.google.com/github/ga642381/ML2021-Spring/blob/main/HW01/HW01.ipynb#scrollTo=ZeZnPAiwDRWG)的基础上进行修改完成的，代码中的修改部分使用注释`# Tony5t4rk:`进行标注。\n"
      ]
    },
    {
      "cell_type": "markdown",
      "metadata": {
        "id": "oAdqXNn0IfH7"
      },
      "source": [
        "# 挂载到Google Drive"
      ]
    },
    {
      "cell_type": "code",
      "metadata": {
        "id": "ppd3nZ-BILkC",
        "colab": {
          "base_uri": "https://localhost:8080/"
        },
        "outputId": "e068b090-a4f7-4c12-bdb9-5c3e40a0fc0c"
      },
      "source": [
        "from google.colab import drive\n",
        "drive.mount('/content/drive')\n",
        "%cd '/content/drive/MyDrive/Colab/ML 2021 Spring/HW01'"
      ],
      "execution_count": 5,
      "outputs": [
        {
          "output_type": "stream",
          "text": [
            "Mounted at /content/drive\n",
            "/content/drive/MyDrive/Colab/ML 2021 Spring/HW01\n"
          ],
          "name": "stdout"
        }
      ]
    },
    {
      "cell_type": "markdown",
      "metadata": {
        "id": "8gVp7_dLIjWa"
      },
      "source": [
        "# 查看当前设备GPU"
      ]
    },
    {
      "cell_type": "code",
      "metadata": {
        "id": "KtO2KJ98CtjU",
        "colab": {
          "base_uri": "https://localhost:8080/"
        },
        "outputId": "c677c3cc-304e-49c6-c5d2-eea7c73373cb"
      },
      "source": [
        "!nvidia-smi"
      ],
      "execution_count": 6,
      "outputs": [
        {
          "output_type": "stream",
          "text": [
            "Fri Apr 30 09:33:24 2021       \n",
            "+-----------------------------------------------------------------------------+\n",
            "| NVIDIA-SMI 465.19.01    Driver Version: 460.32.03    CUDA Version: 11.2     |\n",
            "|-------------------------------+----------------------+----------------------+\n",
            "| GPU  Name        Persistence-M| Bus-Id        Disp.A | Volatile Uncorr. ECC |\n",
            "| Fan  Temp  Perf  Pwr:Usage/Cap|         Memory-Usage | GPU-Util  Compute M. |\n",
            "|                               |                      |               MIG M. |\n",
            "|===============================+======================+======================|\n",
            "|   0  Tesla V100-SXM2...  Off  | 00000000:00:04.0 Off |                    0 |\n",
            "| N/A   42C    P0    26W / 300W |      0MiB / 16160MiB |      0%      Default |\n",
            "|                               |                      |                  N/A |\n",
            "+-------------------------------+----------------------+----------------------+\n",
            "                                                                               \n",
            "+-----------------------------------------------------------------------------+\n",
            "| Processes:                                                                  |\n",
            "|  GPU   GI   CI        PID   Type   Process name                  GPU Memory |\n",
            "|        ID   ID                                                   Usage      |\n",
            "|=============================================================================|\n",
            "|  No running processes found                                                 |\n",
            "+-----------------------------------------------------------------------------+\n"
          ],
          "name": "stdout"
        }
      ]
    },
    {
      "cell_type": "markdown",
      "metadata": {
        "id": "YOwXRGmgj1Dk"
      },
      "source": [
        "# 从Google Drive下载数据"
      ]
    },
    {
      "cell_type": "code",
      "metadata": {
        "id": "VOTCm-1JicXn",
        "colab": {
          "base_uri": "https://localhost:8080/"
        },
        "outputId": "87bb4413-fa93-40ef-9b63-274a3295f60a"
      },
      "source": [
        "train_file = 'covid.train.csv'\n",
        "test_file = 'covid.test.csv'\n",
        "\n",
        "!gdown --id '1jpx8a0aXhz1RPirdCtX5rZGVtaDdNSkx' --output covid.train.csv\n",
        "!gdown --id '1Itr_zqKBNbK75LAUTkUo00L9J1aVfe6C' --output covid.test.csv"
      ],
      "execution_count": 7,
      "outputs": [
        {
          "output_type": "stream",
          "text": [
            "Downloading...\n",
            "From: https://drive.google.com/uc?id=1jpx8a0aXhz1RPirdCtX5rZGVtaDdNSkx\n",
            "To: /content/drive/MyDrive/Colab/ML 2021 Spring/HW01/covid.train.csv\n",
            "100% 2.00M/2.00M [00:00<00:00, 64.5MB/s]\n",
            "Downloading...\n",
            "From: https://drive.google.com/uc?id=1Itr_zqKBNbK75LAUTkUo00L9J1aVfe6C\n",
            "To: /content/drive/My Drive/Colab/ML 2021 Spring/HW01/covid.test.csv\n",
            "100% 651k/651k [00:00<00:00, 93.0MB/s]\n"
          ],
          "name": "stdout"
        }
      ]
    },
    {
      "cell_type": "markdown",
      "metadata": {
        "id": "D6YnKjkikApV"
      },
      "source": [
        "# 导入需要使用的模块"
      ]
    },
    {
      "cell_type": "code",
      "metadata": {
        "id": "QZQc5-BTje8f"
      },
      "source": [
        "# PyTorch\n",
        "import torch\n",
        "import torch.nn as nn\n",
        "from torch.utils.data import Dataset, DataLoader\n",
        "\n",
        "# 数据预处理\n",
        "import numpy as np\n",
        "import csv\n",
        "import os\n",
        "\n",
        "# 绘图\n",
        "import matplotlib.pyplot as plt\n",
        "from matplotlib.pyplot import figure\n",
        "\n",
        "# 设置随机数种子（为了实验的可复现性）\n",
        "my_seed = 42096\n",
        "torch.backends.cudnn.deterministic = True\n",
        "torch.backends.cudnn.benchmark = False\n",
        "np.random.seed(my_seed)\n",
        "torch.manual_seed(my_seed)\n",
        "if torch.cuda.is_available():\n",
        "    torch.cuda.manual_seed_all(my_seed)"
      ],
      "execution_count": 8,
      "outputs": []
    },
    {
      "cell_type": "markdown",
      "metadata": {
        "id": "hu-xEfPpmBuA"
      },
      "source": [
        "# 定义画图工具函数"
      ]
    },
    {
      "cell_type": "code",
      "metadata": {
        "id": "IdJu9e4Wl_v5"
      },
      "source": [
        "# 绘制深度神经网络学习曲线（训练和验证的Loss）\n",
        "def plot_learning_curve(loss_record, title=''):\n",
        "    total_steps = len(loss_record['train'])\n",
        "    x_1 = range(total_steps)\n",
        "    x_2 = x_1[::len(loss_record['train']) // len(loss_record['dev'])]\n",
        "    figure(figsize=(6, 4))\n",
        "    plt.plot(x_1, loss_record['train'], c='tab:red', label='train')\n",
        "    plt.plot(x_2, loss_record['dev'], c='tab:cyan', label='dev')\n",
        "    plt.ylim(0.0, 5.)\n",
        "    plt.xlabel('Training steps')\n",
        "    plt.ylabel('MSE Loss')\n",
        "    plt.title('Learning curve of {}'.format(title))\n",
        "    plt.legend()\n",
        "    plt.savefig('Learning curve of {}.svg'.format(title))\n",
        "    plt.show()\n",
        "\n",
        "# 绘制DNN的验证预测结果\n",
        "def plot_pred(dev_dataloader, model, device, lim=35., preds=None, targets=None):\n",
        "    if preds is None or targets is None:\n",
        "        model.eval()\n",
        "        preds, targets = [], []\n",
        "        for x, y in dev_dataloader:\n",
        "            x, y = x.to(device), y.to(device)\n",
        "            with torch.no_grad():\n",
        "                pred = model(x)\n",
        "                preds.append(pred.detach().cpu())\n",
        "                targets.append(y.detach().cpu())\n",
        "        preds = torch.cat(preds, dim=0).numpy()\n",
        "        targets = torch.cat(targets, dim=0).numpy()\n",
        "    \n",
        "    figure(figsize=(5, 5))\n",
        "    plt.scatter(targets, preds, c='r', alpha=0.5)\n",
        "    plt.plot([-0.2, lim], [-0.2, lim], c='b')\n",
        "    plt.xlim(-0.2, lim)\n",
        "    plt.ylim(-0.2, lim)\n",
        "    plt.xlabel('Ground Truth')\n",
        "    plt.ylabel('Prediction')\n",
        "    plt.title('Ground Truth v.s. Best Model Prediction')\n",
        "    plt.savefig('Ground Truth v.s. Best Model Prediction.svg')\n",
        "    plt.show()"
      ],
      "execution_count": 9,
      "outputs": []
    },
    {
      "cell_type": "markdown",
      "metadata": {
        "id": "Mb-_1uiPQTNB"
      },
      "source": [
        "# 预处理"
      ]
    },
    {
      "cell_type": "markdown",
      "metadata": {
        "id": "xzfbq59jve73"
      },
      "source": [
        "## 数据集类"
      ]
    },
    {
      "cell_type": "code",
      "metadata": {
        "id": "_ublBebKvhHi"
      },
      "source": [
        "class COVID19_Dataset(Dataset):\n",
        "    def __init__(self, path, mode='train', target_only=False):\n",
        "        self.mode = mode\n",
        "\n",
        "        # 使用numpy数组的方式读取数据\n",
        "        with open(path, 'r') as fp:\n",
        "            data = list(csv.reader(fp))\n",
        "            data = np.array(data[1:])[:, 1:].astype(float)\n",
        "        \n",
        "        if not target_only:\n",
        "            feats = list(range(93))\n",
        "        else:\n",
        "            # Tony5t4rk: 40个特征 + 前2天的结果[57, 75]\n",
        "            feats = list(range(40)) + [57, 75]\n",
        "        \n",
        "        if mode == 'test':\n",
        "            # 测试数据 data: (893, len(feats))\n",
        "            data = data[:, feats]\n",
        "            self.data = torch.FloatTensor(data)\n",
        "        else:\n",
        "            # 训练数据（训练集和验证集） data: (2700, len(feats))\n",
        "            target = data[:, -1]\n",
        "            data = data[:, feats]\n",
        "\n",
        "            # 拆分训练集为训练集和验证集\n",
        "            if mode == 'train':\n",
        "                indices = [i for i in range(len(data)) if i % 10 != 0]\n",
        "            elif mode == 'dev':\n",
        "                indices = [i for i in range(len(data)) if i % 10 == 0]\n",
        "            \n",
        "            # 换为PyTorch Tensor数据\n",
        "            self.data = torch.FloatTensor(data[indices])\n",
        "            self.target = torch.FloatTensor(target[indices])\n",
        "\n",
        "        # 特征归一化\n",
        "        self.data[:, 40:] = (self.data[:, 40:] - self.data[:, 40:].mean(dim=0, keepdim=True)) / self.data[:, 40:].std(dim=0, keepdim=True)\n",
        "\n",
        "        self.dim = self.data.shape[1]\n",
        "\n",
        "        print('Finished reading the {} set of COVID19 Dataset ({} samples found, each dim = {})'.format(mode, len(self.data), self.dim))\n",
        "    \n",
        "    def __getitem__(self, index):\n",
        "        if self.mode in ['train', 'dev']:\n",
        "            return self.data[index], self.target[index]\n",
        "        else:\n",
        "            return self.data[index]\n",
        "    \n",
        "    def __len__(self):\n",
        "        return len(self.data)"
      ],
      "execution_count": 10,
      "outputs": []
    },
    {
      "cell_type": "markdown",
      "metadata": {
        "id": "2uL6-31kzaBY"
      },
      "source": [
        "## 数据迭代器"
      ]
    },
    {
      "cell_type": "code",
      "metadata": {
        "id": "xJNNShkgzcz3"
      },
      "source": [
        "# 生成数据迭代器\n",
        "def set_dataloader(path, mode, batch_size, n_jobs=0, target_only=False):\n",
        "    dataset = COVID19_Dataset(path, mode=mode, target_only=target_only)\n",
        "    dataloader = DataLoader(\n",
        "        dataset, batch_size,\n",
        "        shuffle=(mode == 'train'), drop_last=False,\n",
        "        num_workers=n_jobs, pin_memory=True\n",
        "    )\n",
        "    return dataloader"
      ],
      "execution_count": 11,
      "outputs": []
    },
    {
      "cell_type": "markdown",
      "metadata": {
        "id": "kpGeilpQ0ABX"
      },
      "source": [
        "# 定义深度神经网络类"
      ]
    },
    {
      "cell_type": "code",
      "metadata": {
        "id": "CJH-l2Mj0Bzj"
      },
      "source": [
        "# 一个简单的全连接深度神经网络\n",
        "class Net(nn.Module):\n",
        "    def __init__(self, input_dim):\n",
        "        super(Net, self).__init__()\n",
        "\n",
        "        # 定义神经网络\n",
        "        self.net = nn.Sequential(\n",
        "            nn.Linear(input_dim, 64),\n",
        "            nn.ReLU(),\n",
        "            nn.Linear(64, 1)\n",
        "        )\n",
        "\n",
        "        # MSE LOSS\n",
        "        self.criterion = nn.MSELoss(reduction='mean')\n",
        "    \n",
        "    def forward(self, x):\n",
        "        # x: (batch_size, input_dim)\n",
        "        return self.net(x).squeeze(1)\n",
        "    \n",
        "    def calc_loss(self, pred, target):\n",
        "        # TODO: you may implement L1/L2 regularization here\n",
        "        return self.criterion(pred, target)"
      ],
      "execution_count": 12,
      "outputs": []
    },
    {
      "cell_type": "markdown",
      "metadata": {
        "id": "mBjqm1gb038x"
      },
      "source": [
        "# 训练 & 验证 & 测试"
      ]
    },
    {
      "cell_type": "markdown",
      "metadata": {
        "id": "MY72U6FB06vh"
      },
      "source": [
        "## 训练"
      ]
    },
    {
      "cell_type": "code",
      "metadata": {
        "id": "iGMehV_H03u_"
      },
      "source": [
        "# 训练深度神经网络\n",
        "def train(train_dataloader, dev_dataloader, model, config, device):\n",
        "    n_epochs = config['n_epochs']\n",
        "    optimizer = getattr(torch.optim, config['optimizer'])(model.parameters(), **config['optim_hparams'])\n",
        "    min_dev_mse_loss = float('inf')\n",
        "    loss_record = {'train': [], 'dev': []}\n",
        "    early_stop_cnt = 0\n",
        "    epoch = 0\n",
        "    while epoch < n_epochs:\n",
        "        model.train()\n",
        "        for x, y in train_dataloader:\n",
        "            x, y = x.to(device), y.to(device)\n",
        "            optimizer.zero_grad()\n",
        "            pred = model(x)\n",
        "            mse_loss = model.calc_loss(pred, y)\n",
        "            mse_loss.backward()\n",
        "            optimizer.step()\n",
        "            loss_record['train'].append(mse_loss.detach().cpu().item())\n",
        "        \n",
        "        dev_mse_loss = dev(dev_dataloader, model, device)\n",
        "        if dev_mse_loss < min_dev_mse_loss:\n",
        "            min_dev_mse_loss = dev_mse_loss\n",
        "            print('Saving model (epoch = {:4d}, loss = {:.4f})'.format(epoch + 1, min_dev_mse_loss))\n",
        "            torch.save(model, config['save_path'])\n",
        "            early_stop_cnt = 0\n",
        "        else:\n",
        "            early_stop_cnt += 1\n",
        "        \n",
        "        epoch += 1\n",
        "        loss_record['dev'].append(dev_mse_loss)\n",
        "        if early_stop_cnt > config['early_stop']:\n",
        "            break\n",
        "    print('Finish train after {} epochs'.format(epoch))\n",
        "    return min_dev_mse_loss, loss_record"
      ],
      "execution_count": 13,
      "outputs": []
    },
    {
      "cell_type": "markdown",
      "metadata": {
        "id": "UdQTvHo1087t"
      },
      "source": [
        "## 验证"
      ]
    },
    {
      "cell_type": "code",
      "metadata": {
        "id": "-BrDm0Xj0-tB"
      },
      "source": [
        "def dev(dev_dataloader, model, device):\n",
        "    model.eval()\n",
        "    total_loss = 0\n",
        "    for x, y in dev_dataloader:\n",
        "        x, y = x.to(device), y.to(device)\n",
        "        with torch.no_grad():\n",
        "            pred = model(x)\n",
        "            mse_loss = model.calc_loss(pred, y)\n",
        "        total_loss += mse_loss.detach().cpu().item() * len(x)\n",
        "    total_loss /= len(dev_dataloader.dataset)\n",
        "    return total_loss"
      ],
      "execution_count": 14,
      "outputs": []
    },
    {
      "cell_type": "markdown",
      "metadata": {
        "id": "xMtwrzof0_Nc"
      },
      "source": [
        "## 测试"
      ]
    },
    {
      "cell_type": "code",
      "metadata": {
        "id": "d5lmRHZE1Ar2"
      },
      "source": [
        "def test(test_dataloader, model, device):\n",
        "    model.eval()\n",
        "    preds = []\n",
        "    for x in test_dataloader:\n",
        "        x = x.to(device)\n",
        "        with torch.no_grad():\n",
        "            pred = model(x)\n",
        "            preds.append(pred.detach().cpu())\n",
        "    preds = torch.cat(preds, dim=0).numpy()\n",
        "    return preds"
      ],
      "execution_count": 15,
      "outputs": []
    },
    {
      "cell_type": "markdown",
      "metadata": {
        "id": "xoN8TZpdmnDh"
      },
      "source": [
        "# 配置Hyper-parameters"
      ]
    },
    {
      "cell_type": "code",
      "metadata": {
        "id": "1rYuVy0mmmuS"
      },
      "source": [
        "device = torch.device('cuda' if torch.cuda.is_available() else 'cpu')\n",
        "os.makedirs('models', exist_ok=True)\n",
        "target_only = True\n",
        "\n",
        "# TODO: How to tune these hyper-parameters to improve your model's performance?\n",
        "config = {\n",
        "    'n_epochs': 3000,\n",
        "    'batch_size': 270,\n",
        "    'optimizer': 'SGD',\n",
        "    'optim_hparams': {\n",
        "        'lr': 0.001,\n",
        "        'momentum': 0.9\n",
        "    },\n",
        "    'early_stop': 200,\n",
        "    'save_path': 'models/model.pth'\n",
        "}"
      ],
      "execution_count": 16,
      "outputs": []
    },
    {
      "cell_type": "markdown",
      "metadata": {
        "id": "XbGPUnKb2qSC"
      },
      "source": [
        "# 加载数据\n"
      ]
    },
    {
      "cell_type": "code",
      "metadata": {
        "id": "0okD_2iz2qDx",
        "colab": {
          "base_uri": "https://localhost:8080/"
        },
        "outputId": "485b5664-c29b-486a-86e0-37fd4eb21128"
      },
      "source": [
        "train_dataloader = set_dataloader(train_file, 'train', config['batch_size'], target_only=target_only)\n",
        "dev_dataloader = set_dataloader(train_file, 'dev', config['batch_size'], target_only=target_only)\n",
        "test_dataloader = set_dataloader(test_file, 'test', config['batch_size'], target_only=target_only)"
      ],
      "execution_count": 17,
      "outputs": [
        {
          "output_type": "stream",
          "text": [
            "Finished reading the train set of COVID19 Dataset (2430 samples found, each dim = 42)\n",
            "Finished reading the dev set of COVID19 Dataset (270 samples found, each dim = 42)\n",
            "Finished reading the test set of COVID19 Dataset (893 samples found, each dim = 42)\n"
          ],
          "name": "stdout"
        }
      ]
    },
    {
      "cell_type": "markdown",
      "metadata": {
        "id": "u0J5bapl2xYi"
      },
      "source": [
        "# 加载Model"
      ]
    },
    {
      "cell_type": "code",
      "metadata": {
        "id": "L4htp9ee2OnI"
      },
      "source": [
        "model = Net(train_dataloader.dataset.dim).to(device)"
      ],
      "execution_count": 18,
      "outputs": []
    },
    {
      "cell_type": "markdown",
      "metadata": {
        "id": "Ju03FJDT8H_R"
      },
      "source": [
        "# 开始训练"
      ]
    },
    {
      "cell_type": "code",
      "metadata": {
        "id": "WIOhgD9A8K0c",
        "colab": {
          "base_uri": "https://localhost:8080/"
        },
        "outputId": "ca502e64-a79d-4699-dd99-63c2f88581ca"
      },
      "source": [
        "model_min_dev_loss, model_loss_record = train(train_dataloader, dev_dataloader, model, config, device)"
      ],
      "execution_count": 19,
      "outputs": [
        {
          "output_type": "stream",
          "text": [
            "Saving model (epoch =    1, loss = 259.8888)\n",
            "Saving model (epoch =    2, loss = 26.3095)\n",
            "Saving model (epoch =    3, loss = 20.3508)\n",
            "Saving model (epoch =    5, loss = 4.0548)\n",
            "Saving model (epoch =    6, loss = 2.0190)\n",
            "Saving model (epoch =    9, loss = 1.5674)\n",
            "Saving model (epoch =   10, loss = 1.3859)\n",
            "Saving model (epoch =   11, loss = 1.3680)\n",
            "Saving model (epoch =   12, loss = 1.3613)\n",
            "Saving model (epoch =   13, loss = 1.3214)\n",
            "Saving model (epoch =   14, loss = 1.3023)\n",
            "Saving model (epoch =   15, loss = 1.2863)\n",
            "Saving model (epoch =   16, loss = 1.2699)\n",
            "Saving model (epoch =   17, loss = 1.2598)\n",
            "Saving model (epoch =   18, loss = 1.2440)\n",
            "Saving model (epoch =   19, loss = 1.2321)\n",
            "Saving model (epoch =   20, loss = 1.2218)\n",
            "Saving model (epoch =   21, loss = 1.2136)\n",
            "Saving model (epoch =   22, loss = 1.2009)\n",
            "Saving model (epoch =   23, loss = 1.1945)\n",
            "Saving model (epoch =   24, loss = 1.1829)\n",
            "Saving model (epoch =   25, loss = 1.1747)\n",
            "Saving model (epoch =   26, loss = 1.1721)\n",
            "Saving model (epoch =   27, loss = 1.1596)\n",
            "Saving model (epoch =   28, loss = 1.1565)\n",
            "Saving model (epoch =   29, loss = 1.1484)\n",
            "Saving model (epoch =   30, loss = 1.1429)\n",
            "Saving model (epoch =   31, loss = 1.1381)\n",
            "Saving model (epoch =   32, loss = 1.1266)\n",
            "Saving model (epoch =   33, loss = 1.1254)\n",
            "Saving model (epoch =   35, loss = 1.1182)\n",
            "Saving model (epoch =   36, loss = 1.1103)\n",
            "Saving model (epoch =   37, loss = 1.1082)\n",
            "Saving model (epoch =   38, loss = 1.1044)\n",
            "Saving model (epoch =   39, loss = 1.0978)\n",
            "Saving model (epoch =   41, loss = 1.0920)\n",
            "Saving model (epoch =   42, loss = 1.0905)\n",
            "Saving model (epoch =   43, loss = 1.0886)\n",
            "Saving model (epoch =   44, loss = 1.0781)\n",
            "Saving model (epoch =   46, loss = 1.0760)\n",
            "Saving model (epoch =   47, loss = 1.0733)\n",
            "Saving model (epoch =   48, loss = 1.0713)\n",
            "Saving model (epoch =   49, loss = 1.0657)\n",
            "Saving model (epoch =   50, loss = 1.0637)\n",
            "Saving model (epoch =   52, loss = 1.0572)\n",
            "Saving model (epoch =   54, loss = 1.0556)\n",
            "Saving model (epoch =   55, loss = 1.0512)\n",
            "Saving model (epoch =   56, loss = 1.0484)\n",
            "Saving model (epoch =   59, loss = 1.0435)\n",
            "Saving model (epoch =   60, loss = 1.0417)\n",
            "Saving model (epoch =   61, loss = 1.0401)\n",
            "Saving model (epoch =   63, loss = 1.0375)\n",
            "Saving model (epoch =   64, loss = 1.0358)\n",
            "Saving model (epoch =   65, loss = 1.0326)\n",
            "Saving model (epoch =   66, loss = 1.0312)\n",
            "Saving model (epoch =   68, loss = 1.0294)\n",
            "Saving model (epoch =   69, loss = 1.0281)\n",
            "Saving model (epoch =   70, loss = 1.0261)\n",
            "Saving model (epoch =   72, loss = 1.0215)\n",
            "Saving model (epoch =   74, loss = 1.0200)\n",
            "Saving model (epoch =   75, loss = 1.0187)\n",
            "Saving model (epoch =   77, loss = 1.0187)\n",
            "Saving model (epoch =   78, loss = 1.0141)\n",
            "Saving model (epoch =   82, loss = 1.0124)\n",
            "Saving model (epoch =   83, loss = 1.0115)\n",
            "Saving model (epoch =   84, loss = 1.0071)\n",
            "Saving model (epoch =   87, loss = 1.0069)\n",
            "Saving model (epoch =   88, loss = 1.0057)\n",
            "Saving model (epoch =   90, loss = 1.0036)\n",
            "Saving model (epoch =   91, loss = 1.0036)\n",
            "Saving model (epoch =   93, loss = 1.0017)\n",
            "Saving model (epoch =   96, loss = 0.9999)\n",
            "Saving model (epoch =   98, loss = 0.9989)\n",
            "Saving model (epoch =   99, loss = 0.9957)\n",
            "Saving model (epoch =  103, loss = 0.9948)\n",
            "Saving model (epoch =  105, loss = 0.9933)\n",
            "Saving model (epoch =  107, loss = 0.9910)\n",
            "Saving model (epoch =  110, loss = 0.9881)\n",
            "Saving model (epoch =  116, loss = 0.9870)\n",
            "Saving model (epoch =  118, loss = 0.9868)\n",
            "Saving model (epoch =  119, loss = 0.9862)\n",
            "Saving model (epoch =  124, loss = 0.9857)\n",
            "Saving model (epoch =  126, loss = 0.9836)\n",
            "Saving model (epoch =  131, loss = 0.9806)\n",
            "Saving model (epoch =  138, loss = 0.9799)\n",
            "Saving model (epoch =  145, loss = 0.9781)\n",
            "Saving model (epoch =  149, loss = 0.9765)\n",
            "Saving model (epoch =  163, loss = 0.9723)\n",
            "Saving model (epoch =  171, loss = 0.9720)\n",
            "Saving model (epoch =  181, loss = 0.9706)\n",
            "Saving model (epoch =  196, loss = 0.9700)\n",
            "Saving model (epoch =  213, loss = 0.9698)\n",
            "Saving model (epoch =  214, loss = 0.9696)\n",
            "Saving model (epoch =  218, loss = 0.9692)\n",
            "Saving model (epoch =  219, loss = 0.9691)\n",
            "Saving model (epoch =  222, loss = 0.9680)\n",
            "Saving model (epoch =  231, loss = 0.9667)\n",
            "Saving model (epoch =  235, loss = 0.9664)\n",
            "Saving model (epoch =  255, loss = 0.9650)\n",
            "Saving model (epoch =  309, loss = 0.9640)\n",
            "Saving model (epoch =  343, loss = 0.9635)\n",
            "Saving model (epoch =  370, loss = 0.9633)\n",
            "Saving model (epoch =  542, loss = 0.9628)\n",
            "Finish train after 743 epochs\n"
          ],
          "name": "stdout"
        }
      ]
    },
    {
      "cell_type": "code",
      "metadata": {
        "id": "dPzhMjG-8WT2",
        "colab": {
          "base_uri": "https://localhost:8080/",
          "height": 295
        },
        "outputId": "becb3a84-7831-4b32-f737-7ce71aa5bade"
      },
      "source": [
        "plot_learning_curve(model_loss_record, title='Deep Neural Network Model')"
      ],
      "execution_count": 20,
      "outputs": [
        {
          "output_type": "display_data",
          "data": {
            "image/png": "[encoded data removed]",
            "text/plain": [
              "<Figure size 432x288 with 1 Axes>"
            ]
          },
          "metadata": {
            "tags": [],
            "needs_background": "light"
          }
        }
      ]
    },
    {
      "cell_type": "code",
      "metadata": {
        "id": "18pll6NN8f6x",
        "colab": {
          "base_uri": "https://localhost:8080/",
          "height": 350
        },
        "outputId": "c3e8da7d-eb55-4643-ee80-f7bae1ce65fb"
      },
      "source": [
        "del model\n",
        "model = torch.load(config['save_path']).to(device)\n",
        "plot_pred(dev_dataloader, model, device)"
      ],
      "execution_count": 21,
      "outputs": [
        {
          "output_type": "display_data",
          "data": {
            "image/png": "[encoded data removed]",
            "text/plain": [
              "<Figure size 360x360 with 1 Axes>"
            ]
          },
          "metadata": {
            "tags": [],
            "needs_background": "light"
          }
        }
      ]
    },
    {
      "cell_type": "markdown",
      "metadata": {
        "id": "DzBZgx-K866Y"
      },
      "source": [
        "# 测试"
      ]
    },
    {
      "cell_type": "code",
      "metadata": {
        "id": "qx0e64a788Aq",
        "colab": {
          "base_uri": "https://localhost:8080/"
        },
        "outputId": "b8c886b2-9e3b-476f-b14a-0cbddb2a25b4"
      },
      "source": [
        "# 保存预测结果\n",
        "def save_pred(preds, file):\n",
        "    print('Saving result to {}'.format(file))\n",
        "    with open(file, 'w') as fp:\n",
        "        writer = csv.writer(fp)\n",
        "        writer.writerow(['id', 'tested_positive'])\n",
        "        for i, p in enumerate(preds):\n",
        "            writer.writerow([i, p])\n",
        "\n",
        "preds = test(test_dataloader, model, device)\n",
        "save_pred(preds, 'covid.pred.csv')"
      ],
      "execution_count": 22,
      "outputs": [
        {
          "output_type": "stream",
          "text": [
            "Saving result to covid.pred.csv\n"
          ],
          "name": "stdout"
        }
      ]
    },
    {
      "cell_type": "markdown",
      "metadata": {
        "id": "Ubv3CqcjeHXM"
      },
      "source": [
        "# 结果"
      ]
    },
    {
      "cell_type": "markdown",
      "metadata": {
        "id": "eiD1ZetdeAdo"
      },
      "source": [
        "![image.png](data:image/png;base64,iVBORw0KGgoAAAANSUhEUgAABq8AAAClCAYAAADCvGdQAAAgAElEQVR4Ae29CZBdVXrnWeElOtqesGfsbjtc43KP3R6P3dGO6e7x9NjhGU+PO9zu6Kged3fElJsww7QZhoY2FRBAQVQBhaGgqAJKLEKAKARCAoGE2ARSSaB9AW1oRxLaQEL7ktpTKzoT/wPf0/dOnnvffUtmvsz8nYgX9757z/o759yX+f3vd85XQghhxyef6hBOnDzJBwaMAcYAY4AxwBhgDDAGGAOMAcYAY4AxwBhgDDAGGAOMAcYAY4AxwBhgDDAGGAMDPgZMs/qKnejYc/QoHxgwBhgDjAHGAGOAMcAYYAwwBhgDjAHGAGOAMcAYYAwwBhgDjAHGAGOAMcAYYAwM+BgwzapOvNJFAgQgAAEIQAACEIAABCAAAQhAAAIQgAAEIAABCEAAAhCAAAQGg4BWC0S8GgzylAkBCEAAAhCAAAQgAAEIQAACEIAABCAAAQhAAAIQgAAEINCHAOJVHyRcgAAEIAABCEAAAhCAAAQgAAEIQAACEIAABCAAAQhAAAIQGCwCiFeDRZ5yIQABCEAAAhCAAAQgAAEIQAACEIAABCAAAQhAAAIQgAAE+hBAvOqDhAsQgAAEIAABCEAAAhCAAAQgAAEIQAACEIAABCAAAQhAAAKDRQDxarDIUy4EIAABCEAAAhCAAAQgAAEIQAACEIAABCAAAQhAAAIQgEAfAohXfZBwAQIQgAAEIAABCEAAAhCAAAQgAAEIQAACEIAABCAAAQhAYLAIIF4NFnnKhQAEIAABCEAAAhCAAAQgAAEIQAACEIAABCAAAQhAAAIQ6EMA8aoPEi5AAAIQgAAEIAABCEAAAhCAAAQgAAEIQAACEIAABCAAAQgMFgHEq8EiT7kQgAAEIAABCEAAAhCAAAQgAAEIQAACEIAABCAAAQhAAAJ9CCBe9UHCBQhAAAIQgAAEIAABCEAAAhCAAAQgAAEIQAACEIAABCAAgcEigHg1WOQpFwIQgAAEIAABCEAAAhCAAAQgAAEIQAACEIAABCAAAQhAoA8BxKs+SLgAAQhAAAIQgAAEIAABCEAAAhCAAAQgAAEIQAACRqDn2PHw4ZoNYc6C9wfso/JOnjxlVeAIAQiMMAKIVyOsw2kuBCAAAQhAAAIQgAAEIAABCEAAAhCAAAQgAIGqBCRcDaRolZaFgFW1p4gHgeFFAPFqePUnrYEABCAAAQhAAAIQgAAEIAABCEAAAhCAAAQg0DECA+1xlYpXKp8AAQiMPAKIVyOvz2kxBCAAAQhAAAIQgAAEIAABCEAAAhCAAAQgAIFKBLyYNH/xsrh8oASl/vyoHF9upYoSCQIQGFYEEK+GVXfSGAhAAAIQgAAEIAABCEAAAhCAAAQgAAEIQAACnSPgRaSB8oJSOb7czrWGnCAAgaFCAPFqqPQU9YQABCAAAQhAAAIQgAAEIAABCEAAAhCAAAQgMMAEvIiEeDXA8CkOAiOYAOLVCO58mg4BCEAAAhCAAAQgAAEIQAACEIAABCAAAQhAoIwA4lUZHe5BAAL9RQDxqr/Iki8EIAABCEAAAhCAAAQgAAEIQAACEIAABCAAgSFOAPFqiHcg1YfAECWAeDVEO45qQwACEIAABCAAAQhAAAIQgAAEIAABCEAAAhDobwKIV/1NmPwhAIEcAcSrHBWuQQACEIAABCAAAQhAAAIQgAAEIAABCEAAAhCAQEC8YhBAAAKDQQDxajCoUyYEIAABCEAAAhCAAAQgAAEIQAACEIAABCAAgSFAAPFqCHQSVYTAMCSAeDUMO5UmQQACEIAABCAAAQhAAAIQgAAEIAABCEAAAhDoBAHEq05QJA8IQKBZAohXzRIjPgQgAAEIQAACEIAABCAAAQhAAAIQgAAEIACBEUIA8WqEdDTNhECXEUC86rIOoToQgAAEIAABCEAAAhCAAAQgAAEIQAACEIAABLqFAOJVt/QE9YDAyCKAeDWA/X0phPDIip3h18YsDP/3OxvCiXMXmyr93MVLYe+pc2H3ybPheJNpmyqoCyP3nLkQ273v1Llw8ZJIEiAAAQhAAAIQgAAEIAABCEBABM6dOxdOnDgRPxcuXOgIlEuXLoWenp6wYcOGsG7durB9+/ZQNe/e3t5afaxeuWOV/E6dOhW2bNkS66C6qE6qW9WgMlR3tUHpjxw5Ej7//POqyWM88W03j6YKJPKIJTCc57LvVN/OkydPls7JTj5Pzpw509bzxLdhpJ0jXo20Hqe9EOgOAohXA9gPEp1+46lF4SsPzg4/9eDs8ObWg02VvnTv8fCLj86L6e9ZsqOptEM98l9OWx/bLX7iSIAABCAAAQhAAAIQgAAEIDDSCUiEWb16dfjmN78Zvv71r8fPxo0b28ayf//+MGrUqFqelvfVV18dpk+fHs6fP19axssvv9wnreXhj2V1PXToUHj66afDN77xjT553X///eGzzz4rrYOM42+++Wa44oor+qS//fbbg8puJILJaP7qq6+2lUdpJbkJgS8JDOe5nHby6dOn654v3/3ud6PYncaz7514nmguv/jii9m5rOeJxGlCOQHEq3I+3IUABPqHAOJV/3DN5nr6/Ofhz6esiiLM7/z4/bDz+JlsvKKLiFezo/iHeFU0QrgOAQhAAAIQgAAEIAABCIwUAseOHQtPPfVUH2GmTBCqwmbXrl3hlltuqeUr8ef666+vfZf4NHXq1HDxYn4lEYlGuXp50crOi+qaq8O3v/3tIPHM0l533XVRgMq1Sd4VaR1uvPHGoDSWXu1asGBBoYB19OjR8IMf/KAWX2Xfeeed4dZbb61da5RHrm5cg0BKYDjP5bStEoznzp1bm0Oaj2XiVSeeJ/L6fOSRR2plat6mzxPN7/Xr16fV5bsjgHjlYHAKAQgMGAHEqwFD/UVBtvRf74XmlilQasQrxKsBHq4UBwEIQAACEIAABCAAAQh0GQEZf99///2aECNDrDwHTJQpEoSqNEPLd5lgI2PusmXLaiKVltsbPXp0LEfeUBJ+cuHs2bPh8ccfj/EmTJhQunxgbtlA75UhsWn58uW1Osg7RUv/mafZo48+GiRU+SA+b731Vo2HRCzVXUH3du7cGe666654X6LcJ5984pPX4lkeaqvOZUS3IK8vy0NCnzzVCBBolsBwn8s5Hnv27KkTxxuJV+0+T/zzQHN55syZtbmcPk/0HNUzkJAngHiV58JVCECgfwkgXvUv347mjniFeNXRAUVmEIAABCAAAQhAAAIQgMCQIyARZcyYMVF8kbF137590QOpE+LVkiVLaqKPvCNk+PVB3kj33XdfreycoVdeDvKkUH3mzJnjk1c637p1a7jqqqtietUnF9599914X/EU3wcJVfKQUvkS21JxS3G9AV1LicmI7YP22XrggQdiHjmBTHHlpWH1XLhwoU/OOQQqERjuczmFoOVGx40bF+eVRHLzjizzvGr3eXL8+PFw9913xzIlpuc8RletWhWXJ5W41Y74n7Z3uH1HvBpuPUp7IDA0CAwr8UrL8j23bk/4k0krw9eeWhR+c+zi8B+nrQ+Ldx8L9X9y13fOxUuXwutbDoZ/+9qamE5pdT714wNBnlI+nDh3MdyxcFu4avqGcNOcj0PPmfxmuNuO9ob/PGtTjPej5TvDhc+/yGfMqs9K01pd/vSVD2Nd/vsfLwn3LtkRjp290LLnlZX5vfd3BHl8fXr8TPh/f7Ix8hGj/zTjo7D24MksI8VXOrVX+ah+Ez/aF/7xcx/E+s3YftjjCWkfqP7iUJS/T6zlAG+ZtyUojfrgX01ZVeu7dve8Ut63zd9aq7fqr+9lSxCqrfN3HY1jSJxUJ42tZ9fuCRoHPszb1RMZiVPZXmbWF+K/4dApnwXnEIAABCAAAQhAAAIQgAAEGhKQwXvs2LFx6S3be0oG13bFK29Il7FXRt9cMIGryNC7d+/ecNNNN8X6LF26NJdF6bUtW7bEZQm1X5V5TKUJytq7efPm2j5Z2g8sFyTKvfHGG7GOWj4sLccbzLXfTi7s3r275gE2b968XBSuQaCUwHCfy2njTSSSV6fmsO1lVSZetfs88fO0SGT2cZjLaa9d/o54dZkFZxCAwMARGDbi1Yp9x8NvjV0S95P6yoOz644/9eDs8O/fWBuOnu0rNGnfqX8+YXldfJ/+n45fFiRE+XD7/K0x/s8+PCek4o3Fe2zlrhhHZY9fv9cuhzIRRvX7l698mK3L//TCsiim/eKj8+L9e5bsqOXZ6MTK/OOXVoSf7DgcfvnxBX3K+OmHZocb53zcR6w7fu5iUDox+Q9vrA1/PeOjurQS+CysO3gyaC8vz8/OxUEimcStXHh54/7wc6Pm9kn7d340JzyyYmcpt1x+dk2S4agVO7N5q24qU/frJcoQx0pRXyidxCy118LWnt7w608uivX/s8mrokho9+x44PS58LvPfsHnD15Ylh2PFpcjBCAAAQhAAAIQgAAEIACBHAF5CfX21v+PWibm5PLIXZOAIyFHIthLL73Ux+vK0nhDrwSmNGgZvmuvvTbmo3r1R5AopXrmPK9koNa9G264IWh5v6IgI7XiSYST4OWD+I4aNSref/bZZ0NueUPfzlZEOl8e5yOTwEiayz09PeGee+6Jc8r2zKsiXvl51l/PEz0n9LzQ84C5XDwXEa+K2XAHAhDoPwLDQrzafrQ3/PYzXwhXEkn+15dWRC8hiRK/96VYIMFBwsv5Lz2ghFRikTxpdM+nG7duT/gXL38Yr+meBBmJXBYWfnY0/PwjXwgt187aZJdrR3krScBQ2n/w9OKw68TZ2j0Tkn7jqUV1Xj/y8JLXjtLo86tPLIxikury715fGyTi/A8/fj/83S8FnlbEK4l7yuOXHp8f835hw95YpolGYnD/B/XrfXvxSnVSuyV+qU5/9faG6Bmlxvk+UF3VTuUvT6Pff+6DWrvSPlDaJbuP1QQ1iWj/+8srY7rvLt4eBUmVJ47iknKrgS04mbRxf2SntGqnGKteEurEQddV31c3XxbhNEZMpBMTjYUXP9oX3t52KNw8d0tNCJOoJz4KSiNxT/n9/dEL6oQtq5qETgmeitNM/1l6jhCAAAQgAAEIQAACEIAABHIEOiFeeSNxmfeBlgo0I3RO2LG6aF+qbdu2henTp4c77rgjikS33npreOWVV8LBgwdzzah0zS9dKIFJe2T5oOX8ikQpH+8nP/lJjKe4OY8ME7fkJaI8fdBShLbkmZYoTD23fFzOIdAMAZs/GpetijXdNpe1VJ/mvdqkZ4eELIUq4pXx6K/nibwwtQ+W6qYyJM4T8gQQr/JcuAoBCPQvgSEvXkk0uPKdL0QfiRATNuyr86KRp4+WAJRgIK8l7RtlwTyoJFDcvXh7XBLP7skTR8v16Z7SXjdrUy1f5all/XRdnjTyqPFBHjkSMHT/mpkba+kUp0i8mr79cE1k+d8mrQyHe8/7LIOWpTOvK+XbjPhhZSqdRD4JTT548UjeQ/IisuDFK6UX69R7yveBhKYFu45a8nj0wpzEL4l/FpTXn0/5Qugr6j8t/aiy9WlGvPrk2JnwD78UNdXuzUeSf2oOnQpfHbMw5uuFKC0lqHJU3l+8vqaPN5qWDfyZh+bEZQS1rKCFadsO1cQped6lQUKn8hSj1QdOpLf5DgEIQAACEIAABCAAAQhAoCUCZuBtx+BdNQ+/vKD23tJ3H8zzSR5NV155ZU0gUt3sc91114WVK1cWenf5/LR84bp168KaNWvicoLmIXHbbbdlDc07d+4M119/fSxrypQpffazUt4S4LTnjtUnJ9ZJoNIeOYpzxRVXhOeffz4sX748SPSyPb3UjlTY8nXnHALNEqg6D8vyrZrHQM1l1UcisJ4JWjrQQhXxqtPPEyvbjrt27Qq33HJLnOdFe2JZ3JF+RLwa6SOA9kNgcAgMefHKC0U5oUFYJc7YPkrPf7mEn1/C7Z+9sCwcSsQipfPCTepB9fDynVGIyC0daEsG6p4EDR9MSEpFGBM2UnHH0kpMkxBmIk4r4pWEOL+EoeWto7VH+cvby4JnIA+0vafq/zFRvC09p8OvfSkCSRDMBb+snryXLPj+k+eShLA0SOiR4KO6pdzSuP679YPaLcEpF8RRe1n9k/FLa+KWb08qPioP7YXVt5YhsrFlE9OlA/14k/CZCoC5unENAhCAAAQgAAEIQAACEIBAFQJVjdVleVXNwxu85UUhIcgH79F0++23R88rE59krJYQJEFIApM8RBoFXy8Tm7Rc4alT+T2Eff1kME9FMt2fNGlSTbhSnjnxSvXScoEynl9zzTV18ZXmwQcfDDJ8EyDQSQJ+vOu8lVA1Dz9X+msue6F43LhxwfbpU7uqiFedfp54nt6L8zvf+U44fLh+T3cfl/MQEK8YBRCAwGAQGPLilfZcMkHHiy6NYMoDyzyZvJiSppO4ofy1XN/cnV+4NiuOF1380oF+ycCcV1ZOvPICkfbYOnKm3uvK6vTm1oM1T7BWxCsJTBJmcqGoPb5u3jvJ52F9kDLycXw+XtixtKlo5tOePH+xtrxjM+KVsS5rty/HzrWcpPakUp3kDSavO+17lhOsLI0dTYRMlw70SwbmvLIsPUcIQAACEIAABCAAAQhAAALNEqhqrC7Lt2oe3uD9wAMP9BGRtAyXhKV9+/b18crSvbVr10YvDAlAY8eOrTNm5+q3devWcNddd8WPPJ1MwLr55ptjXsozDd6bQt4e9913X5g8eXKYOHFibW8beY2ZF1dOvDpw4EC4//77a+XdeOONsQ4ycpsAp+Ps2bODlkUjQKATBKrOw7KyqubR33PZL8kn76Y9e+pfKq4iXnX6eWLcTpw4EUaPHh3nd25pUIvH8TIBxKvLLDiDAAQGjsCQF69MXPqFR+eF9/ccq0zOiyYvb9xfmM7H07kFeQjZHkdecPJeOzkvJBNUvAjjl6nTEoc57yOV6wW3VsQrX09rhx19HVRHC150KhKvrA9MRGx09PlY2jLhS3XJcbM65o6+3n84cXk4dvZCLlrhNY0J2wvM2qPvErW0j1fOU0+Z+f3QvJgqgVT5pMsyFlaAGxCAAAQgAAEIQAACEIAABCoSqGqsLsvO51G2FJ43eOeWDSwrQ/c+//zz8OKLL0aj8be+9a0gkahqkCFbBnATlWR0Vr1zQfttaWlBE7vsKDHr7bffjl5f2uNG11evXl2XhfcWUZwNGzbULT+o++PHj49pld/SpUvr0vMFAq0S8POwaGw3ytvnMZhzWSKyzbG5c+f2WSa0injVqK2tPE/8nnV6hkhQz4ngjcoeafcRr0Zaj9NeCHQHgWEjXqX7WTXCWyRKpenK4mkJPi1J54UXCRYSKYqW/8uJMEXCUVqXdsWrMhGnqA5eBPKik6+bCVAm8jQ6+nwsbaP+y3HzdUjPq9Q7TZN+X3vwZJCXmLyv0jZJyBq1YmcfbyzvtWVCpDzpJBwqj6KlEdOy+Q4BCEAAAhCAAAQgAAEIQKAqAW+sbtXgrSX8rr322ijIzJkzp7BoeSzYnk/PPvtsXFqvMHLBDYk9Eo2uuuqqIM+qZsP+/ftrwlRZHSS0aY8dGckVb/r06UFpZajevHlz3IMnVwerX7pHj6/n6dOnw6hRo2I7ch5oPi7nEKhKYLjMZc29p59+Os4PzRPNlzR0QrxSnjZfc3M5LTMVrpYsWYJwlUIq+I54VQCGyxCAQL8SGPLild/XSMvqVQ1+Gbfvf1C8zraJURIevOeVytl14mzQXli6J88aeUxJsNB3L9D4OuVEGC9uFKVTHlq2UEKZ8pfoUzXkykzT7jx+JnoFKW/Ft1BFBLI+aCRAWZ7+WMbX4nmu3mPN7ueOfvnG3xy7OLtXVy5d7pr2uPr0+Jm4b9a/mbo6/PRDs2MfFAmUJsjZcoXWbxI6X91c/a3CXF24BgEIQAACEIAABCAAAQhAICXQCYP3kSNHwre//e1obH7hhRfqPI18eZ999lltuT3tR9NKkDeIxCuJQxKRmg0yjD/11FMxDwlpEtSaDbaXjtqstvtgRvWbbrop7N2719+qO7c85F2ye/fuunt8gUArBIbLXDZxWPNcy33a0p/+aMuAavlNLcepe62I2VWfJxKunnnmmdqzZ/78+QhXTQxSxKsmYBEVAhDoGIEhL16ZMGACUo7M4d7zYcrmA+GljfviXlWK45f3Mw+ZNK1Wzr5m5sYoVKR7GCmuvy/PGnlGSbBQXR5evjPNLn7PCUlenDHBI5dYeSpvfVoRr7yHWJr/tG2Hws8+/IWHkRfzqohXvg/8UnlpGbnvPm3R3mN7T50Lv/Pj92O7q4pXKsuW6itrt/b60rjQ+NA4qRImbNhXY3XXou19kqw+cCL88uMLYn3Fw+qhNqgtBAhAAAIQgAAEIAABCEAAAp0k0AmD94ULF6J3kozNd955Zx9Bx+r77rvv1oy/KteH3t7euI+VjNASgJRnLpjok4pDEqW0L5XSP/bYY4WiVJl4JRFJywoqD3lV5IL3msoJdVXFqzfffDOyQLzKUeZaKwSGy1z27dAzperHP1PafZ54/hKuJkyYUHt2IVx5OtXOEa+qcSIWBCDQWQJDXrzyy7TJw2bb0d4+hJ5duycu7yfPF/POkmBke1bJY2jx7r77Za05cDL8yhNfiBB/+sqH4fT5z/vkbR5cEkj+r7fWRcEiJ3RZwpx4pXtemLp13pY+y9HtO3Uu/N6zXwg4OfFKQtrK/SeigCZPIR+sTKX7i9fXhHMX6++rXX8+ZVWse+pNVEW88n3wRy+uCPqeBnl2/R8vfxj+6u0NYdYnl99q88LUV8csDJuP9HUlf3Tlrth/qn9OvNJ+Vm9vO9RnHyq//9QVb6/v025xEA/l672zpm8/HP7d62sj7yWZcaG91bTHmtLlBDfv9fW/TFxe67drZ21KsfAdAhCAAAQgAAEIQAACEIBA2wS8odgbf3MZy4grr4ict9KaNWuiN5QMzVOnTg0XL16sy+Lw4cPRQ0L3JRBp7ycftP+MxCDdl6CjPW/S4PN49NFHg+rjgwlCZUv2aYnD66+/PpaTLhuoOtmeWPfdd184evSozz56Wshwrfy1zNjHH39cd19f5s2bVzO25/bqUZyenp5wzz33xHhlYl+fzLkAgRICw2UuHz9+PKxbt670M3r06Dh/brnllrBs2bIYV+ksdOJ5orwkdk+aNCmWpXkvAT59tlmZHIsJePFqweJl4cM1G/r9o3J8ucW14w4EIDBcCQx58UodY+KUxITff+6D8OH+E1H8kTihexKndE/ij0QgC3N29sS9qXTva08tChItJPxI2lmx73jN20d7HuleLvgl/5SPPkWeXEpvQlIqwkjcMe8ilXf34u1RBFJdJOj8yaSV4WcemlMTcVLPq/s/+KQm0N2xcFtdVa1MiXfyrrr6JxtrQs8nx85EocbqnopbVcQrFeb74F+/ujps7bksIupc9VcZKv/ljfvr6md11331n9irHyQCjf7ws/BfPTIvtl33y7hpCcftTrz04pTa7tt9qPd8/K7ryve6WZtqgqEXvSTGaclACxo/X/9yaUi1RR5rueCXQ1T+Zd5fufRcgwAEIAABCEAAAhCAAAQgUJVAVYO3hJ0f/OAH0Yh72223xf2ffBkSksygLCPv66+/HkUueVBt2bIlejNJmCoTllSXq6++ulbG2rVro/FYeWh5L3lEKQ/FyQlte/bsCTJmK46WE3vttdfCoUOHYj0kRL333ntxGbKyPBYsWFAT4e69995YrsQ6LQH44osv1u6NGzcunD/fdwUOL7CpnjJ2m1Ano7fEs4ceeijWUfV46623WH7MDyTOWyYwnOZyIwjm4Vi29Ge7zxPNVwnxmqf6/PCHPwyrV68uFNW2b99euGRqo/YM9/sSq7yQNNDnKp8AAQiMPALDQrySSHHDe5trwo7EgvSjZdxSLxoJQ/J4kliUxrfv2t9I4kq9r1L9QLl9/tZaeokh49cXr4ltQlIqwihHiTo/9+WeVla+HVXHOxdtqwlxqXhl+Sq+hKKT5y+/IWf3fv3JReH/m7mxkNNvP7OkTvxRnaqKV1X6QGz+esZHfTyg5Kn1L1/5sMbQ2mxHeYXZXmIpNy3VaOKk8jfPOushiYJa0tHyyh3Fy3uLqa9vm7+1jtPfG70g6OPTXzV9Q5+2WLkS7MTb4v/BC8vqyrB4HCEAAQhAAAIQgAAEIAABCLRLoKrBW0vqySPKDLlF4pEJTBbPHyVcSVAq8ly4dOlSMM8mn86fK4+yZbskctl+OD6dP5ewJZFK5aXBe1r4NP581KhR4dixviuwWF6bNm2qY+XT+nMtRZZ6j1keHCHQLIHhNpfL2l9FvGr3eZI+8/zczZ2PGTMmiu1l9R6p906ePDWo4pXKJ0AAAiOPwLAQr9Rt8tR5fv3e8KtPfLHnlIkGEjT+5wnLw9qD9csZWFfrz9yZOw7XvJ4snY7yhNK9vn8KW+ovjl5AkWDhvY7qYxZ7Xlm85fuOR+8jX49fenx+eO3jA+GDPcdqQk0qXpnwJZHrmTX1G8WaeCXhR55J33t/R51IJoFOHld7Tp61atSOVcUrJVAfTPxoX/itsUtqoo21Q/2i/lGcXNDShRKMvHinvlO9tBeVb8NuV08vfP3zCctrHmW+DC0rqCX7UpFS33Vd99NQNJ7UHrXl6TW7C4Ur5aVWaqlCa78ETgIEIAABCEAAAhCAAAQgAIH+IFDV4C1R58c//nHNA6FIvNF1iTISiLyB9+abb45eC1rOqyzI4Lxt27ba8n0+Dy3pp3s50cnnuX///rgHl3lxWR6qk7zDtCRhWR4S17Tn1e23317XBuWnpQmrCE7iMHny5JonmdVBR3l0yausEQvfJs4h0IjAcJzLRW2uIl4pbTvPE8SrIvqtXZeANNAeWCoP4aq1/iIVBIYDgWEjXllnSDQ4ePp8kMChj8SXqqHnzIVaOp0PZrC6aE8oeTVVCWprrr054UdL8rXCqEo9FMfqrwlZFfkAACAASURBVDKaYam2qs3NpJPQpD4vEsaszj7vqlzT8aRyqvWGlcoRAhCAAAQgAAEIQAACEIBA9xCQIbi3t7fQc8rXVGKXltvTR8vmtSLU+Dx03myQCKWyrR5afrCZoPaeOnWqrTao3b4OrbSjmToTFwJVCAy1uVylTY3itPs8aZQ/9yEAAQhAoLsIDDvxqrvwdkdtcuJVd9SMWkAAAhCAAAQgAAEIQAACEIAABCAAAQhAAAIQgAAEIACBegKIV/U8huU3xKth2a00CgIQgAAEIAABCEAAAhCAAAQgAAEIQAACEIAABCAwLAkgXg3Lbq1vFOJVPQ++QQACEIAABCAAAQhAAAIQgAAEIAABCEAAAhCAAAQg0L0EEK+6t286VjPEq46hJCMIQAACEIAABCAAAQhAAAIQgAAEIAABCEAAAhCAAAT6mQDiVT8D7obse85cCLtPng37Tp0LFy9d6oYqUQcIQAACEIAABCAAAQhAAAIQgAAEIAABCEAAAhCAAAQgkCWAeJXFwkUIQAACEIAABCAAAQhAAAIQgAAEIAABCEAAAhCAAAQgAIHBIIB4NRjUKRMCEIAABCAAAQhAAAIQgAAEIAABCEAAAhCAAAQgAAEIQCBLAPEqi4WLEIAABCAAAQhAAAIQgAAEIAABCEAAAhCAAAQgAAEIQAACg0EA8WowqFMmBCAAAQhAAAIQgAAEIAABCEAAAhCAAAQgAAEIQAACEIBAlgDiVRYLFyEAAQhAAAIQgAAEIAABCEAAAhCAAAQgAAEIQAACEIAABAaDAOLVYFCnTAhAAAIQgAAEIAABCEAAAhCAAAQgAAEIQAACEIAABCAAgSwBxKssFi5CAAIQgAAEIAABCEAAAhCAAAQgAAEIQAACEIAABCAAAQgMBgHEq8GgTpkQgAAEIAABCEAAAhCAAAQgAAEIQAACEIAABCAAAQhAAAJZAohXWSxchAAEIAABCEAAAhCAAAQgAAEIQAACEIAABCAAAQhAAAIQGAwCiFeDQZ0yIQABCEAAAhCAAAQgAAEIQAACEIAABCAAAQhAAAIQgAAEsgQQr7JYuAgBCEAAAhCAAAQgAAEIQAACEIAABCAAAQhAAAIQgAAEIDAYBBCvBoM6ZUIAAhCAAAQgAAEIQAACEIAABCAAAQhAAAIQgAAEIAABCGQJIF5lsXARAhCAAAQgAAEIQAACEIAABCAAAQhAAAIQgAAEIAABCEBgMAgMefHq0qVL4cCBA+HIkSODwY8yIQABCEAAAhCAAAQgAAEIQAACEIAABCAAAQhAAAIQgAAEOkhgyItXEq6ef/758Prrr4fjx493EA1Z5QgcO3YsTJ06NXz44Ye52/12bffJs+E3nloUvvLg7EofxVWabgzHz10Mf/zSitJ23LNkR9tVX7z7WPjFR+fFclrJT2nEe+rHB9quCxlAAAIQgAAEIAABCEAAAhCAAAQgAAEIQAACEIAABKoSGPLilQSrt956K8yePTucOXOmarvbjvfpp5+G6dOnh0OHDrWd11DKYLDEq32nzoU/nLg8fO2pRbXPrz+5KPydH80JP/3Q7PDVMQtr1xVHcZWmG8PeU+fCb45dHOuuNvg22fmjK3fVVX3V/hPhH437IPyXdzfXXS/6IoHsX7z8YU0gQ7wqIsV1CEAAAhCAAAQgAAEIQAACEIAABCAAAQhAAAIQ6DYCQ168GiygW7duDWPHjg379+8frCoMSrmDJV7lGmseTN3sZZWr95ae0+HXxiwMfzZ5Vei98HkuSp9rS/cej15UfzltfZ97uQsSv37moTnhn4xfiudVDhDXIAABCEAAAhCAAAQgAAEIQAACEIAABCAAAQhAoGsJIF5lukb7aJ09ezacP38+c/eLS50Sr1TGuXPVPYQuXrwY66Y6DkbIiVdqg3gNdJ2aFa8kFGkpwaqCkfHtOXMhHDx9PnSKeLNClOrRTJrNR05HT7Q/enFF+PHaPZXFK+MjrgosG2gjgCMEIAABCEAAAhCAAAQgAAEIQAACEIAABCAAAQgMJIEhL15JNJkxY0ZYtGhRkLCjkLvmoZrwpKMPWnZw+fLl4YUXXoheVfKsmjZtWtizZ08tmjytdD39+PJrkZMTS6tytdzgO++8U8vn1VdfDdu2bSsUgLS318yZM2vxtc/X/Pnzw4kTJ2qlqP1LliyJe1JJZPJB91RH1Xv37t3+Vjxft25dmDhxYjh48GCfe/6CF69OnToV5s2bV6vTpEmTwpo1a+pEv8OHD4dXXnklfPDBB+Hzz/t6GVm93njjjbq2+DKLzquKV8v3HQ//7IVl4afcflm/8+P3w8wdh/sIUtrfSfs8SbjR/f/2ycv7bP3Co/PC/R98Es5d/ELG2nTkdPjVJxaG3332/XDgdF8BUrGueHt9+NmH54Rp2y4vL+nLKGqbXS/a60t7WUnQSoPqpjJ//pG5Yc7OnrhflbUnjWvi1KSN+8Odi7bFZQx9XLuf7nmlMq6aviHy/E8zPgqnz/ft17QsvkMAAhCAAAQgAAEIQAACEIAABCAAAQhAAAIQgAAEqhJAvPqSVG9vb5g1a1YUriRgSeDZsmVLFMYkFGmPKwWJNxJo5s6dG0UbiUX6LuEpJ874jjDxSkKO9umSmKS0S5cuDRJ+VI7ySYPELt2TwLVixYqYRnlIZJs8eXLYu3dvLYnqKYHK6ms3Tp48GcvUvVWrVtnleJTnlEQoiYCN9g0z8WrBggXh3XffjYKa8tPHxDXlJQFR4cKFC1FkU3tVhzT09PSEKVOmRNHNxMc0TtH3KuKVhBnti6XPv351dRRd/s/X1oSfGzU37pUlMcp7VJmw9K+mrAq/8sSC8McvrYhplFZ5SABTGoXzn18K/+GNtVGcmrH9cJ9qbu3pDdrTSkKZ9rmy8NjKXVEgG7duT7yuMl/auC98sOdYTRizuPL6umnOx+HfTF0dy/nvnl4c6/OfZ20K2472WrTa8dXNB2I9r5u1KbbL2iMhKg0mTqmNEtisraqLgt334pWEq7+e8VFcklBHE/LSvPkOAQhAAAIQgAAEIAABCEAAAhCAAAQgAAEIQAACEGiVAOLVl+RMIPrss8/qWJqoJbHGLyOo+BKCmtnzysQrCVVecFKBR44ciR5T7733Xt0ygibuSFhTXXzQPXks+XsmLkmA88v4SYyTADZhwoSQlmFpJIz5NL4sO7e4aruENx9f55s2bYpc1q+/vDeTsdqxo6+Asnnz5hg/5w1mZRYdG4lXJh798uMLwpLd9Z5oWlrvt59ZEveR8h5MJvZIqJLw5cO8XT0xvve0klgkQeuamRvrRDClG79+b7x389wtPpug7/Jwkqj10w/Njuf6ro88veTxlYYqywbuPH4m5ql8da5g7SkTr8Rnwa6jaZF9xCuEqz6IuAABCEAAAhCAAAQgAAEIQAACEIAABCAAAQhAAAL9QADx6kuoH374YVzeTiJSGrxAY/dMkGlFvEqFJeUpry15U02dOjV6d1k5jZbzM/HHPK1sGb7Ui0qeUfKUUnwt4+fbKVFJYlQVAcnEq+nTp4fTp09bNWtHeVypHF++ljaUyCYvNe9dZV5ZRXnVMi04aSRePbx8ZxSEdMwFE5eunbWpdtvEnn/72proWVW7EULcK+vPJq+qE7zkUSWxKPWuMq8sLd+38LN6YejKdzbEev3W2CXhwWWfhtUHTgR5bsmLS0JYTmxrJF7Je0zeVvKgmrDhC88p1d3aUyZe5e4prfe8knB1w3ubY/20ZCAeV35kcA4BCEAAAhCAAAQgAAEIQAACEIAABCAAAQhAAAKdJIB49SXNnTt3Rs+kOXPmBHk05QQrD74d8Uppc0ECmhevqiznd/To0bic4MqVK2tZbty4Me5fpX21FM6dOxe9rSRgmfhkdTDRrGhZv1qmX55Y+pwAZ3FXr15dJ5BZGem+VhLQJKSpXq2EMvFK4pEEqKK9oVSevJO0rN8fTlwejp29EKtQJvYowl9OW98nT4lf6b5WW3pOh18bszAuxad6VgkSoO5dsiMKRH/6yod1e0k1Eq+0v5WEMu135YWlsvZ4cSpXP7svDzSEqxwhrkEAAhCAAAQgAAEIQAACEIAABCAAAQhAAAIQgEB/EEC8+pKqPIIkomhpPXkhaWk/7d0kUcsvF2idMBDilbyY5MGkvbG8x5LVQcdcHBOFJGIp2Hd5Vpm3k7y8JCrJe+rtt9+OXl/63iiYeCWhrSjk2NiyhSaaKa2JbAcPHizKqvR6mXhVds8yzcUpE3uULideybPKhCPbP0v7WWkZwCKvL6tDejx69kL4gxeWhb8/ekFYd/DyHmFl4pXS/NGLK8JXxywMWg7Rh7L2mDilOLlg9//hM0uioJZbSjGXjmsQgAAEIAABCEAAAhCAAAQgAAEIQAACEIAABCAAgXYIIF4l9LTEnZbqk2hkQtbkyZP77FGVE2iSrPp8tT2vvIDjI6WeVzlhysfXeS6OeVqZ6KXyvGeVRCMJVhKuVCe1s6hOaXmtilcqS8sDWp2sjun+W2l5Zd9z4pPFL7tXFqdM7FG6nHhlgtM/eHpx2HXibG15wVSAsnIbHVWGPLm0lKCFMvHq/g8+CT/z0Jzw6MpdFr12LGuPiVONxCuJVv9x2vq4nGFuScNaYZxAAAIQgAAEIAABCEAAAhCAAAQgAAEIQAACEIAABDpAAPGqBKI8kbSXlLyw0n2ZBkK8qiLw2LKB6TJ+EuC0TJ/EJnlZmWik5mo5QbVJwpXi+aUKS3DEWyZepeX5dFo2cOLEibEcf12ebVOmTInLMqoOiqM9uFoNZQJV74XPg/anKhOQbNnAfzp+WThy5nysRpnYowg58UrXJQRpvyrtoyWPKZWrPay0fGGzQWX83VFzw9ydPbWkReKVMZCXV5WP8rZQVbwas+qzoFZoLy2JatrfS+wIEIAABCAAAQhAAAIQgAAEIAABCEAAAhCAAAQgAIH+IDAsxSsTfeQ9deZMvZFde1mtWLEiLg3ovY10PY1rwLWfVCrwDIR4pfIl+EjkKVpab8eOHbEtOvpgHlUbNmyIXla2hKDiqJ1io3ZpacT58+fH5QR9+qJzE69SMc/iyxPs3Xff7SP26b7aYIKVRDMTsixts0cTbn7jqUVh98mzfZKbOFO0dN+0bYeiGHPNzI1RnFEGrYpXqw+ciJ5JEqxUnglZaaUOnD4XfvfZ94N5aaX3D54+H/7H55fG/bK0b5aFIvHq5PmL4d+/sTZ87alF2c/fG70gilr/9WPz4/3/8u5lsdD4NPK8svvaS+uq6Rtifjr6vbWsnhwhAAEIQAACEIAABCAAAQhAAAIQgAAEIAABCEAAAu0SGJbilYQoeQZpObwtW7YEfbewa9eu6HWkfa1MvLJ9oLSU3qlTpyxqPGq/Kwk8ftk93di2bVtWNKpLnHxpdtlAJZfgIy+pBQsW9Nl7S15X8q7K1dsEqgkTJsT08nSyYHx0T4y8sGVxio4mXonfmjVr6tgq348//jhyWb/+soeP5WWiooQv8VyyZEnhXl6WpuzYSLxac+Bk+JUnFoTfHLs4bEr2gtp+tDf89jNL4l5Vc5yHU6vilXl6aVk9CVPyTtp76lyf6mskSiyTl9St87bUCUASg26fvzUKX1e+s6HOa2vl/hPhv3lsfvjTVz4Mp8833pvMCi5rT7PilfLUEol/MmllrOO9S3bURD8rjyMEIAABCEAAAhCAAAQgAAEIQAACEIAABCAAAQhAoF0Cw1K8EhQJRRJ9JLLMnDkzaD8pHSX2LFu2LF438UrxtTyghBzdlwCzd+/eIG8meSjlhBoTcVTG0qVLY5qLFy+W9kcr4pUyVD1Vt2nTptXqJs8l7cWl8lXXNJhApbrnPNDUXt3LLe+X5uW/W7vlETZr1qwwZ86csHPnzvjR0oSqp6739vb6ZLVzLROocvVJvcVqkSqeNBKvlM2kjfuD9mz6hUfnhetmbQovbdwX7li4LfzS4/OzAkyZ2KP8ipYN1D0tGSiPKwlT3psrbY4JZ4r3W2OXhL96e0P86FzXfu/Z94Pi+GBtVf6//9wHMf+PDtcLrT6+nZe1pxXxSvla/cVVfAkQgAAEIAABCEAAAhCAAAQgAAEIQAACEIAABCAAgU4SGLbilSDt2bMnilEmlki8Onz4cBSDdM2LVxJ7du/eXRdfcV599dXoZZUTpiRGSVBSPHkTFS07aB3WqnhVVDctz+c9qqwcO6o9qpuWSVQePpgI9d577wV5RFUNlk7sdC6mKkMfCVcSBss49PT0xOUC5S12+vTlZfGqlu/jmaBTtGyg4qrVM3ccjiKRhCH7/OoTC8Pz6/eGiwmXMrFH+ZWJV1t7esOvP7moz35Vvs52vufk2fAXr68JP/3Q5TpJDPp/pn8UDvd+sf+WxbXjtqO94Y9eXFETyF6uIByVtadV8Ur1kbfazz8yNy6VuGT3MasiRwhAAAIQgAAEIAABCEAAAhCAAAQgAAEIQAACEIBA2wSGtXhldCTOaPm/qkHxtXeTPqnok8tD8XPiVi5uO9dUF6tXM+1pp8xGaX2dqjA4ceJEFAhzglqjstq5LxFL+0lpbywd66W8dnK+nFbLBGq5wD94YVlcXu/yneIzLRWodPpU3UNKol1/taG4ptyBAAQgAAEIQAACEIAABCAAAQhAAAIQgAAEIAABCAwMgSEvXsnLR15PWrKuingyMFgppYiAlg2Uh5a80IZbsGUD5dFEgAAEIAABCEAAAhCAAAQgAAEIQAACEIAABCAAAQhAoDUCQ1q8knC1du3aKIZoDyhCdxKQqKi+2rVrV5g6dWqYN29eU55w3dmqL2olb6lPj58J07YdCl97alH46piFYfOR9pZD7Ob2UjcIQAACEIAABCAAAQhAAAIQgAAEIAABCEAAAhCAQH8TGNLi1YwZM+JeS7NmzQq9vb39zYr8WyRge29pX6y33nor7pXVYlZdl2zuzp64x5X20vq5UXNDlX2ouq4RVAgCEIAABCAAAQhAAAIQgAAEIAABCEAAAhCAAAQg0EUEhrR4tXPnznDw4EGWC+yiAZWryrFjx6LXlZYKvHDhQi7KkL226cjpMG7dnvDSxn1xP60h2xAqDgEIQAACEIAABCAAAQhAAAIQgAAEIAABCEAAAhDoEgJDWrzqEoZUAwIQgAAEIAABCEAAAhCAAAQgAAEIQAACEIAABCAAAQhAoEMEEK86BJJsIAABCEAAAhCAAAQgAAEIQAACEIAABCAAAQhAAAIQgAAE2ieAeNU+Q3KAAAQgAAEIQAACEIAABCAAAQhAAAIQgAAEIAABCEAAAhDoEAHEqw6BJBsIQAACEIAABCAAAQhAAAIQgAAEIAABCEAAAhCAAAQgAIH2CSBetc+QHCAAAQhAAAIQgAAEIAABCEAAAhCAAAQgAAEIQAACEIAABDpEAPGqQyDJBgIQgAAEIAABCEAAAhCAAAQgAAEIQAACEIAABCAAAQhAoH0CiFftMyQHCEAAAhCAAAQgAAEIQAACEIAABCAAAQhAAAIQgAAEIACBDhFAvOoQSLKBAAQgAAEIQAACEIAABCAAAQhAAAIQgAAEIAABCEAAAhBonwDiVfsMyQECEIAABCAAAQhAAAIQgAAEIAABCEAAAhCAAAQgAAEIQKBDBBCvOgSSbCAAAQhAAAIQgAAEIAABCEAAAhCAAAQgAAEIQAACEIAABNongHjVPkNygAAEIAABCEAAAhCAAAQgAAEIQAACEIAABCAAAQhAAAIQ6BABxKsOgSQbCEAAAhCAAAQgAAEIQAACEIAABCAAAQhAAAIQgAAEIACB9gkgXrXPkBwgAAEIQAACEIAABCAAAQhAAAIQgAAEIAABCEAAAhCAAAQ6RADxqkMgyQYCEIAABCAAAQhAAAIQgAAEIAABCEAAAhCAAAQgAAEIQKB9AohX7TMkBwhAAAIQgAAEIAABCEAAAhCAAAQgAAEIQAACEIAABCAAgQ4RQLzqEEiygQAEIAABCEAAAhCAAAQgAAEIQAACEIAABCAAAQhAAAIQaJ8A4lX7DMkBAhCAAAQgAAEIQAACEIAABCAAAQhAAAIQgAAEIAABCECgQwQQrzoEkmwgAAEIQAACEIAABCAAAQhAAAIQgAAEIAABCEAAAhCAAATaJ4B41T5DcoAABCAAAQhAAAIQgAAEIAABCEAAAhCAAAQgAAEIQAACEOgQAcSrDoEkGwhAAAIQgAAEIAABCEAAAhCAAAQgAAEIQAACEIAABCAAgfYJIF61z5AcIAABCEAAAhCAAAQgAAEIQAACEIAABCAAAQhAAAIQgAAEOkQA8apDIMkGAhCAAAQgAAEIQAACEIAABCAAAQhAAAIQgAAEIAABCECgfQKIV+0zJAcIQAACEIAABCAAAQhAAAIQgAAEIAABCEAAAhCAAAQgAIEOEUC86hBIsoEABCAAAQhAAAIQgAAEIAABCEAAAhCAAAQgAAEIQAACEGifAOJV+wzJAQIQgAAEIAABCEAAAhAoIHD06NFw3333hdGjR4czZ84UxOIyBCAAAQhAAAIQgAAEIAABCEDgMoFhIV6dO3cunDhxIvT29l5uWclZs/FLsorlvvjii+H1118f8v+MX7hwIbZHLMWoSjh58mTYuHFjWLduXdi+fXtQHoTBJ3Dp0qXYl+qbLVu2hFOnTnW0UjI8KV/1u8rQOCB0jsDnn38emYrrxYsXO5fxEMhJY3ft2rXh0UcfjWOsmSq3k7aZcjoVV8/ZGTNmhBtuuCF8/etfD1dffXVYvXp1p7Innw4S0HNO/TN37tygcaag38rB+P0vej4MtfHfwe7pWFb6O1L9WvbR76mNARXs/3YqS2f3Wv07SeXqd1djUXn5OjQDQOmUl9Wn0TFtb9U2536/li5dGq688sqgIwECEIAABCAAAQhAAAIQgAAEINCIwLAQr+bNmxcNfy+//HKj9sb7zcYvy3ThwoWxbBkedT5Ug4xhr732Wq0tYlQWZOwYP358+MY3vlFLIwbXXXddWLBgwYgzuJexGuh76puxY8fW9Y36Sf2le+0EiVZvvvlmuOKKK+r6vVP5t1O34ZRW/fTd7343fPOb3wy7d+8eTk1r2BYZPO+55544vnRsRhhtJ23DinU4wvnz58O4cePq5tG3vvWtcODAgQ6XRHbtEjh9+nQYNWpUuP/+++vG42D9/hc9H4bS+G+3T/ojvcTkp556qm5O6u+a9DNmzJi6F3wkJqVxyr4rfjNB9ZoyZUqf312NyUOHDjWTVYyr/NSGsjr6e2l7lYkf+z6uP8/9fmmMah6lc6npRpAAAhCAAAQgAAEIQAACEIAABEYEAcSrNrt5165d4ZZbbgm33XZb2Lt3b5u5DV5yvc2rt8rN8FAmXtnSL4orjwGJhjJkyMAhUUNCxvz581t+K7hZCipfdSmrc7N5WnwzSuWMNxanm44ySj399NORx8033xxmz54dPQW+/e1vx2u6pzitBAlXZthTv7/00ktRqNTRPEcefvjhOuNulXK8Ia1Zo16V/FuJI8FIhjcJSO0Kfq2UX2ScbiWvoZZGnmZTp06Nz5E33ngjSFj3oWy+N0rr8xns8507d4brr78+jrNPPvkkVkdtbdWbohPt6ca52Il2tZuHvET0u/buu+/WZTVYv/9Fz4ehNP7rQHbJF3ldSRBSX99+++3hrrvuyn4mTpxY9zu6devWbDyf/jvf+U5NfGrmd86/WKSXg/TyyPvvvx+X39PfPRKBjh071hRBzXO1wdcvd37jjTfGvxtyf//85Cc/ifcUJ5dW1374wx+Gffv29amb2qC6433VBw0XIAABCEAAAhCAAAQgAAEIQCAhgHiVABmJX+2tcolXMtiXCUHekKJ9C1LD/vr166MIprwkiA1EKDNmt1v+UBOvZES76qqroqAqw6qFw4cPBxnPdE9xWgnmsajl3NJ+l9HvySefjGMnNfA2KqsbDeaIV416bfDu9+d8H8hWdeOzpRvn4kD2Sa4sifZ65uW8SHLxB+JakXg1EGUP5zKMq172OHLkSEebKoFaYvWdd97ZVN7yxJRHpv6m0t9XFuzvtv4SgSSETpgwofA33Z7DrSxzan+nyENcHqgECEAAAhCAAAQgAAEIQAACEIBAEQHEqyIyI+S63vKfOXNmNFBo2UDt31EmXu3fvz8KIzLCmLeAR+Xze/755wdkDywzouB5FeKbzOq/F154oc5jpV2jtL2RLvHr448/9l1eO9d4uPbaa+Ob64pfNbRbt6rlNBMP8aoZWgMbtz/n+0C2BPFqIGm3XpYZ2nPeJ63n2l5KE1m6SVBrr0Xdkdqe+80uV9qo9o2EoLL0Nv7kEZb+rvbns7BMbLPfbHmobd68uaz62XvyFJOIxzKpWTxchAAEIAABCEAAAhCAAAQgAAFHAPHKwbBTvWm9aNGi+La1lj558MEH43JBqbeJ4suYMGPGjPjxhoX0uv5Zf/311+NeLspTS7ZoOZWyJaJ0T94ztryLDCrKQ3lpw2/tLaXlV3p6eqzqTR+Vvwxgylv5NDKGaJmXnDjiCzaBqxXDhLVZ9VCdxEpCzKZNm+rEGJW3fPnyuLzY3/7t38Y6/ehHP4rfteTYnj17fJXiufpPzPQWvfXr22+/HQ4ePNgnrtIrH1uCT8tCvvLKK/Gays0F5aP+uO+++2L+eqt43bp1Dd8sTtNpaT69zdzKG8l6M1v9k77RbPtMtOp5ZcbSsjfSLU7VpfZsDIur+Kre4i3uReNaTMRGjNSHYj19+vQgz7KykEunMtK+1xzQdQmvYiWRVssiqk4aO6pzGnJ5V6mTjfXc/DaWnTJOW7usDfIqUJs0x/TRueZt2fNI7c61NccxZWRtrTKvlVYGUdXJG0arzvdcWs1D5afnV1EbbTwqXs5rVH0ir0L9Hmjs6TmiOun3oplg9cs9W6x/fH455lXGl7xkZfj2zJ977rnss8XaXmUuWv193/j62m9fOoftun4vz2h9CgAAIABJREFUdS6h4Nlnn40s9RxOQ6u8m/n9TsvMfbfl0XRMQ9omu59e7/Tvf9nzoVH/aFzo91S/qxrHmv8aI/pboGhuqF25dJor6seydM3OfWM4GEexkyDTaaGyTAhq1M7PPvssLsub7hGl54J+5/W72enl9xqJbba3Wqu/TxK/bAniVjy3GjHjPgQgAAEIQAACEIAABCAAAQgMHwKIV0lfbtu2rWZIl1HAf7S3lYyBPpgRKTXY++sbNmyI3ko+L51rfygZK3OGH/1zL0OiDClpOquHDCytGg/UBpUhA6rKWLVqVWyWjFgqL+fFJOOVDF66X2YssbdyFa+ZvR3K2qy8Jk2aVLfPhNVV99KPL1d8tUeE9otI4+l7rh/MKyIXX+X6IEOP9pZSPrn4Mjpp6Z80NEqXW5YxzSP9LjFGApOWGDIGMuZKgFHdOm2U8+Vrz7ebbropGkNl3GoU/DhJueXGtRiKZRpX38VefSCmaShLJ04rV66szUF78z5XRo5dWd5ldZLhUYbf3PyWkKe+0zMlxyFtX5Xv1i61Qc8wPUPSNqouEhFyDFVGo7ZKUMmlbXZeqyxbotI/h6rO91xa21+qbMkutU+Cu9hIyLOg54fGSNHzQ/2l342qweqX8tf3dIw1Yl405iWWPPbYY3362Mr8wQ9+ELR3oYVm5qLV3/eN5aOj/falY9eua1zr5RDNPauPf6a2w7vZ329f79y5uJiR3S/ZZnF9m3RuwV9v5fe/nedDWf+oXtYeY29HzX/9zaE2p6HVdK3M/bTs9LuJ2Hp+ln1S8TTNJ/ddQop46Pcy93dZLk2ja3omli2/1yi9lgfU3lHqH/29qKDxISFd1773ve/VzeVG+VW530hs08sP+jtDz1M9a1oJ6h+xzonCreRHGghAAAIQgAAEIAABCEAAAhAYngQQr1y/6h9y/TMug4A8nMwAL+O/ltbLGQq8kUrnFuy6DHTa0FpGFuUvQ8ahQ4eC3oDXP+6pgU/pZTR56623aveXLVsW3+5XWhmhtXyMvI3aNW5LgFKbxo0bV/PyMQNxzjB59uzZ8Pjjj8c0RW/dW/vL8rE46VHGGDHR2+DyfFB7JZipzXo7XPd8vfR2uzibYUh9pO/6eA8Z24fL+lX3xVj9Onfu3GhETftB6RVPRmuVKy8Leffomsr1QQYl5a081FenTp2KdZeY88QTT8T0MhbbeLK0a9asqaVTOSpT9VI5Eq5U7pQpU/p4nFn63FHp58+fH/OVV9LatWvDvffeG/MS15xHWi6fVq6Z0VRLT6rfGgXVVazUXvFVe8VBjMVK/W9BBjITruStIba6r/RLliyJwoL6IBVV1ceWt+acylK5Yq24mp++75Wnytb4u+GGG8Idd9wRy1KdVJbSWmi1Tsqj0fxWX6levm5WbitHE6+075mMjilDzQOJM2JoBlJfjoQOjSf1kZ4/ys/4a8yrnkqrsecZKY9m57XS2FhqZb7n0to4UB0173JB40HtS70WJSRqnOijtmgsaHzreS4jt/KUgOUFr1z+dk0GfeWRe7b4Mdbq+FJbTaDQONIynxrvqrPm/0MPPRTb6Z8t6rOqczHH19qmo9qW+22y6/Jo/Ju/+Zv4G6h5rOv6WGiVdyu/31Zm0VF9oL8JiuahtUnt9W2w6/31+1/2fCjqH4078/bTb4KNC13X74R5v+rZ5OewT6exI2FD46lROjFtZe4X9YVdt78tNFfLPkV9ZvnkjsZOf//p7wb9doi1PlW85XN5NhKCcmnSa/Y3jIR1Pb9MmFYb5UXXyaDnuv1Npf7LBfs9eeCBB8L27dtrqwOIk5jJ01X5lIWFCxfG/uukUFhWHvcgAAEIQAACEIAABCAAAQhAYGgSQLxy/SYDgYwhWjIs/cdb32U0kWFTb8NbMCNVkfFK+Um4SvOTgdEEChlMfDDDgAwTWsonDX6j7lYMNMpPRnwZslOjqxmG0jopjbW1SplmBJKBtEowYUx7JskYkgYZgCQAybCeCiNldVZcGdclQshA741yKkPf33jjjdjvc+bMSYuNHjDqw9QjwiIax6K+8oZkiSwWVK55Q8mInQblK5FAnjAyEjYTfJlm3JOxq53lJRuVr3Eqw1rRXmhl6dU+8VVdzVvMxxcr25dNngHpXFJcM+6lSyvZkksPP/xwNM6n+cpz5ZFHHgk7duzwt6I4oz5N57VFaqdOtqxmEatOzG+rpx3tmSLGEjY0RtJgDFPvJLXVxLaitLb8aPpsaHVe2/Mj9xwqm+9qU1FazT+1Pyeu+iW4/DJW1hcSXGTgT4PGop7vylfPEbGqGjTWlS73bGlnfElolDj5/e9/PzvnbfzlvCYazUW1rYivtbvod8Kuq82530Slb4d3K7/fVueio82boueAtSm9b9eL2lr2+2/90+rzoah/5F0toVUitPe6s7bbHE6X+7V0+nsl99ywZ3/qsdjq3Lf6FB3tpRUxLvukL0AU5eev27NF8119l37KvGl9Pnau50MjIcjilh39c8bqJAFSv2+dDlXENnt2XXnllXFMWZ38Ub8V6p+iYHnknn9FabgOAQhAAAIQgAAEIAABCEAAAiOPAOKV63NbMkZL46UCiYtWd2pGqiLjlbw3igwM9uapDCY+2NvKOSOrxfNeOzKwNRPMoCJDVuplYcabnNHY2poaqHNlmwEtbVsurq7JICWxRuKVjCfNhLI6V8mnrK6NDCxmEC8zXOsNdxnDvJFG48uWYPTG8ir1bRRH/WSefTImqdyc0bFRPlXve68ciUzNGPBVRiODuYyQEqVS46ivn4kPGtPqMwsaSxpTGlupx5zFyR0bGa3bqVN/z++y9mgcajzmgjHUmPEebMePHw933313qTCpPjcR2C8D1eq8tjmZew41mu9FaU0UyO3bZvdS4c7mbuqN5flZWjESq6qh7NnSzvhqVH7Zc7zRXFTeRXyt3KL87XrZPG6Hdyu/31bnoqPtgVT0/LA2ddPvf65/rF/1fCzyPNRvkl4ckdeMjWN7JpQ9N/zc9/O11blf1Bf9fV3eZJMnT44eqOpP8wIWO3kI6jdV/HJ/NxXVTR688r5LnytF8Yuuqw7yBlPZej7LEz0nQBalr3pd/S1PfJVR5HWlvDTXbr311shKL9hoNQHVUZ6K7733XryuPOTpp+u5UPb8y8XnGgQgAAEIQAACEIAABCAAAQiMTAKIV67fbV8UvV2r9fhlQGwUGhmvUqOWz8/+efcCjwwoemte//jrTfKioCWSZIStIiSleciDQMao3JvUZYZha2uVMs2A5tuW1sN/l+FMYp3arTeKbdlAH6fovKzORWl0XSKeDED2ZnSurtZHXniyPE2AkkGpbBlFW3oqHQsmYtx8881xzzH1fbtBHlvyUBPHa665JhrOVL/ccm7tlqX0EsVsibIir5xG5ci4Jb6qs3inwQQo5V9kCFMaec4pD29A9UuJjR8/vrZsYFpG+r2ReNVqnfz8LhMt25nfaVv03dojo2fZc80Ede8xaW0tMuBbeeo7jTXfT63Oa3t++L60chrN96K0Nl81RlL2JkLLs8+LrxLiFF9cioJ5mFR5Lvo8yp4txtyz9GntPDfm7V7uKEFB5aquufo2movKs4ivlVf0O2HX0+egpdOxHd6t/H77snPnZX2k+EVtKrruy7C8/e9OJ54Puf6x50lOuPV1Ss8tXaPnhnm9+ba0OvfTOnTLdz0XbEneKmJUVSGoUfs0ZyWe6zkkIUy/6zov8l5slF/Z/U6JbeaNp9+DIrHUxn/ub6uyOnIPAhCAAAQgAAEIQAACEIAABEYWAcQr198yTsgTSeKVjAP6yNgjg4zeCM+JC0VGqqLrrrhoRFQZ3uBjxsMyjy3lYfnnDJC+jPTc9lEpWpJIdVGdckbjZso0o6pEwKpBQpIJL6qDDDVa0k19oiXvvFHZ51lWZ4snoUqGGcXVfmHKW2X4j+8HS1dmYLG+8nmUnad9JeHnmWeeqdVB407tlwFXS1PK+NdM8B5QEhrEzJaCU3u9GGrM1L5Wg4xzEjnUZpWnsdVK8Bxz9bE+KGPr76X9qHZrPyeLoz3o5PUmD4MijzQTe4oM7a3WydrayMOwmblWhbm1p5Gh0NrlRRO71sgj1cpIDd2tzOucAd7aaWM394xSnLK05rGqFwTseW59kvMusbJs7DQ6ilXVYFxzfWL3GpVn99MxrzqIu56d2oNGXhIW147p80hpjIXiFLWljK/yKBq7dr1oTiltO7xb+f1WmWXB+iHXR0pX1Kai674sy9v3nfFv5/mQ6x+bm40EaF8/nVs6GzONjimnVuZ+Wof0u4QRPbsbfT766KOmvG3TcnLftS+clqAVB/97movbCSHIvxyi/aTkxe+FIf9SSq7fc/UqutYpsU35ay5Onz49cira08rGfzpmiurHdQhAAAIQgAAEIAABCEAAAhAYmQQQr5J+1z/d+/btixtQe4O3jBXykNE/3F5EKTJSFV33xdk/7znjVc6w6NNa/o3i+TSqt+1dk27KbvHMeChDSBrMsNbI00jpyvJJ8/XfVYa8ILQvh8oxY5nO5SGlt5DT0KisPXv2RG8un9ftt98ejboysGipIN3z/WBlWB/lDCyeh/Kzjd2Ljj/84Q/j2LK8dZSoJiOcjIpeNFV9mt2nyjy5/J4m6nN7W1zLdcnwpXpLnKjSj76u/lz1tr1+fHk+TtVz46g2i3carA80H4vY+utaxigN8iDQsktiYONAR+W5ePHiPkKhGW2LDO2t1sna2mjetjK/0zb779ae3Dj28axdPp5dy80Pn9bKyDFTu5uZ12WG2EbzvSytLYHo9/Wxej/wwAN99kWzsiT++DFWdL5161aPpPTcuHrWlsDutTLmNTf1XPPPE+UjUXHixIlR0NLzKjcGbXwWzUXVr4yv7heNXbueGx/W7nZ5N/v7beUWHa0fcn3k25q2qUpbLW8/r4x/rm98HS3/XLxc/9gYL2qHz9ufWzq9/CBvo6Jxb9c1vtQGH5qd+z5t7tzGiH+O585zbHL5NXvNXtgQ56LQKSHIxHb77bbyci+lWL3KvEQtfe7YCbHN52tLbhaNObVB/VZ03+fFOQQgAAEIQAACEIAABCAAAQiMXALDQryypa6q/hMsbyD90+yNRrkhIEOYltiSuPDQQw/FNKnHkhmROmm8krCg+pW92WtL0TVjoNG+DTfddFNcMvD555+P4oMECP+RV5LK/tGPfhSvz5gxoyYYiYfeotX9MsON7XXRjjii/pBnhPaTUX/J+KpyJWDJOOuDGbNyddKby/I8UNonnngiikepR5MZ+3LjwQyMubFlhsarrroqNGO09nX352qX9o6YO3duFEpVZ4lap0+f9tGy51YXpZFI4EMqNG3bti16FHoDvo/f6Fz8VEf1rwzi8hJrJ/i6i3carA+8t0wap5nvGp/ypNR+HGqDPqtWrarLwoy26by2SK3WqVFbLX97rjQzvy1t7mjtaeR5YfsG+bflra25OeDLsqXuGpVRZV7bnMzN6bL5rvqUpdUzzPbmsn29TPTN7fFiZVlc3952z8u42r1WxrwZvPXM1LMg9S4sG1tVxmcZXzEpyt+uF80ppe0k7yq/34360MZ0Ttj0bU3bVKWt1sf+d6cKf19u7vmQ6x+b/2k9G7Xf0hW1v1H69H6VuZ+mSb8vX7687m8W//eLP9ffDfI+7nQwr/Lcs8nK6pQQZPMh3VNTY9u/lKLfMz13W/1bpFNim7VfR3mJaQWBot8NG6d+/Pv0nEMAAhCAAAQgAAEIQAACEIAABERgWIhXEg70T3uV/Ry8mNHMG6oSAGxvJL8UXpGRqui6H3Y545Xum7iWGix8WtvYPme88vH8uRmiJHBU/aTGLhlxlVZ7MMjgkQu290iV/silz12TEVHCYU5wMQNPzphkbb777rtrm9Cn+ZcZUayPigww9rZzKhilZTT7XXtXfec736lsjDKjZ5Hxyi8/pDjqQ+0xlgp5jeqZGs3kydVusLqrTuKdBhNd77///tL9mtJ0jb6rLTNnzowsUpHAxk06/i3PdupkY0bLQxYFM5o3M7+L8tJ1a4/e4JcgnAviYcKOr5vESc27RvNZc0B92Gh5QV920by2OZmb02XzXXmXpdV9e3bqGabntMRtPVv03EqDvRhR9ixO01T9XvZsaWd8NeJjv025sdVoLqptxtePEd9mGy9p/lZu0ZxSHv3Fu+j329c7d279IK+j3LKoRW0quu7LsP5PjfftPh+sf/zc0XJ3EqAaLUfo66dzvbyjFxTKnhtpmqrfi+Z+1fSdjqeXGvSyjrwWi14Y0e+lnm96zhUJ2p0Ugmwu58ryL6VceeWV8SUMPctSsboKp2bFNhMQJVAVBXsRIv1ttfjWNomBBAhAAAIQgAAEIAABCEAAAhCAQBGBYSFeycBieyXpzVv9U58LMs6uXLky/pOfGmN0b/v27fGNXhl6c8HeuPXGpiIjVdF1n2+R8crEn3SpGEvrhYjUQGhxckdxESvVrehjAp2M+oqj+F7g0PJrMuRpGaGc0KAyXnnllabFERnXtD/LrFmz6sqzdpR5mpkRxBvrLJ0Z7R9//PFw9uxZu1w7ytBkm6H7frUI1kdF4pUZwss8pFQHeXXIq0rjTEFGYhmAJFTmjE2qq+pcJOhY/ezojWrqOyvH7uvo98RKPQh9vLJzW65IY/PTTz8ti1r5XiODufVRzkPKCtG4U//LS1L5WdCSkWK8adMmu1R3LFq6yMZNkaG9nTqZZ0yRGKe+NAN2M/O7rmHJF2uPxlPR+DDBNDVwW1uVNjfHVJSMvZoD6iO1z0Kr81rlFJVXNt9Vblla3TfPUI1hGYU1F4rEeAl9iichWXxyQfNKQo6EXP+szMX118qeLca8lTFvfIo8d+2ZlRtbjeai6m8CU85QrueOvDLVd2n+VX4TW+Xd6u+374/cuYk36ZywuEVtKrpu6XS0/k9/d9p9PuTGv/iYMK3f59zfSGqrnkm+rT5d0XNDcZYtWxZ/z7zo0+rc94wG8twEvrI5pzmucZ2ObV/PZoUgnzY913NFcynnca64/m/Bsnqn+frvetaMGzculpPzPvVx7dxesCqr1+jRowuf4fb3TdHLNlYORwhAAAIQgAAEIAABCEAAAhCAwLAQr9SNZlTXP/Da28YbUXRfRjkZ1SS6yBiQ7vnkjTRati8VFGS4tH2YJDpYKDJSFV23dDoWGa9kWJIIp3pqny2VJ8OS/uHX28oyEmuPiUZGFF9W1XMzfBYZqcVJRizVTXXwb97KcGvLycngK+GgajCjpfonNbr6fLVvVNq3ZuDRG9EyxPhge9zk8hVnGWs0ZtSe1IiofMwDRsbrgwcP+qzjucaVlp9Tei21lo4biW5mxPHeG2YoVNl+03VlKsZr166NY1XeLrly+1TkyzkgY5DaqvTKx4IY6k1ojRnVNcfD4hYdbY5pObK0j4rSVLmuutnb7OpLfU+D5orqrHEl42DaNs0Ru+89i8wbKLcvl0SMJ598MvJI98mSSCv2Eja0zGIutFonE3pyY0btksCutuh+mZE0V6eia168Ut7p+PAsZMhM55G1VfXRueevOTBp0qRY31TEbXVe5wzw1ray+a44ZWktD8178TUvxCLPSY3F1157LcbVPE69bzTfbSnVIgHMykyP4qg6FAnjxrzZMW/tz/2OyStKnjRFY6vKXLSXK/Ts0ryxsaKjnv/6zRLXdOxW+U1slbfGo4kzuXYX/X6nfZJ+9zz0/ExDUZuKrvv01v/p7067zwfrfx190O+xxpL6Tf2ktllQ35lgnoqSlk7PDT1nfTpx1/NY+arPJYxaaHXuW/rBOBq73JzTXqg2d/RM8BysruLYrBBkaXNHe27n+kzs9dukv8M0n3N/S+TyTK+1Irb5eulZas8A5e2fiRJD02em4ph3ZplHfFpPvkMAAhCAAAQgAAEIQAACEIDAyCQwbMQr/SMvzx3bpF7/yGtTev1jb55C9g++3jyWwTUN3jNFxgttPi4RSQZuMyanhrEiI1XRdV9mkfFKcWQAUPlqh+rtP7fddls0IMsrJDUQ+vxbOW8kXlndnnnmmZrBxDjfeOON8ZpYyRisPqkaFNf2cFAfyggu9qrPHXfcUcs3J5qYcU2MJKyoz01wKMtX9VZdH3vssZh/akRU3b04pXpJ0HjnnXfqmuXHjfJ77rnn+owbeQYqng8mBqmPJa5Mnjw5fkwkbdYYJTFORjWl83lqHGk82/i38axrVZf9k4CmtvtxWHausd1MMEO98tQ4+v73v1+3l5bvR8W59957Iys/PtQ/egb4cad5pDmrNBob1jc66ruu54QtGSZNtBBLjRW9Za49Wyy0WielF3frE+0Loj5S/6tdKk8CjcSSTs1vMzYqT70178dHIxaqr2+rT6t6q/7iqOeSyvHBp2tmXpsROTXAK++y+a77ZWmtbsZD9c4tRWrxdPRjSG2Q2KRnk+eWa7vPI3duz/8i8cqzUz2rjnn/PPK/YypH9dcLALpeNLYazUX/coXqpWeentE66rNo0aKQ+22q8pvYDu+idtvzTnVNf79z/ZJeMwFcfzeoT3woalPRdZ/W+j/3u9PO86Fs/Ntvjlioz1S2/30o+k3w6fQsVDo9r/xvlZ6XGhsW/PhtZu5b+sE4aq7b3zZidOutt8a/J9RmPfd0Tc9Q9W8umFej/ubUCxDtBjH0f9dan/nfPdVJgqP6TvMv9zdSUT0kOpnneVWvK+WV1sv+7vJ/a6s+RXuB2pKCrSxdXNQWrkMAAhCAAAQgAAEIQAACEIDA8CQwbMQrdY/+oZbRR//Im6FB/9jbR8Y/eRzk3pi17tUG33pzVsYWS6ejDLTaDyEVvYqMVEXXrRwdy4xXvj0yVOiNXxmKZNRW3pZ/kQHSl9PMucpSe3NGY5+PjB4ydpgAYKz0pq2EI/VFs0H9ouWHZCiy/HRUX0rMkhdUUdCSj+pfS+frL4OaDEBmZLc4Kkd9oLfQdU1tzwWxHj9+fG1M5YzNiiNjnoxHlr+O+l60NKAYbd68ua7ellZtkRGqWY5iKMNQEcMdO3bE8W9CYU64yTHwxn6rY9lRXJsJaqfmprw2lK/6PM1DccTE97PVoWzcyatIYkOub9Rn6rtc0FxX39mzIPeWeKt1UnlaRjJ9VqmOs2fPjt6FGmedmt/Wf8pTy2NJgLV2GW+N8dxb8sbG+igdW8pHwl5R2lbmdZkBXvUpm++N0iq9N9pWMaBqLOj5nz5DGrXd2OWO9vzPPU8sfqvjKze2VFe1VR4xOXHJl9loLoqf9gbyc8qep/J2zeVvv1m6VzTnrA6t8m7299vKKzuaB5H2jNLc8aGoTUXXfVrr/6LfnVwfVnk+NBr/mjt6Xtqz0+a/nkVqa1Ewr+/0byv1u35zcn9XtTL3i8ofqOsa27m/FzT3dV33c8E/U/zfH7m4zVzTM0B/U6V9pn7zf9OawFgkQObKNLHte9/7Xp+Xa3Lx/bWiejV6JmpMyNM69dTzeXMOAQhAAAIQgAAEIAABCEAAAhAwAsNKvLJG6Sjjl4ypevNTRiAZsJsJ8rCQAUofLfGWM8w0k1+n45pxrFPG7VbrJ2FIfFSfZhkXlSmjiIyExl99WTWoDkX9pbrq7XwZ75R3s31qY8J736T18jxUD32vElRva2+nOPo8y+rcLIcq7Wk1jvW9+l/nRcG3rSqvVvvG0jUah63USe1Tvtb3Zf2kuCYue8Nz0bk3invxytrhy7VrRbz9deujqnW2tGm6Zsq0PNKjmBfN9zRuJ75rrtjzTu1v1F+dKNPyaGV8KY1e6JAo0Sxv66+yuWg8VE5/BMu/2bGmfrE07Y4P1UGi32AZ2/087eR48+OpmbHh61M2Nvx4sLFkfdJMeT6fgTz3dW53DHWq3p59GUON2YEMvl6NxqiJwc0uszqQ7aEsCEAAAhCAAAQgAAEIQAACEOgeAsNWvOoexK3VRMvXaI+FomAGAC3l1onlaYrK4ToEINA9BDopXnVPq6gJBLqbgO0LVMVLr7tbQu0gMHgEJAhqv1l5EGpOESAAAQhAAAIQgAAEIAABCEAAAo0IIF41IjQI9yVMaRmXoj0D9JbrpEmT4rI/WuKwaBmbQag6RUIAAl1IIOd51YXVpEoQ6EoC8r7U0piD7enclXCoFAQqEpDn+7Rp08LixYub9nyvWATRIAABCEAAAhCAAAQgAAEIQGCYEUC86sIOlaFMe/TYXhSPP/540B5F2ldC121foGb2NujCZlIlCEBggAggXg0QaIoZtgTk4aw98JYuXYrhfdj2Mg2DAAQgAAEIQAACEIAABCAAAQhAoJsIIF51U2+4umjPgiVLlgRtEp7uaaMN07W5uvbyIkAAAhBoRADxqhEh7kMAAhCAAAQgAAEIQAACEIAABCAAAQhAAALdRADxqpt6I1MXeWFJpNqwYUNYt25d2LVrVyjbqDuTBZcgAIERTkDPkZMnT4ZTp04F7TtCgAAEIAABCEAAAhCAAAQgAAEIQAACEIAABCDQzQQQr7q5d6gbBCAAAQhAAAIQgAAEIAABCEAAAhCAAAQgAAEIQAACEBhhBBCvRliH01wIQAACEIAABCAAAQhAAAIQgAAEIAABCEAAAhCAAAQg0M0EEK+6uXeoGwQgAAEIQAACEIAABCAAAQhAAAIQgAAEIAABCEAAAhAYYQQQr0ZYh9NcCEAAAhCAAAQgAAEIQAACEIAABCAAAQhAAAIQgAAEINDNBBCvurl3qBsEIAABCEAAAhCAAAQgAAEIQAACEIAABCAAAQhAAAIQGGEEEK9GWIfTXAhAAAIQgAAEIAABCEAAAhCAAAQgAAEIQAACEIAABCDQzQQQr7q5d6gbBCAAAQhAAAIQgAAEIAABCEAAAhCAAAQgAAEIQAACEBhhBBCvRliH01wIQAACEIAABCAAAQhAAAIQgAAEIAABCEAAAhCAAAQg0M0EEK+6uXeoGwRrfUsXAAADL0lEQVQgAAEIQAACEIAABCAAAQhAAAIQgAAEIAABCEAAAhAYYQQQr0ZYh9NcCEAAAhCAAAQgAAEIQAACEIAABCAAAQhAAAIQgAAEINDNBBCvurl3qBsEIAABCEAAAhCAAAQgAAEIQAACEIAABCAAAQhAAAIQGGEEEK9GWIfTXAhAAAIQgAAEIAABCEAAAhCAAAQgAAEIQAACEIAABCDQzQQQr7q5d6gbBCAAAQhAAAIQgAAEIAABCEAAAhCAAAQgAAEIQAACEBhhBBCvRliH01wIQAACEIAABCAAAQhAAAIQgAAEIAABCEAAAhCAAAQg0M0EEK+6uXeoGwQgAAEIQAACEIAABCAAAQhAAAIQgAAEIAABCEAAAhAYYQQQr0ZYh9NcCEAAAhCAAAQgAAEIQAACEIAABCAAAQhAAAIQgAAEINDNBBCvurl3qBsEIAABCEAAAhCAAAQgAAEIQAACEIAABCAAAQhAAAIQGGEEEK9GWIfTXAhAAAIQgAAEIAABCEAAAhCAAAQgAAEIQAACEIAABCDQzQQQr7q5d6gbBCAAAQhAAAIQgAAEIAABCEAAAhCAAAQgAAEIQAACEBhhBBCvRliH01wIQAACEIAABCAAAQhAAAIQgAAEIAABCEAAAhCAAAQg0M0EEK+6uXeoGwQgAAEIQAACEIAABCAAAQhAAAIQgAAEIAABCEAAAhAYYQQQr0ZYh9NcCEAAAhCAAAQgAAEIQAACEIAABCAAAQhAAAIQgAAEINDNBBCvurl3qBsEIAABCEAAAhCAAAQgAAEIQAACEIAABCAAAQhAAAIQGGEEEK9GWIfTXAhAAAIQgAAEIAABCEAAAhCAAAQgAAEIQAACEIAABCDQzQQQr7q5d6gbBCAAAQhAAAIQgAAEIAABCEAAAhCAAAQgAAEIQAACEBhhBPqIVydOngx8YMAYYAwwBhgDjAHGAGOAMcAYYAwwBhgDjAHGAGOAMcAYYAwwBhgDjAHGAGOAMTDQY0A6XR/xqufo0cAHBowBxgBjgDHAGGAMMAYYA4wBxgBjgDHAGGAMMAYYA4wBxgBjgDHAGGAMMAYYAwM9Bky8+v8BOX26kOipDGsAAAAASUVORK5CYII=)"
      ]
    }
  ]
}