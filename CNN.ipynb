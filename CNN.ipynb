{
  "nbformat": 4,
  "nbformat_minor": 0,
  "metadata": {
    "colab": {
      "name": "CNN.ipynb",
      "provenance": [],
      "collapsed_sections": [],
      "machine_shape": "hm",
      "authorship_tag": "ABX9TyP3PFmV/92Xa7W67mxKDv6z",
      "include_colab_link": true
    },
    "kernelspec": {
      "name": "python3",
      "display_name": "Python 3"
    },
    "language_info": {
      "name": "python"
    },
    "accelerator": "GPU"
  },
  "cells": [
    {
      "cell_type": "markdown",
      "metadata": {
        "id": "view-in-github",
        "colab_type": "text"
      },
      "source": [
        "<a href=\"https://colab.research.google.com/github/Tony5t4rk/ML-2021-Spring/blob/main/CNN.ipynb\" target=\"_parent\"><img src=\"https://colab.research.google.com/assets/colab-badge.svg\" alt=\"Open In Colab\"/></a>"
      ]
    },
    {
      "cell_type": "markdown",
      "metadata": {
        "id": "lgigrN2w7otu"
      },
      "source": [
        "# **Homework 3 - Convolutional Neural Network**"
      ]
    },
    {
      "cell_type": "markdown",
      "metadata": {
        "id": "GmiZuxx97uKN"
      },
      "source": [
        "作者: 刘阳\n",
        "\n",
        "学习笔记：[機器學習2021 学习笔记-CNN & Self-Attention](https://www.wolai.com/tony5t4rk/jFYeVKmHKnfwJyLEK18Gbh?theme=light)\n",
        "\n",
        "本HW01在[样例代码](https://colab.research.google.com/github/ga642381/ML2021-Spring/blob/main/HW03/HW03.ipynb#scrollTo=VHpJocsDr6iA)的基础上进行修改。\n"
      ]
    },
    {
      "cell_type": "markdown",
      "metadata": {
        "id": "_EGEAxhs74Fu"
      },
      "source": [
        "# 挂载到Google Drive"
      ]
    },
    {
      "cell_type": "code",
      "metadata": {
        "id": "mK098U3EizG0",
        "colab": {
          "base_uri": "https://localhost:8080/"
        },
        "outputId": "b9d0ca88-575e-41ef-c326-be361b14a7ca"
      },
      "source": [
        "from google.colab import drive\n",
        "drive.mount('/content/drive')\n",
        "%cd '/content/drive/MyDrive/Colab/ML 2021 Spring/HW03'"
      ],
      "execution_count": 155,
      "outputs": [
        {
          "output_type": "stream",
          "text": [
            "Drive already mounted at /content/drive; to attempt to forcibly remount, call drive.mount(\"/content/drive\", force_remount=True).\n",
            "/content/drive/MyDrive/Colab/ML 2021 Spring/HW03\n"
          ],
          "name": "stdout"
        }
      ]
    },
    {
      "cell_type": "markdown",
      "metadata": {
        "id": "SyNvXPSO76eA"
      },
      "source": [
        "# 查看当前设备GPU"
      ]
    },
    {
      "cell_type": "code",
      "metadata": {
        "colab": {
          "base_uri": "https://localhost:8080/"
        },
        "id": "PnkwGDei7824",
        "outputId": "ca00f637-daf6-46a7-bf1f-ca0ca9c6282a"
      },
      "source": [
        "!nvidia-smi"
      ],
      "execution_count": 156,
      "outputs": [
        {
          "output_type": "stream",
          "text": [
            "Thu May  6 09:04:09 2021       \n",
            "+-----------------------------------------------------------------------------+\n",
            "| NVIDIA-SMI 465.19.01    Driver Version: 460.32.03    CUDA Version: 11.2     |\n",
            "|-------------------------------+----------------------+----------------------+\n",
            "| GPU  Name        Persistence-M| Bus-Id        Disp.A | Volatile Uncorr. ECC |\n",
            "| Fan  Temp  Perf  Pwr:Usage/Cap|         Memory-Usage | GPU-Util  Compute M. |\n",
            "|                               |                      |               MIG M. |\n",
            "|===============================+======================+======================|\n",
            "|   0  Tesla P100-PCIE...  Off  | 00000000:00:04.0 Off |                    0 |\n",
            "| N/A   41C    P0    38W / 250W |   9327MiB / 16280MiB |      0%      Default |\n",
            "|                               |                      |                  N/A |\n",
            "+-------------------------------+----------------------+----------------------+\n",
            "                                                                               \n",
            "+-----------------------------------------------------------------------------+\n",
            "| Processes:                                                                  |\n",
            "|  GPU   GI   CI        PID   Type   Process name                  GPU Memory |\n",
            "|        ID   ID                                                   Usage      |\n",
            "|=============================================================================|\n",
            "+-----------------------------------------------------------------------------+\n"
          ],
          "name": "stdout"
        }
      ]
    },
    {
      "cell_type": "markdown",
      "metadata": {
        "id": "gP9h8zHn7-Sb"
      },
      "source": [
        "# 从Google Drive下载数据"
      ]
    },
    {
      "cell_type": "code",
      "metadata": {
        "colab": {
          "base_uri": "https://localhost:8080/"
        },
        "id": "g7VAQrI67_qO",
        "outputId": "99d96bd1-6fb1-4045-83f2-08851f57fa9f"
      },
      "source": [
        "# !gdown --id '1awF7pZ9Dz7X1jn1_QAiKN-_v56veCEKy' --output food-11.zip\n",
        "# !unzip -q food-11.zip\n",
        "!apt-get -qq install -y tree\n",
        "!tree -L 3\n",
        "\n",
        "train_path = 'food-11/training'\n",
        "val_path = 'food-11/validation'\n",
        "test_path = 'food-11/testing'"
      ],
      "execution_count": 157,
      "outputs": [
        {
          "output_type": "stream",
          "text": [
            ".\n",
            "├── CNN.ipynb\n",
            "├── food-11\n",
            "│   ├── testing\n",
            "│   │   └── 00\n",
            "│   ├── training\n",
            "│   │   ├── labeled\n",
            "│   │   └── unlabeled\n",
            "│   └── validation\n",
            "│       ├── 00\n",
            "│       ├── 01\n",
            "│       ├── 02\n",
            "│       ├── 03\n",
            "│       ├── 04\n",
            "│       ├── 05\n",
            "│       ├── 06\n",
            "│       ├── 07\n",
            "│       ├── 08\n",
            "│       ├── 09\n",
            "│       └── 10\n",
            "├── food-11.pred.csv\n",
            "├── food-11.zip\n",
            "├── Learning curve of CNN Model.svg\n",
            "└── models\n",
            "    └── model.pth\n",
            "\n",
            "19 directories, 5 files\n"
          ],
          "name": "stdout"
        }
      ]
    },
    {
      "cell_type": "markdown",
      "metadata": {
        "id": "i1lA2tNN8JcN"
      },
      "source": [
        "# 导入需要使用的模块"
      ]
    },
    {
      "cell_type": "code",
      "metadata": {
        "id": "Yxz1lXVo8LEs"
      },
      "source": [
        "# PyTorch\n",
        "import torch\n",
        "import torch.nn as nn\n",
        "import torchvision.transforms as transforms\n",
        "from torch.utils.data import ConcatDataset, DataLoader, Subset\n",
        "from torchvision.datasets import DatasetFolder\n",
        "\n",
        "# 数据处理\n",
        "import numpy as np\n",
        "import os\n",
        "from PIL import Image\n",
        "from tqdm import tqdm\n",
        "\n",
        "# 绘图\n",
        "import matplotlib.pyplot as plt\n",
        "from matplotlib.pyplot import figure\n",
        "# 绘制矢量图片\n",
        "%matplotlib inline\n",
        "%config InlineBackend.figure_format = 'svg'\n",
        "\n",
        "# 设置随机数种子（为了实验的可复现性）\n",
        "my_seed = 42096\n",
        "torch.backends.cudnn.deterministic = True\n",
        "torch.backends.cudnn.benchmark = False\n",
        "np.random.seed(my_seed)\n",
        "torch.manual_seed(my_seed)\n",
        "if torch.cuda.is_available():\n",
        "    torch.cuda.manual_seed_all(my_seed)"
      ],
      "execution_count": 158,
      "outputs": []
    },
    {
      "cell_type": "markdown",
      "metadata": {
        "id": "0p0dlNb1T30i"
      },
      "source": [
        "# 定义画图工具函数"
      ]
    },
    {
      "cell_type": "code",
      "metadata": {
        "id": "ZeMw3UvWT3ja"
      },
      "source": [
        "# 绘制深度神经网络学习曲线（训练和验证的Loss）\n",
        "def plot_learning_curve(loss_record, title=''):\n",
        "    total_steps = len(loss_record['train'])\n",
        "    x_1 = range(total_steps)\n",
        "    x_2 = x_1[::len(loss_record['train']) // len(loss_record['val'])]\n",
        "    figure(figsize=(6, 4))\n",
        "    plt.plot(x_1, loss_record['train'], c='tab:red', label='train')\n",
        "    plt.plot(x_2, loss_record['val'], c='tab:cyan', label='val')\n",
        "    plt.ylim(0.0, 5.)\n",
        "    plt.xlabel('Training steps')\n",
        "    plt.ylabel('Loss')\n",
        "    plt.title('Learning curve of {}'.format(title))\n",
        "    plt.legend()\n",
        "    plt.savefig('Learning curve of {}.svg'.format(title))\n",
        "    plt.show()"
      ],
      "execution_count": 159,
      "outputs": []
    },
    {
      "cell_type": "markdown",
      "metadata": {
        "id": "JI5DxR90T8m4"
      },
      "source": [
        "# 预处理"
      ]
    },
    {
      "cell_type": "markdown",
      "metadata": {
        "id": "Bfe0oDDCUC1g"
      },
      "source": [
        "## 数据处理"
      ]
    },
    {
      "cell_type": "code",
      "metadata": {
        "id": "o-_ZPw9QUBYP"
      },
      "source": [
        "train_transform = transforms.Compose([\n",
        "    transforms.Resize((128, 128)),\n",
        "    transforms.ToTensor(),\n",
        "])\n",
        "\n",
        "test_transform = transforms.Compose([\n",
        "    transforms.Resize((128, 128)),\n",
        "    transforms.ToTensor(),\n",
        "])"
      ],
      "execution_count": 160,
      "outputs": []
    },
    {
      "cell_type": "markdown",
      "metadata": {
        "id": "uQzAbHmWUAD0"
      },
      "source": [
        "## 数据迭代器"
      ]
    },
    {
      "cell_type": "code",
      "metadata": {
        "id": "SB5ViyQUULdi"
      },
      "source": [
        "def set_dataloader(batch_size):\n",
        "    train_dataset = DatasetFolder(os.path.join(train_path, 'labeled'), loader=lambda x: Image.open(x), extensions='jpg', transform=train_transform)\n",
        "    val_dataset = DatasetFolder(val_path, loader=lambda x: Image.open(x), extensions='jpg', transform=test_transform)\n",
        "    test_dataset = DatasetFolder(test_path, loader=lambda x: Image.open(x), extensions='jpg', transform=test_transform)\n",
        "\n",
        "    train_dataloader = DataLoader(train_dataset, batch_size=batch_size, shuffle=True)\n",
        "    val_dataloader = DataLoader(val_dataset, batch_size=batch_size, shuffle=False)\n",
        "    test_dataloader = DataLoader(test_dataset, batch_size=batch_size, shuffle=False)\n",
        "\n",
        "    return train_dataloader, val_dataloader, test_dataloader"
      ],
      "execution_count": 161,
      "outputs": []
    },
    {
      "cell_type": "markdown",
      "metadata": {
        "id": "M_wB7m72WDrL"
      },
      "source": [
        "# 定义Model"
      ]
    },
    {
      "cell_type": "code",
      "metadata": {
        "id": "1nmj11LSW86g"
      },
      "source": [
        "class Net(nn.Module):\n",
        "    def __init__(self):\n",
        "        super(Net, self).__init__()\n",
        "\n",
        "        self.cnn = nn.Sequential(\n",
        "            nn.Conv2d(3, 64, 3, 1, 1),\n",
        "            nn.BatchNorm2d(64),\n",
        "            nn.ReLU(),\n",
        "            nn.MaxPool2d(2, 2, 0),\n",
        "\n",
        "            nn.Conv2d(64, 128, 3, 1, 1),\n",
        "            nn.BatchNorm2d(128),\n",
        "            nn.ReLU(),\n",
        "            nn.MaxPool2d(2, 2, 0),\n",
        "\n",
        "            nn.Conv2d(128, 256, 3, 1, 1),\n",
        "            nn.BatchNorm2d(256),\n",
        "            nn.ReLU(),\n",
        "            nn.MaxPool2d(4, 4, 0),\n",
        "        )\n",
        "        self.fc = nn.Sequential(\n",
        "            nn.Linear(256 * 8 * 8, 256),\n",
        "            nn.ReLU(),\n",
        "            nn.Linear(256, 256),\n",
        "            nn.ReLU(),\n",
        "            nn.Linear(256, 11)\n",
        "        )\n",
        "\n",
        "        self.criterion = nn.CrossEntropyLoss()\n",
        "    \n",
        "    def forward(self, x):\n",
        "        x = self.cnn(x)\n",
        "        x = x.flatten(1)\n",
        "        x = self.fc(x)\n",
        "        return x\n",
        "    \n",
        "    def calc_loss(self, pred, target):\n",
        "        return self.criterion(pred, target)"
      ],
      "execution_count": 162,
      "outputs": []
    },
    {
      "cell_type": "markdown",
      "metadata": {
        "id": "gVSyhfVzWFPS"
      },
      "source": [
        "# 训练 & 验证 & 测试"
      ]
    },
    {
      "cell_type": "markdown",
      "metadata": {
        "id": "7uvdH9BkWIa9"
      },
      "source": [
        "## 训练"
      ]
    },
    {
      "cell_type": "code",
      "metadata": {
        "id": "7PyWshEmaYwH"
      },
      "source": [
        "def train(train_dataloader, val_dataloader, model, config, device):\n",
        "    n_epochs = config['n_epochs']\n",
        "    optimizer = getattr(torch.optim, config['optimizer'])(model.parameters(), **config['optim_hparams'])\n",
        "    min_val_loss = float('inf')\n",
        "    loss_record = {'train': [], 'val': []}\n",
        "    early_stop_cnt = 0\n",
        "    epoch = 0\n",
        "    while epoch < n_epochs:\n",
        "        model.train()\n",
        "        for x, y in train_dataloader:\n",
        "            x, y = x.to(device), y.to(device)\n",
        "            optimizer.zero_grad()\n",
        "            logits = model(x)\n",
        "            loss = model.calc_loss(logits, y)\n",
        "            loss.backward()\n",
        "            optimizer.step()\n",
        "            loss_record['train'].append(loss.detach().cpu().item())\n",
        "\n",
        "        val_loss = val(val_dataloader, model, device)\n",
        "        print(f\"[ Valid | {epoch + 1:03d}/{n_epochs:03d} ] loss = {val_loss:.5f}\")\n",
        "        if val_loss < min_val_loss:\n",
        "            min_val_loss = val_loss\n",
        "            # print('Saving model (epoch = {:4d}, loss = {:.4f})'.format(epoch + 1, min_val_loss))\n",
        "            torch.save(model, config['model_path'])\n",
        "            early_stop_cnt = 0\n",
        "        else:\n",
        "            early_stop_cnt += 1\n",
        "        \n",
        "        epoch += 1\n",
        "        loss_record['val'].append(val_loss)\n",
        "        if early_stop_cnt > config['early_stop']:\n",
        "            break\n",
        "    print('Finish train after {} epochs'.format(epoch))\n",
        "    return min_val_loss, loss_record"
      ],
      "execution_count": 163,
      "outputs": []
    },
    {
      "cell_type": "markdown",
      "metadata": {
        "id": "vBQrULh6WJs5"
      },
      "source": [
        "## 验证"
      ]
    },
    {
      "cell_type": "code",
      "metadata": {
        "id": "V5IAwn9saZBo"
      },
      "source": [
        "def val(val_dataloader, model, device):\n",
        "    model.eval()\n",
        "    total_loss = 0\n",
        "    for x, y in val_dataloader:\n",
        "        x, y = x.to(device), y.to(device)\n",
        "        with torch.no_grad():\n",
        "            logits = model(x)\n",
        "            loss = model.calc_loss(logits, y)\n",
        "        total_loss += loss.detach().cpu().item() * len(x)\n",
        "    total_loss /= len(val_dataloader.dataset)\n",
        "    return total_loss"
      ],
      "execution_count": 164,
      "outputs": []
    },
    {
      "cell_type": "markdown",
      "metadata": {
        "id": "sJdkb408WKlp"
      },
      "source": [
        "## 测试"
      ]
    },
    {
      "cell_type": "code",
      "metadata": {
        "id": "2lEmi7GuaZfB"
      },
      "source": [
        "def test(test_dataloader, model, config, device):\n",
        "    model.eval()\n",
        "    preds = []\n",
        "    for x, _ in test_dataloader:\n",
        "        x, _ = x.to(device), _.to(device)\n",
        "        with torch.no_grad():\n",
        "            logits = model(x)\n",
        "        preds.extend(logits.argmax(dim=-1).cpu().numpy().tolist())\n",
        "    return preds"
      ],
      "execution_count": 165,
      "outputs": []
    },
    {
      "cell_type": "markdown",
      "metadata": {
        "id": "z9cPwH_nWLZM"
      },
      "source": [
        "# 配置Hyper-parameters"
      ]
    },
    {
      "cell_type": "code",
      "metadata": {
        "colab": {
          "base_uri": "https://localhost:8080/"
        },
        "id": "KwMBAecoZ5FW",
        "outputId": "53dbd0f4-5069-4d27-f9f3-9436d971367c"
      },
      "source": [
        "device = torch.device('cuda' if torch.cuda.is_available() else 'cpu')\n",
        "print(f'device: {device}')\n",
        "os.makedirs('models', exist_ok=True)\n",
        "\n",
        "config = {\n",
        "    'n_epochs': 80,\n",
        "    'batch_size': 128,\n",
        "    'optimizer': 'Adam',\n",
        "    'optim_hparams': {\n",
        "        'lr': 0.0003,\n",
        "        'weight_decay': 1e-5\n",
        "    },\n",
        "    'early_stop': 80,\n",
        "    'model_path': 'models/model.pth'\n",
        "}"
      ],
      "execution_count": 166,
      "outputs": [
        {
          "output_type": "stream",
          "text": [
            "device: cuda\n"
          ],
          "name": "stdout"
        }
      ]
    },
    {
      "cell_type": "markdown",
      "metadata": {
        "id": "NWIvyW1kWTSw"
      },
      "source": [
        "# 加载数据"
      ]
    },
    {
      "cell_type": "code",
      "metadata": {
        "id": "3gr60TKBaiNJ"
      },
      "source": [
        "train_dataloader, val_dataloader, test_dataloader = set_dataloader(config['batch_size'])"
      ],
      "execution_count": 167,
      "outputs": []
    },
    {
      "cell_type": "markdown",
      "metadata": {
        "id": "-kzeFyhTWU0_"
      },
      "source": [
        "# 加载Model"
      ]
    },
    {
      "cell_type": "code",
      "metadata": {
        "id": "izRgYbAua9py"
      },
      "source": [
        "model = Net().to(device)"
      ],
      "execution_count": 168,
      "outputs": []
    },
    {
      "cell_type": "markdown",
      "metadata": {
        "id": "s7PBv_eUWWHU"
      },
      "source": [
        "# 开始训练"
      ]
    },
    {
      "cell_type": "code",
      "metadata": {
        "colab": {
          "base_uri": "https://localhost:8080/"
        },
        "id": "3geun0LWdDgJ",
        "outputId": "84790f76-6cf9-431b-8e05-3017432fb62a"
      },
      "source": [
        "model_min_dev_loss, model_loss_record = train(train_dataloader, val_dataloader, model, config, device)"
      ],
      "execution_count": 169,
      "outputs": [
        {
          "output_type": "stream",
          "text": [
            "[ Valid | 001/080 ] loss = 2.39993\n",
            "[ Valid | 002/080 ] loss = 2.06664\n",
            "[ Valid | 003/080 ] loss = 1.83237\n",
            "[ Valid | 004/080 ] loss = 1.82954\n",
            "[ Valid | 005/080 ] loss = 1.76240\n",
            "[ Valid | 006/080 ] loss = 1.97554\n",
            "[ Valid | 007/080 ] loss = 1.66652\n",
            "[ Valid | 008/080 ] loss = 1.82234\n",
            "[ Valid | 009/080 ] loss = 1.81673\n",
            "[ Valid | 010/080 ] loss = 1.70488\n",
            "[ Valid | 011/080 ] loss = 1.61024\n",
            "[ Valid | 012/080 ] loss = 1.64698\n",
            "[ Valid | 013/080 ] loss = 1.77431\n",
            "[ Valid | 014/080 ] loss = 1.70644\n",
            "[ Valid | 015/080 ] loss = 1.91795\n",
            "[ Valid | 016/080 ] loss = 1.77251\n",
            "[ Valid | 017/080 ] loss = 1.64172\n",
            "[ Valid | 018/080 ] loss = 1.92467\n",
            "[ Valid | 019/080 ] loss = 1.90574\n",
            "[ Valid | 020/080 ] loss = 1.80443\n",
            "[ Valid | 021/080 ] loss = 2.00959\n",
            "[ Valid | 022/080 ] loss = 1.77485\n",
            "[ Valid | 023/080 ] loss = 2.30251\n",
            "[ Valid | 024/080 ] loss = 1.87328\n",
            "[ Valid | 025/080 ] loss = 2.29268\n",
            "[ Valid | 026/080 ] loss = 1.97312\n",
            "[ Valid | 027/080 ] loss = 2.25702\n",
            "[ Valid | 028/080 ] loss = 1.92322\n",
            "[ Valid | 029/080 ] loss = 2.29550\n",
            "[ Valid | 030/080 ] loss = 2.31820\n",
            "[ Valid | 031/080 ] loss = 2.07150\n",
            "[ Valid | 032/080 ] loss = 2.07997\n",
            "[ Valid | 033/080 ] loss = 2.37627\n",
            "[ Valid | 034/080 ] loss = 2.26377\n",
            "[ Valid | 035/080 ] loss = 2.30244\n",
            "[ Valid | 036/080 ] loss = 2.25520\n",
            "[ Valid | 037/080 ] loss = 2.36110\n",
            "[ Valid | 038/080 ] loss = 2.29907\n",
            "[ Valid | 039/080 ] loss = 2.38954\n",
            "[ Valid | 040/080 ] loss = 2.45524\n",
            "[ Valid | 041/080 ] loss = 2.60672\n",
            "[ Valid | 042/080 ] loss = 2.36342\n",
            "[ Valid | 043/080 ] loss = 2.38576\n",
            "[ Valid | 044/080 ] loss = 2.44239\n",
            "[ Valid | 045/080 ] loss = 3.41326\n",
            "[ Valid | 046/080 ] loss = 2.75844\n",
            "[ Valid | 047/080 ] loss = 2.67618\n",
            "[ Valid | 048/080 ] loss = 2.75168\n",
            "[ Valid | 049/080 ] loss = 2.62781\n",
            "[ Valid | 050/080 ] loss = 3.07564\n",
            "[ Valid | 051/080 ] loss = 2.81440\n",
            "[ Valid | 052/080 ] loss = 2.58973\n",
            "[ Valid | 053/080 ] loss = 2.57359\n",
            "[ Valid | 054/080 ] loss = 2.60879\n",
            "[ Valid | 055/080 ] loss = 2.71544\n",
            "[ Valid | 056/080 ] loss = 2.81927\n",
            "[ Valid | 057/080 ] loss = 2.68730\n",
            "[ Valid | 058/080 ] loss = 2.77880\n",
            "[ Valid | 059/080 ] loss = 2.85154\n",
            "[ Valid | 060/080 ] loss = 2.82969\n",
            "[ Valid | 061/080 ] loss = 2.80472\n",
            "[ Valid | 062/080 ] loss = 2.83502\n",
            "[ Valid | 063/080 ] loss = 2.93698\n",
            "[ Valid | 064/080 ] loss = 2.84355\n",
            "[ Valid | 065/080 ] loss = 3.13137\n",
            "[ Valid | 066/080 ] loss = 3.37111\n",
            "[ Valid | 067/080 ] loss = 3.17948\n",
            "[ Valid | 068/080 ] loss = 3.14432\n",
            "[ Valid | 069/080 ] loss = 3.42424\n",
            "[ Valid | 070/080 ] loss = 3.39273\n",
            "[ Valid | 071/080 ] loss = 2.99536\n",
            "[ Valid | 072/080 ] loss = 2.86839\n",
            "[ Valid | 073/080 ] loss = 2.82758\n",
            "[ Valid | 074/080 ] loss = 2.97941\n",
            "[ Valid | 075/080 ] loss = 3.27000\n",
            "[ Valid | 076/080 ] loss = 3.09522\n",
            "[ Valid | 077/080 ] loss = 3.35908\n",
            "[ Valid | 078/080 ] loss = 2.65703\n",
            "[ Valid | 079/080 ] loss = 2.89438\n",
            "[ Valid | 080/080 ] loss = 3.14900\n",
            "Finish train after 80 epochs\n"
          ],
          "name": "stdout"
        }
      ]
    },
    {
      "cell_type": "code",
      "metadata": {
        "colab": {
          "base_uri": "https://localhost:8080/",
          "height": 390
        },
        "id": "q2xD0VJgdFwh",
        "outputId": "09a8e1f6-5af7-4379-e256-b4da03945fa9"
      },
      "source": [
        "plot_learning_curve(model_loss_record, title='CNN Model')"
      ],
      "execution_count": 170,
      "outputs": [
        {
          "output_type": "display_data",
          "data": {
            "text/plain": [
              "<Figure size 432x288 with 1 Axes>"
            ],
            "image/svg+xml": "<?xml version=\"1.0\" encoding=\"utf-8\" standalone=\"no\"?>\n<!DOCTYPE svg PUBLIC \"-//W3C//DTD SVG 1.1//EN\"\n  \"http://www.w3.org/Graphics/SVG/1.1/DTD/svg11.dtd\">\n<!-- Created with matplotlib (https://matplotlib.org/) -->\n<svg height=\"277.314375pt\" version=\"1.1\" viewBox=\"0 0 376.240625 277.314375\" width=\"376.240625pt\" xmlns=\"http://www.w3.org/2000/svg\" xmlns:xlink=\"http://www.w3.org/1999/xlink\">\n <defs>\n  <style type=\"text/css\">\n*{stroke-linecap:butt;stroke-linejoin:round;}\n  </style>\n </defs>\n <g id=\"figure_1\">\n  <g id=\"patch_1\">\n   <path d=\"M 0 277.314375 \nL 376.240625 277.314375 \nL 376.240625 0 \nL 0 0 \nz\n\" style=\"fill:none;\"/>\n  </g>\n  <g id=\"axes_1\">\n   <g id=\"patch_2\">\n    <path d=\"M 34.240625 239.758125 \nL 369.040625 239.758125 \nL 369.040625 22.318125 \nL 34.240625 22.318125 \nz\n\" style=\"fill:#ffffff;\"/>\n   </g>\n   <g id=\"matplotlib.axis_1\">\n    <g id=\"xtick_1\">\n     <g id=\"line2d_1\">\n      <defs>\n       <path d=\"M 0 0 \nL 0 3.5 \n\" id=\"mfc45a927b5\" style=\"stroke:#000000;stroke-width:0.8;\"/>\n      </defs>\n      <g>\n       <use style=\"stroke:#000000;stroke-width:0.8;\" x=\"49.458807\" xlink:href=\"#mfc45a927b5\" y=\"239.758125\"/>\n      </g>\n     </g>\n     <g id=\"text_1\">\n      <!-- 0 -->\n      <defs>\n       <path d=\"M 31.78125 66.40625 \nQ 24.171875 66.40625 20.328125 58.90625 \nQ 16.5 51.421875 16.5 36.375 \nQ 16.5 21.390625 20.328125 13.890625 \nQ 24.171875 6.390625 31.78125 6.390625 \nQ 39.453125 6.390625 43.28125 13.890625 \nQ 47.125 21.390625 47.125 36.375 \nQ 47.125 51.421875 43.28125 58.90625 \nQ 39.453125 66.40625 31.78125 66.40625 \nz\nM 31.78125 74.21875 \nQ 44.046875 74.21875 50.515625 64.515625 \nQ 56.984375 54.828125 56.984375 36.375 \nQ 56.984375 17.96875 50.515625 8.265625 \nQ 44.046875 -1.421875 31.78125 -1.421875 \nQ 19.53125 -1.421875 13.0625 8.265625 \nQ 6.59375 17.96875 6.59375 36.375 \nQ 6.59375 54.828125 13.0625 64.515625 \nQ 19.53125 74.21875 31.78125 74.21875 \nz\n\" id=\"DejaVuSans-48\"/>\n      </defs>\n      <g transform=\"translate(46.277557 254.356562)scale(0.1 -0.1)\">\n       <use xlink:href=\"#DejaVuSans-48\"/>\n      </g>\n     </g>\n    </g>\n    <g id=\"xtick_2\">\n     <g id=\"line2d_2\">\n      <g>\n       <use style=\"stroke:#000000;stroke-width:0.8;\" x=\"87.523294\" xlink:href=\"#mfc45a927b5\" y=\"239.758125\"/>\n      </g>\n     </g>\n     <g id=\"text_2\">\n      <!-- 250 -->\n      <defs>\n       <path d=\"M 19.1875 8.296875 \nL 53.609375 8.296875 \nL 53.609375 0 \nL 7.328125 0 \nL 7.328125 8.296875 \nQ 12.9375 14.109375 22.625 23.890625 \nQ 32.328125 33.6875 34.8125 36.53125 \nQ 39.546875 41.84375 41.421875 45.53125 \nQ 43.3125 49.21875 43.3125 52.78125 \nQ 43.3125 58.59375 39.234375 62.25 \nQ 35.15625 65.921875 28.609375 65.921875 \nQ 23.96875 65.921875 18.8125 64.3125 \nQ 13.671875 62.703125 7.8125 59.421875 \nL 7.8125 69.390625 \nQ 13.765625 71.78125 18.9375 73 \nQ 24.125 74.21875 28.421875 74.21875 \nQ 39.75 74.21875 46.484375 68.546875 \nQ 53.21875 62.890625 53.21875 53.421875 \nQ 53.21875 48.921875 51.53125 44.890625 \nQ 49.859375 40.875 45.40625 35.40625 \nQ 44.1875 33.984375 37.640625 27.21875 \nQ 31.109375 20.453125 19.1875 8.296875 \nz\n\" id=\"DejaVuSans-50\"/>\n       <path d=\"M 10.796875 72.90625 \nL 49.515625 72.90625 \nL 49.515625 64.59375 \nL 19.828125 64.59375 \nL 19.828125 46.734375 \nQ 21.96875 47.46875 24.109375 47.828125 \nQ 26.265625 48.1875 28.421875 48.1875 \nQ 40.625 48.1875 47.75 41.5 \nQ 54.890625 34.8125 54.890625 23.390625 \nQ 54.890625 11.625 47.5625 5.09375 \nQ 40.234375 -1.421875 26.90625 -1.421875 \nQ 22.3125 -1.421875 17.546875 -0.640625 \nQ 12.796875 0.140625 7.71875 1.703125 \nL 7.71875 11.625 \nQ 12.109375 9.234375 16.796875 8.0625 \nQ 21.484375 6.890625 26.703125 6.890625 \nQ 35.15625 6.890625 40.078125 11.328125 \nQ 45.015625 15.765625 45.015625 23.390625 \nQ 45.015625 31 40.078125 35.4375 \nQ 35.15625 39.890625 26.703125 39.890625 \nQ 22.75 39.890625 18.8125 39.015625 \nQ 14.890625 38.140625 10.796875 36.28125 \nz\n\" id=\"DejaVuSans-53\"/>\n      </defs>\n      <g transform=\"translate(77.979544 254.356562)scale(0.1 -0.1)\">\n       <use xlink:href=\"#DejaVuSans-50\"/>\n       <use x=\"63.623047\" xlink:href=\"#DejaVuSans-53\"/>\n       <use x=\"127.246094\" xlink:href=\"#DejaVuSans-48\"/>\n      </g>\n     </g>\n    </g>\n    <g id=\"xtick_3\">\n     <g id=\"line2d_3\">\n      <g>\n       <use style=\"stroke:#000000;stroke-width:0.8;\" x=\"125.58778\" xlink:href=\"#mfc45a927b5\" y=\"239.758125\"/>\n      </g>\n     </g>\n     <g id=\"text_3\">\n      <!-- 500 -->\n      <g transform=\"translate(116.04403 254.356562)scale(0.1 -0.1)\">\n       <use xlink:href=\"#DejaVuSans-53\"/>\n       <use x=\"63.623047\" xlink:href=\"#DejaVuSans-48\"/>\n       <use x=\"127.246094\" xlink:href=\"#DejaVuSans-48\"/>\n      </g>\n     </g>\n    </g>\n    <g id=\"xtick_4\">\n     <g id=\"line2d_4\">\n      <g>\n       <use style=\"stroke:#000000;stroke-width:0.8;\" x=\"163.652267\" xlink:href=\"#mfc45a927b5\" y=\"239.758125\"/>\n      </g>\n     </g>\n     <g id=\"text_4\">\n      <!-- 750 -->\n      <defs>\n       <path d=\"M 8.203125 72.90625 \nL 55.078125 72.90625 \nL 55.078125 68.703125 \nL 28.609375 0 \nL 18.3125 0 \nL 43.21875 64.59375 \nL 8.203125 64.59375 \nz\n\" id=\"DejaVuSans-55\"/>\n      </defs>\n      <g transform=\"translate(154.108517 254.356562)scale(0.1 -0.1)\">\n       <use xlink:href=\"#DejaVuSans-55\"/>\n       <use x=\"63.623047\" xlink:href=\"#DejaVuSans-53\"/>\n       <use x=\"127.246094\" xlink:href=\"#DejaVuSans-48\"/>\n      </g>\n     </g>\n    </g>\n    <g id=\"xtick_5\">\n     <g id=\"line2d_5\">\n      <g>\n       <use style=\"stroke:#000000;stroke-width:0.8;\" x=\"201.716754\" xlink:href=\"#mfc45a927b5\" y=\"239.758125\"/>\n      </g>\n     </g>\n     <g id=\"text_5\">\n      <!-- 1000 -->\n      <defs>\n       <path d=\"M 12.40625 8.296875 \nL 28.515625 8.296875 \nL 28.515625 63.921875 \nL 10.984375 60.40625 \nL 10.984375 69.390625 \nL 28.421875 72.90625 \nL 38.28125 72.90625 \nL 38.28125 8.296875 \nL 54.390625 8.296875 \nL 54.390625 0 \nL 12.40625 0 \nz\n\" id=\"DejaVuSans-49\"/>\n      </defs>\n      <g transform=\"translate(188.991754 254.356562)scale(0.1 -0.1)\">\n       <use xlink:href=\"#DejaVuSans-49\"/>\n       <use x=\"63.623047\" xlink:href=\"#DejaVuSans-48\"/>\n       <use x=\"127.246094\" xlink:href=\"#DejaVuSans-48\"/>\n       <use x=\"190.869141\" xlink:href=\"#DejaVuSans-48\"/>\n      </g>\n     </g>\n    </g>\n    <g id=\"xtick_6\">\n     <g id=\"line2d_6\">\n      <g>\n       <use style=\"stroke:#000000;stroke-width:0.8;\" x=\"239.781241\" xlink:href=\"#mfc45a927b5\" y=\"239.758125\"/>\n      </g>\n     </g>\n     <g id=\"text_6\">\n      <!-- 1250 -->\n      <g transform=\"translate(227.056241 254.356562)scale(0.1 -0.1)\">\n       <use xlink:href=\"#DejaVuSans-49\"/>\n       <use x=\"63.623047\" xlink:href=\"#DejaVuSans-50\"/>\n       <use x=\"127.246094\" xlink:href=\"#DejaVuSans-53\"/>\n       <use x=\"190.869141\" xlink:href=\"#DejaVuSans-48\"/>\n      </g>\n     </g>\n    </g>\n    <g id=\"xtick_7\">\n     <g id=\"line2d_7\">\n      <g>\n       <use style=\"stroke:#000000;stroke-width:0.8;\" x=\"277.845728\" xlink:href=\"#mfc45a927b5\" y=\"239.758125\"/>\n      </g>\n     </g>\n     <g id=\"text_7\">\n      <!-- 1500 -->\n      <g transform=\"translate(265.120728 254.356562)scale(0.1 -0.1)\">\n       <use xlink:href=\"#DejaVuSans-49\"/>\n       <use x=\"63.623047\" xlink:href=\"#DejaVuSans-53\"/>\n       <use x=\"127.246094\" xlink:href=\"#DejaVuSans-48\"/>\n       <use x=\"190.869141\" xlink:href=\"#DejaVuSans-48\"/>\n      </g>\n     </g>\n    </g>\n    <g id=\"xtick_8\">\n     <g id=\"line2d_8\">\n      <g>\n       <use style=\"stroke:#000000;stroke-width:0.8;\" x=\"315.910214\" xlink:href=\"#mfc45a927b5\" y=\"239.758125\"/>\n      </g>\n     </g>\n     <g id=\"text_8\">\n      <!-- 1750 -->\n      <g transform=\"translate(303.185214 254.356562)scale(0.1 -0.1)\">\n       <use xlink:href=\"#DejaVuSans-49\"/>\n       <use x=\"63.623047\" xlink:href=\"#DejaVuSans-55\"/>\n       <use x=\"127.246094\" xlink:href=\"#DejaVuSans-53\"/>\n       <use x=\"190.869141\" xlink:href=\"#DejaVuSans-48\"/>\n      </g>\n     </g>\n    </g>\n    <g id=\"xtick_9\">\n     <g id=\"line2d_9\">\n      <g>\n       <use style=\"stroke:#000000;stroke-width:0.8;\" x=\"353.974701\" xlink:href=\"#mfc45a927b5\" y=\"239.758125\"/>\n      </g>\n     </g>\n     <g id=\"text_9\">\n      <!-- 2000 -->\n      <g transform=\"translate(341.249701 254.356562)scale(0.1 -0.1)\">\n       <use xlink:href=\"#DejaVuSans-50\"/>\n       <use x=\"63.623047\" xlink:href=\"#DejaVuSans-48\"/>\n       <use x=\"127.246094\" xlink:href=\"#DejaVuSans-48\"/>\n       <use x=\"190.869141\" xlink:href=\"#DejaVuSans-48\"/>\n      </g>\n     </g>\n    </g>\n    <g id=\"text_10\">\n     <!-- Training steps -->\n     <defs>\n      <path d=\"M -0.296875 72.90625 \nL 61.375 72.90625 \nL 61.375 64.59375 \nL 35.5 64.59375 \nL 35.5 0 \nL 25.59375 0 \nL 25.59375 64.59375 \nL -0.296875 64.59375 \nz\n\" id=\"DejaVuSans-84\"/>\n      <path d=\"M 41.109375 46.296875 \nQ 39.59375 47.171875 37.8125 47.578125 \nQ 36.03125 48 33.890625 48 \nQ 26.265625 48 22.1875 43.046875 \nQ 18.109375 38.09375 18.109375 28.8125 \nL 18.109375 0 \nL 9.078125 0 \nL 9.078125 54.6875 \nL 18.109375 54.6875 \nL 18.109375 46.1875 \nQ 20.953125 51.171875 25.484375 53.578125 \nQ 30.03125 56 36.53125 56 \nQ 37.453125 56 38.578125 55.875 \nQ 39.703125 55.765625 41.0625 55.515625 \nz\n\" id=\"DejaVuSans-114\"/>\n      <path d=\"M 34.28125 27.484375 \nQ 23.390625 27.484375 19.1875 25 \nQ 14.984375 22.515625 14.984375 16.5 \nQ 14.984375 11.71875 18.140625 8.90625 \nQ 21.296875 6.109375 26.703125 6.109375 \nQ 34.1875 6.109375 38.703125 11.40625 \nQ 43.21875 16.703125 43.21875 25.484375 \nL 43.21875 27.484375 \nz\nM 52.203125 31.203125 \nL 52.203125 0 \nL 43.21875 0 \nL 43.21875 8.296875 \nQ 40.140625 3.328125 35.546875 0.953125 \nQ 30.953125 -1.421875 24.3125 -1.421875 \nQ 15.921875 -1.421875 10.953125 3.296875 \nQ 6 8.015625 6 15.921875 \nQ 6 25.140625 12.171875 29.828125 \nQ 18.359375 34.515625 30.609375 34.515625 \nL 43.21875 34.515625 \nL 43.21875 35.40625 \nQ 43.21875 41.609375 39.140625 45 \nQ 35.0625 48.390625 27.6875 48.390625 \nQ 23 48.390625 18.546875 47.265625 \nQ 14.109375 46.140625 10.015625 43.890625 \nL 10.015625 52.203125 \nQ 14.9375 54.109375 19.578125 55.046875 \nQ 24.21875 56 28.609375 56 \nQ 40.484375 56 46.34375 49.84375 \nQ 52.203125 43.703125 52.203125 31.203125 \nz\n\" id=\"DejaVuSans-97\"/>\n      <path d=\"M 9.421875 54.6875 \nL 18.40625 54.6875 \nL 18.40625 0 \nL 9.421875 0 \nz\nM 9.421875 75.984375 \nL 18.40625 75.984375 \nL 18.40625 64.59375 \nL 9.421875 64.59375 \nz\n\" id=\"DejaVuSans-105\"/>\n      <path d=\"M 54.890625 33.015625 \nL 54.890625 0 \nL 45.90625 0 \nL 45.90625 32.71875 \nQ 45.90625 40.484375 42.875 44.328125 \nQ 39.84375 48.1875 33.796875 48.1875 \nQ 26.515625 48.1875 22.3125 43.546875 \nQ 18.109375 38.921875 18.109375 30.90625 \nL 18.109375 0 \nL 9.078125 0 \nL 9.078125 54.6875 \nL 18.109375 54.6875 \nL 18.109375 46.1875 \nQ 21.34375 51.125 25.703125 53.5625 \nQ 30.078125 56 35.796875 56 \nQ 45.21875 56 50.046875 50.171875 \nQ 54.890625 44.34375 54.890625 33.015625 \nz\n\" id=\"DejaVuSans-110\"/>\n      <path d=\"M 45.40625 27.984375 \nQ 45.40625 37.75 41.375 43.109375 \nQ 37.359375 48.484375 30.078125 48.484375 \nQ 22.859375 48.484375 18.828125 43.109375 \nQ 14.796875 37.75 14.796875 27.984375 \nQ 14.796875 18.265625 18.828125 12.890625 \nQ 22.859375 7.515625 30.078125 7.515625 \nQ 37.359375 7.515625 41.375 12.890625 \nQ 45.40625 18.265625 45.40625 27.984375 \nz\nM 54.390625 6.78125 \nQ 54.390625 -7.171875 48.1875 -13.984375 \nQ 42 -20.796875 29.203125 -20.796875 \nQ 24.46875 -20.796875 20.265625 -20.09375 \nQ 16.0625 -19.390625 12.109375 -17.921875 \nL 12.109375 -9.1875 \nQ 16.0625 -11.328125 19.921875 -12.34375 \nQ 23.78125 -13.375 27.78125 -13.375 \nQ 36.625 -13.375 41.015625 -8.765625 \nQ 45.40625 -4.15625 45.40625 5.171875 \nL 45.40625 9.625 \nQ 42.625 4.78125 38.28125 2.390625 \nQ 33.9375 0 27.875 0 \nQ 17.828125 0 11.671875 7.65625 \nQ 5.515625 15.328125 5.515625 27.984375 \nQ 5.515625 40.671875 11.671875 48.328125 \nQ 17.828125 56 27.875 56 \nQ 33.9375 56 38.28125 53.609375 \nQ 42.625 51.21875 45.40625 46.390625 \nL 45.40625 54.6875 \nL 54.390625 54.6875 \nz\n\" id=\"DejaVuSans-103\"/>\n      <path id=\"DejaVuSans-32\"/>\n      <path d=\"M 44.28125 53.078125 \nL 44.28125 44.578125 \nQ 40.484375 46.53125 36.375 47.5 \nQ 32.28125 48.484375 27.875 48.484375 \nQ 21.1875 48.484375 17.84375 46.4375 \nQ 14.5 44.390625 14.5 40.28125 \nQ 14.5 37.15625 16.890625 35.375 \nQ 19.28125 33.59375 26.515625 31.984375 \nL 29.59375 31.296875 \nQ 39.15625 29.25 43.1875 25.515625 \nQ 47.21875 21.78125 47.21875 15.09375 \nQ 47.21875 7.46875 41.1875 3.015625 \nQ 35.15625 -1.421875 24.609375 -1.421875 \nQ 20.21875 -1.421875 15.453125 -0.5625 \nQ 10.6875 0.296875 5.421875 2 \nL 5.421875 11.28125 \nQ 10.40625 8.6875 15.234375 7.390625 \nQ 20.0625 6.109375 24.8125 6.109375 \nQ 31.15625 6.109375 34.5625 8.28125 \nQ 37.984375 10.453125 37.984375 14.40625 \nQ 37.984375 18.0625 35.515625 20.015625 \nQ 33.0625 21.96875 24.703125 23.78125 \nL 21.578125 24.515625 \nQ 13.234375 26.265625 9.515625 29.90625 \nQ 5.8125 33.546875 5.8125 39.890625 \nQ 5.8125 47.609375 11.28125 51.796875 \nQ 16.75 56 26.8125 56 \nQ 31.78125 56 36.171875 55.265625 \nQ 40.578125 54.546875 44.28125 53.078125 \nz\n\" id=\"DejaVuSans-115\"/>\n      <path d=\"M 18.3125 70.21875 \nL 18.3125 54.6875 \nL 36.8125 54.6875 \nL 36.8125 47.703125 \nL 18.3125 47.703125 \nL 18.3125 18.015625 \nQ 18.3125 11.328125 20.140625 9.421875 \nQ 21.96875 7.515625 27.59375 7.515625 \nL 36.8125 7.515625 \nL 36.8125 0 \nL 27.59375 0 \nQ 17.1875 0 13.234375 3.875 \nQ 9.28125 7.765625 9.28125 18.015625 \nL 9.28125 47.703125 \nL 2.6875 47.703125 \nL 2.6875 54.6875 \nL 9.28125 54.6875 \nL 9.28125 70.21875 \nz\n\" id=\"DejaVuSans-116\"/>\n      <path d=\"M 56.203125 29.59375 \nL 56.203125 25.203125 \nL 14.890625 25.203125 \nQ 15.484375 15.921875 20.484375 11.0625 \nQ 25.484375 6.203125 34.421875 6.203125 \nQ 39.59375 6.203125 44.453125 7.46875 \nQ 49.3125 8.734375 54.109375 11.28125 \nL 54.109375 2.78125 \nQ 49.265625 0.734375 44.1875 -0.34375 \nQ 39.109375 -1.421875 33.890625 -1.421875 \nQ 20.796875 -1.421875 13.15625 6.1875 \nQ 5.515625 13.8125 5.515625 26.8125 \nQ 5.515625 40.234375 12.765625 48.109375 \nQ 20.015625 56 32.328125 56 \nQ 43.359375 56 49.78125 48.890625 \nQ 56.203125 41.796875 56.203125 29.59375 \nz\nM 47.21875 32.234375 \nQ 47.125 39.59375 43.09375 43.984375 \nQ 39.0625 48.390625 32.421875 48.390625 \nQ 24.90625 48.390625 20.390625 44.140625 \nQ 15.875 39.890625 15.1875 32.171875 \nz\n\" id=\"DejaVuSans-101\"/>\n      <path d=\"M 18.109375 8.203125 \nL 18.109375 -20.796875 \nL 9.078125 -20.796875 \nL 9.078125 54.6875 \nL 18.109375 54.6875 \nL 18.109375 46.390625 \nQ 20.953125 51.265625 25.265625 53.625 \nQ 29.59375 56 35.59375 56 \nQ 45.5625 56 51.78125 48.09375 \nQ 58.015625 40.1875 58.015625 27.296875 \nQ 58.015625 14.40625 51.78125 6.484375 \nQ 45.5625 -1.421875 35.59375 -1.421875 \nQ 29.59375 -1.421875 25.265625 0.953125 \nQ 20.953125 3.328125 18.109375 8.203125 \nz\nM 48.6875 27.296875 \nQ 48.6875 37.203125 44.609375 42.84375 \nQ 40.53125 48.484375 33.40625 48.484375 \nQ 26.265625 48.484375 22.1875 42.84375 \nQ 18.109375 37.203125 18.109375 27.296875 \nQ 18.109375 17.390625 22.1875 11.75 \nQ 26.265625 6.109375 33.40625 6.109375 \nQ 40.53125 6.109375 44.609375 11.75 \nQ 48.6875 17.390625 48.6875 27.296875 \nz\n\" id=\"DejaVuSans-112\"/>\n     </defs>\n     <g transform=\"translate(166.905469 268.034687)scale(0.1 -0.1)\">\n      <use xlink:href=\"#DejaVuSans-84\"/>\n      <use x=\"46.333984\" xlink:href=\"#DejaVuSans-114\"/>\n      <use x=\"87.447266\" xlink:href=\"#DejaVuSans-97\"/>\n      <use x=\"148.726562\" xlink:href=\"#DejaVuSans-105\"/>\n      <use x=\"176.509766\" xlink:href=\"#DejaVuSans-110\"/>\n      <use x=\"239.888672\" xlink:href=\"#DejaVuSans-105\"/>\n      <use x=\"267.671875\" xlink:href=\"#DejaVuSans-110\"/>\n      <use x=\"331.050781\" xlink:href=\"#DejaVuSans-103\"/>\n      <use x=\"394.527344\" xlink:href=\"#DejaVuSans-32\"/>\n      <use x=\"426.314453\" xlink:href=\"#DejaVuSans-115\"/>\n      <use x=\"478.414062\" xlink:href=\"#DejaVuSans-116\"/>\n      <use x=\"517.623047\" xlink:href=\"#DejaVuSans-101\"/>\n      <use x=\"579.146484\" xlink:href=\"#DejaVuSans-112\"/>\n      <use x=\"642.623047\" xlink:href=\"#DejaVuSans-115\"/>\n     </g>\n    </g>\n   </g>\n   <g id=\"matplotlib.axis_2\">\n    <g id=\"ytick_1\">\n     <g id=\"line2d_10\">\n      <defs>\n       <path d=\"M 0 0 \nL -3.5 0 \n\" id=\"m8c0a53e8a8\" style=\"stroke:#000000;stroke-width:0.8;\"/>\n      </defs>\n      <g>\n       <use style=\"stroke:#000000;stroke-width:0.8;\" x=\"34.240625\" xlink:href=\"#m8c0a53e8a8\" y=\"239.758125\"/>\n      </g>\n     </g>\n     <g id=\"text_11\">\n      <!-- 0 -->\n      <g transform=\"translate(20.878125 243.557344)scale(0.1 -0.1)\">\n       <use xlink:href=\"#DejaVuSans-48\"/>\n      </g>\n     </g>\n    </g>\n    <g id=\"ytick_2\">\n     <g id=\"line2d_11\">\n      <g>\n       <use style=\"stroke:#000000;stroke-width:0.8;\" x=\"34.240625\" xlink:href=\"#m8c0a53e8a8\" y=\"196.270125\"/>\n      </g>\n     </g>\n     <g id=\"text_12\">\n      <!-- 1 -->\n      <g transform=\"translate(20.878125 200.069344)scale(0.1 -0.1)\">\n       <use xlink:href=\"#DejaVuSans-49\"/>\n      </g>\n     </g>\n    </g>\n    <g id=\"ytick_3\">\n     <g id=\"line2d_12\">\n      <g>\n       <use style=\"stroke:#000000;stroke-width:0.8;\" x=\"34.240625\" xlink:href=\"#m8c0a53e8a8\" y=\"152.782125\"/>\n      </g>\n     </g>\n     <g id=\"text_13\">\n      <!-- 2 -->\n      <g transform=\"translate(20.878125 156.581344)scale(0.1 -0.1)\">\n       <use xlink:href=\"#DejaVuSans-50\"/>\n      </g>\n     </g>\n    </g>\n    <g id=\"ytick_4\">\n     <g id=\"line2d_13\">\n      <g>\n       <use style=\"stroke:#000000;stroke-width:0.8;\" x=\"34.240625\" xlink:href=\"#m8c0a53e8a8\" y=\"109.294125\"/>\n      </g>\n     </g>\n     <g id=\"text_14\">\n      <!-- 3 -->\n      <defs>\n       <path d=\"M 40.578125 39.3125 \nQ 47.65625 37.796875 51.625 33 \nQ 55.609375 28.21875 55.609375 21.1875 \nQ 55.609375 10.40625 48.1875 4.484375 \nQ 40.765625 -1.421875 27.09375 -1.421875 \nQ 22.515625 -1.421875 17.65625 -0.515625 \nQ 12.796875 0.390625 7.625 2.203125 \nL 7.625 11.71875 \nQ 11.71875 9.328125 16.59375 8.109375 \nQ 21.484375 6.890625 26.8125 6.890625 \nQ 36.078125 6.890625 40.9375 10.546875 \nQ 45.796875 14.203125 45.796875 21.1875 \nQ 45.796875 27.640625 41.28125 31.265625 \nQ 36.765625 34.90625 28.71875 34.90625 \nL 20.21875 34.90625 \nL 20.21875 43.015625 \nL 29.109375 43.015625 \nQ 36.375 43.015625 40.234375 45.921875 \nQ 44.09375 48.828125 44.09375 54.296875 \nQ 44.09375 59.90625 40.109375 62.90625 \nQ 36.140625 65.921875 28.71875 65.921875 \nQ 24.65625 65.921875 20.015625 65.03125 \nQ 15.375 64.15625 9.8125 62.3125 \nL 9.8125 71.09375 \nQ 15.4375 72.65625 20.34375 73.4375 \nQ 25.25 74.21875 29.59375 74.21875 \nQ 40.828125 74.21875 47.359375 69.109375 \nQ 53.90625 64.015625 53.90625 55.328125 \nQ 53.90625 49.265625 50.4375 45.09375 \nQ 46.96875 40.921875 40.578125 39.3125 \nz\n\" id=\"DejaVuSans-51\"/>\n      </defs>\n      <g transform=\"translate(20.878125 113.093344)scale(0.1 -0.1)\">\n       <use xlink:href=\"#DejaVuSans-51\"/>\n      </g>\n     </g>\n    </g>\n    <g id=\"ytick_5\">\n     <g id=\"line2d_14\">\n      <g>\n       <use style=\"stroke:#000000;stroke-width:0.8;\" x=\"34.240625\" xlink:href=\"#m8c0a53e8a8\" y=\"65.806125\"/>\n      </g>\n     </g>\n     <g id=\"text_15\">\n      <!-- 4 -->\n      <defs>\n       <path d=\"M 37.796875 64.3125 \nL 12.890625 25.390625 \nL 37.796875 25.390625 \nz\nM 35.203125 72.90625 \nL 47.609375 72.90625 \nL 47.609375 25.390625 \nL 58.015625 25.390625 \nL 58.015625 17.1875 \nL 47.609375 17.1875 \nL 47.609375 0 \nL 37.796875 0 \nL 37.796875 17.1875 \nL 4.890625 17.1875 \nL 4.890625 26.703125 \nz\n\" id=\"DejaVuSans-52\"/>\n      </defs>\n      <g transform=\"translate(20.878125 69.605344)scale(0.1 -0.1)\">\n       <use xlink:href=\"#DejaVuSans-52\"/>\n      </g>\n     </g>\n    </g>\n    <g id=\"ytick_6\">\n     <g id=\"line2d_15\">\n      <g>\n       <use style=\"stroke:#000000;stroke-width:0.8;\" x=\"34.240625\" xlink:href=\"#m8c0a53e8a8\" y=\"22.318125\"/>\n      </g>\n     </g>\n     <g id=\"text_16\">\n      <!-- 5 -->\n      <g transform=\"translate(20.878125 26.117344)scale(0.1 -0.1)\">\n       <use xlink:href=\"#DejaVuSans-53\"/>\n      </g>\n     </g>\n    </g>\n    <g id=\"text_17\">\n     <!-- Loss -->\n     <defs>\n      <path d=\"M 9.8125 72.90625 \nL 19.671875 72.90625 \nL 19.671875 8.296875 \nL 55.171875 8.296875 \nL 55.171875 0 \nL 9.8125 0 \nz\n\" id=\"DejaVuSans-76\"/>\n      <path d=\"M 30.609375 48.390625 \nQ 23.390625 48.390625 19.1875 42.75 \nQ 14.984375 37.109375 14.984375 27.296875 \nQ 14.984375 17.484375 19.15625 11.84375 \nQ 23.34375 6.203125 30.609375 6.203125 \nQ 37.796875 6.203125 41.984375 11.859375 \nQ 46.1875 17.53125 46.1875 27.296875 \nQ 46.1875 37.015625 41.984375 42.703125 \nQ 37.796875 48.390625 30.609375 48.390625 \nz\nM 30.609375 56 \nQ 42.328125 56 49.015625 48.375 \nQ 55.71875 40.765625 55.71875 27.296875 \nQ 55.71875 13.875 49.015625 6.21875 \nQ 42.328125 -1.421875 30.609375 -1.421875 \nQ 18.84375 -1.421875 12.171875 6.21875 \nQ 5.515625 13.875 5.515625 27.296875 \nQ 5.515625 40.765625 12.171875 48.375 \nQ 18.84375 56 30.609375 56 \nz\n\" id=\"DejaVuSans-111\"/>\n     </defs>\n     <g transform=\"translate(14.798437 142.005312)rotate(-90)scale(0.1 -0.1)\">\n      <use xlink:href=\"#DejaVuSans-76\"/>\n      <use x=\"53.962891\" xlink:href=\"#DejaVuSans-111\"/>\n      <use x=\"115.144531\" xlink:href=\"#DejaVuSans-115\"/>\n      <use x=\"167.244141\" xlink:href=\"#DejaVuSans-115\"/>\n     </g>\n    </g>\n   </g>\n   <g id=\"line2d_16\">\n    <path clip-path=\"url(#p6f50146f16)\" d=\"M 49.458807 134.417937 \nL 49.611065 106.647024 \nL 49.915581 127.896796 \nL 50.220097 133.552387 \nL 50.524612 135.282201 \nL 50.67687 135.115509 \nL 50.829128 137.454234 \nL 50.981386 136.26288 \nL 51.133644 140.632143 \nL 51.285902 137.158291 \nL 51.43816 139.486337 \nL 51.590418 138.926965 \nL 51.742676 143.114243 \nL 51.894934 139.240182 \nL 52.047192 138.411523 \nL 52.19945 145.21826 \nL 52.503966 144.111553 \nL 52.656224 145.694364 \nL 52.808482 144.893949 \nL 52.96074 147.602928 \nL 53.112998 138.357649 \nL 53.265255 145.818442 \nL 53.417513 147.265335 \nL 53.569771 147.088679 \nL 53.722029 144.959725 \nL 53.874287 154.060983 \nL 54.026545 142.992383 \nL 54.331061 153.924141 \nL 54.483319 148.259784 \nL 54.635577 157.303922 \nL 54.787835 158.123794 \nL 54.940093 152.716182 \nL 55.092351 156.64941 \nL 55.244609 151.734404 \nL 55.396867 159.98597 \nL 55.549125 152.155027 \nL 55.701383 157.634662 \nL 56.005899 150.698253 \nL 56.158156 154.776482 \nL 56.310414 149.564734 \nL 56.462672 155.733055 \nL 56.61493 154.528186 \nL 56.919446 165.60353 \nL 57.071704 164.232399 \nL 57.223962 147.934601 \nL 57.37622 156.084863 \nL 57.528478 156.114284 \nL 57.680736 157.47148 \nL 57.832994 157.373976 \nL 57.985252 156.484325 \nL 58.442026 161.808191 \nL 58.594284 153.729429 \nL 58.746542 157.674653 \nL 58.8988 158.105898 \nL 59.051057 156.451245 \nL 59.203315 159.414974 \nL 59.355573 158.795673 \nL 59.660089 161.979191 \nL 59.812347 163.152338 \nL 59.964605 162.235476 \nL 60.116863 163.160929 \nL 60.573637 160.869006 \nL 60.725895 161.799508 \nL 60.878153 158.032003 \nL 61.182669 169.270752 \nL 61.334927 166.536178 \nL 61.487185 166.865964 \nL 61.639443 161.929407 \nL 61.791701 166.373483 \nL 61.943958 166.254589 \nL 62.096216 169.858186 \nL 62.248474 162.177118 \nL 62.400732 160.3042 \nL 62.55299 164.728939 \nL 62.705248 162.964687 \nL 62.857506 159.035809 \nL 63.162022 166.454797 \nL 63.31428 168.673447 \nL 63.466538 168.970339 \nL 63.771054 165.301417 \nL 63.923312 159.967229 \nL 64.07557 171.026357 \nL 64.380086 159.5083 \nL 64.532344 180.308049 \nL 64.836859 165.685963 \nL 64.989117 165.712786 \nL 65.141375 172.381235 \nL 65.293633 172.509684 \nL 65.445891 165.113351 \nL 65.598149 168.005363 \nL 65.902665 169.599226 \nL 66.054923 164.502225 \nL 66.207181 170.381378 \nL 66.359439 170.828726 \nL 66.511697 173.012097 \nL 66.663955 168.354325 \nL 66.816213 172.769494 \nL 66.968471 168.383144 \nL 67.120729 167.514655 \nL 67.272987 168.980241 \nL 67.425245 166.001954 \nL 67.577503 167.42402 \nL 67.72976 174.861583 \nL 67.882018 171.292554 \nL 68.034276 175.060339 \nL 68.338792 147.336451 \nL 68.49105 170.784173 \nL 68.643308 167.610116 \nL 68.795566 169.537167 \nL 68.947824 173.558753 \nL 69.100082 167.956745 \nL 69.404598 173.307232 \nL 69.709114 171.177906 \nL 69.861372 174.275735 \nL 70.165888 175.077047 \nL 70.318146 178.263883 \nL 70.470404 169.3422 \nL 70.622661 174.260089 \nL 70.774919 169.973762 \nL 70.927177 169.985722 \nL 71.079435 169.56921 \nL 71.231693 179.162461 \nL 71.383951 174.201103 \nL 71.536209 175.443003 \nL 71.688467 174.632955 \nL 71.840725 165.411503 \nL 71.992983 177.300472 \nL 72.145241 180.199291 \nL 72.297499 177.136403 \nL 72.449757 171.704467 \nL 72.602015 173.615411 \nL 72.906531 180.279319 \nL 73.058789 179.39802 \nL 73.211047 168.680378 \nL 73.363305 172.275836 \nL 73.515562 169.209714 \nL 73.66782 176.022132 \nL 73.820078 170.664823 \nL 73.972336 176.142581 \nL 74.276852 168.983507 \nL 74.581368 184.427186 \nL 74.885884 174.103931 \nL 75.038142 181.153246 \nL 75.342658 175.266062 \nL 75.494916 183.829399 \nL 75.647174 181.359249 \nL 75.95169 154.756994 \nL 76.103948 184.45248 \nL 76.256206 187.566654 \nL 76.408463 174.025635 \nL 76.560721 172.853892 \nL 76.865237 183.646159 \nL 77.017495 179.578843 \nL 77.169753 181.196041 \nL 77.322011 179.705213 \nL 77.474269 173.821865 \nL 77.626527 180.950057 \nL 77.778785 177.187374 \nL 78.083301 187.245609 \nL 78.387817 180.798431 \nL 78.540075 179.981965 \nL 78.692333 184.914929 \nL 78.844591 174.800834 \nL 79.149107 179.316851 \nL 79.301364 186.310337 \nL 79.453622 183.643516 \nL 79.60588 189.209934 \nL 79.758138 165.456025 \nL 79.910396 184.159237 \nL 80.214912 175.404542 \nL 80.36717 183.1637 \nL 80.671686 186.07805 \nL 80.823944 181.498429 \nL 80.976202 183.228948 \nL 81.12846 176.197539 \nL 81.280718 177.43146 \nL 81.432976 182.123583 \nL 81.585234 183.176318 \nL 81.737492 186.493105 \nL 81.88975 180.064388 \nL 82.042008 181.760862 \nL 82.194265 190.541385 \nL 82.346523 192.003172 \nL 82.498781 181.89915 \nL 82.651039 183.661323 \nL 82.803297 182.887933 \nL 82.955555 177.219962 \nL 83.107813 189.849702 \nL 83.412329 183.823272 \nL 83.564587 175.065015 \nL 84.021361 189.508438 \nL 84.325877 185.736947 \nL 84.478135 187.758536 \nL 84.630393 181.739752 \nL 84.782651 185.272404 \nL 84.934909 192.389439 \nL 85.087166 183.965162 \nL 85.239424 184.234138 \nL 85.391682 179.908707 \nL 85.54394 189.739606 \nL 85.696198 188.476098 \nL 85.848456 185.936626 \nL 86.000714 181.468241 \nL 86.30523 194.12268 \nL 86.457488 188.4653 \nL 86.609746 192.011332 \nL 86.762004 183.534015 \nL 86.914262 190.601864 \nL 87.06652 186.647848 \nL 87.218778 185.942142 \nL 87.371036 192.683097 \nL 87.523294 183.954011 \nL 87.675552 191.901365 \nL 87.82781 189.504576 \nL 88.132325 200.45324 \nL 88.436841 184.894623 \nL 88.589099 193.030727 \nL 88.741357 190.739467 \nL 88.893615 185.622802 \nL 89.198131 198.206927 \nL 89.350389 192.989176 \nL 89.502647 194.231796 \nL 89.654905 191.95414 \nL 89.807163 185.025637 \nL 90.263937 196.530765 \nL 90.416195 194.27934 \nL 90.72071 187.310774 \nL 90.872968 197.210718 \nL 91.025226 194.656131 \nL 91.177484 228.388162 \nL 91.329742 191.504636 \nL 91.482 194.342385 \nL 91.634258 192.729573 \nL 91.938774 201.890039 \nL 92.091032 199.494681 \nL 92.24329 192.822266 \nL 92.395548 192.748049 \nL 92.547806 199.555569 \nL 92.700064 197.076907 \nL 92.852322 199.575054 \nL 93.00458 198.088256 \nL 93.156838 192.285974 \nL 93.461354 201.975956 \nL 93.613611 193.59378 \nL 93.765869 191.514325 \nL 93.918127 192.340578 \nL 94.222643 195.112743 \nL 94.374901 191.555425 \nL 94.527159 192.248228 \nL 94.679417 188.475585 \nL 94.983933 210.66939 \nL 95.136191 198.55535 \nL 95.440707 196.80451 \nL 95.592965 193.490693 \nL 95.745223 196.265138 \nL 95.897481 195.281747 \nL 96.049739 197.761744 \nL 96.201997 195.10957 \nL 96.354255 199.940556 \nL 96.506512 201.148303 \nL 96.65877 192.813919 \nL 96.811028 194.601562 \nL 96.963286 203.814751 \nL 97.115544 197.515511 \nL 97.267802 201.544876 \nL 97.42006 202.604662 \nL 97.572318 198.722112 \nL 97.724576 200.697979 \nL 97.876834 204.374551 \nL 98.029092 198.935972 \nL 98.18135 200.073712 \nL 98.333608 209.372533 \nL 98.638124 200.33031 \nL 98.790382 222.961959 \nL 99.094898 198.060334 \nL 99.247156 206.768364 \nL 99.399413 205.92414 \nL 99.551671 199.949525 \nL 99.703929 205.460001 \nL 99.856187 200.875193 \nL 100.008445 206.472133 \nL 100.160703 201.42514 \nL 100.312961 205.302573 \nL 100.617477 196.685896 \nL 100.921993 205.817779 \nL 101.074251 205.580237 \nL 101.226509 197.924872 \nL 101.378767 206.430779 \nL 101.531025 205.844039 \nL 101.683283 206.253337 \nL 101.835541 203.312853 \nL 101.987799 197.956775 \nL 102.292314 206.632238 \nL 102.444572 201.694549 \nL 102.59683 216.635285 \nL 102.901346 205.159484 \nL 103.053604 200.481234 \nL 103.205862 199.820597 \nL 103.35812 206.857159 \nL 103.510378 206.841261 \nL 103.662636 207.577943 \nL 103.814894 196.578174 \nL 103.967152 199.387065 \nL 104.271668 213.38958 \nL 104.423926 204.199521 \nL 104.728442 207.697752 \nL 104.8807 207.785839 \nL 105.032958 209.058175 \nL 105.185215 204.388178 \nL 105.337473 204.672877 \nL 105.489731 207.800046 \nL 105.641989 207.421402 \nL 105.794247 209.322855 \nL 106.098763 206.130187 \nL 106.251021 210.106689 \nL 106.403279 191.836589 \nL 106.707795 211.475164 \nL 106.860053 206.589557 \nL 107.012311 196.143724 \nL 107.164569 204.283401 \nL 107.316827 202.080995 \nL 107.469085 206.711846 \nL 107.621343 200.664453 \nL 107.773601 199.897434 \nL 107.925859 208.562993 \nL 108.078116 206.013238 \nL 108.230374 206.594044 \nL 108.382632 207.977298 \nL 108.53489 205.604517 \nL 108.687148 212.725527 \nL 109.143922 204.589765 \nL 109.29618 206.324485 \nL 109.448438 198.87911 \nL 109.600696 207.760133 \nL 109.752954 208.374673 \nL 109.905212 204.99475 \nL 110.209728 213.252964 \nL 110.514244 206.909278 \nL 110.666502 207.350617 \nL 110.81876 203.722203 \nL 110.971017 208.59753 \nL 111.123275 199.610257 \nL 111.275533 207.586424 \nL 111.580049 203.475439 \nL 111.884565 211.578585 \nL 112.036823 210.529433 \nL 112.189081 200.637815 \nL 112.341339 208.989881 \nL 112.493597 205.682573 \nL 112.645855 207.838663 \nL 112.798113 207.720624 \nL 112.950371 205.493791 \nL 113.102629 207.165788 \nL 113.254887 212.187736 \nL 113.407145 210.18735 \nL 113.711661 214.458635 \nL 113.863918 214.234912 \nL 114.016176 210.834309 \nL 114.320692 217.628718 \nL 114.47295 204.975742 \nL 114.777466 211.883695 \nL 114.929724 217.632186 \nL 115.386498 204.27092 \nL 115.538756 212.16259 \nL 115.691014 209.54781 \nL 115.843272 214.180973 \nL 115.99553 210.26948 \nL 116.300046 211.066306 \nL 116.452304 207.979294 \nL 116.604562 215.920333 \nL 116.756819 211.027466 \nL 116.909077 212.085084 \nL 117.213593 216.060472 \nL 117.365851 206.896146 \nL 117.518109 208.761619 \nL 117.670367 208.627189 \nL 117.822625 214.466857 \nL 117.974883 214.888359 \nL 118.127141 206.597849 \nL 118.279399 207.650838 \nL 118.431657 211.896466 \nL 118.583915 208.715421 \nL 118.736173 212.46208 \nL 119.040689 205.186696 \nL 119.192947 215.194437 \nL 119.345205 212.258378 \nL 119.64972 214.862658 \nL 119.801978 215.268877 \nL 119.954236 217.724501 \nL 120.106494 214.09179 \nL 120.258752 218.856774 \nL 120.41101 219.374662 \nL 120.563268 217.364745 \nL 120.715526 219.127543 \nL 120.867784 218.390444 \nL 121.020042 218.382458 \nL 121.1723 221.027068 \nL 121.93359 199.800819 \nL 122.390364 218.626218 \nL 122.542621 214.194187 \nL 122.694879 214.007176 \nL 122.847137 216.056076 \nL 122.999395 209.074985 \nL 123.151653 212.671471 \nL 123.303911 224.504959 \nL 123.456169 217.74222 \nL 123.608427 220.784361 \nL 123.760685 214.913976 \nL 123.912943 219.54947 \nL 124.217459 216.220406 \nL 124.369717 219.860809 \nL 124.521975 215.452918 \nL 124.674233 218.526452 \nL 124.826491 218.180079 \nL 124.978749 223.299647 \nL 125.131007 221.219246 \nL 125.283265 217.199484 \nL 125.435522 218.688861 \nL 125.58778 218.916578 \nL 125.740038 223.459104 \nL 125.892296 213.255559 \nL 126.196812 220.450706 \nL 126.34907 218.364556 \nL 126.501328 222.788505 \nL 126.653586 215.610781 \nL 126.805844 219.818637 \nL 126.958102 220.279246 \nL 127.11036 217.051846 \nL 127.414876 223.118015 \nL 127.567134 223.147984 \nL 127.719392 221.56553 \nL 127.87165 224.232738 \nL 128.023908 221.027904 \nL 128.176165 223.019538 \nL 128.328423 223.014539 \nL 128.480681 222.50019 \nL 128.632939 218.687079 \nL 128.937455 226.503027 \nL 129.089713 224.035422 \nL 129.241971 211.306556 \nL 129.394229 223.326469 \nL 129.546487 212.663169 \nL 129.698745 211.161912 \nL 130.155519 220.064656 \nL 130.307777 222.55421 \nL 130.460035 211.405968 \nL 130.764551 219.988536 \nL 130.916809 219.623055 \nL 131.069066 221.995758 \nL 131.373582 217.219728 \nL 131.52584 217.420472 \nL 131.678098 223.980593 \nL 131.830356 223.816619 \nL 131.982614 222.84529 \nL 132.134872 216.349998 \nL 132.28713 224.2651 \nL 132.439388 226.378475 \nL 132.743904 221.418011 \nL 132.896162 229.772059 \nL 133.04842 213.946454 \nL 133.200678 230.881605 \nL 133.505194 218.48882 \nL 133.657452 220.968306 \nL 133.80971 225.968092 \nL 133.961967 223.584061 \nL 134.114225 224.48619 \nL 134.266483 219.638846 \nL 134.723257 227.527102 \nL 135.027773 225.039669 \nL 135.180031 226.45292 \nL 135.332289 226.203581 \nL 135.484547 226.588945 \nL 135.636805 222.545671 \nL 135.789063 223.91477 \nL 135.941321 228.926794 \nL 136.093579 225.07542 \nL 136.245837 227.645671 \nL 136.398095 224.396172 \nL 136.550353 225.829154 \nL 136.702611 225.127612 \nL 136.854868 210.483737 \nL 137.007126 212.040373 \nL 137.4639 227.872867 \nL 137.616158 222.415779 \nL 137.768416 212.344619 \nL 138.22519 224.600011 \nL 138.377448 224.925187 \nL 138.529706 226.454227 \nL 138.681964 221.006982 \nL 138.834222 225.48967 \nL 138.98648 224.89069 \nL 139.138738 220.55874 \nL 139.290996 223.367581 \nL 139.443254 222.17997 \nL 139.747769 225.759628 \nL 139.900027 225.497021 \nL 140.204543 226.13949 \nL 140.356801 228.41294 \nL 140.661317 224.14835 \nL 140.813575 226.117899 \nL 140.965833 224.893685 \nL 141.118091 225.54994 \nL 141.422607 230.805372 \nL 141.574865 228.358267 \nL 141.727123 229.005609 \nL 141.879381 230.723618 \nL 142.031639 230.641334 \nL 142.336155 226.953087 \nL 142.488413 229.137344 \nL 142.64067 227.276061 \nL 142.792928 228.395732 \nL 142.945186 230.641489 \nL 143.097444 228.246482 \nL 143.249702 227.604479 \nL 143.554218 230.850911 \nL 143.706476 228.577966 \nL 143.858734 229.737003 \nL 144.010992 229.263136 \nL 144.16325 230.190698 \nL 144.315508 227.321976 \nL 144.467766 214.530189 \nL 144.620024 222.937984 \nL 144.772282 208.8864 \nL 144.92454 210.907237 \nL 145.229056 223.347371 \nL 145.381314 221.848204 \nL 145.533571 209.331707 \nL 145.685829 223.962717 \nL 145.838087 219.783377 \nL 145.990345 225.902142 \nL 146.142603 222.914527 \nL 146.294861 222.851226 \nL 146.447119 225.661875 \nL 146.599377 224.972787 \nL 146.751635 230.813818 \nL 147.208409 224.453833 \nL 147.360667 228.329845 \nL 147.512925 229.223042 \nL 147.665183 228.952218 \nL 147.817441 228.330689 \nL 147.969699 226.701586 \nL 148.274215 231.745147 \nL 148.57873 227.43649 \nL 148.730988 230.153244 \nL 148.883246 229.786948 \nL 149.035504 227.427379 \nL 149.187762 230.613396 \nL 149.492278 227.211838 \nL 149.796794 232.762687 \nL 149.949052 232.201572 \nL 150.253568 230.388152 \nL 150.710342 234.377083 \nL 150.8626 229.294367 \nL 151.014858 231.01397 \nL 151.167116 234.108877 \nL 151.319373 232.042475 \nL 151.471631 232.704216 \nL 151.623889 232.439533 \nL 151.776147 232.773798 \nL 151.928405 230.399955 \nL 152.080663 217.701462 \nL 152.232921 231.463 \nL 152.385179 216.452569 \nL 152.537437 223.126714 \nL 152.689695 224.590716 \nL 152.841953 227.779633 \nL 153.146469 227.913203 \nL 153.298727 229.543006 \nL 153.450985 227.841697 \nL 153.603243 228.660102 \nL 153.755501 230.927227 \nL 153.907759 228.59592 \nL 154.212274 233.038104 \nL 154.364532 228.379692 \nL 154.51679 231.512987 \nL 154.669048 231.632729 \nL 154.973564 233.827107 \nL 155.27808 232.29648 \nL 155.430338 233.207398 \nL 155.582596 231.259787 \nL 155.887112 234.072029 \nL 156.03937 234.266336 \nL 156.343886 232.50102 \nL 156.496144 232.260025 \nL 156.648402 231.123796 \nL 156.80066 234.288005 \nL 157.105175 228.407306 \nL 157.257433 234.296566 \nL 157.409691 235.089938 \nL 157.561949 234.286195 \nL 157.714207 231.403372 \nL 157.866465 234.324084 \nL 158.018723 234.900397 \nL 158.170981 235.038527 \nL 158.323239 232.030689 \nL 158.627755 235.317829 \nL 158.932271 232.863715 \nL 159.084529 235.831692 \nL 159.236787 234.765249 \nL 159.389045 232.407419 \nL 159.541303 232.745699 \nL 159.693561 222.883173 \nL 159.845819 234.287416 \nL 160.150334 213.199526 \nL 160.302592 230.3926 \nL 160.45485 233.236227 \nL 160.607108 230.309031 \nL 160.759366 223.551336 \nL 160.911624 222.102758 \nL 161.063882 230.881839 \nL 161.21614 230.269694 \nL 161.520656 225.660483 \nL 161.825172 232.350724 \nL 161.97743 231.308611 \nL 162.129688 232.386883 \nL 162.281946 230.864844 \nL 162.434204 230.616369 \nL 162.586462 231.078661 \nL 162.73872 231.151267 \nL 162.890977 230.414995 \nL 163.043235 232.239067 \nL 163.195493 231.97205 \nL 163.500009 234.302104 \nL 163.652267 232.234406 \nL 163.804525 232.65973 \nL 164.109041 235.080008 \nL 164.261299 232.879396 \nL 164.413557 233.032728 \nL 164.565815 235.073387 \nL 164.718073 233.794788 \nL 164.870331 234.116381 \nL 165.022589 233.460194 \nL 165.479363 236.184041 \nL 165.63162 234.224037 \nL 165.783878 235.649432 \nL 165.936136 235.190587 \nL 166.088394 234.30493 \nL 166.240652 234.491884 \nL 166.39291 235.552574 \nL 166.697426 234.973783 \nL 166.849684 235.575291 \nL 167.001942 235.12449 \nL 167.1542 233.902024 \nL 167.306458 235.76174 \nL 167.458716 235.982939 \nL 167.610974 233.206695 \nL 167.91549 235.690494 \nL 168.067748 237.396259 \nL 168.220006 235.339181 \nL 168.372264 235.296085 \nL 168.524521 234.480126 \nL 168.676779 234.672133 \nL 168.981295 236.026384 \nL 169.133553 236.041064 \nL 169.438069 236.897662 \nL 169.742585 234.515127 \nL 170.047101 236.837636 \nL 170.199359 236.740794 \nL 170.351617 233.981109 \nL 170.503875 234.884261 \nL 170.656133 237.047265 \nL 170.808391 236.255047 \nL 171.112907 238.012855 \nL 171.265165 237.93076 \nL 171.417422 235.874504 \nL 171.56968 236.713516 \nL 171.874196 236.703 \nL 172.178712 237.616017 \nL 172.33097 238.004503 \nL 172.483228 237.221515 \nL 172.635486 237.227548 \nL 172.787744 237.386921 \nL 172.940002 237.149731 \nL 173.09226 235.740104 \nL 173.244518 238.20287 \nL 173.396776 237.874711 \nL 173.549034 237.897543 \nL 173.701292 236.182754 \nL 174.158066 238.260251 \nL 174.310323 237.976836 \nL 174.462581 238.017923 \nL 174.614839 236.870159 \nL 174.767097 237.456063 \nL 174.919355 232.413215 \nL 175.071613 236.038998 \nL 175.223871 228.44976 \nL 175.528387 234.045973 \nL 175.680645 235.153032 \nL 175.832903 234.730896 \nL 175.985161 229.795846 \nL 176.289677 232.972128 \nL 176.441935 236.738754 \nL 176.594193 234.844989 \nL 176.746451 230.741904 \nL 177.050967 235.988499 \nL 177.203224 236.372852 \nL 177.355482 235.476123 \nL 177.50774 235.686264 \nL 177.659998 235.2072 \nL 177.964514 236.415341 \nL 178.116772 234.494747 \nL 178.26903 236.135371 \nL 178.421288 235.928496 \nL 178.573546 237.720722 \nL 178.725804 235.169245 \nL 178.878062 236.603115 \nL 179.03032 236.067191 \nL 179.182578 236.737892 \nL 179.334836 236.244309 \nL 179.487094 236.633804 \nL 179.639352 236.560341 \nL 179.79161 236.221933 \nL 179.943868 237.757209 \nL 180.096125 236.118601 \nL 180.400641 237.221167 \nL 180.705157 236.982024 \nL 180.857415 238.004534 \nL 181.009673 236.88966 \nL 181.466447 237.737842 \nL 181.770963 236.334809 \nL 181.923221 237.683606 \nL 182.075479 237.044202 \nL 182.227737 237.196041 \nL 182.532253 238.272962 \nL 182.684511 237.114635 \nL 182.836769 238.347839 \nL 182.989026 238.347383 \nL 183.141284 237.402718 \nL 183.293542 238.506842 \nL 183.4458 237.534788 \nL 183.598058 237.552019 \nL 183.750316 238.005208 \nL 184.054832 237.936402 \nL 184.359348 238.500314 \nL 184.511606 237.369646 \nL 184.663864 238.636505 \nL 184.816122 238.376935 \nL 184.96838 236.728865 \nL 185.120638 238.66441 \nL 185.272896 238.116748 \nL 185.425154 238.588539 \nL 185.72967 238.108581 \nL 186.034185 236.991288 \nL 186.186443 237.921531 \nL 186.338701 235.813191 \nL 186.490959 238.293591 \nL 186.643217 237.873487 \nL 186.795475 234.455914 \nL 187.099991 238.458354 \nL 187.252249 238.547109 \nL 187.404507 237.822227 \nL 187.556765 235.507335 \nL 187.861281 238.46632 \nL 188.013539 237.907164 \nL 188.165797 238.588601 \nL 188.470313 237.641413 \nL 188.622571 237.933128 \nL 188.774828 237.096547 \nL 188.927086 238.43745 \nL 189.079344 238.265849 \nL 189.231602 238.826865 \nL 189.536118 237.575971 \nL 189.688376 238.306188 \nL 189.840634 237.83237 \nL 189.992892 237.907734 \nL 190.14515 232.500357 \nL 190.297408 236.809438 \nL 190.449666 235.157657 \nL 190.601924 232.190565 \nL 190.90644 238.060961 \nL 191.058698 235.373852 \nL 191.363214 235.894923 \nL 191.515472 237.278494 \nL 191.667729 236.478636 \nL 191.819987 236.678334 \nL 191.972245 236.028696 \nL 192.124503 236.400336 \nL 192.429019 237.64234 \nL 192.581277 237.193555 \nL 192.733535 237.901816 \nL 193.038051 237.729602 \nL 193.190309 238.150209 \nL 193.342567 237.258057 \nL 193.494825 237.329872 \nL 193.799341 237.925329 \nL 193.951599 235.322837 \nL 194.103857 237.30026 \nL 194.408373 237.595874 \nL 194.56063 236.476124 \nL 194.712888 237.00563 \nL 194.865146 238.326864 \nL 195.169662 236.964563 \nL 195.474178 238.22047 \nL 195.626436 237.250831 \nL 195.778694 238.699483 \nL 195.930952 237.572743 \nL 196.08321 237.708172 \nL 196.235468 237.60471 \nL 196.387726 238.452142 \nL 196.539984 238.04015 \nL 196.692242 238.072515 \nL 196.8445 238.676618 \nL 196.996758 238.120983 \nL 197.149016 238.394761 \nL 197.453531 238.485395 \nL 197.605789 238.271989 \nL 198.062563 238.671216 \nL 198.214821 238.598384 \nL 198.367079 238.790039 \nL 198.519337 238.359901 \nL 198.671595 238.383425 \nL 198.823853 238.911951 \nL 199.128369 238.48882 \nL 199.280627 239.03988 \nL 199.585143 238.773937 \nL 199.737401 239.001595 \nL 199.889659 238.936976 \nL 200.041917 239.193443 \nL 200.194175 238.487246 \nL 200.346432 238.959695 \nL 200.49869 238.904207 \nL 200.650948 238.993818 \nL 200.803206 238.603423 \nL 200.955464 239.090977 \nL 201.107722 238.703794 \nL 201.412238 238.871287 \nL 201.564496 235.09609 \nL 201.716754 238.812076 \nL 201.869012 234.984858 \nL 202.478044 238.550871 \nL 202.630302 236.953068 \nL 202.78256 236.662494 \nL 202.934818 238.083947 \nL 203.087075 236.382275 \nL 203.239333 238.492807 \nL 203.543849 238.075777 \nL 203.696107 238.082557 \nL 203.848365 238.344424 \nL 204.000623 237.152787 \nL 204.152881 238.669454 \nL 204.305139 238.593622 \nL 204.457397 238.761183 \nL 204.761913 237.989981 \nL 204.914171 237.518863 \nL 205.066429 238.808861 \nL 205.218687 238.942756 \nL 205.370945 232.404687 \nL 205.523203 237.515592 \nL 205.675461 236.168286 \nL 205.827719 224.275391 \nL 206.132234 238.34383 \nL 206.284492 236.963207 \nL 206.43675 231.002394 \nL 206.893524 236.951436 \nL 207.045782 235.497132 \nL 207.19804 235.217852 \nL 207.350298 235.242469 \nL 207.654814 237.145505 \nL 207.95933 235.345727 \nL 208.111588 237.479458 \nL 208.263846 237.120962 \nL 208.568362 237.772539 \nL 208.872877 236.172808 \nL 209.025135 238.326812 \nL 209.177393 238.068582 \nL 209.329651 238.683154 \nL 209.634167 236.490497 \nL 209.786425 238.912458 \nL 209.938683 238.881458 \nL 210.090941 237.799993 \nL 210.243199 238.000223 \nL 210.547715 238.924623 \nL 210.699973 237.991676 \nL 210.852231 238.698275 \nL 211.004489 238.760093 \nL 211.156747 238.185148 \nL 211.309005 239.008416 \nL 211.461263 238.65484 \nL 211.613521 238.940083 \nL 211.765778 238.791165 \nL 211.918036 239.158342 \nL 212.070294 239.129063 \nL 212.222552 238.119121 \nL 212.527068 239.108395 \nL 212.679326 238.972242 \nL 212.831584 239.105863 \nL 212.983842 239.050702 \nL 213.1361 239.245927 \nL 213.288358 239.201348 \nL 213.440616 238.865784 \nL 213.89739 239.070587 \nL 214.201906 238.933289 \nL 214.506422 239.138998 \nL 214.810937 239.251449 \nL 214.963195 239.23899 \nL 215.115453 239.045647 \nL 215.267711 239.045736 \nL 215.572227 239.352245 \nL 215.724485 239.18569 \nL 216.029001 239.312564 \nL 216.181259 239.16889 \nL 216.333517 239.36149 \nL 216.790291 239.056848 \nL 216.942549 239.307545 \nL 217.399323 239.312552 \nL 217.55158 239.449105 \nL 217.856096 239.247909 \nL 218.008354 239.369004 \nL 218.160612 239.280163 \nL 218.465128 239.334314 \nL 218.617386 239.207863 \nL 219.226418 239.343259 \nL 220.444481 239.413576 \nL 220.596739 228.533129 \nL 220.748997 225.60988 \nL 220.901255 215.913946 \nL 221.053513 233.535698 \nL 221.205771 227.914289 \nL 221.358029 217.189212 \nL 221.662545 236.801873 \nL 221.967061 232.42958 \nL 222.119319 231.099087 \nL 222.423835 235.578804 \nL 222.728351 232.11527 \nL 223.185125 237.297443 \nL 223.337382 237.235526 \nL 223.48964 236.463498 \nL 223.641898 233.029707 \nL 223.946414 237.412367 \nL 224.098672 236.869103 \nL 224.25093 234.150747 \nL 224.403188 216.444362 \nL 224.555446 228.298224 \nL 224.707704 204.905608 \nL 224.859962 230.278367 \nL 225.01222 232.027086 \nL 225.164478 226.525487 \nL 225.316736 225.354714 \nL 225.468994 225.286546 \nL 225.621252 230.838658 \nL 225.77351 231.814466 \nL 225.925768 229.362691 \nL 226.078026 233.440749 \nL 226.230283 232.857866 \nL 226.382541 231.484271 \nL 226.687057 233.971302 \nL 226.839315 235.863943 \nL 226.991573 232.137515 \nL 227.143831 235.439911 \nL 227.296089 234.931733 \nL 227.448347 232.429188 \nL 227.600605 237.373442 \nL 227.905121 234.053953 \nL 228.057379 235.50109 \nL 228.209637 225.102004 \nL 228.361895 235.878719 \nL 228.666411 224.604446 \nL 228.818669 235.863708 \nL 228.970927 236.064419 \nL 229.275442 229.177617 \nL 229.579958 234.721947 \nL 229.884474 234.12132 \nL 230.036732 235.431186 \nL 230.18899 230.527377 \nL 230.493506 236.234877 \nL 230.645764 237.737058 \nL 230.798022 236.257665 \nL 230.95028 232.523691 \nL 231.102538 234.431474 \nL 231.254796 233.55151 \nL 231.407054 236.584317 \nL 231.559312 236.05948 \nL 231.71157 236.752472 \nL 231.863828 235.015025 \nL 232.016085 215.57866 \nL 232.168343 237.234881 \nL 232.472859 230.057188 \nL 232.625117 233.788323 \nL 232.777375 231.436591 \nL 232.929633 232.458618 \nL 233.081891 234.821038 \nL 233.234149 234.916737 \nL 233.538665 231.11151 \nL 233.690923 234.627649 \nL 233.843181 234.374094 \nL 233.995439 235.515308 \nL 234.147697 233.795036 \nL 234.452213 237.19469 \nL 234.604471 237.592841 \nL 234.756729 236.262588 \nL 234.908986 236.29578 \nL 235.061244 237.487198 \nL 235.213502 236.809942 \nL 235.36576 237.541943 \nL 235.518018 237.651245 \nL 235.670276 237.303384 \nL 235.974792 237.846029 \nL 236.12705 237.63728 \nL 236.279308 236.700947 \nL 236.88834 238.515282 \nL 237.040598 238.555483 \nL 237.192856 236.965062 \nL 237.345114 236.888089 \nL 237.497372 239.24897 \nL 237.64963 238.979214 \nL 237.801887 238.302551 \nL 237.954145 238.417878 \nL 238.106403 237.728341 \nL 238.258661 237.754889 \nL 238.715435 238.721235 \nL 238.867693 238.339709 \nL 239.019951 236.906379 \nL 239.172209 236.956653 \nL 239.324467 239.180685 \nL 239.476725 238.824094 \nL 239.628983 225.527769 \nL 239.781241 230.122815 \nL 239.933499 225.002432 \nL 240.238015 235.226035 \nL 240.390273 227.93323 \nL 240.54253 226.879167 \nL 240.847046 235.947997 \nL 241.151562 225.463408 \nL 241.30382 236.756336 \nL 241.456078 235.190012 \nL 241.608336 235.417807 \nL 241.760594 230.172109 \nL 242.06511 235.254365 \nL 242.217368 237.121238 \nL 242.369626 236.715938 \nL 242.521884 233.788955 \nL 242.674142 236.883145 \nL 242.8264 234.923962 \nL 242.978658 236.820277 \nL 243.130916 232.668366 \nL 243.283174 237.321736 \nL 243.435431 231.268082 \nL 243.587689 235.94076 \nL 243.892205 226.992319 \nL 244.044463 234.353761 \nL 244.196721 232.942049 \nL 244.348979 236.735739 \nL 244.501237 232.253201 \nL 244.653495 222.825503 \nL 244.805753 228.839654 \nL 244.958011 230.059586 \nL 245.110269 237.048621 \nL 245.414785 232.809344 \nL 245.567043 232.748595 \nL 245.719301 231.15231 \nL 245.871559 238.176606 \nL 246.023817 237.966736 \nL 246.176075 236.267583 \nL 246.328332 229.775543 \nL 246.632848 235.796985 \nL 246.785106 237.729373 \nL 247.089622 235.329194 \nL 247.394138 237.749579 \nL 247.546396 238.294984 \nL 247.850912 236.521289 \nL 248.00317 236.610915 \nL 248.155428 238.723927 \nL 248.459944 238.575257 \nL 248.612202 237.11653 \nL 248.916718 238.386165 \nL 249.068976 238.814466 \nL 249.221233 238.72447 \nL 249.373491 238.794813 \nL 249.678007 238.445663 \nL 249.982523 238.791356 \nL 250.134781 238.879514 \nL 250.287039 238.746327 \nL 250.439297 238.983345 \nL 250.591555 238.780959 \nL 250.743813 239.031858 \nL 250.896071 238.933401 \nL 251.048329 237.163582 \nL 251.200587 239.37931 \nL 251.352845 238.851265 \nL 251.505103 237.49628 \nL 251.657361 237.529629 \nL 251.961877 237.10212 \nL 252.114134 239.09633 \nL 252.266392 239.278742 \nL 252.41865 238.965918 \nL 252.570908 238.987218 \nL 252.875424 238.053241 \nL 253.17994 238.706445 \nL 253.332198 238.384705 \nL 253.788972 239.312353 \nL 253.94123 239.205394 \nL 254.093488 238.801411 \nL 254.245746 238.803089 \nL 254.550262 239.182721 \nL 254.70252 238.045765 \nL 254.854778 239.078138 \nL 255.159293 239.370534 \nL 255.311551 239.139483 \nL 255.463809 239.179485 \nL 255.616067 238.51112 \nL 255.768325 239.161059 \nL 255.920583 239.32003 \nL 256.072841 239.005253 \nL 256.225099 239.259859 \nL 256.377357 239.217722 \nL 256.681873 239.466534 \nL 256.986389 239.018357 \nL 257.443163 239.413129 \nL 257.747679 239.42467 \nL 257.899936 239.241944 \nL 258.052194 239.480408 \nL 258.204452 239.351457 \nL 258.35671 239.408092 \nL 258.508968 239.270315 \nL 258.661226 237.304502 \nL 258.813484 239.565054 \nL 259.118 239.310278 \nL 259.270258 239.069267 \nL 259.422516 239.058349 \nL 259.574774 238.168385 \nL 259.87929 239.223632 \nL 260.031548 239.099269 \nL 260.488322 239.452034 \nL 260.64058 239.049107 \nL 260.792837 239.033743 \nL 260.945095 239.284191 \nL 261.097353 239.108918 \nL 261.401869 239.457521 \nL 261.554127 239.325064 \nL 261.706385 239.547058 \nL 261.858643 239.317545 \nL 262.315417 239.442102 \nL 262.467675 237.431804 \nL 262.619933 239.417521 \nL 262.924449 239.108372 \nL 263.076707 237.449142 \nL 263.228965 239.27271 \nL 263.381223 239.205343 \nL 263.533481 239.315521 \nL 263.685738 239.278995 \nL 263.837996 239.393452 \nL 263.990254 239.13927 \nL 264.142512 239.116468 \nL 264.29477 239.401026 \nL 264.447028 238.251064 \nL 264.599286 239.168948 \nL 264.751544 239.079482 \nL 264.903802 239.515103 \nL 265.05606 239.249031 \nL 265.208318 239.485238 \nL 265.360576 239.393289 \nL 265.512834 239.105833 \nL 265.665092 239.363607 \nL 265.81735 239.373448 \nL 265.969608 239.219617 \nL 266.121866 239.424135 \nL 266.274124 238.937473 \nL 266.426382 239.562189 \nL 267.035413 239.478432 \nL 267.187671 239.362351 \nL 267.644445 239.405949 \nL 267.796703 239.226133 \nL 267.948961 239.4662 \nL 269.928314 239.531714 \nL 270.080572 238.30273 \nL 270.23283 239.565477 \nL 270.385088 239.219473 \nL 270.537346 239.496723 \nL 270.689604 238.654697 \nL 270.841862 239.209589 \nL 270.99412 239.083432 \nL 271.146378 239.312335 \nL 271.298636 239.243887 \nL 271.450894 239.535346 \nL 271.75541 239.505979 \nL 271.907668 239.333192 \nL 272.059926 239.416244 \nL 272.364441 239.164698 \nL 272.516699 239.409075 \nL 272.821215 239.441926 \nL 272.973473 239.612777 \nL 273.125731 239.539211 \nL 273.277989 239.311677 \nL 273.430247 239.599485 \nL 273.734763 239.61548 \nL 273.887021 238.447978 \nL 274.039279 239.452146 \nL 274.191537 239.566586 \nL 274.343795 238.663385 \nL 274.496053 238.875187 \nL 274.648311 238.079867 \nL 274.800569 239.351684 \nL 274.952827 239.583767 \nL 275.105085 239.516387 \nL 275.257342 239.576101 \nL 275.4096 239.414856 \nL 275.561858 239.022168 \nL 275.714116 238.952987 \nL 275.866374 239.267498 \nL 276.018632 238.757404 \nL 276.17089 239.544824 \nL 276.779922 239.520386 \nL 277.084438 238.994699 \nL 277.388954 239.495345 \nL 277.541212 239.488073 \nL 277.69347 239.340132 \nL 277.845728 239.615351 \nL 278.302501 239.455657 \nL 278.454759 239.640835 \nL 278.607017 239.497188 \nL 279.216049 239.553261 \nL 279.368307 239.43998 \nL 279.825081 239.584866 \nL 280.129597 239.525319 \nL 280.586371 239.576029 \nL 283.022498 239.642351 \nL 283.174756 239.557791 \nL 283.63153 239.64167 \nL 284.088303 239.647872 \nL 284.392819 239.583558 \nL 284.697335 239.63911 \nL 285.154109 239.642016 \nL 285.306367 238.753796 \nL 285.458625 239.617864 \nL 285.610883 239.612342 \nL 286.067657 239.290514 \nL 286.219915 239.475532 \nL 286.372173 239.353122 \nL 286.676688 239.598174 \nL 286.828946 238.566149 \nL 286.981204 239.632173 \nL 287.590236 239.534337 \nL 287.742494 239.634237 \nL 287.894752 239.507739 \nL 288.04701 239.54384 \nL 288.199268 239.249369 \nL 288.351526 239.550914 \nL 288.960558 239.592484 \nL 289.112816 239.346453 \nL 289.265074 239.65561 \nL 290.939911 239.531597 \nL 291.092169 239.64226 \nL 291.396685 239.503828 \nL 291.548943 239.656212 \nL 292.614748 239.630744 \nL 293.376038 239.648355 \nL 293.680554 239.664546 \nL 295.507649 239.66128 \nL 296.573455 239.657898 \nL 296.725713 230.210607 \nL 296.877971 239.208517 \nL 297.182487 209.361693 \nL 297.334745 237.153644 \nL 297.487003 237.651605 \nL 297.791519 228.59047 \nL 298.248292 234.327309 \nL 298.40055 228.267995 \nL 298.552808 235.598014 \nL 298.705066 235.137328 \nL 298.857324 236.018051 \nL 299.16184 234.814762 \nL 299.466356 237.451837 \nL 299.618614 236.233263 \nL 299.770872 236.18706 \nL 300.075388 237.687432 \nL 300.227646 236.96894 \nL 300.379904 235.336857 \nL 300.532162 222.103577 \nL 300.68442 229.342915 \nL 300.836678 213.517018 \nL 301.141193 224.413906 \nL 301.445709 230.145788 \nL 301.597967 222.920998 \nL 301.750225 208.762076 \nL 301.902483 223.879526 \nL 302.054741 227.400054 \nL 302.206999 226.654012 \nL 302.511515 222.689494 \nL 302.663773 223.382647 \nL 302.816031 235.071697 \nL 303.272805 226.60336 \nL 303.577321 233.055535 \nL 303.729579 233.275405 \nL 303.881837 236.336105 \nL 304.034094 232.270028 \nL 304.186352 232.641393 \nL 304.33861 228.202605 \nL 304.490868 232.966541 \nL 304.643126 224.670298 \nL 304.795384 233.463098 \nL 304.947642 231.156168 \nL 305.0999 230.840278 \nL 305.252158 236.53642 \nL 305.404416 233.878154 \nL 305.556674 234.131329 \nL 305.86119 231.000773 \nL 306.013448 236.231527 \nL 306.165706 236.50492 \nL 306.317964 236.420089 \nL 306.470222 232.412327 \nL 306.62248 231.948752 \nL 306.774738 237.659055 \nL 307.079253 235.659988 \nL 307.231511 237.277394 \nL 307.383769 233.520704 \nL 307.536027 236.553376 \nL 307.840543 237.702684 \nL 307.992801 236.117832 \nL 308.145059 239.137187 \nL 308.297317 238.435023 \nL 308.449575 235.060429 \nL 308.601833 234.237988 \nL 308.754091 238.491223 \nL 308.906349 238.136665 \nL 309.058607 239.10976 \nL 309.210865 238.916481 \nL 309.363123 237.894504 \nL 309.515381 239.08031 \nL 309.667639 239.196651 \nL 309.972154 237.956997 \nL 310.124412 235.350346 \nL 310.27667 238.776237 \nL 310.428928 239.105006 \nL 310.733444 237.794505 \nL 310.885702 238.654857 \nL 311.03796 238.035483 \nL 311.190218 239.183363 \nL 311.342476 239.355391 \nL 311.494734 238.955789 \nL 311.646992 239.028549 \nL 311.79925 238.529196 \nL 311.951508 231.019169 \nL 312.103766 232.600632 \nL 312.256024 228.690617 \nL 312.408282 236.099663 \nL 312.712797 235.820277 \nL 312.865055 236.76913 \nL 313.017313 227.01737 \nL 313.169571 238.688122 \nL 313.321829 235.163725 \nL 313.474087 236.817485 \nL 313.778603 233.916186 \nL 313.930861 237.677994 \nL 314.083119 238.148731 \nL 314.235377 234.851857 \nL 314.387635 234.361965 \nL 314.539893 237.127002 \nL 314.692151 237.61309 \nL 314.844409 238.532836 \nL 315.301183 235.982026 \nL 315.45344 236.240555 \nL 315.605698 238.179872 \nL 315.757956 224.347979 \nL 315.910214 236.825889 \nL 316.062472 231.490085 \nL 316.21473 216.290087 \nL 316.519246 236.623884 \nL 316.671504 227.203332 \nL 316.823762 225.422365 \nL 317.128278 233.55768 \nL 317.280536 231.916674 \nL 317.432794 233.474594 \nL 317.585052 233.291025 \nL 317.889568 232.040196 \nL 318.041826 236.057471 \nL 318.194084 232.064916 \nL 318.498599 237.316795 \nL 318.650857 228.966536 \nL 318.955373 237.737934 \nL 319.259889 237.568906 \nL 319.412147 233.973866 \nL 319.564405 233.891207 \nL 319.716663 237.165665 \nL 319.868921 236.640522 \nL 320.021179 238.521325 \nL 320.173437 238.481149 \nL 320.477953 237.891895 \nL 320.630211 238.010385 \nL 320.934727 237.922835 \nL 321.086985 238.618203 \nL 321.239242 238.303206 \nL 321.3915 238.860245 \nL 321.543758 237.462582 \nL 321.696016 237.659738 \nL 321.848274 238.791665 \nL 322.000532 238.767798 \nL 322.15279 239.191657 \nL 322.457306 238.915136 \nL 322.609564 238.848484 \nL 322.91408 239.051964 \nL 323.066338 238.6409 \nL 323.218596 239.246326 \nL 323.370854 239.117759 \nL 323.67537 239.511632 \nL 324.284401 239.043059 \nL 324.436659 239.367899 \nL 324.588917 239.227894 \nL 324.893433 239.561778 \nL 325.045691 239.269306 \nL 325.654723 239.563664 \nL 326.568271 239.482809 \nL 326.872787 239.590639 \nL 327.025044 239.49173 \nL 327.177302 239.052795 \nL 327.32956 239.620297 \nL 327.481818 239.490697 \nL 327.634076 239.582949 \nL 327.938592 239.408495 \nL 328.09085 239.014207 \nL 328.243108 239.518786 \nL 328.547624 239.614275 \nL 329.156656 239.538044 \nL 329.308914 239.323644 \nL 329.461172 239.528653 \nL 329.61343 239.49572 \nL 329.765688 239.643436 \nL 330.374719 239.581089 \nL 330.831493 239.577447 \nL 330.983751 235.744411 \nL 331.136009 239.604906 \nL 331.440525 236.211908 \nL 331.592783 231.380845 \nL 331.897299 239.29569 \nL 332.049557 238.913045 \nL 332.201815 237.626663 \nL 332.506331 238.518584 \nL 332.658589 235.72194 \nL 332.963104 239.32347 \nL 333.26762 239.270317 \nL 333.419878 238.657154 \nL 333.572136 238.996875 \nL 333.724394 238.819236 \nL 333.876652 237.584589 \nL 334.02891 238.944552 \nL 334.181168 238.073907 \nL 334.333426 239.276923 \nL 334.485684 239.134844 \nL 334.637942 239.444058 \nL 334.7902 224.795151 \nL 334.942458 237.924499 \nL 335.094716 211.405517 \nL 335.246974 230.41017 \nL 335.399232 230.12001 \nL 335.703747 235.085353 \nL 336.160521 231.38186 \nL 336.312779 226.681407 \nL 336.617295 235.624516 \nL 336.769553 238.116573 \nL 336.921811 235.794545 \nL 337.074069 231.717089 \nL 337.378585 238.237082 \nL 337.530843 237.002951 \nL 337.683101 237.370872 \nL 337.987617 236.344634 \nL 338.139875 238.233094 \nL 338.444391 237.070151 \nL 338.596648 235.177822 \nL 338.748906 238.124392 \nL 338.901164 236.863696 \nL 339.053422 228.546913 \nL 339.20568 234.537017 \nL 339.357938 235.198326 \nL 339.510196 237.333524 \nL 339.662454 237.317757 \nL 339.814712 234.118382 \nL 339.96697 236.855511 \nL 340.119228 237.215942 \nL 340.271486 237.907296 \nL 340.423744 237.115423 \nL 340.576002 237.275034 \nL 340.72826 238.937655 \nL 340.880518 238.978037 \nL 341.032776 237.899594 \nL 341.185034 239.184853 \nL 341.641807 236.609579 \nL 341.794065 238.850658 \nL 341.946323 238.414188 \nL 342.250839 239.166521 \nL 342.403097 216.296388 \nL 342.555355 238.107621 \nL 342.707613 222.792848 \nL 342.859871 233.559852 \nL 343.012129 216.853575 \nL 343.164387 234.612671 \nL 343.316645 236.491104 \nL 343.468903 223.973274 \nL 343.621161 231.302539 \nL 343.773419 233.042088 \nL 343.925677 229.53092 \nL 344.077935 234.550966 \nL 344.230193 230.330296 \nL 344.38245 234.99252 \nL 344.534708 235.923139 \nL 344.686966 235.45325 \nL 344.839224 231.545747 \nL 344.991482 236.247102 \nL 345.14374 233.702679 \nL 345.295998 237.615129 \nL 345.448256 237.582086 \nL 345.600514 238.155307 \nL 345.752772 236.529076 \nL 345.90503 233.633257 \nL 346.057288 238.102731 \nL 346.209546 237.008856 \nL 346.361804 238.872931 \nL 346.514062 239.154046 \nL 346.818578 237.11876 \nL 347.123094 239.066666 \nL 347.275351 238.370417 \nL 347.579867 239.143633 \nL 347.884383 238.989646 \nL 348.036641 239.410726 \nL 348.188899 238.067392 \nL 348.493415 239.164397 \nL 348.797931 239.306947 \nL 348.950189 238.966547 \nL 349.102447 239.207392 \nL 349.254705 239.019216 \nL 349.406963 238.631104 \nL 349.559221 239.416722 \nL 349.711479 239.220152 \nL 349.863737 239.555002 \nL 350.015995 235.188211 \nL 350.168252 239.23935 \nL 350.32051 239.141484 \nL 350.472768 233.769284 \nL 350.625026 234.087037 \nL 350.929542 238.759014 \nL 351.0818 238.494599 \nL 351.386316 234.209753 \nL 351.538574 238.961355 \nL 351.690832 238.485884 \nL 351.84309 238.481314 \nL 351.995348 238.846664 \nL 352.299864 237.463702 \nL 352.452122 238.676183 \nL 352.60438 237.520514 \nL 352.908895 238.538499 \nL 353.061153 237.907969 \nL 353.213411 239.283582 \nL 353.365669 238.810128 \nL 353.517927 239.258363 \nL 353.670185 238.618931 \nL 353.822443 238.925716 \nL 353.822443 238.925716 \n\" style=\"fill:none;stroke:#d62728;stroke-linecap:square;stroke-width:1.5;\"/>\n   </g>\n   <g id=\"line2d_17\">\n    <path clip-path=\"url(#p6f50146f16)\" d=\"M 49.458807 135.390014 \nL 53.265255 149.884211 \nL 57.071704 160.071814 \nL 60.878153 160.195106 \nL 64.684602 163.114696 \nL 68.49105 153.846044 \nL 72.297499 167.284529 \nL 76.103948 160.508035 \nL 79.910396 160.752357 \nL 83.716845 165.616103 \nL 87.523294 169.732201 \nL 91.329742 168.134358 \nL 95.136191 162.596854 \nL 98.94264 165.548502 \nL 102.749088 156.350117 \nL 106.555537 162.675253 \nL 110.361986 168.362833 \nL 114.168434 156.057997 \nL 117.974883 156.881107 \nL 121.781332 161.286998 \nL 125.58778 152.364992 \nL 129.394229 162.573272 \nL 133.200678 139.626618 \nL 137.007126 158.292794 \nL 140.813575 140.053904 \nL 144.620024 153.951034 \nL 148.426472 141.604954 \nL 152.232921 156.121243 \nL 156.03937 139.931531 \nL 159.845819 138.944339 \nL 163.652267 149.67275 \nL 167.458716 149.3042 \nL 171.265165 136.418964 \nL 175.071613 141.311479 \nL 178.878062 139.629657 \nL 182.684511 141.683987 \nL 186.490959 137.078418 \nL 190.297408 139.776026 \nL 194.103857 135.842016 \nL 197.910305 132.984758 \nL 201.716754 126.397271 \nL 205.523203 136.977615 \nL 209.329651 136.006088 \nL 213.1361 133.543378 \nL 216.942549 91.322118 \nL 220.748997 119.799252 \nL 224.555446 123.376223 \nL 228.361895 120.093172 \nL 232.168343 125.479748 \nL 235.974792 106.004483 \nL 239.781241 117.365439 \nL 243.587689 127.135987 \nL 247.394138 127.83792 \nL 251.200587 126.306859 \nL 255.007035 121.669166 \nL 258.813484 117.153881 \nL 262.619933 122.892633 \nL 266.426382 118.913778 \nL 270.23283 115.750147 \nL 274.039279 116.700451 \nL 277.845728 117.786601 \nL 281.652176 116.468599 \nL 285.458625 112.034701 \nL 289.265074 116.097941 \nL 293.071522 103.581113 \nL 296.877971 93.155365 \nL 300.68442 101.488702 \nL 304.490868 103.018102 \nL 308.297317 90.844971 \nL 312.103766 92.215132 \nL 315.910214 109.495875 \nL 319.716663 115.017475 \nL 323.523112 116.792162 \nL 327.32956 110.189603 \nL 331.136009 97.552301 \nL 334.942458 105.153299 \nL 338.748906 93.678391 \nL 342.555355 124.209189 \nL 346.361804 113.887386 \nL 350.168252 102.814291 \n\" style=\"fill:none;stroke:#17becf;stroke-linecap:square;stroke-width:1.5;\"/>\n   </g>\n   <g id=\"patch_3\">\n    <path d=\"M 34.240625 239.758125 \nL 34.240625 22.318125 \n\" style=\"fill:none;stroke:#000000;stroke-linecap:square;stroke-linejoin:miter;stroke-width:0.8;\"/>\n   </g>\n   <g id=\"patch_4\">\n    <path d=\"M 369.040625 239.758125 \nL 369.040625 22.318125 \n\" style=\"fill:none;stroke:#000000;stroke-linecap:square;stroke-linejoin:miter;stroke-width:0.8;\"/>\n   </g>\n   <g id=\"patch_5\">\n    <path d=\"M 34.240625 239.758125 \nL 369.040625 239.758125 \n\" style=\"fill:none;stroke:#000000;stroke-linecap:square;stroke-linejoin:miter;stroke-width:0.8;\"/>\n   </g>\n   <g id=\"patch_6\">\n    <path d=\"M 34.240625 22.318125 \nL 369.040625 22.318125 \n\" style=\"fill:none;stroke:#000000;stroke-linecap:square;stroke-linejoin:miter;stroke-width:0.8;\"/>\n   </g>\n   <g id=\"text_18\">\n    <!-- Learning curve of CNN Model -->\n    <defs>\n     <path d=\"M 48.78125 52.59375 \nL 48.78125 44.1875 \nQ 44.96875 46.296875 41.140625 47.34375 \nQ 37.3125 48.390625 33.40625 48.390625 \nQ 24.65625 48.390625 19.8125 42.84375 \nQ 14.984375 37.3125 14.984375 27.296875 \nQ 14.984375 17.28125 19.8125 11.734375 \nQ 24.65625 6.203125 33.40625 6.203125 \nQ 37.3125 6.203125 41.140625 7.25 \nQ 44.96875 8.296875 48.78125 10.40625 \nL 48.78125 2.09375 \nQ 45.015625 0.34375 40.984375 -0.53125 \nQ 36.96875 -1.421875 32.421875 -1.421875 \nQ 20.0625 -1.421875 12.78125 6.34375 \nQ 5.515625 14.109375 5.515625 27.296875 \nQ 5.515625 40.671875 12.859375 48.328125 \nQ 20.21875 56 33.015625 56 \nQ 37.15625 56 41.109375 55.140625 \nQ 45.0625 54.296875 48.78125 52.59375 \nz\n\" id=\"DejaVuSans-99\"/>\n     <path d=\"M 8.5 21.578125 \nL 8.5 54.6875 \nL 17.484375 54.6875 \nL 17.484375 21.921875 \nQ 17.484375 14.15625 20.5 10.265625 \nQ 23.53125 6.390625 29.59375 6.390625 \nQ 36.859375 6.390625 41.078125 11.03125 \nQ 45.3125 15.671875 45.3125 23.6875 \nL 45.3125 54.6875 \nL 54.296875 54.6875 \nL 54.296875 0 \nL 45.3125 0 \nL 45.3125 8.40625 \nQ 42.046875 3.421875 37.71875 1 \nQ 33.40625 -1.421875 27.6875 -1.421875 \nQ 18.265625 -1.421875 13.375 4.4375 \nQ 8.5 10.296875 8.5 21.578125 \nz\nM 31.109375 56 \nz\n\" id=\"DejaVuSans-117\"/>\n     <path d=\"M 2.984375 54.6875 \nL 12.5 54.6875 \nL 29.59375 8.796875 \nL 46.6875 54.6875 \nL 56.203125 54.6875 \nL 35.6875 0 \nL 23.484375 0 \nz\n\" id=\"DejaVuSans-118\"/>\n     <path d=\"M 37.109375 75.984375 \nL 37.109375 68.5 \nL 28.515625 68.5 \nQ 23.6875 68.5 21.796875 66.546875 \nQ 19.921875 64.59375 19.921875 59.515625 \nL 19.921875 54.6875 \nL 34.71875 54.6875 \nL 34.71875 47.703125 \nL 19.921875 47.703125 \nL 19.921875 0 \nL 10.890625 0 \nL 10.890625 47.703125 \nL 2.296875 47.703125 \nL 2.296875 54.6875 \nL 10.890625 54.6875 \nL 10.890625 58.5 \nQ 10.890625 67.625 15.140625 71.796875 \nQ 19.390625 75.984375 28.609375 75.984375 \nz\n\" id=\"DejaVuSans-102\"/>\n     <path d=\"M 64.40625 67.28125 \nL 64.40625 56.890625 \nQ 59.421875 61.53125 53.78125 63.8125 \nQ 48.140625 66.109375 41.796875 66.109375 \nQ 29.296875 66.109375 22.65625 58.46875 \nQ 16.015625 50.828125 16.015625 36.375 \nQ 16.015625 21.96875 22.65625 14.328125 \nQ 29.296875 6.6875 41.796875 6.6875 \nQ 48.140625 6.6875 53.78125 8.984375 \nQ 59.421875 11.28125 64.40625 15.921875 \nL 64.40625 5.609375 \nQ 59.234375 2.09375 53.4375 0.328125 \nQ 47.65625 -1.421875 41.21875 -1.421875 \nQ 24.65625 -1.421875 15.125 8.703125 \nQ 5.609375 18.84375 5.609375 36.375 \nQ 5.609375 53.953125 15.125 64.078125 \nQ 24.65625 74.21875 41.21875 74.21875 \nQ 47.75 74.21875 53.53125 72.484375 \nQ 59.328125 70.75 64.40625 67.28125 \nz\n\" id=\"DejaVuSans-67\"/>\n     <path d=\"M 9.8125 72.90625 \nL 23.09375 72.90625 \nL 55.421875 11.921875 \nL 55.421875 72.90625 \nL 64.984375 72.90625 \nL 64.984375 0 \nL 51.703125 0 \nL 19.390625 60.984375 \nL 19.390625 0 \nL 9.8125 0 \nz\n\" id=\"DejaVuSans-78\"/>\n     <path d=\"M 9.8125 72.90625 \nL 24.515625 72.90625 \nL 43.109375 23.296875 \nL 61.8125 72.90625 \nL 76.515625 72.90625 \nL 76.515625 0 \nL 66.890625 0 \nL 66.890625 64.015625 \nL 48.09375 14.015625 \nL 38.1875 14.015625 \nL 19.390625 64.015625 \nL 19.390625 0 \nL 9.8125 0 \nz\n\" id=\"DejaVuSans-77\"/>\n     <path d=\"M 45.40625 46.390625 \nL 45.40625 75.984375 \nL 54.390625 75.984375 \nL 54.390625 0 \nL 45.40625 0 \nL 45.40625 8.203125 \nQ 42.578125 3.328125 38.25 0.953125 \nQ 33.9375 -1.421875 27.875 -1.421875 \nQ 17.96875 -1.421875 11.734375 6.484375 \nQ 5.515625 14.40625 5.515625 27.296875 \nQ 5.515625 40.1875 11.734375 48.09375 \nQ 17.96875 56 27.875 56 \nQ 33.9375 56 38.25 53.625 \nQ 42.578125 51.265625 45.40625 46.390625 \nz\nM 14.796875 27.296875 \nQ 14.796875 17.390625 18.875 11.75 \nQ 22.953125 6.109375 30.078125 6.109375 \nQ 37.203125 6.109375 41.296875 11.75 \nQ 45.40625 17.390625 45.40625 27.296875 \nQ 45.40625 37.203125 41.296875 42.84375 \nQ 37.203125 48.484375 30.078125 48.484375 \nQ 22.953125 48.484375 18.875 42.84375 \nQ 14.796875 37.203125 14.796875 27.296875 \nz\n\" id=\"DejaVuSans-100\"/>\n     <path d=\"M 9.421875 75.984375 \nL 18.40625 75.984375 \nL 18.40625 0 \nL 9.421875 0 \nz\n\" id=\"DejaVuSans-108\"/>\n    </defs>\n    <g transform=\"translate(114.185938 16.318125)scale(0.12 -0.12)\">\n     <use xlink:href=\"#DejaVuSans-76\"/>\n     <use x=\"53.962891\" xlink:href=\"#DejaVuSans-101\"/>\n     <use x=\"115.486328\" xlink:href=\"#DejaVuSans-97\"/>\n     <use x=\"176.765625\" xlink:href=\"#DejaVuSans-114\"/>\n     <use x=\"216.128906\" xlink:href=\"#DejaVuSans-110\"/>\n     <use x=\"279.507812\" xlink:href=\"#DejaVuSans-105\"/>\n     <use x=\"307.291016\" xlink:href=\"#DejaVuSans-110\"/>\n     <use x=\"370.669922\" xlink:href=\"#DejaVuSans-103\"/>\n     <use x=\"434.146484\" xlink:href=\"#DejaVuSans-32\"/>\n     <use x=\"465.933594\" xlink:href=\"#DejaVuSans-99\"/>\n     <use x=\"520.914062\" xlink:href=\"#DejaVuSans-117\"/>\n     <use x=\"584.292969\" xlink:href=\"#DejaVuSans-114\"/>\n     <use x=\"625.40625\" xlink:href=\"#DejaVuSans-118\"/>\n     <use x=\"684.585938\" xlink:href=\"#DejaVuSans-101\"/>\n     <use x=\"746.109375\" xlink:href=\"#DejaVuSans-32\"/>\n     <use x=\"777.896484\" xlink:href=\"#DejaVuSans-111\"/>\n     <use x=\"839.078125\" xlink:href=\"#DejaVuSans-102\"/>\n     <use x=\"874.283203\" xlink:href=\"#DejaVuSans-32\"/>\n     <use x=\"906.070312\" xlink:href=\"#DejaVuSans-67\"/>\n     <use x=\"975.894531\" xlink:href=\"#DejaVuSans-78\"/>\n     <use x=\"1050.699219\" xlink:href=\"#DejaVuSans-78\"/>\n     <use x=\"1125.503906\" xlink:href=\"#DejaVuSans-32\"/>\n     <use x=\"1157.291016\" xlink:href=\"#DejaVuSans-77\"/>\n     <use x=\"1243.570312\" xlink:href=\"#DejaVuSans-111\"/>\n     <use x=\"1304.751953\" xlink:href=\"#DejaVuSans-100\"/>\n     <use x=\"1368.228516\" xlink:href=\"#DejaVuSans-101\"/>\n     <use x=\"1429.751953\" xlink:href=\"#DejaVuSans-108\"/>\n    </g>\n   </g>\n   <g id=\"legend_1\">\n    <g id=\"patch_7\">\n     <path d=\"M 306.765625 59.674375 \nL 362.040625 59.674375 \nQ 364.040625 59.674375 364.040625 57.674375 \nL 364.040625 29.318125 \nQ 364.040625 27.318125 362.040625 27.318125 \nL 306.765625 27.318125 \nQ 304.765625 27.318125 304.765625 29.318125 \nL 304.765625 57.674375 \nQ 304.765625 59.674375 306.765625 59.674375 \nz\n\" style=\"fill:#ffffff;opacity:0.8;stroke:#cccccc;stroke-linejoin:miter;\"/>\n    </g>\n    <g id=\"line2d_18\">\n     <path d=\"M 308.765625 35.416562 \nL 328.765625 35.416562 \n\" style=\"fill:none;stroke:#d62728;stroke-linecap:square;stroke-width:1.5;\"/>\n    </g>\n    <g id=\"line2d_19\"/>\n    <g id=\"text_19\">\n     <!-- train -->\n     <g transform=\"translate(336.765625 38.916562)scale(0.1 -0.1)\">\n      <use xlink:href=\"#DejaVuSans-116\"/>\n      <use x=\"39.208984\" xlink:href=\"#DejaVuSans-114\"/>\n      <use x=\"80.322266\" xlink:href=\"#DejaVuSans-97\"/>\n      <use x=\"141.601562\" xlink:href=\"#DejaVuSans-105\"/>\n      <use x=\"169.384766\" xlink:href=\"#DejaVuSans-110\"/>\n     </g>\n    </g>\n    <g id=\"line2d_20\">\n     <path d=\"M 308.765625 50.094687 \nL 328.765625 50.094687 \n\" style=\"fill:none;stroke:#17becf;stroke-linecap:square;stroke-width:1.5;\"/>\n    </g>\n    <g id=\"line2d_21\"/>\n    <g id=\"text_20\">\n     <!-- val -->\n     <g transform=\"translate(336.765625 53.594687)scale(0.1 -0.1)\">\n      <use xlink:href=\"#DejaVuSans-118\"/>\n      <use x=\"59.179688\" xlink:href=\"#DejaVuSans-97\"/>\n      <use x=\"120.458984\" xlink:href=\"#DejaVuSans-108\"/>\n     </g>\n    </g>\n   </g>\n  </g>\n </g>\n <defs>\n  <clipPath id=\"p6f50146f16\">\n   <rect height=\"217.44\" width=\"334.8\" x=\"34.240625\" y=\"22.318125\"/>\n  </clipPath>\n </defs>\n</svg>\n"
          },
          "metadata": {
            "tags": [],
            "needs_background": "light"
          }
        }
      ]
    },
    {
      "cell_type": "code",
      "metadata": {
        "id": "hjzld-aRdMha"
      },
      "source": [
        "# del model\n",
        "# model = torch.load(config['model_path']).to(device)"
      ],
      "execution_count": 171,
      "outputs": []
    },
    {
      "cell_type": "markdown",
      "metadata": {
        "id": "zGQmxkQWWXKS"
      },
      "source": [
        "# 测试"
      ]
    },
    {
      "cell_type": "code",
      "metadata": {
        "colab": {
          "base_uri": "https://localhost:8080/"
        },
        "id": "_9JSh16sh8mS",
        "outputId": "f262fdd6-bc49-487a-c1b3-b69322b86130"
      },
      "source": [
        "def save_pred(preds, file):\n",
        "    print('Saving result to {}'.format(file))\n",
        "    with open(file, 'w') as fp:\n",
        "        fp.write('Id,Category\\n')\n",
        "        for id, pred in enumerate(preds):\n",
        "            fp.write('{},{}\\n'.format(id, pred))\n",
        "\n",
        "preds = test(test_dataloader, model, config, device)\n",
        "save_pred(preds, 'food-11.pred.csv')"
      ],
      "execution_count": 172,
      "outputs": [
        {
          "output_type": "stream",
          "text": [
            "Saving result to food-11.pred.csv\n"
          ],
          "name": "stdout"
        }
      ]
    },
    {
      "cell_type": "markdown",
      "metadata": {
        "id": "iZXusEebWX-B"
      },
      "source": [
        "# 结果"
      ]
    }
  ]
}