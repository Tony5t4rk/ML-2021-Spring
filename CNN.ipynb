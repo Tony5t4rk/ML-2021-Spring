{
  "nbformat": 4,
  "nbformat_minor": 0,
  "metadata": {
    "colab": {
      "name": "CNN.ipynb",
      "provenance": [],
      "collapsed_sections": [],
      "toc_visible": true,
      "machine_shape": "hm",
      "authorship_tag": "ABX9TyNK/YUlQXV6AdJWUPXW76no",
      "include_colab_link": true
    },
    "kernelspec": {
      "name": "python3",
      "display_name": "Python 3"
    },
    "language_info": {
      "name": "python"
    },
    "accelerator": "GPU"
  },
  "cells": [
    {
      "cell_type": "markdown",
      "metadata": {
        "id": "view-in-github",
        "colab_type": "text"
      },
      "source": [
        "<a href=\"https://colab.research.google.com/github/Tony5t4rk/ML-2021-Spring/blob/main/CNN.ipynb\" target=\"_parent\"><img src=\"https://colab.research.google.com/assets/colab-badge.svg\" alt=\"Open In Colab\"/></a>"
      ]
    },
    {
      "cell_type": "markdown",
      "metadata": {
        "id": "SM0bjbrgwDMK"
      },
      "source": [
        "# **Homework 3 - Convolutional Neural Network**"
      ]
    },
    {
      "cell_type": "markdown",
      "metadata": {
        "id": "IZ6d0tsxwFTA"
      },
      "source": [
        "作者: 刘阳\n",
        "\n",
        "学习笔记：[機器學習2021 学习笔记-CNN & Self-Attention](https://www.wolai.com/tony5t4rk/jFYeVKmHKnfwJyLEK18Gbh?theme=light)\n",
        "\n",
        "本HW01在[样例代码](https://colab.research.google.com/github/ga642381/ML2021-Spring/blob/main/HW03/HW03.ipynb#scrollTo=VHpJocsDr6iA)的基础上进行修改。\n"
      ]
    },
    {
      "cell_type": "markdown",
      "metadata": {
        "id": "FQiVER98wG7J"
      },
      "source": [
        "# Mount into Google Drive & Show GPU"
      ]
    },
    {
      "cell_type": "code",
      "metadata": {
        "id": "Pilg1e-2wAGi",
        "colab": {
          "base_uri": "https://localhost:8080/"
        },
        "outputId": "902d70a6-01f7-4cfa-edcd-06600eb1fc11"
      },
      "source": [
        "from google.colab import drive\n",
        "drive.mount('/content/drive')\n",
        "%cd '/content/drive/MyDrive/Colab/ML 2021 Spring/HW03'\n",
        "!nvidia-smi"
      ],
      "execution_count": 1,
      "outputs": [
        {
          "output_type": "stream",
          "text": [
            "Mounted at /content/drive\n",
            "/content/drive/MyDrive/Colab/ML 2021 Spring/HW03\n",
            "Fri May  7 09:27:25 2021       \n",
            "+-----------------------------------------------------------------------------+\n",
            "| NVIDIA-SMI 465.19.01    Driver Version: 460.32.03    CUDA Version: 11.2     |\n",
            "|-------------------------------+----------------------+----------------------+\n",
            "| GPU  Name        Persistence-M| Bus-Id        Disp.A | Volatile Uncorr. ECC |\n",
            "| Fan  Temp  Perf  Pwr:Usage/Cap|         Memory-Usage | GPU-Util  Compute M. |\n",
            "|                               |                      |               MIG M. |\n",
            "|===============================+======================+======================|\n",
            "|   0  Tesla P100-PCIE...  Off  | 00000000:00:04.0 Off |                    0 |\n",
            "| N/A   32C    P0    25W / 250W |      0MiB / 16280MiB |      0%      Default |\n",
            "|                               |                      |                  N/A |\n",
            "+-------------------------------+----------------------+----------------------+\n",
            "                                                                               \n",
            "+-----------------------------------------------------------------------------+\n",
            "| Processes:                                                                  |\n",
            "|  GPU   GI   CI        PID   Type   Process name                  GPU Memory |\n",
            "|        ID   ID                                                   Usage      |\n",
            "|=============================================================================|\n",
            "|  No running processes found                                                 |\n",
            "+-----------------------------------------------------------------------------+\n"
          ],
          "name": "stdout"
        }
      ]
    },
    {
      "cell_type": "markdown",
      "metadata": {
        "id": "CWyNjJYAwfuY"
      },
      "source": [
        "# Download Data from Google Drive"
      ]
    },
    {
      "cell_type": "code",
      "metadata": {
        "id": "iMlR2p2mwjd-",
        "colab": {
          "base_uri": "https://localhost:8080/"
        },
        "outputId": "71c0fbcb-7084-4103-fe4c-ddd83d498d31"
      },
      "source": [
        "# !gdown --id '1awF7pZ9Dz7X1jn1_QAiKN-_v56veCEKy' --output food-11.zip\n",
        "# !unzip -q food-11.zip\n",
        "!apt-get -qq install -y tree\n",
        "!tree -L 2\n",
        "\n",
        "train_path = 'food-11/training'\n",
        "val_path = 'food-11/validation'\n",
        "test_path = 'food-11/testing'"
      ],
      "execution_count": 2,
      "outputs": [
        {
          "output_type": "stream",
          "text": [
            "Selecting previously unselected package tree.\n",
            "(Reading database ... 160690 files and directories currently installed.)\n",
            "Preparing to unpack .../tree_1.7.0-5_amd64.deb ...\n",
            "Unpacking tree (1.7.0-5) ...\n",
            "Setting up tree (1.7.0-5) ...\n",
            "Processing triggers for man-db (2.8.3-2ubuntu0.1) ...\n",
            ".\n",
            "├── CNN(bak).ipynb\n",
            "├── CNN.ipynb\n",
            "├── food-11\n",
            "│   ├── testing\n",
            "│   ├── training\n",
            "│   └── validation\n",
            "├── food-11.pred.csv\n",
            "├── food-11.zip\n",
            "├── Learning curve of CNN Model.svg\n",
            "├── Learning curve of ResNet18.svg\n",
            "└── models\n",
            "    └── model.pth\n",
            "\n",
            "5 directories, 7 files\n"
          ],
          "name": "stdout"
        }
      ]
    },
    {
      "cell_type": "markdown",
      "metadata": {
        "id": "To_Y-uZ2wnCK"
      },
      "source": [
        "# Import Package"
      ]
    },
    {
      "cell_type": "code",
      "metadata": {
        "id": "USeVOhRKwm4w"
      },
      "source": [
        "import numpy as np\n",
        "import os\n",
        "from PIL import Image\n",
        "from tqdm import tqdm\n",
        "\n",
        "import torch\n",
        "import torch.nn as nn\n",
        "import torch.optim as optim\n",
        "import torchvision\n",
        "import torchvision.transforms as transforms\n",
        "from torch.utils.data import ConcatDataset, DataLoader, Subset\n",
        "from torchvision.datasets import DatasetFolder\n",
        "\n",
        "import matplotlib.pyplot as plt\n",
        "from matplotlib.pyplot import figure\n",
        "%matplotlib inline\n",
        "%config InlineBackend.figure_format = 'svg'\n",
        "\n",
        "# set a random seed for reproducibility\n",
        "my_seed = 42096\n",
        "torch.backends.cudnn.deterministic = True\n",
        "torch.backends.cudnn.benchmark = False\n",
        "np.random.seed(my_seed)\n",
        "torch.manual_seed(my_seed)\n",
        "if torch.cuda.is_available():\n",
        "    torch.cuda.manual_seed_all(my_seed)"
      ],
      "execution_count": 3,
      "outputs": []
    },
    {
      "cell_type": "markdown",
      "metadata": {
        "id": "PYW5Oj8qxBGa"
      },
      "source": [
        "# Plot Utility"
      ]
    },
    {
      "cell_type": "code",
      "metadata": {
        "id": "ykxoFCQ9xDuS"
      },
      "source": [
        "def plot_learning_curve(loss_record, title=''):\n",
        "    n_epochs = len(loss_record['train'])\n",
        "    x_1 = range(n_epochs)\n",
        "    figure(figsize=(6, 4))\n",
        "    plt.plot(x_1, loss_record['train'], c='tab:red', label='train')\n",
        "    plt.plot(x_1, loss_record['val'], c='tab:cyan', label='val')\n",
        "    plt.ylim(0.0, 5.)\n",
        "    plt.xlabel('Epoch')\n",
        "    plt.ylabel('Loss')\n",
        "    plt.title('Learning curve of {}'.format(title))\n",
        "    plt.legend()\n",
        "    plt.savefig('Learning curve of {}.svg'.format(title))\n",
        "    plt.show()"
      ],
      "execution_count": 4,
      "outputs": []
    },
    {
      "cell_type": "markdown",
      "metadata": {
        "id": "e8IieJfnxbwf"
      },
      "source": [
        "# Hyper-Parameters"
      ]
    },
    {
      "cell_type": "code",
      "metadata": {
        "id": "09EeJSfMxeYm",
        "colab": {
          "base_uri": "https://localhost:8080/"
        },
        "outputId": "4b73848c-3aac-4559-be1b-3618d16797a5"
      },
      "source": [
        "os.makedirs('models', exist_ok=True)\n",
        "\n",
        "config = {\n",
        "    'device': torch.device('cuda' if torch.cuda.is_available() else 'cpu'),\n",
        "    'n_epochs': 80,\n",
        "    'batch_size': 128,\n",
        "    'optim_hparams': {\n",
        "        'lr': 0.0003,\n",
        "        'weight_decay': 1e-5\n",
        "    },\n",
        "    'do_semi': False,\n",
        "    'early_stop': False,\n",
        "    'early_stop_epochs': 8,\n",
        "    'model_path': 'models/model.pth',\n",
        "    'pred_file': 'food-11.pred.csv'\n",
        "}\n",
        "\n",
        "print(f'device: {config[\"device\"]}')"
      ],
      "execution_count": 5,
      "outputs": [
        {
          "output_type": "stream",
          "text": [
            "device: cuda\n"
          ],
          "name": "stdout"
        }
      ]
    },
    {
      "cell_type": "markdown",
      "metadata": {
        "id": "u6adSoX-yGMc"
      },
      "source": [
        "# Data Process"
      ]
    },
    {
      "cell_type": "markdown",
      "metadata": {
        "id": "rr01ZCwvyMIk"
      },
      "source": [
        "## Image Transform"
      ]
    },
    {
      "cell_type": "code",
      "metadata": {
        "id": "B049sSJwyIAU"
      },
      "source": [
        "train_transform = transforms.Compose([\n",
        "    transforms.Resize((128, 128)),\n",
        "    transforms.ToTensor(),\n",
        "])\n",
        "\n",
        "test_transform = transforms.Compose([\n",
        "    transforms.Resize((128, 128)),\n",
        "    transforms.ToTensor(),\n",
        "])"
      ],
      "execution_count": 6,
      "outputs": []
    },
    {
      "cell_type": "markdown",
      "metadata": {
        "id": "lEnexvogyOOR"
      },
      "source": [
        "## Dataset"
      ]
    },
    {
      "cell_type": "code",
      "metadata": {
        "id": "MaTNTwg_yPMA"
      },
      "source": [
        "train_dataset = DatasetFolder('food-11/training/labeled', loader=lambda x: Image.open(x), extensions='jpg', transform=train_transform)\n",
        "unlabeled_dataset = DatasetFolder('food-11/training/unlabeled', loader=lambda x: Image.open(x), extensions='jpg', transform=train_transform)\n",
        "val_dataset = DatasetFolder('food-11/validation', loader=lambda x: Image.open(x), extensions='jpg', transform=test_transform)\n",
        "test_dataset = DatasetFolder('food-11/testing', loader=lambda x: Image.open(x), extensions=\"jpg\", transform=test_transform)"
      ],
      "execution_count": 7,
      "outputs": []
    },
    {
      "cell_type": "markdown",
      "metadata": {
        "id": "4xhIQxUWy4_Z"
      },
      "source": [
        "## DataLoader"
      ]
    },
    {
      "cell_type": "code",
      "metadata": {
        "id": "P6hEWxRty6JW"
      },
      "source": [
        "train_dataloader = DataLoader(train_dataset, batch_size=config['batch_size'], shuffle=True, num_workers=4, pin_memory=True)\n",
        "val_dataloader = DataLoader(val_dataset, batch_size=config['batch_size'], shuffle=True, num_workers=4, pin_memory=True)\n",
        "test_dataloader = DataLoader(test_dataset, batch_size=config['batch_size'], shuffle=False)"
      ],
      "execution_count": 8,
      "outputs": []
    },
    {
      "cell_type": "markdown",
      "metadata": {
        "id": "3tZ_HBIgzNmP"
      },
      "source": [
        "# Model"
      ]
    },
    {
      "cell_type": "code",
      "metadata": {
        "id": "kvtSHnfbzOYU"
      },
      "source": [
        "class Net(nn.Module):\n",
        "    def __init__(self):\n",
        "        super(Net, self).__init__()\n",
        "\n",
        "        self.cnn = nn.Sequential(\n",
        "            nn.Conv2d(3, 64, 3, 1, 1),\n",
        "            nn.BatchNorm2d(64),\n",
        "            nn.ReLU(),\n",
        "            nn.MaxPool2d(2, 2, 0),\n",
        "\n",
        "            nn.Conv2d(64, 128, 3, 1, 1),\n",
        "            nn.BatchNorm2d(128),\n",
        "            nn.ReLU(),\n",
        "            nn.MaxPool2d(2, 2, 0),\n",
        "\n",
        "            nn.Conv2d(128, 256, 3, 1, 1),\n",
        "            nn.BatchNorm2d(256),\n",
        "            nn.ReLU(),\n",
        "            nn.MaxPool2d(4, 4, 0),\n",
        "        )\n",
        "        self.fc = nn.Sequential(\n",
        "            nn.Linear(256 * 8 * 8, 256),\n",
        "            nn.ReLU(),\n",
        "            nn.Linear(256, 256),\n",
        "            nn.ReLU(),\n",
        "            nn.Linear(256, 11)\n",
        "        )\n",
        "    \n",
        "    def forward(self, x):\n",
        "        x = self.cnn(x)\n",
        "        x = x.flatten(1)\n",
        "        x = self.fc(x)\n",
        "        return x\n",
        "\n",
        "model = Net().to(config['device'])\n",
        "# model = torchvision.models.resnet18(pretrained=False).to(config['device'])"
      ],
      "execution_count": 9,
      "outputs": []
    },
    {
      "cell_type": "markdown",
      "metadata": {
        "id": "jsgA9-eLzXv7"
      },
      "source": [
        "# Training"
      ]
    },
    {
      "cell_type": "code",
      "metadata": {
        "id": "pzzK-im6zer-",
        "colab": {
          "base_uri": "https://localhost:8080/"
        },
        "outputId": "bf312e17-3775-41eb-f330-91a1c2bc1b97"
      },
      "source": [
        "criterion = nn.CrossEntropyLoss()\n",
        "optimizer = optim.Adam(model.parameters(), lr=config['optim_hparams']['lr'], weight_decay=config['optim_hparams']['weight_decay'])\n",
        "\n",
        "loss_record = {'train': [], 'val': []}\n",
        "\n",
        "if config['early_stop']:\n",
        "    min_val_loss = float('inf')\n",
        "    early_stop_cnt = 0\n",
        "\n",
        "epoch = 0\n",
        "while epoch < config['n_epochs']:\n",
        "    # TODO: semi\n",
        "    if config['do_semi']:\n",
        "        pass\n",
        "\n",
        "    model.train()\n",
        "    train_loss = []\n",
        "    for x, y in train_dataloader:\n",
        "        x, y = x.to(config['device']), y.to(config['device'])\n",
        "        optimizer.zero_grad()\n",
        "        logits = model(x)\n",
        "        loss = criterion(logits, y)\n",
        "        loss.backward()\n",
        "        # grad_norm = nn.utils.clip_grad_norm_(model.parameters(), max_norm=10)\n",
        "        optimizer.step()\n",
        "        train_loss.append(loss.item())\n",
        "    train_loss = sum(train_loss) / len(train_loss)\n",
        "    loss_record['train'].append(train_loss)\n",
        "\n",
        "    model.eval()\n",
        "    val_loss = []\n",
        "    for x, y in val_dataloader:\n",
        "        x, y = x.to(config['device']), y.to(config['device'])\n",
        "        with torch.no_grad():\n",
        "            logits = model(x)\n",
        "        loss = criterion(logits, y)\n",
        "        val_loss.append(loss)\n",
        "    val_loss = sum(val_loss) / len(val_loss)\n",
        "    loss_record['val'].append(val_loss)\n",
        "\n",
        "    print(f'[ Epoch {epoch + 1:03d}|{config[\"n_epochs\"]:03d} ] Train Loss: {train_loss:.5f}   Valid Loss: {val_loss:.5f}')\n",
        "\n",
        "    if config['early_stop']:\n",
        "        if val_loss < min_val_loss:\n",
        "            min_val_loss = val_loss\n",
        "            torch.save(model, config['model_path'])\n",
        "            print(f'Early Stop Saving Model on Epoch {epoch + 1:03d}({config[\"n_epochs\"]:03d})')\n",
        "            early_stop_cnt = 0\n",
        "        else:\n",
        "            early_stop_cnt += 1\n",
        "    else:\n",
        "        torch.save(model, config['model_path'])\n",
        "    \n",
        "    epoch += 1\n",
        "\n",
        "    if config['early_stop'] and early_stop_cnt > config['early_stop_epochs']:\n",
        "        break\n",
        "\n",
        "print(f'Finish Train After {epoch} Epochs')"
      ],
      "execution_count": 10,
      "outputs": [
        {
          "output_type": "stream",
          "text": [
            "[ Epoch 001|080 ] Train Loss: 2.36659   Valid Loss: 2.42304\n",
            "[ Epoch 002|080 ] Train Loss: 1.99115   Valid Loss: 2.19757\n",
            "[ Epoch 003|080 ] Train Loss: 1.86324   Valid Loss: 1.83486\n",
            "[ Epoch 004|080 ] Train Loss: 1.75775   Valid Loss: 1.84532\n",
            "[ Epoch 005|080 ] Train Loss: 1.60631   Valid Loss: 1.74451\n",
            "[ Epoch 006|080 ] Train Loss: 1.52127   Valid Loss: 1.68906\n",
            "[ Epoch 007|080 ] Train Loss: 1.41196   Valid Loss: 1.64622\n",
            "[ Epoch 008|080 ] Train Loss: 1.37617   Valid Loss: 1.70558\n",
            "[ Epoch 009|080 ] Train Loss: 1.24090   Valid Loss: 1.78493\n",
            "[ Epoch 010|080 ] Train Loss: 1.14686   Valid Loss: 1.83236\n",
            "[ Epoch 011|080 ] Train Loss: 1.20435   Valid Loss: 1.52793\n",
            "[ Epoch 012|080 ] Train Loss: 1.08833   Valid Loss: 1.61104\n",
            "[ Epoch 013|080 ] Train Loss: 0.94527   Valid Loss: 1.53070\n",
            "[ Epoch 014|080 ] Train Loss: 0.88694   Valid Loss: 1.61583\n",
            "[ Epoch 015|080 ] Train Loss: 0.80020   Valid Loss: 1.81634\n",
            "[ Epoch 016|080 ] Train Loss: 0.83451   Valid Loss: 1.94353\n",
            "[ Epoch 017|080 ] Train Loss: 0.79884   Valid Loss: 1.65255\n",
            "[ Epoch 018|080 ] Train Loss: 0.61321   Valid Loss: 1.72645\n",
            "[ Epoch 019|080 ] Train Loss: 0.54391   Valid Loss: 1.67618\n",
            "[ Epoch 020|080 ] Train Loss: 0.50743   Valid Loss: 1.85063\n",
            "[ Epoch 021|080 ] Train Loss: 0.43221   Valid Loss: 1.90280\n",
            "[ Epoch 022|080 ] Train Loss: 0.36626   Valid Loss: 1.90445\n",
            "[ Epoch 023|080 ] Train Loss: 0.39323   Valid Loss: 1.93288\n",
            "[ Epoch 024|080 ] Train Loss: 0.39273   Valid Loss: 2.34075\n",
            "[ Epoch 025|080 ] Train Loss: 0.41063   Valid Loss: 1.88646\n",
            "[ Epoch 026|080 ] Train Loss: 0.27806   Valid Loss: 2.00282\n",
            "[ Epoch 027|080 ] Train Loss: 0.27806   Valid Loss: 2.06750\n",
            "[ Epoch 028|080 ] Train Loss: 0.23309   Valid Loss: 2.02667\n",
            "[ Epoch 029|080 ] Train Loss: 0.16646   Valid Loss: 2.07852\n",
            "[ Epoch 030|080 ] Train Loss: 0.15298   Valid Loss: 2.24004\n",
            "[ Epoch 031|080 ] Train Loss: 0.26485   Valid Loss: 2.43609\n",
            "[ Epoch 032|080 ] Train Loss: 0.13583   Valid Loss: 2.24953\n",
            "[ Epoch 033|080 ] Train Loss: 0.08665   Valid Loss: 2.48313\n",
            "[ Epoch 034|080 ] Train Loss: 0.15160   Valid Loss: 2.18962\n",
            "[ Epoch 035|080 ] Train Loss: 0.12347   Valid Loss: 2.65530\n",
            "[ Epoch 036|080 ] Train Loss: 0.15333   Valid Loss: 2.56180\n",
            "[ Epoch 037|080 ] Train Loss: 0.11594   Valid Loss: 2.35806\n",
            "[ Epoch 038|080 ] Train Loss: 0.04188   Valid Loss: 2.39381\n",
            "[ Epoch 039|080 ] Train Loss: 0.07655   Valid Loss: 2.74842\n",
            "[ Epoch 040|080 ] Train Loss: 0.11283   Valid Loss: 2.50603\n",
            "[ Epoch 041|080 ] Train Loss: 0.13910   Valid Loss: 2.71993\n",
            "[ Epoch 042|080 ] Train Loss: 0.28133   Valid Loss: 2.50781\n",
            "[ Epoch 043|080 ] Train Loss: 0.16779   Valid Loss: 4.39575\n",
            "[ Epoch 044|080 ] Train Loss: 0.43968   Valid Loss: 2.50622\n",
            "[ Epoch 045|080 ] Train Loss: 0.15111   Valid Loss: 2.29627\n",
            "[ Epoch 046|080 ] Train Loss: 0.03731   Valid Loss: 2.50264\n",
            "[ Epoch 047|080 ] Train Loss: 0.02676   Valid Loss: 2.53556\n",
            "[ Epoch 048|080 ] Train Loss: 0.02492   Valid Loss: 2.76324\n",
            "[ Epoch 049|080 ] Train Loss: 0.05261   Valid Loss: 2.56210\n",
            "[ Epoch 050|080 ] Train Loss: 0.03437   Valid Loss: 2.67862\n",
            "[ Epoch 051|080 ] Train Loss: 0.04275   Valid Loss: 2.73831\n",
            "[ Epoch 052|080 ] Train Loss: 0.01617   Valid Loss: 2.51293\n",
            "[ Epoch 053|080 ] Train Loss: 0.00999   Valid Loss: 2.61524\n",
            "[ Epoch 054|080 ] Train Loss: 0.00914   Valid Loss: 2.63010\n",
            "[ Epoch 055|080 ] Train Loss: 0.00638   Valid Loss: 2.64792\n",
            "[ Epoch 056|080 ] Train Loss: 0.00790   Valid Loss: 2.65756\n",
            "[ Epoch 057|080 ] Train Loss: 0.02139   Valid Loss: 2.63763\n",
            "[ Epoch 058|080 ] Train Loss: 0.01319   Valid Loss: 2.54024\n",
            "[ Epoch 059|080 ] Train Loss: 0.05596   Valid Loss: 3.08228\n",
            "[ Epoch 060|080 ] Train Loss: 0.24710   Valid Loss: 3.11815\n",
            "[ Epoch 061|080 ] Train Loss: 0.07154   Valid Loss: 2.72066\n",
            "[ Epoch 062|080 ] Train Loss: 0.01971   Valid Loss: 2.83232\n",
            "[ Epoch 063|080 ] Train Loss: 0.00897   Valid Loss: 2.64357\n",
            "[ Epoch 064|080 ] Train Loss: 0.00551   Valid Loss: 2.79947\n",
            "[ Epoch 065|080 ] Train Loss: 0.00445   Valid Loss: 2.70132\n",
            "[ Epoch 066|080 ] Train Loss: 0.00373   Valid Loss: 2.94781\n",
            "[ Epoch 067|080 ] Train Loss: 0.00756   Valid Loss: 2.94032\n",
            "[ Epoch 068|080 ] Train Loss: 0.04111   Valid Loss: 2.66614\n",
            "[ Epoch 069|080 ] Train Loss: 0.02392   Valid Loss: 2.65083\n",
            "[ Epoch 070|080 ] Train Loss: 0.00809   Valid Loss: 3.01235\n",
            "[ Epoch 071|080 ] Train Loss: 0.04523   Valid Loss: 3.05263\n",
            "[ Epoch 072|080 ] Train Loss: 0.12713   Valid Loss: 2.95712\n",
            "[ Epoch 073|080 ] Train Loss: 0.01931   Valid Loss: 3.01838\n",
            "[ Epoch 074|080 ] Train Loss: 0.03384   Valid Loss: 2.97579\n",
            "[ Epoch 075|080 ] Train Loss: 0.01241   Valid Loss: 3.14067\n",
            "[ Epoch 076|080 ] Train Loss: 0.01269   Valid Loss: 3.01552\n",
            "[ Epoch 077|080 ] Train Loss: 0.00891   Valid Loss: 2.94848\n",
            "[ Epoch 078|080 ] Train Loss: 0.06793   Valid Loss: 3.11005\n",
            "[ Epoch 079|080 ] Train Loss: 0.02702   Valid Loss: 3.16455\n",
            "[ Epoch 080|080 ] Train Loss: 0.00751   Valid Loss: 2.84254\n",
            "Finish Train After 80 Epochs\n"
          ],
          "name": "stdout"
        }
      ]
    },
    {
      "cell_type": "code",
      "metadata": {
        "id": "zdSW1d1y88eg",
        "colab": {
          "base_uri": "https://localhost:8080/",
          "height": 390
        },
        "outputId": "0a879e79-11a2-4ac2-ce8f-7b89c13d1d75"
      },
      "source": [
        "plot_learning_curve(loss_record, title='CNN Model')\n",
        "# plot_learning_curve(loss_record, title='ResNet-18 Model')"
      ],
      "execution_count": 11,
      "outputs": [
        {
          "output_type": "display_data",
          "data": {
            "text/plain": [
              "<Figure size 432x288 with 1 Axes>"
            ],
            "image/svg+xml": "<?xml version=\"1.0\" encoding=\"utf-8\" standalone=\"no\"?>\n<!DOCTYPE svg PUBLIC \"-//W3C//DTD SVG 1.1//EN\"\n  \"http://www.w3.org/Graphics/SVG/1.1/DTD/svg11.dtd\">\n<!-- Created with matplotlib (https://matplotlib.org/) -->\n<svg height=\"277.314375pt\" version=\"1.1\" viewBox=\"0 0 376.240625 277.314375\" width=\"376.240625pt\" xmlns=\"http://www.w3.org/2000/svg\" xmlns:xlink=\"http://www.w3.org/1999/xlink\">\n <defs>\n  <style type=\"text/css\">\n*{stroke-linecap:butt;stroke-linejoin:round;}\n  </style>\n </defs>\n <g id=\"figure_1\">\n  <g id=\"patch_1\">\n   <path d=\"M 0 277.314375 \nL 376.240625 277.314375 \nL 376.240625 0 \nL 0 0 \nz\n\" style=\"fill:none;\"/>\n  </g>\n  <g id=\"axes_1\">\n   <g id=\"patch_2\">\n    <path d=\"M 34.240625 239.758125 \nL 369.040625 239.758125 \nL 369.040625 22.318125 \nL 34.240625 22.318125 \nz\n\" style=\"fill:#ffffff;\"/>\n   </g>\n   <g id=\"matplotlib.axis_1\">\n    <g id=\"xtick_1\">\n     <g id=\"line2d_1\">\n      <defs>\n       <path d=\"M 0 0 \nL 0 3.5 \n\" id=\"m50fe6b5df4\" style=\"stroke:#000000;stroke-width:0.8;\"/>\n      </defs>\n      <g>\n       <use style=\"stroke:#000000;stroke-width:0.8;\" x=\"49.458807\" xlink:href=\"#m50fe6b5df4\" y=\"239.758125\"/>\n      </g>\n     </g>\n     <g id=\"text_1\">\n      <!-- 0 -->\n      <defs>\n       <path d=\"M 31.78125 66.40625 \nQ 24.171875 66.40625 20.328125 58.90625 \nQ 16.5 51.421875 16.5 36.375 \nQ 16.5 21.390625 20.328125 13.890625 \nQ 24.171875 6.390625 31.78125 6.390625 \nQ 39.453125 6.390625 43.28125 13.890625 \nQ 47.125 21.390625 47.125 36.375 \nQ 47.125 51.421875 43.28125 58.90625 \nQ 39.453125 66.40625 31.78125 66.40625 \nz\nM 31.78125 74.21875 \nQ 44.046875 74.21875 50.515625 64.515625 \nQ 56.984375 54.828125 56.984375 36.375 \nQ 56.984375 17.96875 50.515625 8.265625 \nQ 44.046875 -1.421875 31.78125 -1.421875 \nQ 19.53125 -1.421875 13.0625 8.265625 \nQ 6.59375 17.96875 6.59375 36.375 \nQ 6.59375 54.828125 13.0625 64.515625 \nQ 19.53125 74.21875 31.78125 74.21875 \nz\n\" id=\"DejaVuSans-48\"/>\n      </defs>\n      <g transform=\"translate(46.277557 254.356562)scale(0.1 -0.1)\">\n       <use xlink:href=\"#DejaVuSans-48\"/>\n      </g>\n     </g>\n    </g>\n    <g id=\"xtick_2\">\n     <g id=\"line2d_2\">\n      <g>\n       <use style=\"stroke:#000000;stroke-width:0.8;\" x=\"87.985849\" xlink:href=\"#m50fe6b5df4\" y=\"239.758125\"/>\n      </g>\n     </g>\n     <g id=\"text_2\">\n      <!-- 10 -->\n      <defs>\n       <path d=\"M 12.40625 8.296875 \nL 28.515625 8.296875 \nL 28.515625 63.921875 \nL 10.984375 60.40625 \nL 10.984375 69.390625 \nL 28.421875 72.90625 \nL 38.28125 72.90625 \nL 38.28125 8.296875 \nL 54.390625 8.296875 \nL 54.390625 0 \nL 12.40625 0 \nz\n\" id=\"DejaVuSans-49\"/>\n      </defs>\n      <g transform=\"translate(81.623349 254.356562)scale(0.1 -0.1)\">\n       <use xlink:href=\"#DejaVuSans-49\"/>\n       <use x=\"63.623047\" xlink:href=\"#DejaVuSans-48\"/>\n      </g>\n     </g>\n    </g>\n    <g id=\"xtick_3\">\n     <g id=\"line2d_3\">\n      <g>\n       <use style=\"stroke:#000000;stroke-width:0.8;\" x=\"126.512892\" xlink:href=\"#m50fe6b5df4\" y=\"239.758125\"/>\n      </g>\n     </g>\n     <g id=\"text_3\">\n      <!-- 20 -->\n      <defs>\n       <path d=\"M 19.1875 8.296875 \nL 53.609375 8.296875 \nL 53.609375 0 \nL 7.328125 0 \nL 7.328125 8.296875 \nQ 12.9375 14.109375 22.625 23.890625 \nQ 32.328125 33.6875 34.8125 36.53125 \nQ 39.546875 41.84375 41.421875 45.53125 \nQ 43.3125 49.21875 43.3125 52.78125 \nQ 43.3125 58.59375 39.234375 62.25 \nQ 35.15625 65.921875 28.609375 65.921875 \nQ 23.96875 65.921875 18.8125 64.3125 \nQ 13.671875 62.703125 7.8125 59.421875 \nL 7.8125 69.390625 \nQ 13.765625 71.78125 18.9375 73 \nQ 24.125 74.21875 28.421875 74.21875 \nQ 39.75 74.21875 46.484375 68.546875 \nQ 53.21875 62.890625 53.21875 53.421875 \nQ 53.21875 48.921875 51.53125 44.890625 \nQ 49.859375 40.875 45.40625 35.40625 \nQ 44.1875 33.984375 37.640625 27.21875 \nQ 31.109375 20.453125 19.1875 8.296875 \nz\n\" id=\"DejaVuSans-50\"/>\n      </defs>\n      <g transform=\"translate(120.150392 254.356562)scale(0.1 -0.1)\">\n       <use xlink:href=\"#DejaVuSans-50\"/>\n       <use x=\"63.623047\" xlink:href=\"#DejaVuSans-48\"/>\n      </g>\n     </g>\n    </g>\n    <g id=\"xtick_4\">\n     <g id=\"line2d_4\">\n      <g>\n       <use style=\"stroke:#000000;stroke-width:0.8;\" x=\"165.039935\" xlink:href=\"#m50fe6b5df4\" y=\"239.758125\"/>\n      </g>\n     </g>\n     <g id=\"text_4\">\n      <!-- 30 -->\n      <defs>\n       <path d=\"M 40.578125 39.3125 \nQ 47.65625 37.796875 51.625 33 \nQ 55.609375 28.21875 55.609375 21.1875 \nQ 55.609375 10.40625 48.1875 4.484375 \nQ 40.765625 -1.421875 27.09375 -1.421875 \nQ 22.515625 -1.421875 17.65625 -0.515625 \nQ 12.796875 0.390625 7.625 2.203125 \nL 7.625 11.71875 \nQ 11.71875 9.328125 16.59375 8.109375 \nQ 21.484375 6.890625 26.8125 6.890625 \nQ 36.078125 6.890625 40.9375 10.546875 \nQ 45.796875 14.203125 45.796875 21.1875 \nQ 45.796875 27.640625 41.28125 31.265625 \nQ 36.765625 34.90625 28.71875 34.90625 \nL 20.21875 34.90625 \nL 20.21875 43.015625 \nL 29.109375 43.015625 \nQ 36.375 43.015625 40.234375 45.921875 \nQ 44.09375 48.828125 44.09375 54.296875 \nQ 44.09375 59.90625 40.109375 62.90625 \nQ 36.140625 65.921875 28.71875 65.921875 \nQ 24.65625 65.921875 20.015625 65.03125 \nQ 15.375 64.15625 9.8125 62.3125 \nL 9.8125 71.09375 \nQ 15.4375 72.65625 20.34375 73.4375 \nQ 25.25 74.21875 29.59375 74.21875 \nQ 40.828125 74.21875 47.359375 69.109375 \nQ 53.90625 64.015625 53.90625 55.328125 \nQ 53.90625 49.265625 50.4375 45.09375 \nQ 46.96875 40.921875 40.578125 39.3125 \nz\n\" id=\"DejaVuSans-51\"/>\n      </defs>\n      <g transform=\"translate(158.677435 254.356562)scale(0.1 -0.1)\">\n       <use xlink:href=\"#DejaVuSans-51\"/>\n       <use x=\"63.623047\" xlink:href=\"#DejaVuSans-48\"/>\n      </g>\n     </g>\n    </g>\n    <g id=\"xtick_5\">\n     <g id=\"line2d_5\">\n      <g>\n       <use style=\"stroke:#000000;stroke-width:0.8;\" x=\"203.566977\" xlink:href=\"#m50fe6b5df4\" y=\"239.758125\"/>\n      </g>\n     </g>\n     <g id=\"text_5\">\n      <!-- 40 -->\n      <defs>\n       <path d=\"M 37.796875 64.3125 \nL 12.890625 25.390625 \nL 37.796875 25.390625 \nz\nM 35.203125 72.90625 \nL 47.609375 72.90625 \nL 47.609375 25.390625 \nL 58.015625 25.390625 \nL 58.015625 17.1875 \nL 47.609375 17.1875 \nL 47.609375 0 \nL 37.796875 0 \nL 37.796875 17.1875 \nL 4.890625 17.1875 \nL 4.890625 26.703125 \nz\n\" id=\"DejaVuSans-52\"/>\n      </defs>\n      <g transform=\"translate(197.204477 254.356562)scale(0.1 -0.1)\">\n       <use xlink:href=\"#DejaVuSans-52\"/>\n       <use x=\"63.623047\" xlink:href=\"#DejaVuSans-48\"/>\n      </g>\n     </g>\n    </g>\n    <g id=\"xtick_6\">\n     <g id=\"line2d_6\">\n      <g>\n       <use style=\"stroke:#000000;stroke-width:0.8;\" x=\"242.09402\" xlink:href=\"#m50fe6b5df4\" y=\"239.758125\"/>\n      </g>\n     </g>\n     <g id=\"text_6\">\n      <!-- 50 -->\n      <defs>\n       <path d=\"M 10.796875 72.90625 \nL 49.515625 72.90625 \nL 49.515625 64.59375 \nL 19.828125 64.59375 \nL 19.828125 46.734375 \nQ 21.96875 47.46875 24.109375 47.828125 \nQ 26.265625 48.1875 28.421875 48.1875 \nQ 40.625 48.1875 47.75 41.5 \nQ 54.890625 34.8125 54.890625 23.390625 \nQ 54.890625 11.625 47.5625 5.09375 \nQ 40.234375 -1.421875 26.90625 -1.421875 \nQ 22.3125 -1.421875 17.546875 -0.640625 \nQ 12.796875 0.140625 7.71875 1.703125 \nL 7.71875 11.625 \nQ 12.109375 9.234375 16.796875 8.0625 \nQ 21.484375 6.890625 26.703125 6.890625 \nQ 35.15625 6.890625 40.078125 11.328125 \nQ 45.015625 15.765625 45.015625 23.390625 \nQ 45.015625 31 40.078125 35.4375 \nQ 35.15625 39.890625 26.703125 39.890625 \nQ 22.75 39.890625 18.8125 39.015625 \nQ 14.890625 38.140625 10.796875 36.28125 \nz\n\" id=\"DejaVuSans-53\"/>\n      </defs>\n      <g transform=\"translate(235.73152 254.356562)scale(0.1 -0.1)\">\n       <use xlink:href=\"#DejaVuSans-53\"/>\n       <use x=\"63.623047\" xlink:href=\"#DejaVuSans-48\"/>\n      </g>\n     </g>\n    </g>\n    <g id=\"xtick_7\">\n     <g id=\"line2d_7\">\n      <g>\n       <use style=\"stroke:#000000;stroke-width:0.8;\" x=\"280.621062\" xlink:href=\"#m50fe6b5df4\" y=\"239.758125\"/>\n      </g>\n     </g>\n     <g id=\"text_7\">\n      <!-- 60 -->\n      <defs>\n       <path d=\"M 33.015625 40.375 \nQ 26.375 40.375 22.484375 35.828125 \nQ 18.609375 31.296875 18.609375 23.390625 \nQ 18.609375 15.53125 22.484375 10.953125 \nQ 26.375 6.390625 33.015625 6.390625 \nQ 39.65625 6.390625 43.53125 10.953125 \nQ 47.40625 15.53125 47.40625 23.390625 \nQ 47.40625 31.296875 43.53125 35.828125 \nQ 39.65625 40.375 33.015625 40.375 \nz\nM 52.59375 71.296875 \nL 52.59375 62.3125 \nQ 48.875 64.0625 45.09375 64.984375 \nQ 41.3125 65.921875 37.59375 65.921875 \nQ 27.828125 65.921875 22.671875 59.328125 \nQ 17.53125 52.734375 16.796875 39.40625 \nQ 19.671875 43.65625 24.015625 45.921875 \nQ 28.375 48.1875 33.59375 48.1875 \nQ 44.578125 48.1875 50.953125 41.515625 \nQ 57.328125 34.859375 57.328125 23.390625 \nQ 57.328125 12.15625 50.6875 5.359375 \nQ 44.046875 -1.421875 33.015625 -1.421875 \nQ 20.359375 -1.421875 13.671875 8.265625 \nQ 6.984375 17.96875 6.984375 36.375 \nQ 6.984375 53.65625 15.1875 63.9375 \nQ 23.390625 74.21875 37.203125 74.21875 \nQ 40.921875 74.21875 44.703125 73.484375 \nQ 48.484375 72.75 52.59375 71.296875 \nz\n\" id=\"DejaVuSans-54\"/>\n      </defs>\n      <g transform=\"translate(274.258562 254.356562)scale(0.1 -0.1)\">\n       <use xlink:href=\"#DejaVuSans-54\"/>\n       <use x=\"63.623047\" xlink:href=\"#DejaVuSans-48\"/>\n      </g>\n     </g>\n    </g>\n    <g id=\"xtick_8\">\n     <g id=\"line2d_8\">\n      <g>\n       <use style=\"stroke:#000000;stroke-width:0.8;\" x=\"319.148105\" xlink:href=\"#m50fe6b5df4\" y=\"239.758125\"/>\n      </g>\n     </g>\n     <g id=\"text_8\">\n      <!-- 70 -->\n      <defs>\n       <path d=\"M 8.203125 72.90625 \nL 55.078125 72.90625 \nL 55.078125 68.703125 \nL 28.609375 0 \nL 18.3125 0 \nL 43.21875 64.59375 \nL 8.203125 64.59375 \nz\n\" id=\"DejaVuSans-55\"/>\n      </defs>\n      <g transform=\"translate(312.785605 254.356562)scale(0.1 -0.1)\">\n       <use xlink:href=\"#DejaVuSans-55\"/>\n       <use x=\"63.623047\" xlink:href=\"#DejaVuSans-48\"/>\n      </g>\n     </g>\n    </g>\n    <g id=\"xtick_9\">\n     <g id=\"line2d_9\">\n      <g>\n       <use style=\"stroke:#000000;stroke-width:0.8;\" x=\"357.675147\" xlink:href=\"#m50fe6b5df4\" y=\"239.758125\"/>\n      </g>\n     </g>\n     <g id=\"text_9\">\n      <!-- 80 -->\n      <defs>\n       <path d=\"M 31.78125 34.625 \nQ 24.75 34.625 20.71875 30.859375 \nQ 16.703125 27.09375 16.703125 20.515625 \nQ 16.703125 13.921875 20.71875 10.15625 \nQ 24.75 6.390625 31.78125 6.390625 \nQ 38.8125 6.390625 42.859375 10.171875 \nQ 46.921875 13.96875 46.921875 20.515625 \nQ 46.921875 27.09375 42.890625 30.859375 \nQ 38.875 34.625 31.78125 34.625 \nz\nM 21.921875 38.8125 \nQ 15.578125 40.375 12.03125 44.71875 \nQ 8.5 49.078125 8.5 55.328125 \nQ 8.5 64.0625 14.71875 69.140625 \nQ 20.953125 74.21875 31.78125 74.21875 \nQ 42.671875 74.21875 48.875 69.140625 \nQ 55.078125 64.0625 55.078125 55.328125 \nQ 55.078125 49.078125 51.53125 44.71875 \nQ 48 40.375 41.703125 38.8125 \nQ 48.828125 37.15625 52.796875 32.3125 \nQ 56.78125 27.484375 56.78125 20.515625 \nQ 56.78125 9.90625 50.3125 4.234375 \nQ 43.84375 -1.421875 31.78125 -1.421875 \nQ 19.734375 -1.421875 13.25 4.234375 \nQ 6.78125 9.90625 6.78125 20.515625 \nQ 6.78125 27.484375 10.78125 32.3125 \nQ 14.796875 37.15625 21.921875 38.8125 \nz\nM 18.3125 54.390625 \nQ 18.3125 48.734375 21.84375 45.5625 \nQ 25.390625 42.390625 31.78125 42.390625 \nQ 38.140625 42.390625 41.71875 45.5625 \nQ 45.3125 48.734375 45.3125 54.390625 \nQ 45.3125 60.0625 41.71875 63.234375 \nQ 38.140625 66.40625 31.78125 66.40625 \nQ 25.390625 66.40625 21.84375 63.234375 \nQ 18.3125 60.0625 18.3125 54.390625 \nz\n\" id=\"DejaVuSans-56\"/>\n      </defs>\n      <g transform=\"translate(351.312647 254.356562)scale(0.1 -0.1)\">\n       <use xlink:href=\"#DejaVuSans-56\"/>\n       <use x=\"63.623047\" xlink:href=\"#DejaVuSans-48\"/>\n      </g>\n     </g>\n    </g>\n    <g id=\"text_10\">\n     <!-- Epoch -->\n     <defs>\n      <path d=\"M 9.8125 72.90625 \nL 55.90625 72.90625 \nL 55.90625 64.59375 \nL 19.671875 64.59375 \nL 19.671875 43.015625 \nL 54.390625 43.015625 \nL 54.390625 34.71875 \nL 19.671875 34.71875 \nL 19.671875 8.296875 \nL 56.78125 8.296875 \nL 56.78125 0 \nL 9.8125 0 \nz\n\" id=\"DejaVuSans-69\"/>\n      <path d=\"M 18.109375 8.203125 \nL 18.109375 -20.796875 \nL 9.078125 -20.796875 \nL 9.078125 54.6875 \nL 18.109375 54.6875 \nL 18.109375 46.390625 \nQ 20.953125 51.265625 25.265625 53.625 \nQ 29.59375 56 35.59375 56 \nQ 45.5625 56 51.78125 48.09375 \nQ 58.015625 40.1875 58.015625 27.296875 \nQ 58.015625 14.40625 51.78125 6.484375 \nQ 45.5625 -1.421875 35.59375 -1.421875 \nQ 29.59375 -1.421875 25.265625 0.953125 \nQ 20.953125 3.328125 18.109375 8.203125 \nz\nM 48.6875 27.296875 \nQ 48.6875 37.203125 44.609375 42.84375 \nQ 40.53125 48.484375 33.40625 48.484375 \nQ 26.265625 48.484375 22.1875 42.84375 \nQ 18.109375 37.203125 18.109375 27.296875 \nQ 18.109375 17.390625 22.1875 11.75 \nQ 26.265625 6.109375 33.40625 6.109375 \nQ 40.53125 6.109375 44.609375 11.75 \nQ 48.6875 17.390625 48.6875 27.296875 \nz\n\" id=\"DejaVuSans-112\"/>\n      <path d=\"M 30.609375 48.390625 \nQ 23.390625 48.390625 19.1875 42.75 \nQ 14.984375 37.109375 14.984375 27.296875 \nQ 14.984375 17.484375 19.15625 11.84375 \nQ 23.34375 6.203125 30.609375 6.203125 \nQ 37.796875 6.203125 41.984375 11.859375 \nQ 46.1875 17.53125 46.1875 27.296875 \nQ 46.1875 37.015625 41.984375 42.703125 \nQ 37.796875 48.390625 30.609375 48.390625 \nz\nM 30.609375 56 \nQ 42.328125 56 49.015625 48.375 \nQ 55.71875 40.765625 55.71875 27.296875 \nQ 55.71875 13.875 49.015625 6.21875 \nQ 42.328125 -1.421875 30.609375 -1.421875 \nQ 18.84375 -1.421875 12.171875 6.21875 \nQ 5.515625 13.875 5.515625 27.296875 \nQ 5.515625 40.765625 12.171875 48.375 \nQ 18.84375 56 30.609375 56 \nz\n\" id=\"DejaVuSans-111\"/>\n      <path d=\"M 48.78125 52.59375 \nL 48.78125 44.1875 \nQ 44.96875 46.296875 41.140625 47.34375 \nQ 37.3125 48.390625 33.40625 48.390625 \nQ 24.65625 48.390625 19.8125 42.84375 \nQ 14.984375 37.3125 14.984375 27.296875 \nQ 14.984375 17.28125 19.8125 11.734375 \nQ 24.65625 6.203125 33.40625 6.203125 \nQ 37.3125 6.203125 41.140625 7.25 \nQ 44.96875 8.296875 48.78125 10.40625 \nL 48.78125 2.09375 \nQ 45.015625 0.34375 40.984375 -0.53125 \nQ 36.96875 -1.421875 32.421875 -1.421875 \nQ 20.0625 -1.421875 12.78125 6.34375 \nQ 5.515625 14.109375 5.515625 27.296875 \nQ 5.515625 40.671875 12.859375 48.328125 \nQ 20.21875 56 33.015625 56 \nQ 37.15625 56 41.109375 55.140625 \nQ 45.0625 54.296875 48.78125 52.59375 \nz\n\" id=\"DejaVuSans-99\"/>\n      <path d=\"M 54.890625 33.015625 \nL 54.890625 0 \nL 45.90625 0 \nL 45.90625 32.71875 \nQ 45.90625 40.484375 42.875 44.328125 \nQ 39.84375 48.1875 33.796875 48.1875 \nQ 26.515625 48.1875 22.3125 43.546875 \nQ 18.109375 38.921875 18.109375 30.90625 \nL 18.109375 0 \nL 9.078125 0 \nL 9.078125 75.984375 \nL 18.109375 75.984375 \nL 18.109375 46.1875 \nQ 21.34375 51.125 25.703125 53.5625 \nQ 30.078125 56 35.796875 56 \nQ 45.21875 56 50.046875 50.171875 \nQ 54.890625 44.34375 54.890625 33.015625 \nz\n\" id=\"DejaVuSans-104\"/>\n     </defs>\n     <g transform=\"translate(186.329688 268.034687)scale(0.1 -0.1)\">\n      <use xlink:href=\"#DejaVuSans-69\"/>\n      <use x=\"63.183594\" xlink:href=\"#DejaVuSans-112\"/>\n      <use x=\"126.660156\" xlink:href=\"#DejaVuSans-111\"/>\n      <use x=\"187.841797\" xlink:href=\"#DejaVuSans-99\"/>\n      <use x=\"242.822266\" xlink:href=\"#DejaVuSans-104\"/>\n     </g>\n    </g>\n   </g>\n   <g id=\"matplotlib.axis_2\">\n    <g id=\"ytick_1\">\n     <g id=\"line2d_10\">\n      <defs>\n       <path d=\"M 0 0 \nL -3.5 0 \n\" id=\"m21ef469150\" style=\"stroke:#000000;stroke-width:0.8;\"/>\n      </defs>\n      <g>\n       <use style=\"stroke:#000000;stroke-width:0.8;\" x=\"34.240625\" xlink:href=\"#m21ef469150\" y=\"239.758125\"/>\n      </g>\n     </g>\n     <g id=\"text_11\">\n      <!-- 0 -->\n      <g transform=\"translate(20.878125 243.557344)scale(0.1 -0.1)\">\n       <use xlink:href=\"#DejaVuSans-48\"/>\n      </g>\n     </g>\n    </g>\n    <g id=\"ytick_2\">\n     <g id=\"line2d_11\">\n      <g>\n       <use style=\"stroke:#000000;stroke-width:0.8;\" x=\"34.240625\" xlink:href=\"#m21ef469150\" y=\"196.270125\"/>\n      </g>\n     </g>\n     <g id=\"text_12\">\n      <!-- 1 -->\n      <g transform=\"translate(20.878125 200.069344)scale(0.1 -0.1)\">\n       <use xlink:href=\"#DejaVuSans-49\"/>\n      </g>\n     </g>\n    </g>\n    <g id=\"ytick_3\">\n     <g id=\"line2d_12\">\n      <g>\n       <use style=\"stroke:#000000;stroke-width:0.8;\" x=\"34.240625\" xlink:href=\"#m21ef469150\" y=\"152.782125\"/>\n      </g>\n     </g>\n     <g id=\"text_13\">\n      <!-- 2 -->\n      <g transform=\"translate(20.878125 156.581344)scale(0.1 -0.1)\">\n       <use xlink:href=\"#DejaVuSans-50\"/>\n      </g>\n     </g>\n    </g>\n    <g id=\"ytick_4\">\n     <g id=\"line2d_13\">\n      <g>\n       <use style=\"stroke:#000000;stroke-width:0.8;\" x=\"34.240625\" xlink:href=\"#m21ef469150\" y=\"109.294125\"/>\n      </g>\n     </g>\n     <g id=\"text_14\">\n      <!-- 3 -->\n      <g transform=\"translate(20.878125 113.093344)scale(0.1 -0.1)\">\n       <use xlink:href=\"#DejaVuSans-51\"/>\n      </g>\n     </g>\n    </g>\n    <g id=\"ytick_5\">\n     <g id=\"line2d_14\">\n      <g>\n       <use style=\"stroke:#000000;stroke-width:0.8;\" x=\"34.240625\" xlink:href=\"#m21ef469150\" y=\"65.806125\"/>\n      </g>\n     </g>\n     <g id=\"text_15\">\n      <!-- 4 -->\n      <g transform=\"translate(20.878125 69.605344)scale(0.1 -0.1)\">\n       <use xlink:href=\"#DejaVuSans-52\"/>\n      </g>\n     </g>\n    </g>\n    <g id=\"ytick_6\">\n     <g id=\"line2d_15\">\n      <g>\n       <use style=\"stroke:#000000;stroke-width:0.8;\" x=\"34.240625\" xlink:href=\"#m21ef469150\" y=\"22.318125\"/>\n      </g>\n     </g>\n     <g id=\"text_16\">\n      <!-- 5 -->\n      <g transform=\"translate(20.878125 26.117344)scale(0.1 -0.1)\">\n       <use xlink:href=\"#DejaVuSans-53\"/>\n      </g>\n     </g>\n    </g>\n    <g id=\"text_17\">\n     <!-- Loss -->\n     <defs>\n      <path d=\"M 9.8125 72.90625 \nL 19.671875 72.90625 \nL 19.671875 8.296875 \nL 55.171875 8.296875 \nL 55.171875 0 \nL 9.8125 0 \nz\n\" id=\"DejaVuSans-76\"/>\n      <path d=\"M 44.28125 53.078125 \nL 44.28125 44.578125 \nQ 40.484375 46.53125 36.375 47.5 \nQ 32.28125 48.484375 27.875 48.484375 \nQ 21.1875 48.484375 17.84375 46.4375 \nQ 14.5 44.390625 14.5 40.28125 \nQ 14.5 37.15625 16.890625 35.375 \nQ 19.28125 33.59375 26.515625 31.984375 \nL 29.59375 31.296875 \nQ 39.15625 29.25 43.1875 25.515625 \nQ 47.21875 21.78125 47.21875 15.09375 \nQ 47.21875 7.46875 41.1875 3.015625 \nQ 35.15625 -1.421875 24.609375 -1.421875 \nQ 20.21875 -1.421875 15.453125 -0.5625 \nQ 10.6875 0.296875 5.421875 2 \nL 5.421875 11.28125 \nQ 10.40625 8.6875 15.234375 7.390625 \nQ 20.0625 6.109375 24.8125 6.109375 \nQ 31.15625 6.109375 34.5625 8.28125 \nQ 37.984375 10.453125 37.984375 14.40625 \nQ 37.984375 18.0625 35.515625 20.015625 \nQ 33.0625 21.96875 24.703125 23.78125 \nL 21.578125 24.515625 \nQ 13.234375 26.265625 9.515625 29.90625 \nQ 5.8125 33.546875 5.8125 39.890625 \nQ 5.8125 47.609375 11.28125 51.796875 \nQ 16.75 56 26.8125 56 \nQ 31.78125 56 36.171875 55.265625 \nQ 40.578125 54.546875 44.28125 53.078125 \nz\n\" id=\"DejaVuSans-115\"/>\n     </defs>\n     <g transform=\"translate(14.798437 142.005312)rotate(-90)scale(0.1 -0.1)\">\n      <use xlink:href=\"#DejaVuSans-76\"/>\n      <use x=\"53.962891\" xlink:href=\"#DejaVuSans-111\"/>\n      <use x=\"115.144531\" xlink:href=\"#DejaVuSans-115\"/>\n      <use x=\"167.244141\" xlink:href=\"#DejaVuSans-115\"/>\n     </g>\n    </g>\n   </g>\n   <g id=\"line2d_16\">\n    <path clip-path=\"url(#p2ef582e5e6)\" d=\"M 49.458807 136.839709 \nL 53.311511 153.166992 \nL 57.164215 158.729723 \nL 61.01692 163.316967 \nL 64.869624 169.903004 \nL 68.722328 173.601268 \nL 72.575032 178.354913 \nL 76.427737 179.911115 \nL 80.280441 185.794077 \nL 84.133145 189.883535 \nL 87.985849 187.38344 \nL 91.838554 192.428688 \nL 95.691258 198.650076 \nL 99.543962 201.187031 \nL 103.396666 204.958869 \nL 107.249371 203.466904 \nL 111.102075 205.018032 \nL 114.954779 213.090899 \nL 118.807483 216.104429 \nL 122.660188 217.691129 \nL 126.512892 220.962298 \nL 130.365596 223.8301 \nL 134.2183 222.657184 \nL 138.071005 222.678943 \nL 141.923709 221.90063 \nL 145.776413 227.665649 \nL 149.629118 227.665782 \nL 153.481822 229.621338 \nL 157.334526 232.518921 \nL 161.18723 233.105154 \nL 165.039935 228.240461 \nL 168.892639 233.851225 \nL 172.745343 235.98979 \nL 176.598047 233.165367 \nL 180.450752 234.388554 \nL 184.303456 233.090116 \nL 188.15616 234.715954 \nL 192.008864 237.936948 \nL 195.861569 236.429189 \nL 199.714273 234.851464 \nL 203.566977 233.708837 \nL 207.419681 227.523471 \nL 211.272386 232.461327 \nL 215.12509 220.637388 \nL 218.977794 233.186465 \nL 222.830498 238.135772 \nL 226.683203 238.594585 \nL 230.535907 238.674361 \nL 234.388611 237.470094 \nL 238.241315 238.263247 \nL 242.09402 237.898984 \nL 245.946724 239.054968 \nL 249.799428 239.323824 \nL 253.652132 239.360801 \nL 257.504837 239.480662 \nL 261.357541 239.414732 \nL 265.210245 238.827932 \nL 269.06295 239.184309 \nL 272.915654 237.324522 \nL 276.768358 229.012178 \nL 280.621062 236.64714 \nL 284.473767 238.901166 \nL 288.326471 239.36794 \nL 292.179175 239.518458 \nL 296.031879 239.564788 \nL 299.884584 239.595752 \nL 303.737288 239.429525 \nL 307.589992 237.970318 \nL 311.442696 238.717918 \nL 315.295401 239.406128 \nL 319.148105 237.791367 \nL 323.000809 234.229307 \nL 326.853513 238.918571 \nL 330.706218 238.286643 \nL 334.558922 239.21839 \nL 338.411626 239.206231 \nL 342.26433 239.370597 \nL 346.117035 236.804131 \nL 349.969739 238.583022 \nL 353.822443 239.431438 \n\" style=\"fill:none;stroke:#d62728;stroke-linecap:square;stroke-width:1.5;\"/>\n   </g>\n   <g id=\"line2d_17\">\n    <path clip-path=\"url(#p2ef582e5e6)\" d=\"M 49.458807 134.385027 \nL 53.311511 144.19029 \nL 57.164215 159.963605 \nL 61.01692 159.508642 \nL 64.869624 163.892794 \nL 68.722328 166.304119 \nL 72.575032 168.167352 \nL 76.427737 165.585831 \nL 80.280441 162.134924 \nL 84.133145 160.072343 \nL 87.985849 173.311437 \nL 91.838554 169.697218 \nL 95.691258 173.19118 \nL 99.543962 169.489 \nL 103.396666 160.769117 \nL 107.249371 155.23806 \nL 111.102075 167.891969 \nL 114.954779 164.678373 \nL 118.807483 166.864621 \nL 122.660188 159.277936 \nL 126.512892 157.009119 \nL 130.365596 156.937619 \nL 134.2183 155.701027 \nL 138.071005 137.963787 \nL 141.923709 157.719957 \nL 145.776413 152.659322 \nL 149.629118 149.846711 \nL 153.481822 151.622456 \nL 157.334526 149.367351 \nL 161.18723 142.343118 \nL 165.039935 133.817651 \nL 168.892639 141.930416 \nL 172.745343 131.771924 \nL 176.598047 144.535785 \nL 180.450752 124.28436 \nL 184.303456 128.350587 \nL 188.15616 137.211014 \nL 192.008864 135.656322 \nL 195.861569 120.234888 \nL 199.714273 130.775702 \nL 203.566977 121.473988 \nL 207.419681 130.698271 \nL 211.272386 48.595788 \nL 215.12509 130.767532 \nL 218.977794 139.897981 \nL 222.830498 130.923399 \nL 226.683203 129.491769 \nL 230.535907 119.590205 \nL 234.388611 128.337596 \nL 238.241315 123.270139 \nL 242.09402 120.674423 \nL 245.946724 130.476015 \nL 249.799428 126.026398 \nL 253.652132 125.380242 \nL 257.504837 124.605198 \nL 261.357541 124.185995 \nL 265.210245 125.052768 \nL 269.06295 129.288052 \nL 272.915654 105.715988 \nL 276.768358 104.155862 \nL 280.621062 121.442023 \nL 284.473767 116.586152 \nL 288.326471 124.794638 \nL 292.179175 118.014776 \nL 296.031879 122.283072 \nL 299.884584 111.563735 \nL 303.737288 111.889467 \nL 307.589992 123.812994 \nL 311.442696 124.478818 \nL 315.295401 108.756982 \nL 319.148105 107.005146 \nL 323.000809 111.158706 \nL 326.853513 108.494902 \nL 330.706218 110.34701 \nL 334.558922 103.176603 \nL 338.411626 108.619249 \nL 342.26433 111.534818 \nL 346.117035 104.508407 \nL 349.969739 102.138037 \nL 353.822443 116.141547 \n\" style=\"fill:none;stroke:#17becf;stroke-linecap:square;stroke-width:1.5;\"/>\n   </g>\n   <g id=\"patch_3\">\n    <path d=\"M 34.240625 239.758125 \nL 34.240625 22.318125 \n\" style=\"fill:none;stroke:#000000;stroke-linecap:square;stroke-linejoin:miter;stroke-width:0.8;\"/>\n   </g>\n   <g id=\"patch_4\">\n    <path d=\"M 369.040625 239.758125 \nL 369.040625 22.318125 \n\" style=\"fill:none;stroke:#000000;stroke-linecap:square;stroke-linejoin:miter;stroke-width:0.8;\"/>\n   </g>\n   <g id=\"patch_5\">\n    <path d=\"M 34.240625 239.758125 \nL 369.040625 239.758125 \n\" style=\"fill:none;stroke:#000000;stroke-linecap:square;stroke-linejoin:miter;stroke-width:0.8;\"/>\n   </g>\n   <g id=\"patch_6\">\n    <path d=\"M 34.240625 22.318125 \nL 369.040625 22.318125 \n\" style=\"fill:none;stroke:#000000;stroke-linecap:square;stroke-linejoin:miter;stroke-width:0.8;\"/>\n   </g>\n   <g id=\"text_18\">\n    <!-- Learning curve of CNN Model -->\n    <defs>\n     <path d=\"M 56.203125 29.59375 \nL 56.203125 25.203125 \nL 14.890625 25.203125 \nQ 15.484375 15.921875 20.484375 11.0625 \nQ 25.484375 6.203125 34.421875 6.203125 \nQ 39.59375 6.203125 44.453125 7.46875 \nQ 49.3125 8.734375 54.109375 11.28125 \nL 54.109375 2.78125 \nQ 49.265625 0.734375 44.1875 -0.34375 \nQ 39.109375 -1.421875 33.890625 -1.421875 \nQ 20.796875 -1.421875 13.15625 6.1875 \nQ 5.515625 13.8125 5.515625 26.8125 \nQ 5.515625 40.234375 12.765625 48.109375 \nQ 20.015625 56 32.328125 56 \nQ 43.359375 56 49.78125 48.890625 \nQ 56.203125 41.796875 56.203125 29.59375 \nz\nM 47.21875 32.234375 \nQ 47.125 39.59375 43.09375 43.984375 \nQ 39.0625 48.390625 32.421875 48.390625 \nQ 24.90625 48.390625 20.390625 44.140625 \nQ 15.875 39.890625 15.1875 32.171875 \nz\n\" id=\"DejaVuSans-101\"/>\n     <path d=\"M 34.28125 27.484375 \nQ 23.390625 27.484375 19.1875 25 \nQ 14.984375 22.515625 14.984375 16.5 \nQ 14.984375 11.71875 18.140625 8.90625 \nQ 21.296875 6.109375 26.703125 6.109375 \nQ 34.1875 6.109375 38.703125 11.40625 \nQ 43.21875 16.703125 43.21875 25.484375 \nL 43.21875 27.484375 \nz\nM 52.203125 31.203125 \nL 52.203125 0 \nL 43.21875 0 \nL 43.21875 8.296875 \nQ 40.140625 3.328125 35.546875 0.953125 \nQ 30.953125 -1.421875 24.3125 -1.421875 \nQ 15.921875 -1.421875 10.953125 3.296875 \nQ 6 8.015625 6 15.921875 \nQ 6 25.140625 12.171875 29.828125 \nQ 18.359375 34.515625 30.609375 34.515625 \nL 43.21875 34.515625 \nL 43.21875 35.40625 \nQ 43.21875 41.609375 39.140625 45 \nQ 35.0625 48.390625 27.6875 48.390625 \nQ 23 48.390625 18.546875 47.265625 \nQ 14.109375 46.140625 10.015625 43.890625 \nL 10.015625 52.203125 \nQ 14.9375 54.109375 19.578125 55.046875 \nQ 24.21875 56 28.609375 56 \nQ 40.484375 56 46.34375 49.84375 \nQ 52.203125 43.703125 52.203125 31.203125 \nz\n\" id=\"DejaVuSans-97\"/>\n     <path d=\"M 41.109375 46.296875 \nQ 39.59375 47.171875 37.8125 47.578125 \nQ 36.03125 48 33.890625 48 \nQ 26.265625 48 22.1875 43.046875 \nQ 18.109375 38.09375 18.109375 28.8125 \nL 18.109375 0 \nL 9.078125 0 \nL 9.078125 54.6875 \nL 18.109375 54.6875 \nL 18.109375 46.1875 \nQ 20.953125 51.171875 25.484375 53.578125 \nQ 30.03125 56 36.53125 56 \nQ 37.453125 56 38.578125 55.875 \nQ 39.703125 55.765625 41.0625 55.515625 \nz\n\" id=\"DejaVuSans-114\"/>\n     <path d=\"M 54.890625 33.015625 \nL 54.890625 0 \nL 45.90625 0 \nL 45.90625 32.71875 \nQ 45.90625 40.484375 42.875 44.328125 \nQ 39.84375 48.1875 33.796875 48.1875 \nQ 26.515625 48.1875 22.3125 43.546875 \nQ 18.109375 38.921875 18.109375 30.90625 \nL 18.109375 0 \nL 9.078125 0 \nL 9.078125 54.6875 \nL 18.109375 54.6875 \nL 18.109375 46.1875 \nQ 21.34375 51.125 25.703125 53.5625 \nQ 30.078125 56 35.796875 56 \nQ 45.21875 56 50.046875 50.171875 \nQ 54.890625 44.34375 54.890625 33.015625 \nz\n\" id=\"DejaVuSans-110\"/>\n     <path d=\"M 9.421875 54.6875 \nL 18.40625 54.6875 \nL 18.40625 0 \nL 9.421875 0 \nz\nM 9.421875 75.984375 \nL 18.40625 75.984375 \nL 18.40625 64.59375 \nL 9.421875 64.59375 \nz\n\" id=\"DejaVuSans-105\"/>\n     <path d=\"M 45.40625 27.984375 \nQ 45.40625 37.75 41.375 43.109375 \nQ 37.359375 48.484375 30.078125 48.484375 \nQ 22.859375 48.484375 18.828125 43.109375 \nQ 14.796875 37.75 14.796875 27.984375 \nQ 14.796875 18.265625 18.828125 12.890625 \nQ 22.859375 7.515625 30.078125 7.515625 \nQ 37.359375 7.515625 41.375 12.890625 \nQ 45.40625 18.265625 45.40625 27.984375 \nz\nM 54.390625 6.78125 \nQ 54.390625 -7.171875 48.1875 -13.984375 \nQ 42 -20.796875 29.203125 -20.796875 \nQ 24.46875 -20.796875 20.265625 -20.09375 \nQ 16.0625 -19.390625 12.109375 -17.921875 \nL 12.109375 -9.1875 \nQ 16.0625 -11.328125 19.921875 -12.34375 \nQ 23.78125 -13.375 27.78125 -13.375 \nQ 36.625 -13.375 41.015625 -8.765625 \nQ 45.40625 -4.15625 45.40625 5.171875 \nL 45.40625 9.625 \nQ 42.625 4.78125 38.28125 2.390625 \nQ 33.9375 0 27.875 0 \nQ 17.828125 0 11.671875 7.65625 \nQ 5.515625 15.328125 5.515625 27.984375 \nQ 5.515625 40.671875 11.671875 48.328125 \nQ 17.828125 56 27.875 56 \nQ 33.9375 56 38.28125 53.609375 \nQ 42.625 51.21875 45.40625 46.390625 \nL 45.40625 54.6875 \nL 54.390625 54.6875 \nz\n\" id=\"DejaVuSans-103\"/>\n     <path id=\"DejaVuSans-32\"/>\n     <path d=\"M 8.5 21.578125 \nL 8.5 54.6875 \nL 17.484375 54.6875 \nL 17.484375 21.921875 \nQ 17.484375 14.15625 20.5 10.265625 \nQ 23.53125 6.390625 29.59375 6.390625 \nQ 36.859375 6.390625 41.078125 11.03125 \nQ 45.3125 15.671875 45.3125 23.6875 \nL 45.3125 54.6875 \nL 54.296875 54.6875 \nL 54.296875 0 \nL 45.3125 0 \nL 45.3125 8.40625 \nQ 42.046875 3.421875 37.71875 1 \nQ 33.40625 -1.421875 27.6875 -1.421875 \nQ 18.265625 -1.421875 13.375 4.4375 \nQ 8.5 10.296875 8.5 21.578125 \nz\nM 31.109375 56 \nz\n\" id=\"DejaVuSans-117\"/>\n     <path d=\"M 2.984375 54.6875 \nL 12.5 54.6875 \nL 29.59375 8.796875 \nL 46.6875 54.6875 \nL 56.203125 54.6875 \nL 35.6875 0 \nL 23.484375 0 \nz\n\" id=\"DejaVuSans-118\"/>\n     <path d=\"M 37.109375 75.984375 \nL 37.109375 68.5 \nL 28.515625 68.5 \nQ 23.6875 68.5 21.796875 66.546875 \nQ 19.921875 64.59375 19.921875 59.515625 \nL 19.921875 54.6875 \nL 34.71875 54.6875 \nL 34.71875 47.703125 \nL 19.921875 47.703125 \nL 19.921875 0 \nL 10.890625 0 \nL 10.890625 47.703125 \nL 2.296875 47.703125 \nL 2.296875 54.6875 \nL 10.890625 54.6875 \nL 10.890625 58.5 \nQ 10.890625 67.625 15.140625 71.796875 \nQ 19.390625 75.984375 28.609375 75.984375 \nz\n\" id=\"DejaVuSans-102\"/>\n     <path d=\"M 64.40625 67.28125 \nL 64.40625 56.890625 \nQ 59.421875 61.53125 53.78125 63.8125 \nQ 48.140625 66.109375 41.796875 66.109375 \nQ 29.296875 66.109375 22.65625 58.46875 \nQ 16.015625 50.828125 16.015625 36.375 \nQ 16.015625 21.96875 22.65625 14.328125 \nQ 29.296875 6.6875 41.796875 6.6875 \nQ 48.140625 6.6875 53.78125 8.984375 \nQ 59.421875 11.28125 64.40625 15.921875 \nL 64.40625 5.609375 \nQ 59.234375 2.09375 53.4375 0.328125 \nQ 47.65625 -1.421875 41.21875 -1.421875 \nQ 24.65625 -1.421875 15.125 8.703125 \nQ 5.609375 18.84375 5.609375 36.375 \nQ 5.609375 53.953125 15.125 64.078125 \nQ 24.65625 74.21875 41.21875 74.21875 \nQ 47.75 74.21875 53.53125 72.484375 \nQ 59.328125 70.75 64.40625 67.28125 \nz\n\" id=\"DejaVuSans-67\"/>\n     <path d=\"M 9.8125 72.90625 \nL 23.09375 72.90625 \nL 55.421875 11.921875 \nL 55.421875 72.90625 \nL 64.984375 72.90625 \nL 64.984375 0 \nL 51.703125 0 \nL 19.390625 60.984375 \nL 19.390625 0 \nL 9.8125 0 \nz\n\" id=\"DejaVuSans-78\"/>\n     <path d=\"M 9.8125 72.90625 \nL 24.515625 72.90625 \nL 43.109375 23.296875 \nL 61.8125 72.90625 \nL 76.515625 72.90625 \nL 76.515625 0 \nL 66.890625 0 \nL 66.890625 64.015625 \nL 48.09375 14.015625 \nL 38.1875 14.015625 \nL 19.390625 64.015625 \nL 19.390625 0 \nL 9.8125 0 \nz\n\" id=\"DejaVuSans-77\"/>\n     <path d=\"M 45.40625 46.390625 \nL 45.40625 75.984375 \nL 54.390625 75.984375 \nL 54.390625 0 \nL 45.40625 0 \nL 45.40625 8.203125 \nQ 42.578125 3.328125 38.25 0.953125 \nQ 33.9375 -1.421875 27.875 -1.421875 \nQ 17.96875 -1.421875 11.734375 6.484375 \nQ 5.515625 14.40625 5.515625 27.296875 \nQ 5.515625 40.1875 11.734375 48.09375 \nQ 17.96875 56 27.875 56 \nQ 33.9375 56 38.25 53.625 \nQ 42.578125 51.265625 45.40625 46.390625 \nz\nM 14.796875 27.296875 \nQ 14.796875 17.390625 18.875 11.75 \nQ 22.953125 6.109375 30.078125 6.109375 \nQ 37.203125 6.109375 41.296875 11.75 \nQ 45.40625 17.390625 45.40625 27.296875 \nQ 45.40625 37.203125 41.296875 42.84375 \nQ 37.203125 48.484375 30.078125 48.484375 \nQ 22.953125 48.484375 18.875 42.84375 \nQ 14.796875 37.203125 14.796875 27.296875 \nz\n\" id=\"DejaVuSans-100\"/>\n     <path d=\"M 9.421875 75.984375 \nL 18.40625 75.984375 \nL 18.40625 0 \nL 9.421875 0 \nz\n\" id=\"DejaVuSans-108\"/>\n    </defs>\n    <g transform=\"translate(114.185938 16.318125)scale(0.12 -0.12)\">\n     <use xlink:href=\"#DejaVuSans-76\"/>\n     <use x=\"53.962891\" xlink:href=\"#DejaVuSans-101\"/>\n     <use x=\"115.486328\" xlink:href=\"#DejaVuSans-97\"/>\n     <use x=\"176.765625\" xlink:href=\"#DejaVuSans-114\"/>\n     <use x=\"216.128906\" xlink:href=\"#DejaVuSans-110\"/>\n     <use x=\"279.507812\" xlink:href=\"#DejaVuSans-105\"/>\n     <use x=\"307.291016\" xlink:href=\"#DejaVuSans-110\"/>\n     <use x=\"370.669922\" xlink:href=\"#DejaVuSans-103\"/>\n     <use x=\"434.146484\" xlink:href=\"#DejaVuSans-32\"/>\n     <use x=\"465.933594\" xlink:href=\"#DejaVuSans-99\"/>\n     <use x=\"520.914062\" xlink:href=\"#DejaVuSans-117\"/>\n     <use x=\"584.292969\" xlink:href=\"#DejaVuSans-114\"/>\n     <use x=\"625.40625\" xlink:href=\"#DejaVuSans-118\"/>\n     <use x=\"684.585938\" xlink:href=\"#DejaVuSans-101\"/>\n     <use x=\"746.109375\" xlink:href=\"#DejaVuSans-32\"/>\n     <use x=\"777.896484\" xlink:href=\"#DejaVuSans-111\"/>\n     <use x=\"839.078125\" xlink:href=\"#DejaVuSans-102\"/>\n     <use x=\"874.283203\" xlink:href=\"#DejaVuSans-32\"/>\n     <use x=\"906.070312\" xlink:href=\"#DejaVuSans-67\"/>\n     <use x=\"975.894531\" xlink:href=\"#DejaVuSans-78\"/>\n     <use x=\"1050.699219\" xlink:href=\"#DejaVuSans-78\"/>\n     <use x=\"1125.503906\" xlink:href=\"#DejaVuSans-32\"/>\n     <use x=\"1157.291016\" xlink:href=\"#DejaVuSans-77\"/>\n     <use x=\"1243.570312\" xlink:href=\"#DejaVuSans-111\"/>\n     <use x=\"1304.751953\" xlink:href=\"#DejaVuSans-100\"/>\n     <use x=\"1368.228516\" xlink:href=\"#DejaVuSans-101\"/>\n     <use x=\"1429.751953\" xlink:href=\"#DejaVuSans-108\"/>\n    </g>\n   </g>\n   <g id=\"legend_1\">\n    <g id=\"patch_7\">\n     <path d=\"M 306.765625 59.674375 \nL 362.040625 59.674375 \nQ 364.040625 59.674375 364.040625 57.674375 \nL 364.040625 29.318125 \nQ 364.040625 27.318125 362.040625 27.318125 \nL 306.765625 27.318125 \nQ 304.765625 27.318125 304.765625 29.318125 \nL 304.765625 57.674375 \nQ 304.765625 59.674375 306.765625 59.674375 \nz\n\" style=\"fill:#ffffff;opacity:0.8;stroke:#cccccc;stroke-linejoin:miter;\"/>\n    </g>\n    <g id=\"line2d_18\">\n     <path d=\"M 308.765625 35.416562 \nL 328.765625 35.416562 \n\" style=\"fill:none;stroke:#d62728;stroke-linecap:square;stroke-width:1.5;\"/>\n    </g>\n    <g id=\"line2d_19\"/>\n    <g id=\"text_19\">\n     <!-- train -->\n     <defs>\n      <path d=\"M 18.3125 70.21875 \nL 18.3125 54.6875 \nL 36.8125 54.6875 \nL 36.8125 47.703125 \nL 18.3125 47.703125 \nL 18.3125 18.015625 \nQ 18.3125 11.328125 20.140625 9.421875 \nQ 21.96875 7.515625 27.59375 7.515625 \nL 36.8125 7.515625 \nL 36.8125 0 \nL 27.59375 0 \nQ 17.1875 0 13.234375 3.875 \nQ 9.28125 7.765625 9.28125 18.015625 \nL 9.28125 47.703125 \nL 2.6875 47.703125 \nL 2.6875 54.6875 \nL 9.28125 54.6875 \nL 9.28125 70.21875 \nz\n\" id=\"DejaVuSans-116\"/>\n     </defs>\n     <g transform=\"translate(336.765625 38.916562)scale(0.1 -0.1)\">\n      <use xlink:href=\"#DejaVuSans-116\"/>\n      <use x=\"39.208984\" xlink:href=\"#DejaVuSans-114\"/>\n      <use x=\"80.322266\" xlink:href=\"#DejaVuSans-97\"/>\n      <use x=\"141.601562\" xlink:href=\"#DejaVuSans-105\"/>\n      <use x=\"169.384766\" xlink:href=\"#DejaVuSans-110\"/>\n     </g>\n    </g>\n    <g id=\"line2d_20\">\n     <path d=\"M 308.765625 50.094687 \nL 328.765625 50.094687 \n\" style=\"fill:none;stroke:#17becf;stroke-linecap:square;stroke-width:1.5;\"/>\n    </g>\n    <g id=\"line2d_21\"/>\n    <g id=\"text_20\">\n     <!-- val -->\n     <g transform=\"translate(336.765625 53.594687)scale(0.1 -0.1)\">\n      <use xlink:href=\"#DejaVuSans-118\"/>\n      <use x=\"59.179688\" xlink:href=\"#DejaVuSans-97\"/>\n      <use x=\"120.458984\" xlink:href=\"#DejaVuSans-108\"/>\n     </g>\n    </g>\n   </g>\n  </g>\n </g>\n <defs>\n  <clipPath id=\"p2ef582e5e6\">\n   <rect height=\"217.44\" width=\"334.8\" x=\"34.240625\" y=\"22.318125\"/>\n  </clipPath>\n </defs>\n</svg>\n"
          },
          "metadata": {
            "tags": [],
            "needs_background": "light"
          }
        }
      ]
    },
    {
      "cell_type": "markdown",
      "metadata": {
        "id": "Do4Znfqsza5o"
      },
      "source": [
        "# Testing"
      ]
    },
    {
      "cell_type": "code",
      "metadata": {
        "id": "Vkn5PzL39AHd"
      },
      "source": [
        "del model\n",
        "model = torch.load(config['model_path']).to(config['device'])"
      ],
      "execution_count": 12,
      "outputs": []
    },
    {
      "cell_type": "code",
      "metadata": {
        "id": "WET_adAKzfam"
      },
      "source": [
        "model.eval()\n",
        "\n",
        "preds = []\n",
        "for x, _ in test_dataloader:\n",
        "    x, _ = x.to(config['device']), _.to(config['device'])\n",
        "    with torch.no_grad():\n",
        "        logits = model(x)\n",
        "    preds.extend(logits.argmax(dim=-1).cpu().numpy().tolist())"
      ],
      "execution_count": 13,
      "outputs": []
    },
    {
      "cell_type": "code",
      "metadata": {
        "id": "1Xg1b2wN60za",
        "colab": {
          "base_uri": "https://localhost:8080/"
        },
        "outputId": "edddb216-020e-4baa-d912-b13e95323142"
      },
      "source": [
        "print(f'Saving Result to {config[\"pred_file\"]}')\n",
        "with open(config['pred_file'], 'w') as fp:\n",
        "    fp.write('Id,Category\\n')\n",
        "    for id, pred in enumerate(preds):\n",
        "        fp.write(f'{id},{pred}\\n')"
      ],
      "execution_count": 14,
      "outputs": [
        {
          "output_type": "stream",
          "text": [
            "Saving Result to food-11.pred.csv\n"
          ],
          "name": "stdout"
        }
      ]
    },
    {
      "cell_type": "markdown",
      "metadata": {
        "id": "iVB2KrGXF2v_"
      },
      "source": [
        "# Result"
      ]
    },
    {
      "cell_type": "markdown",
      "metadata": {
        "id": "C6plejknWlHw"
      },
      "source": [
        "![image.png](data:image/png;base64,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)"
      ]
    }
  ]
}