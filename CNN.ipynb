{
  "nbformat": 4,
  "nbformat_minor": 0,
  "metadata": {
    "colab": {
      "name": "CNN.ipynb",
      "provenance": [],
      "collapsed_sections": [],
      "machine_shape": "hm",
      "authorship_tag": "ABX9TyPf1TGHKKvULUqS0UFVjM2P",
      "include_colab_link": true
    },
    "kernelspec": {
      "name": "python3",
      "display_name": "Python 3"
    },
    "language_info": {
      "name": "python"
    },
    "accelerator": "GPU"
  },
  "cells": [
    {
      "cell_type": "markdown",
      "metadata": {
        "id": "view-in-github",
        "colab_type": "text"
      },
      "source": [
        "<a href=\"https://colab.research.google.com/github/Tony5t4rk/ML-2021-Spring/blob/main/CNN.ipynb\" target=\"_parent\"><img src=\"https://colab.research.google.com/assets/colab-badge.svg\" alt=\"Open In Colab\"/></a>"
      ]
    },
    {
      "cell_type": "markdown",
      "metadata": {
        "id": "xxWyin0xo5m_"
      },
      "source": [
        "# **Homework 3 - Convolutional Neural Network**"
      ]
    },
    {
      "cell_type": "markdown",
      "metadata": {
        "id": "iHUUOoGRo7M2"
      },
      "source": [
        "Author: Yang Liu\n",
        "\n",
        "Study notes：[機器學習2021 学习笔记-CNN & Self-Attention](https://www.wolai.com/tony5t4rk/jFYeVKmHKnfwJyLEK18Gbh)\n",
        "\n",
        "This program is modified based on [Sample Code](https://colab.research.google.com/github/ga642381/ML2021-Spring/blob/main/HW03/HW03.ipynb)。"
      ]
    },
    {
      "cell_type": "markdown",
      "metadata": {
        "id": "PjJieJ3Opq1t"
      },
      "source": [
        "# Show GPU"
      ]
    },
    {
      "cell_type": "code",
      "metadata": {
        "id": "4BMNGgWFifCr",
        "colab": {
          "base_uri": "https://localhost:8080/"
        },
        "outputId": "ffff4d6b-3677-403e-cd1f-8cbfb142fdfa"
      },
      "source": [
        "!nvidia-smi"
      ],
      "execution_count": 1,
      "outputs": [
        {
          "output_type": "stream",
          "text": [
            "Mon Jun 14 01:50:52 2021       \n",
            "+-----------------------------------------------------------------------------+\n",
            "| NVIDIA-SMI 465.27       Driver Version: 460.32.03    CUDA Version: 11.2     |\n",
            "|-------------------------------+----------------------+----------------------+\n",
            "| GPU  Name        Persistence-M| Bus-Id        Disp.A | Volatile Uncorr. ECC |\n",
            "| Fan  Temp  Perf  Pwr:Usage/Cap|         Memory-Usage | GPU-Util  Compute M. |\n",
            "|                               |                      |               MIG M. |\n",
            "|===============================+======================+======================|\n",
            "|   0  Tesla P100-PCIE...  Off  | 00000000:00:04.0 Off |                    0 |\n",
            "| N/A   48C    P0    30W / 250W |      0MiB / 16280MiB |      0%      Default |\n",
            "|                               |                      |                  N/A |\n",
            "+-------------------------------+----------------------+----------------------+\n",
            "                                                                               \n",
            "+-----------------------------------------------------------------------------+\n",
            "| Processes:                                                                  |\n",
            "|  GPU   GI   CI        PID   Type   Process name                  GPU Memory |\n",
            "|        ID   ID                                                   Usage      |\n",
            "|=============================================================================|\n",
            "|  No running processes found                                                 |\n",
            "+-----------------------------------------------------------------------------+\n"
          ],
          "name": "stdout"
        }
      ]
    },
    {
      "cell_type": "markdown",
      "metadata": {
        "id": "KG7mDPQiqA3O"
      },
      "source": [
        "# Import Package"
      ]
    },
    {
      "cell_type": "code",
      "metadata": {
        "id": "BcHNwEfzpwRi"
      },
      "source": [
        "import numpy as np\n",
        "import os\n",
        "import gc\n",
        "from PIL import Image\n",
        "\n",
        "import torch\n",
        "import torch.nn as nn\n",
        "import torch.optim as optim\n",
        "import torchvision\n",
        "import torchvision.transforms as transforms\n",
        "from torch.utils.data import Dataset, ConcatDataset, DataLoader\n",
        "from torchvision.datasets import DatasetFolder\n",
        "\n",
        "import matplotlib.pyplot as plt\n",
        "from matplotlib.pyplot import figure\n",
        "%matplotlib inline\n",
        "%config InlineBackend.figure_format = 'svg'\n",
        "\n",
        "# set a random seed for reproducibility\n",
        "my_seed = 42096\n",
        "torch.backends.cudnn.deterministic = True\n",
        "torch.backends.cudnn.benchmark = False\n",
        "np.random.seed(my_seed)\n",
        "torch.manual_seed(my_seed)\n",
        "if torch.cuda.is_available():\n",
        "    torch.cuda.manual_seed_all(my_seed)"
      ],
      "execution_count": 2,
      "outputs": []
    },
    {
      "cell_type": "markdown",
      "metadata": {
        "id": "8Qj1BZfHpsS1"
      },
      "source": [
        "# Download Data from Google Drive"
      ]
    },
    {
      "cell_type": "code",
      "metadata": {
        "id": "fwSakkRhpwMw",
        "colab": {
          "base_uri": "https://localhost:8080/"
        },
        "outputId": "27756d89-2f88-4c71-92bb-d2238274c3b8"
      },
      "source": [
        "!rm -rf ./sample_data\n",
        "\n",
        "if not os.path.exists('food-11.zip'):\n",
        "    !gdown --id '1CFDJ3cVkiU4121ZMvTqUZjGCsYeOaZRM' --output food-11.zip\n",
        "if not os.path.exists('food-11'):\n",
        "    !unzip -q food-11.zip\n",
        "\n",
        "!apt-get -qq install -y tree\n",
        "!tree -L 2\n",
        "\n",
        "train_path = 'food-11/training'\n",
        "val_path = 'food-11/validation'\n",
        "test_path = 'food-11/testing'"
      ],
      "execution_count": 3,
      "outputs": [
        {
          "output_type": "stream",
          "text": [
            "Downloading...\n",
            "From: https://drive.google.com/uc?id=1CFDJ3cVkiU4121ZMvTqUZjGCsYeOaZRM\n",
            "To: /content/food-11.zip\n",
            "963MB [00:11, 85.1MB/s]\n",
            "Selecting previously unselected package tree.\n",
            "(Reading database ... 160772 files and directories currently installed.)\n",
            "Preparing to unpack .../tree_1.7.0-5_amd64.deb ...\n",
            "Unpacking tree (1.7.0-5) ...\n",
            "Setting up tree (1.7.0-5) ...\n",
            "Processing triggers for man-db (2.8.3-2ubuntu0.1) ...\n",
            ".\n",
            "├── food-11\n",
            "│   ├── testing\n",
            "│   ├── training\n",
            "│   └── validation\n",
            "└── food-11.zip\n",
            "\n",
            "4 directories, 1 file\n"
          ],
          "name": "stdout"
        }
      ]
    },
    {
      "cell_type": "markdown",
      "metadata": {
        "id": "LfQL2jDfqFWf"
      },
      "source": [
        "# Plot Utility"
      ]
    },
    {
      "cell_type": "code",
      "metadata": {
        "id": "1s6IdehjqGXQ"
      },
      "source": [
        "def plot_learning_curve(loss_record, title=''):\n",
        "    n_epochs = len(loss_record['train'])\n",
        "    x_1 = range(n_epochs)\n",
        "    figure(figsize=(6, 4))\n",
        "    plt.plot(x_1, loss_record['train'], c='tab:red', label='train')\n",
        "    plt.plot(x_1, loss_record['val'], c='tab:cyan', label='val')\n",
        "    plt.xlabel('Epoch')\n",
        "    plt.ylabel('Loss')\n",
        "    plt.title('Learning curve of {}'.format(title))\n",
        "    plt.legend()\n",
        "    plt.savefig('Learning curve of {}.svg'.format(title))\n",
        "    plt.show()"
      ],
      "execution_count": 4,
      "outputs": []
    },
    {
      "cell_type": "markdown",
      "metadata": {
        "id": "1Sq_jY81qHnz"
      },
      "source": [
        "# Hyper-Parameters"
      ]
    },
    {
      "cell_type": "code",
      "metadata": {
        "id": "ep0AA5x7qIms",
        "colab": {
          "base_uri": "https://localhost:8080/"
        },
        "outputId": "b364d8e0-c545-4c76-db85-7cf8d8d0784f"
      },
      "source": [
        "os.makedirs('models', exist_ok=True)\n",
        "\n",
        "config = {\n",
        "    'device': 'cuda' if torch.cuda.is_available() else 'cpu',\n",
        "    'n_epochs': 80,\n",
        "    'batch_size': 64,\n",
        "    'optim_hparams': {\n",
        "        'lr': 0.001,\n",
        "        # 'weight_decay': 0.00001\n",
        "    },\n",
        "    'scheduler': {\n",
        "        'mode': 'max',\n",
        "        'factor': 0.5,\n",
        "        'patience': 8,\n",
        "        'threshold_mode': 'abs',\n",
        "        'cooldown': 3,\n",
        "        'min_lr': 0.000005,\n",
        "        'verbose': True\n",
        "    },\n",
        "    'do_semi': False,\n",
        "    'semi_epochs': 40,\n",
        "    'semi_threshold': 0.99,\n",
        "    'early_stop': False,\n",
        "    'early_stop_epochs': 10,\n",
        "    'best_model': False,\n",
        "    'model_path': 'models/model.pth',\n",
        "    'pred_file': 'food-11.pred.csv'\n",
        "}\n",
        "\n",
        "print(f'device: {config[\"device\"]}')"
      ],
      "execution_count": 5,
      "outputs": [
        {
          "output_type": "stream",
          "text": [
            "device: cuda\n"
          ],
          "name": "stdout"
        }
      ]
    },
    {
      "cell_type": "markdown",
      "metadata": {
        "id": "09PKmDkUq-Mx"
      },
      "source": [
        "# Data Process"
      ]
    },
    {
      "cell_type": "markdown",
      "metadata": {
        "id": "510xTiyrq-cr"
      },
      "source": [
        "## Pre-Process"
      ]
    },
    {
      "cell_type": "code",
      "metadata": {
        "id": "nKVMSLsVrMpL"
      },
      "source": [
        "preprocess = transforms.Compose([\n",
        "    transforms.Resize((128, 128)),\n",
        "    transforms.ToTensor(),\n",
        "    transforms.Normalize(mean=[0.485, 0.456, 0.406], std=[0.229, 0.224, 0.225])\n",
        "])"
      ],
      "execution_count": 6,
      "outputs": []
    },
    {
      "cell_type": "markdown",
      "metadata": {
        "id": "hUhSlLw1q-ex"
      },
      "source": [
        "## Dataset"
      ]
    },
    {
      "cell_type": "code",
      "metadata": {
        "id": "czJH5e06rOMk",
        "colab": {
          "base_uri": "https://localhost:8080/"
        },
        "outputId": "76e09933-7c1d-41fb-db51-518c041c57f8"
      },
      "source": [
        "train_dataset = DatasetFolder('food-11/training/labeled', loader=lambda x: Image.open(x).convert('RGB'), extensions='jpg', transform=preprocess)\n",
        "unlabeled_dataset = DatasetFolder('food-11/training/unlabeled', loader=lambda x: Image.open(x).convert('RGB'), extensions='jpg', transform=preprocess)\n",
        "val_dataset = DatasetFolder('food-11/validation', loader=lambda x: Image.open(x).convert('RGB'), extensions='jpg', transform=preprocess)\n",
        "test_dataset = DatasetFolder('food-11/testing', loader=lambda x: Image.open(x).convert('RGB'), extensions=\"jpg\", transform=preprocess)\n",
        "\n",
        "gc.collect()"
      ],
      "execution_count": 7,
      "outputs": [
        {
          "output_type": "execute_result",
          "data": {
            "text/plain": [
              "4"
            ]
          },
          "metadata": {
            "tags": []
          },
          "execution_count": 7
        }
      ]
    },
    {
      "cell_type": "code",
      "metadata": {
        "id": "crMwovPicCf4"
      },
      "source": [
        "class Pseudo_Subset(Dataset):\n",
        "    def __init__(self, dataset, indices, labels):\n",
        "        self.dataset = dataset\n",
        "        self.indices = indices\n",
        "        self.labels = labels\n",
        "\n",
        "    def __getitem__(self, idx):\n",
        "        return self.dataset[self.indices[idx]][0], self.labels[idx]\n",
        "\n",
        "    def __len__(self):\n",
        "        return len(self.indices)"
      ],
      "execution_count": 8,
      "outputs": []
    },
    {
      "cell_type": "markdown",
      "metadata": {
        "id": "jpZUKXSwq-g-"
      },
      "source": [
        "## DataLoader"
      ]
    },
    {
      "cell_type": "code",
      "metadata": {
        "id": "0WgrjAOtrSCi"
      },
      "source": [
        "train_dataloader = DataLoader(train_dataset, batch_size=config['batch_size'], shuffle=True)\n",
        "val_dataloader = DataLoader(val_dataset, batch_size=config['batch_size'], shuffle=True)\n",
        "test_dataloader = DataLoader(test_dataset, batch_size=config['batch_size'], shuffle=False)"
      ],
      "execution_count": 9,
      "outputs": []
    },
    {
      "cell_type": "markdown",
      "metadata": {
        "id": "dSX8vdP9q-jM"
      },
      "source": [
        "# Model"
      ]
    },
    {
      "cell_type": "code",
      "metadata": {
        "id": "RfthKTGrrS1J"
      },
      "source": [
        "class Net(nn.Module):\n",
        "    def __init__(self):\n",
        "        super(Net, self).__init__()\n",
        "\n",
        "        self.net = nn.Sequential(\n",
        "            # (3, 128, 128)\n",
        "\n",
        "            nn.Conv2d(3, 64, 3, 1, 1), # (64, 128, 128)\n",
        "            nn.BatchNorm2d(64),\n",
        "            nn.ReLU(),\n",
        "            nn.MaxPool2d(2, 2, 0), # (64, 64, 64)\n",
        "\n",
        "            nn.Conv2d(64, 128, 3, 1, 1), # (128, 64, 64)\n",
        "            nn.BatchNorm2d(128),\n",
        "            nn.ReLU(),\n",
        "            nn.MaxPool2d(2, 2, 0), # (128, 32, 32)\n",
        "\n",
        "            nn.Conv2d(128, 256, 3, 1, 1), # (256, 32, 32)\n",
        "            nn.BatchNorm2d(256),\n",
        "            nn.ReLU(),\n",
        "            nn.MaxPool2d(2, 2, 0), # (256, 16, 16)\n",
        "\n",
        "            nn.Conv2d(256, 512, 3, 1, 1), # (512, 16, 16)\n",
        "            nn.BatchNorm2d(512),\n",
        "            nn.ReLU(),\n",
        "            nn.MaxPool2d(2, 2, 0), # (512, 8, 8)\n",
        "\n",
        "            nn.Conv2d(512, 1024, 3, 1, 1), # (1024, 8, 8)\n",
        "            nn.BatchNorm2d(1024),\n",
        "            nn.ReLU(),\n",
        "            nn.MaxPool2d(2, 2, 0), # (1024, 4, 4)\n",
        "\n",
        "            nn.Conv2d(1024, 2048, 3, 1, 1), # (1024, 4, 4)\n",
        "            nn.BatchNorm2d(2048),\n",
        "            nn.ReLU(),\n",
        "            nn.MaxPool2d(2, 2, 0), # (2048, 2, 2)\n",
        "\n",
        "            nn.Flatten(),\n",
        "            \n",
        "            nn.Linear(2048 * 2 * 2, 4096),\n",
        "            nn.BatchNorm1d(4096),\n",
        "            nn.ReLU(),\n",
        "\n",
        "            nn.Linear(4096, 11),\n",
        "            nn.BatchNorm1d(11)\n",
        "        )\n",
        "    \n",
        "    def forward(self, x):\n",
        "        return self.net(x)\n",
        "\n",
        "model = Net().to(config['device'])"
      ],
      "execution_count": 10,
      "outputs": []
    },
    {
      "cell_type": "markdown",
      "metadata": {
        "id": "ieZ0iHnoq-la"
      },
      "source": [
        "# Training"
      ]
    },
    {
      "cell_type": "code",
      "metadata": {
        "id": "WI6Rtu2CrWt0"
      },
      "source": [
        "criterion = nn.CrossEntropyLoss()\n",
        "optimizer = optim.Adam(model.parameters(), **config['optim_hparams'])\n",
        "scheduler = optim.lr_scheduler.ReduceLROnPlateau(optimizer, **config['scheduler'])"
      ],
      "execution_count": 11,
      "outputs": []
    },
    {
      "cell_type": "code",
      "metadata": {
        "id": "H43H7OQ3uwSP"
      },
      "source": [
        "def get_pseudo_labels(dataset, model, threshold):\n",
        "    dataloader = DataLoader(dataset, batch_size=config['batch_size'], shuffle=False)\n",
        "    model.eval()\n",
        "    softmax = nn.Softmax(dim=-1)\n",
        "    indice = 0\n",
        "    indices, labels = [], []\n",
        "    for x, _ in dataloader:\n",
        "        x, _ = x.to(config['device']), _.to(config['device'])\n",
        "        with torch.no_grad():\n",
        "            logits = model(x)\n",
        "        probs = softmax(logits)\n",
        "        for prob in probs:\n",
        "            if torch.max(probs) >= threshold:\n",
        "                indices.append(indice)\n",
        "                labels.append(torch.argmax(prob).item())\n",
        "            indice += 1\n",
        "    return Pseudo_Subset(dataset, indices, labels)"
      ],
      "execution_count": 12,
      "outputs": []
    },
    {
      "cell_type": "code",
      "metadata": {
        "id": "R0MroennrU9c",
        "colab": {
          "base_uri": "https://localhost:8080/"
        },
        "outputId": "d866ed5c-cae1-4234-dce9-1f8340c8da4a"
      },
      "source": [
        "loss_record = {'train': [], 'val': []}\n",
        "\n",
        "if config['early_stop']:\n",
        "    early_stop_cnt = 0\n",
        "\n",
        "min_val_loss = float('inf')\n",
        "\n",
        "epoch = 0\n",
        "while epoch < config['n_epochs']:\n",
        "    if config['do_semi'] and epoch > config['semi_epochs']:\n",
        "        pseudo_dataset = get_pseudo_labels(unlabeled_dataset, model, threshold=config['semi_threshold'])\n",
        "        print(f'[ Pseudo {len(pseudo_dataset):04d}/{len(unlabeled_dataset):04d} ] on [ Epoch {epoch + 1:03d}/{config[\"n_epochs\"]:03d} ]')\n",
        "        concat_dataset = ConcatDataset([train_dataset, pseudo_dataset])\n",
        "        train_dataloader = DataLoader(concat_dataset, batch_size=config['batch_size'], shuffle=True)\n",
        "\n",
        "    model.train()\n",
        "    train_loss = []\n",
        "    for x, y in train_dataloader:\n",
        "        x, y = x.to(config['device']), y.to(config['device'])\n",
        "        optimizer.zero_grad()\n",
        "        logits = model(x)\n",
        "        loss = criterion(logits, y)\n",
        "        loss.backward()\n",
        "        optimizer.step()\n",
        "        train_loss.append(loss.item())\n",
        "    train_loss = sum(train_loss) / len(train_loss)\n",
        "    loss_record['train'].append(train_loss)\n",
        "\n",
        "    model.eval()\n",
        "    val_loss = []\n",
        "    for x, y in val_dataloader:\n",
        "        x, y = x.to(config['device']), y.to(config['device'])\n",
        "        with torch.no_grad():\n",
        "            logits = model(x)\n",
        "            loss = criterion(logits, y)\n",
        "        val_loss.append(loss)\n",
        "    val_loss = sum(val_loss) / len(val_loss)\n",
        "    scheduler.step(val_loss)\n",
        "    loss_record['val'].append(val_loss)\n",
        "\n",
        "    if config['best_model']:\n",
        "        if val_loss < min_val_loss:\n",
        "            torch.save(model, config['model_path'])\n",
        "    else:\n",
        "        torch.save(model, config['model_path'])\n",
        "    \n",
        "    print(f'[ Epoch {epoch + 1:03d}/{config[\"n_epochs\"]:03d} ] Train Loss: {train_loss:.5f} Valid Loss: {val_loss:.5f}')\n",
        "\n",
        "    if config['early_stop']:\n",
        "        if val_loss < min_val_loss:\n",
        "            early_stop_cnt = 0\n",
        "        else:\n",
        "            early_stop_cnt += 1\n",
        "    \n",
        "    epoch += 1\n",
        "    if val_loss < min_val_loss:\n",
        "        min_val_loss = val_loss\n",
        "\n",
        "    if config['early_stop'] and early_stop_cnt > config['early_stop_epochs']:\n",
        "        break\n",
        "\n",
        "print(f'Finish Train After {epoch} Epochs')"
      ],
      "execution_count": 13,
      "outputs": [
        {
          "output_type": "stream",
          "text": [
            "[ Epoch 001/080 ] Train Loss: 2.06160 Valid Loss: 2.23911\n",
            "[ Epoch 002/080 ] Train Loss: 1.76947 Valid Loss: 1.86150\n",
            "[ Epoch 003/080 ] Train Loss: 1.66009 Valid Loss: 1.65213\n",
            "[ Epoch 004/080 ] Train Loss: 1.53543 Valid Loss: 1.66332\n",
            "[ Epoch 005/080 ] Train Loss: 1.37364 Valid Loss: 1.74607\n",
            "[ Epoch 006/080 ] Train Loss: 1.30696 Valid Loss: 1.80804\n",
            "[ Epoch 007/080 ] Train Loss: 1.12775 Valid Loss: 1.50403\n",
            "[ Epoch 008/080 ] Train Loss: 0.98581 Valid Loss: 1.70492\n",
            "[ Epoch 009/080 ] Train Loss: 0.84305 Valid Loss: 1.74652\n",
            "Epoch    10: reducing learning rate of group 0 to 5.0000e-04.\n",
            "[ Epoch 010/080 ] Train Loss: 0.66750 Valid Loss: 1.58863\n",
            "[ Epoch 011/080 ] Train Loss: 0.43257 Valid Loss: 1.48819\n",
            "[ Epoch 012/080 ] Train Loss: 0.30459 Valid Loss: 1.45368\n",
            "[ Epoch 013/080 ] Train Loss: 0.27546 Valid Loss: 1.48530\n",
            "[ Epoch 014/080 ] Train Loss: 0.24899 Valid Loss: 1.49130\n",
            "[ Epoch 015/080 ] Train Loss: 0.24236 Valid Loss: 1.47958\n",
            "[ Epoch 016/080 ] Train Loss: 0.21476 Valid Loss: 1.45295\n",
            "[ Epoch 017/080 ] Train Loss: 0.20584 Valid Loss: 1.46856\n",
            "[ Epoch 018/080 ] Train Loss: 0.20254 Valid Loss: 1.46975\n",
            "[ Epoch 019/080 ] Train Loss: 0.18929 Valid Loss: 1.48587\n",
            "[ Epoch 020/080 ] Train Loss: 0.19497 Valid Loss: 1.54491\n",
            "[ Epoch 021/080 ] Train Loss: 0.24007 Valid Loss: 1.46640\n",
            "Epoch    22: reducing learning rate of group 0 to 2.5000e-04.\n",
            "[ Epoch 022/080 ] Train Loss: 0.20639 Valid Loss: 1.46419\n",
            "[ Epoch 023/080 ] Train Loss: 0.16901 Valid Loss: 1.39669\n",
            "[ Epoch 024/080 ] Train Loss: 0.14156 Valid Loss: 1.42598\n",
            "[ Epoch 025/080 ] Train Loss: 0.13934 Valid Loss: 1.41982\n",
            "[ Epoch 026/080 ] Train Loss: 0.13216 Valid Loss: 1.41048\n",
            "[ Epoch 027/080 ] Train Loss: 0.12320 Valid Loss: 1.40838\n",
            "[ Epoch 028/080 ] Train Loss: 0.13075 Valid Loss: 1.44196\n",
            "[ Epoch 029/080 ] Train Loss: 0.13803 Valid Loss: 1.46765\n",
            "[ Epoch 030/080 ] Train Loss: 0.14373 Valid Loss: 1.46310\n",
            "[ Epoch 031/080 ] Train Loss: 0.16936 Valid Loss: 1.47830\n",
            "[ Epoch 032/080 ] Train Loss: 0.14269 Valid Loss: 1.43927\n",
            "[ Epoch 033/080 ] Train Loss: 0.14470 Valid Loss: 1.45044\n",
            "Epoch    34: reducing learning rate of group 0 to 1.2500e-04.\n",
            "[ Epoch 034/080 ] Train Loss: 0.14199 Valid Loss: 1.44624\n",
            "[ Epoch 035/080 ] Train Loss: 0.11923 Valid Loss: 1.43147\n",
            "[ Epoch 036/080 ] Train Loss: 0.10784 Valid Loss: 1.39289\n",
            "[ Epoch 037/080 ] Train Loss: 0.11815 Valid Loss: 1.40587\n",
            "[ Epoch 038/080 ] Train Loss: 0.12088 Valid Loss: 1.38801\n",
            "[ Epoch 039/080 ] Train Loss: 0.11451 Valid Loss: 1.43227\n",
            "[ Epoch 040/080 ] Train Loss: 0.10543 Valid Loss: 1.42029\n",
            "[ Epoch 041/080 ] Train Loss: 0.11030 Valid Loss: 1.44268\n",
            "[ Epoch 042/080 ] Train Loss: 0.14088 Valid Loss: 1.43784\n",
            "[ Epoch 043/080 ] Train Loss: 0.11467 Valid Loss: 1.41329\n",
            "[ Epoch 044/080 ] Train Loss: 0.11645 Valid Loss: 1.41637\n",
            "[ Epoch 045/080 ] Train Loss: 0.11481 Valid Loss: 1.43481\n",
            "Epoch    46: reducing learning rate of group 0 to 6.2500e-05.\n",
            "[ Epoch 046/080 ] Train Loss: 0.10950 Valid Loss: 1.43006\n",
            "[ Epoch 047/080 ] Train Loss: 0.09665 Valid Loss: 1.44019\n",
            "[ Epoch 048/080 ] Train Loss: 0.11618 Valid Loss: 1.43868\n",
            "[ Epoch 049/080 ] Train Loss: 0.11883 Valid Loss: 1.43404\n",
            "[ Epoch 050/080 ] Train Loss: 0.11167 Valid Loss: 1.44684\n",
            "[ Epoch 051/080 ] Train Loss: 0.09645 Valid Loss: 1.44958\n",
            "[ Epoch 052/080 ] Train Loss: 0.08868 Valid Loss: 1.42265\n",
            "[ Epoch 053/080 ] Train Loss: 0.10002 Valid Loss: 1.42665\n",
            "[ Epoch 054/080 ] Train Loss: 0.09740 Valid Loss: 1.42594\n",
            "[ Epoch 055/080 ] Train Loss: 0.09714 Valid Loss: 1.44258\n",
            "[ Epoch 056/080 ] Train Loss: 0.10058 Valid Loss: 1.47126\n",
            "[ Epoch 057/080 ] Train Loss: 0.09967 Valid Loss: 1.43749\n",
            "Epoch    58: reducing learning rate of group 0 to 3.1250e-05.\n",
            "[ Epoch 058/080 ] Train Loss: 0.08687 Valid Loss: 1.40679\n",
            "[ Epoch 059/080 ] Train Loss: 0.08872 Valid Loss: 1.42482\n",
            "[ Epoch 060/080 ] Train Loss: 0.08784 Valid Loss: 1.38583\n",
            "[ Epoch 061/080 ] Train Loss: 0.09830 Valid Loss: 1.43295\n",
            "[ Epoch 062/080 ] Train Loss: 0.09835 Valid Loss: 1.43465\n",
            "[ Epoch 063/080 ] Train Loss: 0.08879 Valid Loss: 1.42577\n",
            "[ Epoch 064/080 ] Train Loss: 0.08995 Valid Loss: 1.45059\n",
            "[ Epoch 065/080 ] Train Loss: 0.08841 Valid Loss: 1.40163\n",
            "[ Epoch 066/080 ] Train Loss: 0.08413 Valid Loss: 1.40123\n",
            "[ Epoch 067/080 ] Train Loss: 0.08768 Valid Loss: 1.46289\n",
            "[ Epoch 068/080 ] Train Loss: 0.08461 Valid Loss: 1.42753\n",
            "[ Epoch 069/080 ] Train Loss: 0.09355 Valid Loss: 1.42200\n",
            "Epoch    70: reducing learning rate of group 0 to 1.5625e-05.\n",
            "[ Epoch 070/080 ] Train Loss: 0.09223 Valid Loss: 1.41601\n",
            "[ Epoch 071/080 ] Train Loss: 0.08973 Valid Loss: 1.44989\n",
            "[ Epoch 072/080 ] Train Loss: 0.09022 Valid Loss: 1.42766\n",
            "[ Epoch 073/080 ] Train Loss: 0.09110 Valid Loss: 1.39528\n",
            "[ Epoch 074/080 ] Train Loss: 0.08469 Valid Loss: 1.44973\n",
            "[ Epoch 075/080 ] Train Loss: 0.08598 Valid Loss: 1.45515\n",
            "[ Epoch 076/080 ] Train Loss: 0.09506 Valid Loss: 1.45631\n",
            "[ Epoch 077/080 ] Train Loss: 0.09688 Valid Loss: 1.41125\n",
            "[ Epoch 078/080 ] Train Loss: 0.07426 Valid Loss: 1.41694\n",
            "[ Epoch 079/080 ] Train Loss: 0.09091 Valid Loss: 1.41556\n",
            "[ Epoch 080/080 ] Train Loss: 0.08525 Valid Loss: 1.43328\n",
            "Finish Train After 80 Epochs\n"
          ],
          "name": "stdout"
        }
      ]
    },
    {
      "cell_type": "code",
      "metadata": {
        "id": "OslurqRRrhmC",
        "colab": {
          "base_uri": "https://localhost:8080/",
          "height": 390
        },
        "outputId": "c361ef0d-9770-43f4-80dc-b8c8da687ae8"
      },
      "source": [
        "plot_learning_curve(loss_record, title='CNN Model')"
      ],
      "execution_count": 14,
      "outputs": [
        {
          "output_type": "display_data",
          "data": {
            "text/plain": [
              "<Figure size 432x288 with 1 Axes>"
            ],
            "image/svg+xml": "<?xml version=\"1.0\" encoding=\"utf-8\" standalone=\"no\"?>\n<!DOCTYPE svg PUBLIC \"-//W3C//DTD SVG 1.1//EN\"\n  \"http://www.w3.org/Graphics/SVG/1.1/DTD/svg11.dtd\">\n<!-- Created with matplotlib (https://matplotlib.org/) -->\n<svg height=\"277.314375pt\" version=\"1.1\" viewBox=\"0 0 385.78125 277.314375\" width=\"385.78125pt\" xmlns=\"http://www.w3.org/2000/svg\" xmlns:xlink=\"http://www.w3.org/1999/xlink\">\n <defs>\n  <style type=\"text/css\">\n*{stroke-linecap:butt;stroke-linejoin:round;}\n  </style>\n </defs>\n <g id=\"figure_1\">\n  <g id=\"patch_1\">\n   <path d=\"M 0 277.314375 \nL 385.78125 277.314375 \nL 385.78125 0 \nL 0 0 \nz\n\" style=\"fill:none;\"/>\n  </g>\n  <g id=\"axes_1\">\n   <g id=\"patch_2\">\n    <path d=\"M 43.78125 239.758125 \nL 378.58125 239.758125 \nL 378.58125 22.318125 \nL 43.78125 22.318125 \nz\n\" style=\"fill:#ffffff;\"/>\n   </g>\n   <g id=\"matplotlib.axis_1\">\n    <g id=\"xtick_1\">\n     <g id=\"line2d_1\">\n      <defs>\n       <path d=\"M 0 0 \nL 0 3.5 \n\" id=\"m4bb1fdd521\" style=\"stroke:#000000;stroke-width:0.8;\"/>\n      </defs>\n      <g>\n       <use style=\"stroke:#000000;stroke-width:0.8;\" x=\"58.999432\" xlink:href=\"#m4bb1fdd521\" y=\"239.758125\"/>\n      </g>\n     </g>\n     <g id=\"text_1\">\n      <!-- 0 -->\n      <defs>\n       <path d=\"M 31.78125 66.40625 \nQ 24.171875 66.40625 20.328125 58.90625 \nQ 16.5 51.421875 16.5 36.375 \nQ 16.5 21.390625 20.328125 13.890625 \nQ 24.171875 6.390625 31.78125 6.390625 \nQ 39.453125 6.390625 43.28125 13.890625 \nQ 47.125 21.390625 47.125 36.375 \nQ 47.125 51.421875 43.28125 58.90625 \nQ 39.453125 66.40625 31.78125 66.40625 \nz\nM 31.78125 74.21875 \nQ 44.046875 74.21875 50.515625 64.515625 \nQ 56.984375 54.828125 56.984375 36.375 \nQ 56.984375 17.96875 50.515625 8.265625 \nQ 44.046875 -1.421875 31.78125 -1.421875 \nQ 19.53125 -1.421875 13.0625 8.265625 \nQ 6.59375 17.96875 6.59375 36.375 \nQ 6.59375 54.828125 13.0625 64.515625 \nQ 19.53125 74.21875 31.78125 74.21875 \nz\n\" id=\"DejaVuSans-48\"/>\n      </defs>\n      <g transform=\"translate(55.818182 254.356562)scale(0.1 -0.1)\">\n       <use xlink:href=\"#DejaVuSans-48\"/>\n      </g>\n     </g>\n    </g>\n    <g id=\"xtick_2\">\n     <g id=\"line2d_2\">\n      <g>\n       <use style=\"stroke:#000000;stroke-width:0.8;\" x=\"97.526474\" xlink:href=\"#m4bb1fdd521\" y=\"239.758125\"/>\n      </g>\n     </g>\n     <g id=\"text_2\">\n      <!-- 10 -->\n      <defs>\n       <path d=\"M 12.40625 8.296875 \nL 28.515625 8.296875 \nL 28.515625 63.921875 \nL 10.984375 60.40625 \nL 10.984375 69.390625 \nL 28.421875 72.90625 \nL 38.28125 72.90625 \nL 38.28125 8.296875 \nL 54.390625 8.296875 \nL 54.390625 0 \nL 12.40625 0 \nz\n\" id=\"DejaVuSans-49\"/>\n      </defs>\n      <g transform=\"translate(91.163974 254.356562)scale(0.1 -0.1)\">\n       <use xlink:href=\"#DejaVuSans-49\"/>\n       <use x=\"63.623047\" xlink:href=\"#DejaVuSans-48\"/>\n      </g>\n     </g>\n    </g>\n    <g id=\"xtick_3\">\n     <g id=\"line2d_3\">\n      <g>\n       <use style=\"stroke:#000000;stroke-width:0.8;\" x=\"136.053517\" xlink:href=\"#m4bb1fdd521\" y=\"239.758125\"/>\n      </g>\n     </g>\n     <g id=\"text_3\">\n      <!-- 20 -->\n      <defs>\n       <path d=\"M 19.1875 8.296875 \nL 53.609375 8.296875 \nL 53.609375 0 \nL 7.328125 0 \nL 7.328125 8.296875 \nQ 12.9375 14.109375 22.625 23.890625 \nQ 32.328125 33.6875 34.8125 36.53125 \nQ 39.546875 41.84375 41.421875 45.53125 \nQ 43.3125 49.21875 43.3125 52.78125 \nQ 43.3125 58.59375 39.234375 62.25 \nQ 35.15625 65.921875 28.609375 65.921875 \nQ 23.96875 65.921875 18.8125 64.3125 \nQ 13.671875 62.703125 7.8125 59.421875 \nL 7.8125 69.390625 \nQ 13.765625 71.78125 18.9375 73 \nQ 24.125 74.21875 28.421875 74.21875 \nQ 39.75 74.21875 46.484375 68.546875 \nQ 53.21875 62.890625 53.21875 53.421875 \nQ 53.21875 48.921875 51.53125 44.890625 \nQ 49.859375 40.875 45.40625 35.40625 \nQ 44.1875 33.984375 37.640625 27.21875 \nQ 31.109375 20.453125 19.1875 8.296875 \nz\n\" id=\"DejaVuSans-50\"/>\n      </defs>\n      <g transform=\"translate(129.691017 254.356562)scale(0.1 -0.1)\">\n       <use xlink:href=\"#DejaVuSans-50\"/>\n       <use x=\"63.623047\" xlink:href=\"#DejaVuSans-48\"/>\n      </g>\n     </g>\n    </g>\n    <g id=\"xtick_4\">\n     <g id=\"line2d_4\">\n      <g>\n       <use style=\"stroke:#000000;stroke-width:0.8;\" x=\"174.58056\" xlink:href=\"#m4bb1fdd521\" y=\"239.758125\"/>\n      </g>\n     </g>\n     <g id=\"text_4\">\n      <!-- 30 -->\n      <defs>\n       <path d=\"M 40.578125 39.3125 \nQ 47.65625 37.796875 51.625 33 \nQ 55.609375 28.21875 55.609375 21.1875 \nQ 55.609375 10.40625 48.1875 4.484375 \nQ 40.765625 -1.421875 27.09375 -1.421875 \nQ 22.515625 -1.421875 17.65625 -0.515625 \nQ 12.796875 0.390625 7.625 2.203125 \nL 7.625 11.71875 \nQ 11.71875 9.328125 16.59375 8.109375 \nQ 21.484375 6.890625 26.8125 6.890625 \nQ 36.078125 6.890625 40.9375 10.546875 \nQ 45.796875 14.203125 45.796875 21.1875 \nQ 45.796875 27.640625 41.28125 31.265625 \nQ 36.765625 34.90625 28.71875 34.90625 \nL 20.21875 34.90625 \nL 20.21875 43.015625 \nL 29.109375 43.015625 \nQ 36.375 43.015625 40.234375 45.921875 \nQ 44.09375 48.828125 44.09375 54.296875 \nQ 44.09375 59.90625 40.109375 62.90625 \nQ 36.140625 65.921875 28.71875 65.921875 \nQ 24.65625 65.921875 20.015625 65.03125 \nQ 15.375 64.15625 9.8125 62.3125 \nL 9.8125 71.09375 \nQ 15.4375 72.65625 20.34375 73.4375 \nQ 25.25 74.21875 29.59375 74.21875 \nQ 40.828125 74.21875 47.359375 69.109375 \nQ 53.90625 64.015625 53.90625 55.328125 \nQ 53.90625 49.265625 50.4375 45.09375 \nQ 46.96875 40.921875 40.578125 39.3125 \nz\n\" id=\"DejaVuSans-51\"/>\n      </defs>\n      <g transform=\"translate(168.21806 254.356562)scale(0.1 -0.1)\">\n       <use xlink:href=\"#DejaVuSans-51\"/>\n       <use x=\"63.623047\" xlink:href=\"#DejaVuSans-48\"/>\n      </g>\n     </g>\n    </g>\n    <g id=\"xtick_5\">\n     <g id=\"line2d_5\">\n      <g>\n       <use style=\"stroke:#000000;stroke-width:0.8;\" x=\"213.107602\" xlink:href=\"#m4bb1fdd521\" y=\"239.758125\"/>\n      </g>\n     </g>\n     <g id=\"text_5\">\n      <!-- 40 -->\n      <defs>\n       <path d=\"M 37.796875 64.3125 \nL 12.890625 25.390625 \nL 37.796875 25.390625 \nz\nM 35.203125 72.90625 \nL 47.609375 72.90625 \nL 47.609375 25.390625 \nL 58.015625 25.390625 \nL 58.015625 17.1875 \nL 47.609375 17.1875 \nL 47.609375 0 \nL 37.796875 0 \nL 37.796875 17.1875 \nL 4.890625 17.1875 \nL 4.890625 26.703125 \nz\n\" id=\"DejaVuSans-52\"/>\n      </defs>\n      <g transform=\"translate(206.745102 254.356562)scale(0.1 -0.1)\">\n       <use xlink:href=\"#DejaVuSans-52\"/>\n       <use x=\"63.623047\" xlink:href=\"#DejaVuSans-48\"/>\n      </g>\n     </g>\n    </g>\n    <g id=\"xtick_6\">\n     <g id=\"line2d_6\">\n      <g>\n       <use style=\"stroke:#000000;stroke-width:0.8;\" x=\"251.634645\" xlink:href=\"#m4bb1fdd521\" y=\"239.758125\"/>\n      </g>\n     </g>\n     <g id=\"text_6\">\n      <!-- 50 -->\n      <defs>\n       <path d=\"M 10.796875 72.90625 \nL 49.515625 72.90625 \nL 49.515625 64.59375 \nL 19.828125 64.59375 \nL 19.828125 46.734375 \nQ 21.96875 47.46875 24.109375 47.828125 \nQ 26.265625 48.1875 28.421875 48.1875 \nQ 40.625 48.1875 47.75 41.5 \nQ 54.890625 34.8125 54.890625 23.390625 \nQ 54.890625 11.625 47.5625 5.09375 \nQ 40.234375 -1.421875 26.90625 -1.421875 \nQ 22.3125 -1.421875 17.546875 -0.640625 \nQ 12.796875 0.140625 7.71875 1.703125 \nL 7.71875 11.625 \nQ 12.109375 9.234375 16.796875 8.0625 \nQ 21.484375 6.890625 26.703125 6.890625 \nQ 35.15625 6.890625 40.078125 11.328125 \nQ 45.015625 15.765625 45.015625 23.390625 \nQ 45.015625 31 40.078125 35.4375 \nQ 35.15625 39.890625 26.703125 39.890625 \nQ 22.75 39.890625 18.8125 39.015625 \nQ 14.890625 38.140625 10.796875 36.28125 \nz\n\" id=\"DejaVuSans-53\"/>\n      </defs>\n      <g transform=\"translate(245.272145 254.356562)scale(0.1 -0.1)\">\n       <use xlink:href=\"#DejaVuSans-53\"/>\n       <use x=\"63.623047\" xlink:href=\"#DejaVuSans-48\"/>\n      </g>\n     </g>\n    </g>\n    <g id=\"xtick_7\">\n     <g id=\"line2d_7\">\n      <g>\n       <use style=\"stroke:#000000;stroke-width:0.8;\" x=\"290.161687\" xlink:href=\"#m4bb1fdd521\" y=\"239.758125\"/>\n      </g>\n     </g>\n     <g id=\"text_7\">\n      <!-- 60 -->\n      <defs>\n       <path d=\"M 33.015625 40.375 \nQ 26.375 40.375 22.484375 35.828125 \nQ 18.609375 31.296875 18.609375 23.390625 \nQ 18.609375 15.53125 22.484375 10.953125 \nQ 26.375 6.390625 33.015625 6.390625 \nQ 39.65625 6.390625 43.53125 10.953125 \nQ 47.40625 15.53125 47.40625 23.390625 \nQ 47.40625 31.296875 43.53125 35.828125 \nQ 39.65625 40.375 33.015625 40.375 \nz\nM 52.59375 71.296875 \nL 52.59375 62.3125 \nQ 48.875 64.0625 45.09375 64.984375 \nQ 41.3125 65.921875 37.59375 65.921875 \nQ 27.828125 65.921875 22.671875 59.328125 \nQ 17.53125 52.734375 16.796875 39.40625 \nQ 19.671875 43.65625 24.015625 45.921875 \nQ 28.375 48.1875 33.59375 48.1875 \nQ 44.578125 48.1875 50.953125 41.515625 \nQ 57.328125 34.859375 57.328125 23.390625 \nQ 57.328125 12.15625 50.6875 5.359375 \nQ 44.046875 -1.421875 33.015625 -1.421875 \nQ 20.359375 -1.421875 13.671875 8.265625 \nQ 6.984375 17.96875 6.984375 36.375 \nQ 6.984375 53.65625 15.1875 63.9375 \nQ 23.390625 74.21875 37.203125 74.21875 \nQ 40.921875 74.21875 44.703125 73.484375 \nQ 48.484375 72.75 52.59375 71.296875 \nz\n\" id=\"DejaVuSans-54\"/>\n      </defs>\n      <g transform=\"translate(283.799187 254.356562)scale(0.1 -0.1)\">\n       <use xlink:href=\"#DejaVuSans-54\"/>\n       <use x=\"63.623047\" xlink:href=\"#DejaVuSans-48\"/>\n      </g>\n     </g>\n    </g>\n    <g id=\"xtick_8\">\n     <g id=\"line2d_8\">\n      <g>\n       <use style=\"stroke:#000000;stroke-width:0.8;\" x=\"328.68873\" xlink:href=\"#m4bb1fdd521\" y=\"239.758125\"/>\n      </g>\n     </g>\n     <g id=\"text_8\">\n      <!-- 70 -->\n      <defs>\n       <path d=\"M 8.203125 72.90625 \nL 55.078125 72.90625 \nL 55.078125 68.703125 \nL 28.609375 0 \nL 18.3125 0 \nL 43.21875 64.59375 \nL 8.203125 64.59375 \nz\n\" id=\"DejaVuSans-55\"/>\n      </defs>\n      <g transform=\"translate(322.32623 254.356562)scale(0.1 -0.1)\">\n       <use xlink:href=\"#DejaVuSans-55\"/>\n       <use x=\"63.623047\" xlink:href=\"#DejaVuSans-48\"/>\n      </g>\n     </g>\n    </g>\n    <g id=\"xtick_9\">\n     <g id=\"line2d_9\">\n      <g>\n       <use style=\"stroke:#000000;stroke-width:0.8;\" x=\"367.215772\" xlink:href=\"#m4bb1fdd521\" y=\"239.758125\"/>\n      </g>\n     </g>\n     <g id=\"text_9\">\n      <!-- 80 -->\n      <defs>\n       <path d=\"M 31.78125 34.625 \nQ 24.75 34.625 20.71875 30.859375 \nQ 16.703125 27.09375 16.703125 20.515625 \nQ 16.703125 13.921875 20.71875 10.15625 \nQ 24.75 6.390625 31.78125 6.390625 \nQ 38.8125 6.390625 42.859375 10.171875 \nQ 46.921875 13.96875 46.921875 20.515625 \nQ 46.921875 27.09375 42.890625 30.859375 \nQ 38.875 34.625 31.78125 34.625 \nz\nM 21.921875 38.8125 \nQ 15.578125 40.375 12.03125 44.71875 \nQ 8.5 49.078125 8.5 55.328125 \nQ 8.5 64.0625 14.71875 69.140625 \nQ 20.953125 74.21875 31.78125 74.21875 \nQ 42.671875 74.21875 48.875 69.140625 \nQ 55.078125 64.0625 55.078125 55.328125 \nQ 55.078125 49.078125 51.53125 44.71875 \nQ 48 40.375 41.703125 38.8125 \nQ 48.828125 37.15625 52.796875 32.3125 \nQ 56.78125 27.484375 56.78125 20.515625 \nQ 56.78125 9.90625 50.3125 4.234375 \nQ 43.84375 -1.421875 31.78125 -1.421875 \nQ 19.734375 -1.421875 13.25 4.234375 \nQ 6.78125 9.90625 6.78125 20.515625 \nQ 6.78125 27.484375 10.78125 32.3125 \nQ 14.796875 37.15625 21.921875 38.8125 \nz\nM 18.3125 54.390625 \nQ 18.3125 48.734375 21.84375 45.5625 \nQ 25.390625 42.390625 31.78125 42.390625 \nQ 38.140625 42.390625 41.71875 45.5625 \nQ 45.3125 48.734375 45.3125 54.390625 \nQ 45.3125 60.0625 41.71875 63.234375 \nQ 38.140625 66.40625 31.78125 66.40625 \nQ 25.390625 66.40625 21.84375 63.234375 \nQ 18.3125 60.0625 18.3125 54.390625 \nz\n\" id=\"DejaVuSans-56\"/>\n      </defs>\n      <g transform=\"translate(360.853272 254.356562)scale(0.1 -0.1)\">\n       <use xlink:href=\"#DejaVuSans-56\"/>\n       <use x=\"63.623047\" xlink:href=\"#DejaVuSans-48\"/>\n      </g>\n     </g>\n    </g>\n    <g id=\"text_10\">\n     <!-- Epoch -->\n     <defs>\n      <path d=\"M 9.8125 72.90625 \nL 55.90625 72.90625 \nL 55.90625 64.59375 \nL 19.671875 64.59375 \nL 19.671875 43.015625 \nL 54.390625 43.015625 \nL 54.390625 34.71875 \nL 19.671875 34.71875 \nL 19.671875 8.296875 \nL 56.78125 8.296875 \nL 56.78125 0 \nL 9.8125 0 \nz\n\" id=\"DejaVuSans-69\"/>\n      <path d=\"M 18.109375 8.203125 \nL 18.109375 -20.796875 \nL 9.078125 -20.796875 \nL 9.078125 54.6875 \nL 18.109375 54.6875 \nL 18.109375 46.390625 \nQ 20.953125 51.265625 25.265625 53.625 \nQ 29.59375 56 35.59375 56 \nQ 45.5625 56 51.78125 48.09375 \nQ 58.015625 40.1875 58.015625 27.296875 \nQ 58.015625 14.40625 51.78125 6.484375 \nQ 45.5625 -1.421875 35.59375 -1.421875 \nQ 29.59375 -1.421875 25.265625 0.953125 \nQ 20.953125 3.328125 18.109375 8.203125 \nz\nM 48.6875 27.296875 \nQ 48.6875 37.203125 44.609375 42.84375 \nQ 40.53125 48.484375 33.40625 48.484375 \nQ 26.265625 48.484375 22.1875 42.84375 \nQ 18.109375 37.203125 18.109375 27.296875 \nQ 18.109375 17.390625 22.1875 11.75 \nQ 26.265625 6.109375 33.40625 6.109375 \nQ 40.53125 6.109375 44.609375 11.75 \nQ 48.6875 17.390625 48.6875 27.296875 \nz\n\" id=\"DejaVuSans-112\"/>\n      <path d=\"M 30.609375 48.390625 \nQ 23.390625 48.390625 19.1875 42.75 \nQ 14.984375 37.109375 14.984375 27.296875 \nQ 14.984375 17.484375 19.15625 11.84375 \nQ 23.34375 6.203125 30.609375 6.203125 \nQ 37.796875 6.203125 41.984375 11.859375 \nQ 46.1875 17.53125 46.1875 27.296875 \nQ 46.1875 37.015625 41.984375 42.703125 \nQ 37.796875 48.390625 30.609375 48.390625 \nz\nM 30.609375 56 \nQ 42.328125 56 49.015625 48.375 \nQ 55.71875 40.765625 55.71875 27.296875 \nQ 55.71875 13.875 49.015625 6.21875 \nQ 42.328125 -1.421875 30.609375 -1.421875 \nQ 18.84375 -1.421875 12.171875 6.21875 \nQ 5.515625 13.875 5.515625 27.296875 \nQ 5.515625 40.765625 12.171875 48.375 \nQ 18.84375 56 30.609375 56 \nz\n\" id=\"DejaVuSans-111\"/>\n      <path d=\"M 48.78125 52.59375 \nL 48.78125 44.1875 \nQ 44.96875 46.296875 41.140625 47.34375 \nQ 37.3125 48.390625 33.40625 48.390625 \nQ 24.65625 48.390625 19.8125 42.84375 \nQ 14.984375 37.3125 14.984375 27.296875 \nQ 14.984375 17.28125 19.8125 11.734375 \nQ 24.65625 6.203125 33.40625 6.203125 \nQ 37.3125 6.203125 41.140625 7.25 \nQ 44.96875 8.296875 48.78125 10.40625 \nL 48.78125 2.09375 \nQ 45.015625 0.34375 40.984375 -0.53125 \nQ 36.96875 -1.421875 32.421875 -1.421875 \nQ 20.0625 -1.421875 12.78125 6.34375 \nQ 5.515625 14.109375 5.515625 27.296875 \nQ 5.515625 40.671875 12.859375 48.328125 \nQ 20.21875 56 33.015625 56 \nQ 37.15625 56 41.109375 55.140625 \nQ 45.0625 54.296875 48.78125 52.59375 \nz\n\" id=\"DejaVuSans-99\"/>\n      <path d=\"M 54.890625 33.015625 \nL 54.890625 0 \nL 45.90625 0 \nL 45.90625 32.71875 \nQ 45.90625 40.484375 42.875 44.328125 \nQ 39.84375 48.1875 33.796875 48.1875 \nQ 26.515625 48.1875 22.3125 43.546875 \nQ 18.109375 38.921875 18.109375 30.90625 \nL 18.109375 0 \nL 9.078125 0 \nL 9.078125 75.984375 \nL 18.109375 75.984375 \nL 18.109375 46.1875 \nQ 21.34375 51.125 25.703125 53.5625 \nQ 30.078125 56 35.796875 56 \nQ 45.21875 56 50.046875 50.171875 \nQ 54.890625 44.34375 54.890625 33.015625 \nz\n\" id=\"DejaVuSans-104\"/>\n     </defs>\n     <g transform=\"translate(195.870313 268.034687)scale(0.1 -0.1)\">\n      <use xlink:href=\"#DejaVuSans-69\"/>\n      <use x=\"63.183594\" xlink:href=\"#DejaVuSans-112\"/>\n      <use x=\"126.660156\" xlink:href=\"#DejaVuSans-111\"/>\n      <use x=\"187.841797\" xlink:href=\"#DejaVuSans-99\"/>\n      <use x=\"242.822266\" xlink:href=\"#DejaVuSans-104\"/>\n     </g>\n    </g>\n   </g>\n   <g id=\"matplotlib.axis_2\">\n    <g id=\"ytick_1\">\n     <g id=\"line2d_10\">\n      <defs>\n       <path d=\"M 0 0 \nL -3.5 0 \n\" id=\"m6a4b5fab93\" style=\"stroke:#000000;stroke-width:0.8;\"/>\n      </defs>\n      <g>\n       <use style=\"stroke:#000000;stroke-width:0.8;\" x=\"43.78125\" xlink:href=\"#m6a4b5fab93\" y=\"236.655118\"/>\n      </g>\n     </g>\n     <g id=\"text_11\">\n      <!-- 0.0 -->\n      <defs>\n       <path d=\"M 10.6875 12.40625 \nL 21 12.40625 \nL 21 0 \nL 10.6875 0 \nz\n\" id=\"DejaVuSans-46\"/>\n      </defs>\n      <g transform=\"translate(20.878125 240.454336)scale(0.1 -0.1)\">\n       <use xlink:href=\"#DejaVuSans-48\"/>\n       <use x=\"63.623047\" xlink:href=\"#DejaVuSans-46\"/>\n       <use x=\"95.410156\" xlink:href=\"#DejaVuSans-48\"/>\n      </g>\n     </g>\n    </g>\n    <g id=\"ytick_2\">\n     <g id=\"line2d_11\">\n      <g>\n       <use style=\"stroke:#000000;stroke-width:0.8;\" x=\"43.78125\" xlink:href=\"#m6a4b5fab93\" y=\"191.000073\"/>\n      </g>\n     </g>\n     <g id=\"text_12\">\n      <!-- 0.5 -->\n      <g transform=\"translate(20.878125 194.799291)scale(0.1 -0.1)\">\n       <use xlink:href=\"#DejaVuSans-48\"/>\n       <use x=\"63.623047\" xlink:href=\"#DejaVuSans-46\"/>\n       <use x=\"95.410156\" xlink:href=\"#DejaVuSans-53\"/>\n      </g>\n     </g>\n    </g>\n    <g id=\"ytick_3\">\n     <g id=\"line2d_12\">\n      <g>\n       <use style=\"stroke:#000000;stroke-width:0.8;\" x=\"43.78125\" xlink:href=\"#m6a4b5fab93\" y=\"145.345028\"/>\n      </g>\n     </g>\n     <g id=\"text_13\">\n      <!-- 1.0 -->\n      <g transform=\"translate(20.878125 149.144247)scale(0.1 -0.1)\">\n       <use xlink:href=\"#DejaVuSans-49\"/>\n       <use x=\"63.623047\" xlink:href=\"#DejaVuSans-46\"/>\n       <use x=\"95.410156\" xlink:href=\"#DejaVuSans-48\"/>\n      </g>\n     </g>\n    </g>\n    <g id=\"ytick_4\">\n     <g id=\"line2d_13\">\n      <g>\n       <use style=\"stroke:#000000;stroke-width:0.8;\" x=\"43.78125\" xlink:href=\"#m6a4b5fab93\" y=\"99.689983\"/>\n      </g>\n     </g>\n     <g id=\"text_14\">\n      <!-- 1.5 -->\n      <g transform=\"translate(20.878125 103.489202)scale(0.1 -0.1)\">\n       <use xlink:href=\"#DejaVuSans-49\"/>\n       <use x=\"63.623047\" xlink:href=\"#DejaVuSans-46\"/>\n       <use x=\"95.410156\" xlink:href=\"#DejaVuSans-53\"/>\n      </g>\n     </g>\n    </g>\n    <g id=\"ytick_5\">\n     <g id=\"line2d_14\">\n      <g>\n       <use style=\"stroke:#000000;stroke-width:0.8;\" x=\"43.78125\" xlink:href=\"#m6a4b5fab93\" y=\"54.034938\"/>\n      </g>\n     </g>\n     <g id=\"text_15\">\n      <!-- 2.0 -->\n      <g transform=\"translate(20.878125 57.834157)scale(0.1 -0.1)\">\n       <use xlink:href=\"#DejaVuSans-50\"/>\n       <use x=\"63.623047\" xlink:href=\"#DejaVuSans-46\"/>\n       <use x=\"95.410156\" xlink:href=\"#DejaVuSans-48\"/>\n      </g>\n     </g>\n    </g>\n    <g id=\"text_16\">\n     <!-- Loss -->\n     <defs>\n      <path d=\"M 9.8125 72.90625 \nL 19.671875 72.90625 \nL 19.671875 8.296875 \nL 55.171875 8.296875 \nL 55.171875 0 \nL 9.8125 0 \nz\n\" id=\"DejaVuSans-76\"/>\n      <path d=\"M 44.28125 53.078125 \nL 44.28125 44.578125 \nQ 40.484375 46.53125 36.375 47.5 \nQ 32.28125 48.484375 27.875 48.484375 \nQ 21.1875 48.484375 17.84375 46.4375 \nQ 14.5 44.390625 14.5 40.28125 \nQ 14.5 37.15625 16.890625 35.375 \nQ 19.28125 33.59375 26.515625 31.984375 \nL 29.59375 31.296875 \nQ 39.15625 29.25 43.1875 25.515625 \nQ 47.21875 21.78125 47.21875 15.09375 \nQ 47.21875 7.46875 41.1875 3.015625 \nQ 35.15625 -1.421875 24.609375 -1.421875 \nQ 20.21875 -1.421875 15.453125 -0.5625 \nQ 10.6875 0.296875 5.421875 2 \nL 5.421875 11.28125 \nQ 10.40625 8.6875 15.234375 7.390625 \nQ 20.0625 6.109375 24.8125 6.109375 \nQ 31.15625 6.109375 34.5625 8.28125 \nQ 37.984375 10.453125 37.984375 14.40625 \nQ 37.984375 18.0625 35.515625 20.015625 \nQ 33.0625 21.96875 24.703125 23.78125 \nL 21.578125 24.515625 \nQ 13.234375 26.265625 9.515625 29.90625 \nQ 5.8125 33.546875 5.8125 39.890625 \nQ 5.8125 47.609375 11.28125 51.796875 \nQ 16.75 56 26.8125 56 \nQ 31.78125 56 36.171875 55.265625 \nQ 40.578125 54.546875 44.28125 53.078125 \nz\n\" id=\"DejaVuSans-115\"/>\n     </defs>\n     <g transform=\"translate(14.798438 142.005312)rotate(-90)scale(0.1 -0.1)\">\n      <use xlink:href=\"#DejaVuSans-76\"/>\n      <use x=\"53.962891\" xlink:href=\"#DejaVuSans-111\"/>\n      <use x=\"115.144531\" xlink:href=\"#DejaVuSans-115\"/>\n      <use x=\"167.244141\" xlink:href=\"#DejaVuSans-115\"/>\n     </g>\n    </g>\n   </g>\n   <g id=\"line2d_15\">\n    <path clip-path=\"url(#p8930d100cf)\" d=\"M 58.999432 48.410514 \nL 62.852136 75.085033 \nL 66.70484 85.072117 \nL 70.557545 96.455252 \nL 74.410249 111.227939 \nL 78.262953 117.316726 \nL 82.115657 133.680409 \nL 85.968362 146.640594 \nL 89.821066 159.676144 \nL 93.67377 175.705931 \nL 97.526474 197.157024 \nL 101.379179 208.843318 \nL 105.231883 211.50261 \nL 109.084587 213.920153 \nL 112.937291 214.525272 \nL 116.789996 217.045524 \nL 120.6427 217.860047 \nL 124.495404 218.161119 \nL 128.348108 219.37084 \nL 132.200813 218.852846 \nL 136.053517 214.73473 \nL 139.906221 217.809736 \nL 143.758925 221.223155 \nL 147.61163 223.729638 \nL 151.464334 223.932113 \nL 155.317038 224.587613 \nL 159.169743 225.40601 \nL 163.022447 224.716052 \nL 166.875151 224.051431 \nL 170.727855 223.53117 \nL 174.58056 221.191258 \nL 178.433264 223.625837 \nL 182.285968 223.442854 \nL 186.138672 223.690021 \nL 189.991377 225.768621 \nL 193.844081 226.808514 \nL 197.696785 225.866803 \nL 201.549489 225.617198 \nL 205.402194 226.199602 \nL 209.254898 227.028302 \nL 213.107602 226.583643 \nL 216.960306 223.791589 \nL 220.813011 226.185004 \nL 224.665715 226.02196 \nL 228.518419 226.172223 \nL 232.371123 226.656238 \nL 236.223828 227.830301 \nL 240.076532 226.047137 \nL 243.929236 225.804387 \nL 247.78194 226.458663 \nL 251.634645 227.848195 \nL 255.487349 228.557805 \nL 259.340053 227.52253 \nL 263.192757 227.761383 \nL 267.045462 227.785525 \nL 270.898166 227.471246 \nL 274.75087 227.554307 \nL 278.603575 228.723072 \nL 282.456279 228.554267 \nL 286.308983 228.63435 \nL 290.161687 227.679162 \nL 294.014392 227.674621 \nL 297.867096 228.547243 \nL 301.7198 228.441466 \nL 305.572504 228.582573 \nL 309.425209 228.973328 \nL 313.277913 228.649478 \nL 317.130617 228.929709 \nL 320.983321 228.113106 \nL 324.836026 228.233765 \nL 328.68873 228.461465 \nL 332.541434 228.416975 \nL 336.394138 228.336636 \nL 340.246843 228.922134 \nL 344.099547 228.803911 \nL 347.952251 227.975065 \nL 351.804955 227.809122 \nL 355.65766 229.874489 \nL 359.510364 228.354566 \nL 363.363068 228.871376 \n\" style=\"fill:none;stroke:#d62728;stroke-linecap:square;stroke-width:1.5;\"/>\n   </g>\n   <g id=\"line2d_16\">\n    <path clip-path=\"url(#p8930d100cf)\" d=\"M 58.999432 32.201761 \nL 62.852136 66.681166 \nL 66.70484 85.798869 \nL 70.557545 84.777453 \nL 74.410249 77.220882 \nL 78.262953 71.562592 \nL 82.115657 99.322342 \nL 85.968362 80.97854 \nL 89.821066 77.18039 \nL 93.67377 91.59701 \nL 97.526474 100.767915 \nL 101.379179 103.919289 \nL 105.231883 101.032584 \nL 109.084587 100.484186 \nL 112.937291 101.554368 \nL 116.789996 103.98621 \nL 120.6427 102.560491 \nL 124.495404 102.452555 \nL 128.348108 100.979824 \nL 132.200813 95.589501 \nL 136.053517 102.757923 \nL 139.906221 102.960123 \nL 143.758925 109.122879 \nL 147.61163 106.448758 \nL 151.464334 107.010773 \nL 155.317038 107.863734 \nL 159.169743 108.055919 \nL 163.022447 104.990069 \nL 166.875151 102.643881 \nL 170.727855 103.058905 \nL 174.58056 101.671196 \nL 178.433264 105.235352 \nL 182.285968 104.215677 \nL 186.138672 104.598981 \nL 189.991377 105.947612 \nL 193.844081 109.470579 \nL 197.696785 108.284896 \nL 201.549489 109.916244 \nL 205.402194 105.874443 \nL 209.254898 106.968169 \nL 213.107602 104.923932 \nL 216.960306 105.366059 \nL 220.813011 107.607577 \nL 224.665715 107.326319 \nL 228.518419 105.642397 \nL 232.371123 106.075936 \nL 236.223828 105.151156 \nL 240.076532 105.289374 \nL 243.929236 105.713008 \nL 247.78194 104.543685 \nL 251.634645 104.293874 \nL 255.487349 106.752624 \nL 259.340053 106.387302 \nL 263.192757 106.452154 \nL 267.045462 104.933184 \nL 270.898166 102.314033 \nL 274.75087 105.398061 \nL 278.603575 108.201267 \nL 282.456279 106.555061 \nL 286.308983 110.114721 \nL 290.161687 105.812355 \nL 294.014392 105.656852 \nL 297.867096 106.468057 \nL 301.7198 104.201515 \nL 305.572504 108.672207 \nL 309.425209 108.709096 \nL 313.277913 103.078519 \nL 317.130617 106.306992 \nL 320.983321 106.812318 \nL 324.836026 107.358821 \nL 328.68873 104.26529 \nL 332.541434 106.295182 \nL 336.394138 109.251605 \nL 340.246843 104.27992 \nL 344.099547 103.78487 \nL 347.952251 103.679122 \nL 351.804955 107.79383 \nL 355.65766 107.274495 \nL 359.510364 107.399901 \nL 363.363068 105.781932 \n\" style=\"fill:none;stroke:#17becf;stroke-linecap:square;stroke-width:1.5;\"/>\n   </g>\n   <g id=\"patch_3\">\n    <path d=\"M 43.78125 239.758125 \nL 43.78125 22.318125 \n\" style=\"fill:none;stroke:#000000;stroke-linecap:square;stroke-linejoin:miter;stroke-width:0.8;\"/>\n   </g>\n   <g id=\"patch_4\">\n    <path d=\"M 378.58125 239.758125 \nL 378.58125 22.318125 \n\" style=\"fill:none;stroke:#000000;stroke-linecap:square;stroke-linejoin:miter;stroke-width:0.8;\"/>\n   </g>\n   <g id=\"patch_5\">\n    <path d=\"M 43.78125 239.758125 \nL 378.58125 239.758125 \n\" style=\"fill:none;stroke:#000000;stroke-linecap:square;stroke-linejoin:miter;stroke-width:0.8;\"/>\n   </g>\n   <g id=\"patch_6\">\n    <path d=\"M 43.78125 22.318125 \nL 378.58125 22.318125 \n\" style=\"fill:none;stroke:#000000;stroke-linecap:square;stroke-linejoin:miter;stroke-width:0.8;\"/>\n   </g>\n   <g id=\"text_17\">\n    <!-- Learning curve of CNN Model -->\n    <defs>\n     <path d=\"M 56.203125 29.59375 \nL 56.203125 25.203125 \nL 14.890625 25.203125 \nQ 15.484375 15.921875 20.484375 11.0625 \nQ 25.484375 6.203125 34.421875 6.203125 \nQ 39.59375 6.203125 44.453125 7.46875 \nQ 49.3125 8.734375 54.109375 11.28125 \nL 54.109375 2.78125 \nQ 49.265625 0.734375 44.1875 -0.34375 \nQ 39.109375 -1.421875 33.890625 -1.421875 \nQ 20.796875 -1.421875 13.15625 6.1875 \nQ 5.515625 13.8125 5.515625 26.8125 \nQ 5.515625 40.234375 12.765625 48.109375 \nQ 20.015625 56 32.328125 56 \nQ 43.359375 56 49.78125 48.890625 \nQ 56.203125 41.796875 56.203125 29.59375 \nz\nM 47.21875 32.234375 \nQ 47.125 39.59375 43.09375 43.984375 \nQ 39.0625 48.390625 32.421875 48.390625 \nQ 24.90625 48.390625 20.390625 44.140625 \nQ 15.875 39.890625 15.1875 32.171875 \nz\n\" id=\"DejaVuSans-101\"/>\n     <path d=\"M 34.28125 27.484375 \nQ 23.390625 27.484375 19.1875 25 \nQ 14.984375 22.515625 14.984375 16.5 \nQ 14.984375 11.71875 18.140625 8.90625 \nQ 21.296875 6.109375 26.703125 6.109375 \nQ 34.1875 6.109375 38.703125 11.40625 \nQ 43.21875 16.703125 43.21875 25.484375 \nL 43.21875 27.484375 \nz\nM 52.203125 31.203125 \nL 52.203125 0 \nL 43.21875 0 \nL 43.21875 8.296875 \nQ 40.140625 3.328125 35.546875 0.953125 \nQ 30.953125 -1.421875 24.3125 -1.421875 \nQ 15.921875 -1.421875 10.953125 3.296875 \nQ 6 8.015625 6 15.921875 \nQ 6 25.140625 12.171875 29.828125 \nQ 18.359375 34.515625 30.609375 34.515625 \nL 43.21875 34.515625 \nL 43.21875 35.40625 \nQ 43.21875 41.609375 39.140625 45 \nQ 35.0625 48.390625 27.6875 48.390625 \nQ 23 48.390625 18.546875 47.265625 \nQ 14.109375 46.140625 10.015625 43.890625 \nL 10.015625 52.203125 \nQ 14.9375 54.109375 19.578125 55.046875 \nQ 24.21875 56 28.609375 56 \nQ 40.484375 56 46.34375 49.84375 \nQ 52.203125 43.703125 52.203125 31.203125 \nz\n\" id=\"DejaVuSans-97\"/>\n     <path d=\"M 41.109375 46.296875 \nQ 39.59375 47.171875 37.8125 47.578125 \nQ 36.03125 48 33.890625 48 \nQ 26.265625 48 22.1875 43.046875 \nQ 18.109375 38.09375 18.109375 28.8125 \nL 18.109375 0 \nL 9.078125 0 \nL 9.078125 54.6875 \nL 18.109375 54.6875 \nL 18.109375 46.1875 \nQ 20.953125 51.171875 25.484375 53.578125 \nQ 30.03125 56 36.53125 56 \nQ 37.453125 56 38.578125 55.875 \nQ 39.703125 55.765625 41.0625 55.515625 \nz\n\" id=\"DejaVuSans-114\"/>\n     <path d=\"M 54.890625 33.015625 \nL 54.890625 0 \nL 45.90625 0 \nL 45.90625 32.71875 \nQ 45.90625 40.484375 42.875 44.328125 \nQ 39.84375 48.1875 33.796875 48.1875 \nQ 26.515625 48.1875 22.3125 43.546875 \nQ 18.109375 38.921875 18.109375 30.90625 \nL 18.109375 0 \nL 9.078125 0 \nL 9.078125 54.6875 \nL 18.109375 54.6875 \nL 18.109375 46.1875 \nQ 21.34375 51.125 25.703125 53.5625 \nQ 30.078125 56 35.796875 56 \nQ 45.21875 56 50.046875 50.171875 \nQ 54.890625 44.34375 54.890625 33.015625 \nz\n\" id=\"DejaVuSans-110\"/>\n     <path d=\"M 9.421875 54.6875 \nL 18.40625 54.6875 \nL 18.40625 0 \nL 9.421875 0 \nz\nM 9.421875 75.984375 \nL 18.40625 75.984375 \nL 18.40625 64.59375 \nL 9.421875 64.59375 \nz\n\" id=\"DejaVuSans-105\"/>\n     <path d=\"M 45.40625 27.984375 \nQ 45.40625 37.75 41.375 43.109375 \nQ 37.359375 48.484375 30.078125 48.484375 \nQ 22.859375 48.484375 18.828125 43.109375 \nQ 14.796875 37.75 14.796875 27.984375 \nQ 14.796875 18.265625 18.828125 12.890625 \nQ 22.859375 7.515625 30.078125 7.515625 \nQ 37.359375 7.515625 41.375 12.890625 \nQ 45.40625 18.265625 45.40625 27.984375 \nz\nM 54.390625 6.78125 \nQ 54.390625 -7.171875 48.1875 -13.984375 \nQ 42 -20.796875 29.203125 -20.796875 \nQ 24.46875 -20.796875 20.265625 -20.09375 \nQ 16.0625 -19.390625 12.109375 -17.921875 \nL 12.109375 -9.1875 \nQ 16.0625 -11.328125 19.921875 -12.34375 \nQ 23.78125 -13.375 27.78125 -13.375 \nQ 36.625 -13.375 41.015625 -8.765625 \nQ 45.40625 -4.15625 45.40625 5.171875 \nL 45.40625 9.625 \nQ 42.625 4.78125 38.28125 2.390625 \nQ 33.9375 0 27.875 0 \nQ 17.828125 0 11.671875 7.65625 \nQ 5.515625 15.328125 5.515625 27.984375 \nQ 5.515625 40.671875 11.671875 48.328125 \nQ 17.828125 56 27.875 56 \nQ 33.9375 56 38.28125 53.609375 \nQ 42.625 51.21875 45.40625 46.390625 \nL 45.40625 54.6875 \nL 54.390625 54.6875 \nz\n\" id=\"DejaVuSans-103\"/>\n     <path id=\"DejaVuSans-32\"/>\n     <path d=\"M 8.5 21.578125 \nL 8.5 54.6875 \nL 17.484375 54.6875 \nL 17.484375 21.921875 \nQ 17.484375 14.15625 20.5 10.265625 \nQ 23.53125 6.390625 29.59375 6.390625 \nQ 36.859375 6.390625 41.078125 11.03125 \nQ 45.3125 15.671875 45.3125 23.6875 \nL 45.3125 54.6875 \nL 54.296875 54.6875 \nL 54.296875 0 \nL 45.3125 0 \nL 45.3125 8.40625 \nQ 42.046875 3.421875 37.71875 1 \nQ 33.40625 -1.421875 27.6875 -1.421875 \nQ 18.265625 -1.421875 13.375 4.4375 \nQ 8.5 10.296875 8.5 21.578125 \nz\nM 31.109375 56 \nz\n\" id=\"DejaVuSans-117\"/>\n     <path d=\"M 2.984375 54.6875 \nL 12.5 54.6875 \nL 29.59375 8.796875 \nL 46.6875 54.6875 \nL 56.203125 54.6875 \nL 35.6875 0 \nL 23.484375 0 \nz\n\" id=\"DejaVuSans-118\"/>\n     <path d=\"M 37.109375 75.984375 \nL 37.109375 68.5 \nL 28.515625 68.5 \nQ 23.6875 68.5 21.796875 66.546875 \nQ 19.921875 64.59375 19.921875 59.515625 \nL 19.921875 54.6875 \nL 34.71875 54.6875 \nL 34.71875 47.703125 \nL 19.921875 47.703125 \nL 19.921875 0 \nL 10.890625 0 \nL 10.890625 47.703125 \nL 2.296875 47.703125 \nL 2.296875 54.6875 \nL 10.890625 54.6875 \nL 10.890625 58.5 \nQ 10.890625 67.625 15.140625 71.796875 \nQ 19.390625 75.984375 28.609375 75.984375 \nz\n\" id=\"DejaVuSans-102\"/>\n     <path d=\"M 64.40625 67.28125 \nL 64.40625 56.890625 \nQ 59.421875 61.53125 53.78125 63.8125 \nQ 48.140625 66.109375 41.796875 66.109375 \nQ 29.296875 66.109375 22.65625 58.46875 \nQ 16.015625 50.828125 16.015625 36.375 \nQ 16.015625 21.96875 22.65625 14.328125 \nQ 29.296875 6.6875 41.796875 6.6875 \nQ 48.140625 6.6875 53.78125 8.984375 \nQ 59.421875 11.28125 64.40625 15.921875 \nL 64.40625 5.609375 \nQ 59.234375 2.09375 53.4375 0.328125 \nQ 47.65625 -1.421875 41.21875 -1.421875 \nQ 24.65625 -1.421875 15.125 8.703125 \nQ 5.609375 18.84375 5.609375 36.375 \nQ 5.609375 53.953125 15.125 64.078125 \nQ 24.65625 74.21875 41.21875 74.21875 \nQ 47.75 74.21875 53.53125 72.484375 \nQ 59.328125 70.75 64.40625 67.28125 \nz\n\" id=\"DejaVuSans-67\"/>\n     <path d=\"M 9.8125 72.90625 \nL 23.09375 72.90625 \nL 55.421875 11.921875 \nL 55.421875 72.90625 \nL 64.984375 72.90625 \nL 64.984375 0 \nL 51.703125 0 \nL 19.390625 60.984375 \nL 19.390625 0 \nL 9.8125 0 \nz\n\" id=\"DejaVuSans-78\"/>\n     <path d=\"M 9.8125 72.90625 \nL 24.515625 72.90625 \nL 43.109375 23.296875 \nL 61.8125 72.90625 \nL 76.515625 72.90625 \nL 76.515625 0 \nL 66.890625 0 \nL 66.890625 64.015625 \nL 48.09375 14.015625 \nL 38.1875 14.015625 \nL 19.390625 64.015625 \nL 19.390625 0 \nL 9.8125 0 \nz\n\" id=\"DejaVuSans-77\"/>\n     <path d=\"M 45.40625 46.390625 \nL 45.40625 75.984375 \nL 54.390625 75.984375 \nL 54.390625 0 \nL 45.40625 0 \nL 45.40625 8.203125 \nQ 42.578125 3.328125 38.25 0.953125 \nQ 33.9375 -1.421875 27.875 -1.421875 \nQ 17.96875 -1.421875 11.734375 6.484375 \nQ 5.515625 14.40625 5.515625 27.296875 \nQ 5.515625 40.1875 11.734375 48.09375 \nQ 17.96875 56 27.875 56 \nQ 33.9375 56 38.25 53.625 \nQ 42.578125 51.265625 45.40625 46.390625 \nz\nM 14.796875 27.296875 \nQ 14.796875 17.390625 18.875 11.75 \nQ 22.953125 6.109375 30.078125 6.109375 \nQ 37.203125 6.109375 41.296875 11.75 \nQ 45.40625 17.390625 45.40625 27.296875 \nQ 45.40625 37.203125 41.296875 42.84375 \nQ 37.203125 48.484375 30.078125 48.484375 \nQ 22.953125 48.484375 18.875 42.84375 \nQ 14.796875 37.203125 14.796875 27.296875 \nz\n\" id=\"DejaVuSans-100\"/>\n     <path d=\"M 9.421875 75.984375 \nL 18.40625 75.984375 \nL 18.40625 0 \nL 9.421875 0 \nz\n\" id=\"DejaVuSans-108\"/>\n    </defs>\n    <g transform=\"translate(123.726563 16.318125)scale(0.12 -0.12)\">\n     <use xlink:href=\"#DejaVuSans-76\"/>\n     <use x=\"53.962891\" xlink:href=\"#DejaVuSans-101\"/>\n     <use x=\"115.486328\" xlink:href=\"#DejaVuSans-97\"/>\n     <use x=\"176.765625\" xlink:href=\"#DejaVuSans-114\"/>\n     <use x=\"216.128906\" xlink:href=\"#DejaVuSans-110\"/>\n     <use x=\"279.507812\" xlink:href=\"#DejaVuSans-105\"/>\n     <use x=\"307.291016\" xlink:href=\"#DejaVuSans-110\"/>\n     <use x=\"370.669922\" xlink:href=\"#DejaVuSans-103\"/>\n     <use x=\"434.146484\" xlink:href=\"#DejaVuSans-32\"/>\n     <use x=\"465.933594\" xlink:href=\"#DejaVuSans-99\"/>\n     <use x=\"520.914062\" xlink:href=\"#DejaVuSans-117\"/>\n     <use x=\"584.292969\" xlink:href=\"#DejaVuSans-114\"/>\n     <use x=\"625.40625\" xlink:href=\"#DejaVuSans-118\"/>\n     <use x=\"684.585938\" xlink:href=\"#DejaVuSans-101\"/>\n     <use x=\"746.109375\" xlink:href=\"#DejaVuSans-32\"/>\n     <use x=\"777.896484\" xlink:href=\"#DejaVuSans-111\"/>\n     <use x=\"839.078125\" xlink:href=\"#DejaVuSans-102\"/>\n     <use x=\"874.283203\" xlink:href=\"#DejaVuSans-32\"/>\n     <use x=\"906.070312\" xlink:href=\"#DejaVuSans-67\"/>\n     <use x=\"975.894531\" xlink:href=\"#DejaVuSans-78\"/>\n     <use x=\"1050.699219\" xlink:href=\"#DejaVuSans-78\"/>\n     <use x=\"1125.503906\" xlink:href=\"#DejaVuSans-32\"/>\n     <use x=\"1157.291016\" xlink:href=\"#DejaVuSans-77\"/>\n     <use x=\"1243.570312\" xlink:href=\"#DejaVuSans-111\"/>\n     <use x=\"1304.751953\" xlink:href=\"#DejaVuSans-100\"/>\n     <use x=\"1368.228516\" xlink:href=\"#DejaVuSans-101\"/>\n     <use x=\"1429.751953\" xlink:href=\"#DejaVuSans-108\"/>\n    </g>\n   </g>\n   <g id=\"legend_1\">\n    <g id=\"patch_7\">\n     <path d=\"M 316.30625 59.674375 \nL 371.58125 59.674375 \nQ 373.58125 59.674375 373.58125 57.674375 \nL 373.58125 29.318125 \nQ 373.58125 27.318125 371.58125 27.318125 \nL 316.30625 27.318125 \nQ 314.30625 27.318125 314.30625 29.318125 \nL 314.30625 57.674375 \nQ 314.30625 59.674375 316.30625 59.674375 \nz\n\" style=\"fill:#ffffff;opacity:0.8;stroke:#cccccc;stroke-linejoin:miter;\"/>\n    </g>\n    <g id=\"line2d_17\">\n     <path d=\"M 318.30625 35.416562 \nL 338.30625 35.416562 \n\" style=\"fill:none;stroke:#d62728;stroke-linecap:square;stroke-width:1.5;\"/>\n    </g>\n    <g id=\"line2d_18\"/>\n    <g id=\"text_18\">\n     <!-- train -->\n     <defs>\n      <path d=\"M 18.3125 70.21875 \nL 18.3125 54.6875 \nL 36.8125 54.6875 \nL 36.8125 47.703125 \nL 18.3125 47.703125 \nL 18.3125 18.015625 \nQ 18.3125 11.328125 20.140625 9.421875 \nQ 21.96875 7.515625 27.59375 7.515625 \nL 36.8125 7.515625 \nL 36.8125 0 \nL 27.59375 0 \nQ 17.1875 0 13.234375 3.875 \nQ 9.28125 7.765625 9.28125 18.015625 \nL 9.28125 47.703125 \nL 2.6875 47.703125 \nL 2.6875 54.6875 \nL 9.28125 54.6875 \nL 9.28125 70.21875 \nz\n\" id=\"DejaVuSans-116\"/>\n     </defs>\n     <g transform=\"translate(346.30625 38.916562)scale(0.1 -0.1)\">\n      <use xlink:href=\"#DejaVuSans-116\"/>\n      <use x=\"39.208984\" xlink:href=\"#DejaVuSans-114\"/>\n      <use x=\"80.322266\" xlink:href=\"#DejaVuSans-97\"/>\n      <use x=\"141.601562\" xlink:href=\"#DejaVuSans-105\"/>\n      <use x=\"169.384766\" xlink:href=\"#DejaVuSans-110\"/>\n     </g>\n    </g>\n    <g id=\"line2d_19\">\n     <path d=\"M 318.30625 50.094687 \nL 338.30625 50.094687 \n\" style=\"fill:none;stroke:#17becf;stroke-linecap:square;stroke-width:1.5;\"/>\n    </g>\n    <g id=\"line2d_20\"/>\n    <g id=\"text_19\">\n     <!-- val -->\n     <g transform=\"translate(346.30625 53.594687)scale(0.1 -0.1)\">\n      <use xlink:href=\"#DejaVuSans-118\"/>\n      <use x=\"59.179688\" xlink:href=\"#DejaVuSans-97\"/>\n      <use x=\"120.458984\" xlink:href=\"#DejaVuSans-108\"/>\n     </g>\n    </g>\n   </g>\n  </g>\n </g>\n <defs>\n  <clipPath id=\"p8930d100cf\">\n   <rect height=\"217.44\" width=\"334.8\" x=\"43.78125\" y=\"22.318125\"/>\n  </clipPath>\n </defs>\n</svg>\n"
          },
          "metadata": {
            "tags": [],
            "needs_background": "light"
          }
        }
      ]
    },
    {
      "cell_type": "markdown",
      "metadata": {
        "id": "VO8vgH-grFjF"
      },
      "source": [
        "# Testing"
      ]
    },
    {
      "cell_type": "code",
      "metadata": {
        "id": "EcoXO215rjf9"
      },
      "source": [
        "if config['best_model']:\n",
        "    del model\n",
        "    model = torch.load(config['model_path']).to(config['device'])"
      ],
      "execution_count": 15,
      "outputs": []
    },
    {
      "cell_type": "code",
      "metadata": {
        "id": "zjJ8XJLDrj53"
      },
      "source": [
        "model.eval()\n",
        "\n",
        "preds = []\n",
        "for x, _ in test_dataloader:\n",
        "    x, _ = x.to(config['device']), _.to(config['device'])\n",
        "    with torch.no_grad():\n",
        "        logits = model(x)\n",
        "    preds.extend(logits.argmax(dim=-1).cpu().numpy().tolist())"
      ],
      "execution_count": 16,
      "outputs": []
    },
    {
      "cell_type": "code",
      "metadata": {
        "id": "ECUqbZkuNd1s",
        "colab": {
          "base_uri": "https://localhost:8080/"
        },
        "outputId": "477de985-40e0-4158-813e-6d0ea23b2d93"
      },
      "source": [
        "print(f'Saving Result to {config[\"pred_file\"]}')\n",
        "with open(config['pred_file'], 'w') as fp:\n",
        "    fp.write('Id,Category\\n')\n",
        "    for id, pred in enumerate(preds):\n",
        "        fp.write(f'{id},{pred}\\n')"
      ],
      "execution_count": 17,
      "outputs": [
        {
          "output_type": "stream",
          "text": [
            "Saving Result to food-11.pred.csv\n"
          ],
          "name": "stdout"
        }
      ]
    },
    {
      "cell_type": "code",
      "metadata": {
        "id": "1-6gS6djAxrT",
        "colab": {
          "base_uri": "https://localhost:8080/"
        },
        "outputId": "32f617fb-69fb-478e-f57c-9aab1defeaf6"
      },
      "source": [
        "from google.colab import drive\n",
        "drive.mount('/content/drive')\n",
        "!cp -r ./models '/content/drive/MyDrive/Colab/ML 2021 Spring/HW03/'\n",
        "!cp ./*.pred.csv '/content/drive/MyDrive/Colab/ML 2021 Spring/HW03/'\n",
        "!cp ./*.svg '/content/drive/MyDrive/Colab/ML 2021 Spring/HW03/'"
      ],
      "execution_count": 18,
      "outputs": [
        {
          "output_type": "stream",
          "text": [
            "Mounted at /content/drive\n"
          ],
          "name": "stdout"
        }
      ]
    },
    {
      "cell_type": "markdown",
      "metadata": {
        "id": "JeEkmJXQrFlC"
      },
      "source": [
        "# Result"
      ]
    }
  ]
}